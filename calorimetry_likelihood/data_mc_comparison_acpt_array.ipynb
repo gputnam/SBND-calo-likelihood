{
 "cells": [
  {
   "cell_type": "markdown",
   "metadata": {},
   "source": [
    "# DATA/MC comparison with ACPT with Awkard.JaggedArray"
   ]
  },
  {
   "cell_type": "code",
   "execution_count": 1,
   "metadata": {},
   "outputs": [
    {
     "name": "stderr",
     "output_type": "stream",
     "text": [
      "/home/nic/.local/lib/python3.7/site-packages/statsmodels/tools/_testing.py:19: FutureWarning: pandas.util.testing is deprecated. Use the functions in the public API at pandas.testing instead.\n",
      "  import pandas.util.testing as tm\n"
     ]
    }
   ],
   "source": [
    "%load_ext autoreload\n",
    "%autoreload 2\n",
    "\n",
    "import math\n",
    "from itertools import product\n",
    "from copy import deepcopy\n",
    "import uproot\n",
    "import awkward\n",
    "import numpy as np\n",
    "import matplotlib.pyplot as plt\n",
    "from matplotlib.colors import LogNorm\n",
    "from scipy.stats import binned_statistic\n",
    "import seaborn as sns\n",
    "\n",
    "import matplotlib\n",
    "from matplotlib.colors import LogNorm\n",
    "\n",
    "matplotlib.rcParams.update({'font.size': 12})\n",
    "\n",
    "from calo_likelihood import caloLikelihood\n",
    "from general_functions import *\n",
    "from loaders import *\n",
    "from initializers import initialisation_for_caloriemtry_acpt"
   ]
  },
  {
   "cell_type": "code",
   "execution_count": 2,
   "metadata": {},
   "outputs": [],
   "source": [
    "import matplotlib\n",
    "matplotlib.rcParams.update({'font.size': 12})"
   ]
  },
  {
   "cell_type": "code",
   "execution_count": 3,
   "metadata": {},
   "outputs": [],
   "source": [
    "today = '20_02_01'"
   ]
  },
  {
   "cell_type": "code",
   "execution_count": 4,
   "metadata": {},
   "outputs": [],
   "source": [
    "!mkdir -p ~/Dropbox/MicroBooNE/_fig/$today/acpt_studies_calo\n",
    "!mkdir -p ~/Dropbox/MicroBooNE/_fig/$today/acpt_studies_calo/datamc\n",
    "!mkdir -p ~/Dropbox/MicroBooNE/_fig/$today/acpt_studies_calo/calibration\n",
    "!mkdir -p ~/Dropbox/MicroBooNE/_fig/$today/acpt_studies_calo/datamc_cali"
   ]
  },
  {
   "cell_type": "code",
   "execution_count": 5,
   "metadata": {},
   "outputs": [],
   "source": [
    "save_folder = '/home/nic/Dropbox/MicroBooNE/_fig/' + today + '/acpt_studies_calo/'\n",
    "save_folder_datamc = save_folder+'datamc/'\n",
    "save_folder_calibration = save_folder+'calibration'\n",
    "save_folder_datamc_cali = save_folder+'datamc_cali/'"
   ]
  },
  {
   "cell_type": "code",
   "execution_count": 6,
   "metadata": {},
   "outputs": [],
   "source": [
    "branches = [\n",
    "    'run',\n",
    "    'sub',\n",
    "    'evt',\n",
    "    \n",
    "    'generation',\n",
    "    'backtracked_pdg',\n",
    "    'backtracked_e',\n",
    "    'backtracked_purity',\n",
    "    'backtracked_completeness',\n",
    "    'backtracked_overlay_purity',\n",
    "    'backtracked_start_x',\n",
    "    'backtracked_start_y',\n",
    "    'backtracked_start_z',\n",
    "    'backtracked_start_t',\n",
    "    'backtracked_sce_start_x',\n",
    "    'backtracked_sce_start_y',\n",
    "    'backtracked_sce_start_z',\n",
    "    \n",
    "    'nplanehits_U',\n",
    "    'nplanehits_V',\n",
    "    'nplanehits_Y',\n",
    "    'trk_score',\n",
    "\n",
    "    'trk_start_x',\n",
    "    'trk_start_y',\n",
    "    'trk_start_z',\n",
    "    \n",
    "    'trk_sce_start_x',\n",
    "    'trk_sce_start_y',\n",
    "    'trk_sce_start_z',\n",
    "\n",
    "    'trk_end_x',\n",
    "    'trk_end_y',\n",
    "    'trk_end_z',\n",
    "    \n",
    "    'trk_sce_end_x',\n",
    "    'trk_sce_end_y',\n",
    "    'trk_sce_end_z',\n",
    "    \n",
    "    'trk_theta',\n",
    "    'trk_phi',\n",
    "\n",
    "    'trk_dir_x',\n",
    "    'trk_dir_y',\n",
    "    'trk_dir_z',\n",
    "\n",
    "    'trk_len',\n",
    "    \n",
    "#     'dqdx_u',\n",
    "#     'dqdx_v',\n",
    "#     'dqdx_y',\n",
    "\n",
    "    'dedx_u',\n",
    "    'dedx_v',\n",
    "    'dedx_y',\n",
    "\n",
    "    'rr_u',\n",
    "    'rr_v',\n",
    "    'rr_y',\n",
    "\n",
    "    'pitch_u',\n",
    "    'pitch_v',\n",
    "    'pitch_y',\n",
    "    \n",
    "    'x_u',\n",
    "    'x_v',\n",
    "    'x_y',\n",
    "    \n",
    "    'y_u',\n",
    "    'y_v',\n",
    "    'y_y',\n",
    "    \n",
    "    'z_u',\n",
    "    'z_v',\n",
    "    'z_y',\n",
    "    \n",
    "    'dir_x_u',\n",
    "    'dir_x_v',\n",
    "    'dir_x_y',\n",
    "    \n",
    "    'dir_y_u',\n",
    "    'dir_y_v',\n",
    "    'dir_y_y',\n",
    "    \n",
    "    'dir_z_u',\n",
    "    'dir_z_v',\n",
    "    'dir_z_y',\n",
    "]"
   ]
  },
  {
   "cell_type": "code",
   "execution_count": 7,
   "metadata": {},
   "outputs": [],
   "source": [
    "file_folder = '~/Desktop/MicroBooNE/calorimetry_likelihood/v03/'\n",
    "\n",
    "filenames = {\n",
    "    'mc': file_folder + 'overlay_acpt/out.root',\n",
    "    'data': file_folder + 'beam_off_acpt/out.root',\n",
    "}\n",
    "\n",
    "split_factor = 0.015\n",
    "split_factor2 = 0.03\n",
    "\n",
    "folder = \"nuselection\"\n",
    "tree = \"CalorimetryAnalyzer\"\n",
    "\n",
    "root_file_mc = uproot.open(filenames['mc'])[folder][tree]\n",
    "entry_split_mc = int(len(root_file_mc) * split_factor)\n",
    "entry_split_mc2 = int(len(root_file_mc) * split_factor2)\n",
    "array_mc_train = root_file_mc.arrays(branches, namedecode=\"utf-8\", entrystop=entry_split_mc)\n",
    "array_mc_test = root_file_mc.arrays(branches, namedecode=\"utf-8\", entrystart=entry_split_mc, entrystop=entry_split_mc2)\n",
    "\n",
    "root_file_data = uproot.open(filenames['data'])[folder][tree]\n",
    "entry_split_data = int(len(root_file_data) * split_factor)\n",
    "entry_split_data2 = int(len(root_file_data) * split_factor2)\n",
    "array_data_train = root_file_data.arrays(branches, namedecode=\"utf-8\", entrystop=entry_split_data)\n",
    "array_data_test = root_file_data.arrays(branches, namedecode=\"utf-8\", entrystart=entry_split_data, entrystop=entry_split_data2)"
   ]
  },
  {
   "cell_type": "code",
   "execution_count": null,
   "metadata": {},
   "outputs": [],
   "source": [
    "root_file_data.numentries"
   ]
  },
  {
   "cell_type": "code",
   "execution_count": null,
   "metadata": {},
   "outputs": [],
   "source": [
    "# file_folder = '~/Desktop/MicroBooNE/calorimetry_likelihood/v04_david/'\n",
    "\n",
    "# filenames = {\n",
    "#     'mc': file_folder + 'overlay_acpt/out.root',\n",
    "# #     'data': file_folder + 'beam_off_acpt/out.root',\n",
    "# }\n",
    "\n",
    "# split_factor = 0.005\n",
    "# split_factor2 = 0.01\n",
    "\n",
    "# folder = \"nuselection\"\n",
    "# tree = \"CalorimetryAnalyzer\"\n",
    "\n",
    "# root_file_mc = uproot.open(filenames['mc'])[folder][tree]\n",
    "# entry_split_mc = int(len(root_file_mc) * split_factor)\n",
    "# entry_split_mc2 = int(len(root_file_mc) * split_factor2)\n",
    "# array_mc_train = root_file_mc.arrays(branches, namedecode=\"utf-8\", entrystop=entry_split_mc)\n",
    "# array_mc_test = root_file_mc.arrays(branches, namedecode=\"utf-8\", entrystart=entry_split_mc, entrystop=entry_split_mc2)\n",
    "\n",
    "# # root_file_data = uproot.open(filenames['data'])[folder][tree]\n",
    "# # entry_split_data = int(len(root_file_data) * split_factor)\n",
    "# # entry_split_data2 = int(len(root_file_data) * split_factor2)\n",
    "# # array_data_train = root_file_data.arrays(branches, namedecode=\"utf-8\", entrystop=entry_split_data)\n",
    "# # array_data_test = root_file_data.arrays(branches, namedecode=\"utf-8\", entrystart=entry_split_data, entrystop=entry_split_data2)"
   ]
  },
  {
   "cell_type": "code",
   "execution_count": 8,
   "metadata": {},
   "outputs": [
    {
     "name": "stderr",
     "output_type": "stream",
     "text": [
      "/home/nic/.local/lib/python3.7/site-packages/awkward/array/jagged.py:1035: RuntimeWarning: overflow encountered in power\n",
      "  result = getattr(ufunc, method)(*inputs, **kwargs)\n",
      "/home/nic/.local/lib/python3.7/site-packages/awkward/array/jagged.py:1035: RuntimeWarning: invalid value encountered in arccos\n",
      "  result = getattr(ufunc, method)(*inputs, **kwargs)\n",
      "/home/nic/.local/lib/python3.7/site-packages/awkward/array/jagged.py:1035: RuntimeWarning: divide by zero encountered in true_divide\n",
      "  result = getattr(ufunc, method)(*inputs, **kwargs)\n"
     ]
    }
   ],
   "source": [
    "for i, array in enumerate([array_mc_train, array_mc_test, array_data_train, array_data_test]):\n",
    "# for i, array in enumerate([array_mc_train, array_mc_test]):\n",
    "    initialisation_for_caloriemtry_acpt(array)"
   ]
  },
  {
   "cell_type": "code",
   "execution_count": 9,
   "metadata": {},
   "outputs": [],
   "source": [
    "def selection_base(array):\n",
    "    mask = (array['trk_len'] > 0) & (array['trk_dir_y']<=0)\n",
    "    return mask\n",
    "\n",
    "def selection_mask_old(array):\n",
    "    mask = selection_base(array)\n",
    "    for plane in ['_u', '_v', '_y']:\n",
    "        for direction in ['_x', '_y', '_z']:\n",
    "            mask = mask & (  (np.isnan(array['dir'+direction+plane]) == False).all() )\n",
    "    mask = mask\n",
    "    return mask\n",
    "\n",
    "def selection_mask(array):\n",
    "    mask = selection_base(array)\n",
    "    for plane in ['_u', '_v', '_y']:\n",
    "        unit_v = np.sqrt(array['dir_z'+plane]**2 + array['dir_x'+plane]**2 + array['dir_y'+plane]**2)\n",
    "        mask = mask &\\\n",
    "              (unit_v > 0.999).all() &\\\n",
    "              (unit_v < 1.001).all()\n",
    "    return mask\n",
    "\n",
    "def selection_efficiency(array):\n",
    "    base_mask = selection_base(array)\n",
    "    array_len = len(base_mask)\n",
    "    print(\"base selection eff = {:.3f}\".format(base_mask.sum()/array_len))\n",
    "    \n",
    "    sel_mask = selection_mask(array)\n",
    "    print(\"complete selection eff = {:.3f}\".format(sel_mask.sum()/array_len))\n",
    "    print(sel_mask.sum(), array_len)\n",
    "    \n",
    "def selection_planes(array):\n",
    "    aux = []\n",
    "    for plane in ['_u', '_v', '_y']:\n",
    "        aux.append(array['first_last_hit_mask'+plane])\n",
    "    return aux"
   ]
  },
  {
   "cell_type": "code",
   "execution_count": 10,
   "metadata": {},
   "outputs": [
    {
     "data": {
      "text/plain": [
       "<JaggedArray [[1.0 1.0 0.99999994 ... 1.0 1.0 1.0] [1.0 1.0 1.0 ... 1.0 1.0 1.0] [0.0 0.0 0.0 ... 0.0 0.0 0.0] ... [0.99999994 1.0000001 1.0 ... 0.99999994 1.0 1.0] [1.0000001 1.0 1.0 ... 0.99999994 1.0 1.0] [0.0 0.0 0.0 ... 0.0 0.0 0.0]] at 0x7f5adefa96d0>"
      ]
     },
     "execution_count": 10,
     "metadata": {},
     "output_type": "execute_result"
    }
   ],
   "source": [
    "array_data_train['norm_dir_y']"
   ]
  },
  {
   "cell_type": "code",
   "execution_count": 11,
   "metadata": {},
   "outputs": [
    {
     "data": {
      "text/plain": [
       "(<JaggedArray [[-0.533963 -0.53602445 -0.53989375 ... -0.59149396 -0.59430027 -0.5985296] [0.38079575 0.37901002 0.37248218 ... 0.3232286 0.3224344 0.32240048] [0.0 0.0 0.0 ... 0.0 0.0 0.0] ... [-0.5760292 -0.576404 -0.5764295 ... -0.5628081 -0.562486 -0.5627453] [0.735746 0.7360103 0.73747456 ... 0.6997888 0.6990748 0.6986788] [0.0 0.0 0.0 ... 0.0 0.0 0.0]] at 0x7f5adef98ad0>,\n",
       " <JaggedArray [[-0.079253055 -0.089646734 -0.10946527 ... -0.35996988 -0.35042256 -0.34047866] [-0.7910484 -0.79179513 -0.7946088 ... -0.8271527 -0.8274293 -0.8274282] [0.0 0.0 0.0 ... 0.0 0.0 0.0] ... [-0.80153435 -0.8013755 -0.8013662 ... -0.8191723 -0.8197061 -0.81989455] [-0.64298815 -0.6427254 -0.64120656 ... -0.68369067 -0.68410575 -0.684343] [0.0 0.0 0.0 ... 0.0 0.0 0.0]] at 0x7f5adef98a10>,\n",
       " <JaggedArray [[-0.84178525 -0.83942914 -0.83458495 ... -0.72149616 -0.7238862 -0.725146] [-0.47878703 -0.47896957 -0.47943097 ... -0.45971918 -0.45977914 -0.45980483] [0.0 0.0 0.0 ... 0.0 0.0 0.0] ... [0.1604152 0.15986234 0.15981625 ... 0.11047039 0.1081271 0.10531256] [0.21270686 0.21258621 0.21209775 ... 0.20703287 0.20807143 0.20862097] [0.0 0.0 0.0 ... 0.0 0.0 0.0]] at 0x7f5adef98910>)"
      ]
     },
     "execution_count": 11,
     "metadata": {},
     "output_type": "execute_result"
    }
   ],
   "source": [
    "array_data_train['dir_x_y'], array_data_train['dir_y_y'], array_data_train['dir_z_y']"
   ]
  },
  {
   "cell_type": "code",
   "execution_count": 12,
   "metadata": {},
   "outputs": [
    {
     "name": "stdout",
     "output_type": "stream",
     "text": [
      "base selection eff = 0.999\n",
      "complete selection eff = 0.848\n",
      "2982 3517\n"
     ]
    },
    {
     "name": "stderr",
     "output_type": "stream",
     "text": [
      "/home/nic/.local/lib/python3.7/site-packages/awkward/array/jagged.py:1035: RuntimeWarning: invalid value encountered in greater\n",
      "  result = getattr(ufunc, method)(*inputs, **kwargs)\n",
      "/home/nic/.local/lib/python3.7/site-packages/awkward/array/jagged.py:1035: RuntimeWarning: invalid value encountered in less\n",
      "  result = getattr(ufunc, method)(*inputs, **kwargs)\n"
     ]
    }
   ],
   "source": [
    "selection_efficiency(array_mc_train)"
   ]
  },
  {
   "cell_type": "code",
   "execution_count": 13,
   "metadata": {},
   "outputs": [
    {
     "name": "stdout",
     "output_type": "stream",
     "text": [
      "base selection eff = 0.999\n",
      "complete selection eff = 0.856\n",
      "2399 2802\n"
     ]
    }
   ],
   "source": [
    "selection_efficiency(array_data_train)"
   ]
  },
  {
   "cell_type": "code",
   "execution_count": 14,
   "metadata": {},
   "outputs": [
    {
     "data": {
      "text/plain": [
       "0.12134189864382584"
      ]
     },
     "execution_count": 14,
     "metadata": {},
     "output_type": "execute_result"
    }
   ],
   "source": [
    "((np.abs(array_data_train['norm_dir_y'] -1) > 0.0001).any()).sum() / len(((np.abs(array_data_train['norm_dir_y'] -1) > 0.0001).any()))"
   ]
  },
  {
   "cell_type": "code",
   "execution_count": 15,
   "metadata": {},
   "outputs": [
    {
     "data": {
      "text/plain": [
       "0.1238401142041399"
      ]
     },
     "execution_count": 15,
     "metadata": {},
     "output_type": "execute_result"
    }
   ],
   "source": [
    "((np.abs(array_data_train['norm_dir_u'] -1) > 0.0001).any()).sum() / len(((np.abs(array_data_train['norm_dir_u'] -1) > 0.0001).any()))"
   ]
  },
  {
   "cell_type": "code",
   "execution_count": 16,
   "metadata": {},
   "outputs": [
    {
     "data": {
      "text/plain": [
       "0.12919343326195576"
      ]
     },
     "execution_count": 16,
     "metadata": {},
     "output_type": "execute_result"
    }
   ],
   "source": [
    "((np.abs(array_data_train['norm_dir_v'] -1) > 0.0001).any()).sum() / len(((np.abs(array_data_train['norm_dir_v'] -1) > 0.0001).any()))"
   ]
  },
  {
   "cell_type": "code",
   "execution_count": 17,
   "metadata": {},
   "outputs": [
    {
     "data": {
      "text/plain": [
       "<JaggedArray [[0.0 0.0 0.0 ... 0.0 0.0 0.0] [-999.0 -999.0 -999.0 ... -999.0 -999.0 -999.0] [0.0 0.0 0.0 ... 0.0 0.0 0.0] ... [0.0 0.0 0.0 ... 0.0 0.0 0.0] [-0.8155424 -0.8155424 -0.8155424 ... -0.8155424 -0.8155424 -0.8155424] [0.0 0.0 0.0 ... 0.0 0.0 0.0]] at 0x7f5adefe0890>"
      ]
     },
     "execution_count": 17,
     "metadata": {},
     "output_type": "execute_result"
    }
   ],
   "source": [
    "array_data_train['dir_y_v'][(np.abs(array_data_train['norm_dir_v'] -1) > 0.0001).any()]"
   ]
  },
  {
   "cell_type": "code",
   "execution_count": 18,
   "metadata": {},
   "outputs": [
    {
     "data": {
      "text/plain": [
       "<JaggedArray [[0.33872405 0.33839533 0.33823022 ... 0.34318057 0.34320775 0.3432654] [169.63127 107.28112 97.41531 ... 1.9335806 1.9848397 1.9975917] [0.3209913 0.32096425 0.320962 ... 0.31555644 0.3155478 0.31554836] ... [0.30627495 0.30623004 0.30582342 ... 0.31156498 0.3115989 0.3117314] [0.4391729 0.43930155 0.5174549 ... 0.4320928 0.4296815 0.4251652] [0.4468995 0.44754547 0.4481189 ... 0.45074588 0.44970614 0.44951347]] at 0x7f5adefe0a50>"
      ]
     },
     "execution_count": 18,
     "metadata": {},
     "output_type": "execute_result"
    }
   ],
   "source": [
    "array_data_train['pitch_v'][(np.abs(array_data_train['norm_dir_v'] -1) > 0.0001).any()]"
   ]
  },
  {
   "cell_type": "code",
   "execution_count": 19,
   "metadata": {},
   "outputs": [],
   "source": [
    "muon_train = (abs(array_mc_train['backtracked_pdg']) == 13) & selection_mask(array_mc_train)\n",
    "muon_test = (abs(array_mc_test['backtracked_pdg']) == 13) & selection_mask(array_mc_test)\n",
    "\n",
    "data_train_mask = selection_mask(array_data_train)\n",
    "data_test_mask = selection_mask(array_data_test)\n",
    "\n",
    "mc_train_planes = selection_planes(array_mc_train)\n",
    "mc_test_planes = selection_planes(array_mc_test)\n",
    "\n",
    "data_train_planes = selection_planes(array_data_train)\n",
    "data_test_planes = selection_planes(array_data_test)"
   ]
  },
  {
   "cell_type": "code",
   "execution_count": 20,
   "metadata": {},
   "outputs": [],
   "source": [
    "# parameters = [['abs_theta_x_u', 'abs_theta_yz_u'],\n",
    "#               ['abs_theta_x_v', 'abs_theta_yz_v'],\n",
    "#               ['abs_theta_x_y', 'abs_theta_yz_y'],]\n",
    "# parameters_legend_names = [[r'$\\theta_{x}$ - U', r'$\\theta_{yz}$ - U'],\n",
    "#                            [r'$\\theta_{x}$ - V', r'$\\theta_{yz}$ - V'],\n",
    "#                            [r'$\\theta_{x}$ - Y', r'$\\theta_{yz}$ - Y'],]\n",
    "# parameters_bin_edges = [np.linspace(0, np.pi/2, 7), np.linspace(0, np.pi/2, 9)]\n",
    "# dedx_vars = ['dedx_u', 'dedx_v', 'dedx_y']\n",
    "# dedx_bins = np.linspace(0, 10, 100)\n",
    "# pdgcode_var = 'backtracked_pdg'"
   ]
  },
  {
   "cell_type": "code",
   "execution_count": 21,
   "metadata": {},
   "outputs": [],
   "source": [
    "# parameters = [['abs_theta_y_u', 'abs_theta_xz_u'],\n",
    "#               ['abs_theta_y_v', 'abs_theta_xz_v'],\n",
    "#               ['abs_theta_y_y', 'abs_theta_xz_y'],]\n",
    "# parameters_legend_names = [[r'$\\theta_{y}$ - U', r'$\\theta_{xz}$ - U'],\n",
    "#                            [r'$\\theta_{y}$ - V', r'$\\theta_{xz}$ - V'],\n",
    "#                            [r'$\\theta_{y}$ - Y', r'$\\theta_{xz}$ - Y'],]\n",
    "# parameters_bin_edges = [np.linspace(0, np.pi/2, 7), np.linspace(0, np.pi/2, 9)]\n",
    "# dedx_vars = ['dedx_u', 'dedx_v', 'dedx_y']\n",
    "# dedx_bins = np.linspace(0, 10, 100)\n",
    "# pdgcode_var = 'backtracked_pdg'"
   ]
  },
  {
   "cell_type": "code",
   "execution_count": 22,
   "metadata": {},
   "outputs": [],
   "source": [
    "parameters = [['abs_theta_z_u', 'abs_theta_yx_u'],\n",
    "              ['abs_theta_z_v', 'abs_theta_yx_v'],\n",
    "              ['abs_theta_z_y', 'abs_theta_yx_y'],]\n",
    "parameters_legend_names = [[r'$\\theta$', r'$\\phi$'],\n",
    "                           [r'$\\theta$', r'$\\phi$'],\n",
    "                           [r'$\\theta$', r'$\\phi$'],]\n",
    "parameters_bin_edges = [[0., 0.52359878, 0.78539816, 1.04719755, 1.30899694, 1.57079633], np.linspace(0, np.pi/2, 9)]\n",
    "dedx_vars = ['dedx_u', 'dedx_v', 'dedx_y']\n",
    "dedx_bins = np.linspace(0, 10, 100)\n",
    "pdgcode_var = 'backtracked_pdg'"
   ]
  },
  {
   "cell_type": "code",
   "execution_count": 23,
   "metadata": {},
   "outputs": [],
   "source": [
    "caloLike_calibration = caloLikelihood(array_mc_train, quality_mask=muon_train, quality_masks_planes=mc_train_planes)\n",
    "caloLike_calibration.loadData(array_data_train, overall_data_mask=data_train_mask, overall_data_masks_planes=data_train_planes)"
   ]
  },
  {
   "cell_type": "code",
   "execution_count": 24,
   "metadata": {},
   "outputs": [
    {
     "name": "stderr",
     "output_type": "stream",
     "text": [
      "/home/nic/Dropbox/MicroBooNE/bnb_nue_analysis/lib/calo_likelihood.py:135: RuntimeWarning: invalid value encountered in true_divide\n",
      "  hist_total/hist_partial[..., np.newaxis],\n"
     ]
    }
   ],
   "source": [
    "caloLike_calibration.setPdgCodeVar(pdgcode_var)\n",
    "for i in [0, 1, 2]:\n",
    "    caloLike_calibration.setVariablesBinning(i, parameters[i], parameters_bin_edges, dedx_vars[i], dedx_bins, parameters_legend_names[i])\n",
    "    \n",
    "    caloLike_calibration.buildLookUpTableMC(i, 13)\n",
    "    caloLike_calibration.buildLookUpTableData(i, 'default')"
   ]
  },
  {
   "cell_type": "code",
   "execution_count": null,
   "metadata": {},
   "outputs": [],
   "source": [
    "caloLike_calibration.plotLookUpDedxDataMC(plane_num=0,\n",
    "                        pdg_code=13, \n",
    "                        data_selection='default',\n",
    "                        parameters_value=[0.8, 0.9],\n",
    "                        add_to_title='Calibration sample')"
   ]
  },
  {
   "cell_type": "code",
   "execution_count": null,
   "metadata": {},
   "outputs": [],
   "source": [
    "# for plane_num in [0, 1, 2]:\n",
    "#     bin_centers = product(*caloLike_calibration.parameters_bin_centers[plane_num])\n",
    "#     for bin_center in bin_centers:\n",
    "#         caloLike_calibration.plotLookUpDedxDataMC(plane_num=plane_num,\n",
    "#                         pdg_code=13, \n",
    "#                         data_selection='default', \n",
    "#                         parameters_value=bin_center,\n",
    "#                         add_to_title='Calibration sample')\n",
    "#         plt.savefig(save_folder_datamc+'plane_{}_theta_{:.2f}_phi_{:.2f}.png'.format(plane_num, bin_center[0], bin_center[1]), dpi=200)\n",
    "#         plt.close()"
   ]
  },
  {
   "cell_type": "code",
   "execution_count": null,
   "metadata": {},
   "outputs": [],
   "source": [
    "# plane_num = 2\n",
    "# bin_centers = product(*caloLike_calibration.parameters_bin_centers[plane_num])\n",
    "# for bin_center in bin_centers:\n",
    "#     caloLike_calibration.plotLookUpDedxDataMC(plane_num=plane_num,\n",
    "#                     pdg_code=13, \n",
    "#                     data_selection='default', \n",
    "#                     parameters_value=bin_center,\n",
    "#                     add_to_title='Calibration sample')\n",
    "#     plt.savefig(save_folder_datamc+'plane_{}_theta_y_{:.2f}_theta_xz_{:.2f}.png'.format(plane_num, bin_center[0], bin_center[1]), dpi=200)\n",
    "#     plt.tight_layout()\n",
    "#     plt.close()"
   ]
  },
  {
   "cell_type": "markdown",
   "metadata": {},
   "source": [
    "## Calibration only mu"
   ]
  },
  {
   "cell_type": "code",
   "execution_count": 25,
   "metadata": {},
   "outputs": [],
   "source": [
    "def scale_calibration(mu, dedx):\n",
    "    return dedx * mu[0]"
   ]
  },
  {
   "cell_type": "code",
   "execution_count": 26,
   "metadata": {},
   "outputs": [],
   "source": [
    "caloLike_calibration.setCalibrationFunction(calibration_function=scale_calibration, \n",
    "                                n_calibration_parameters=1)"
   ]
  },
  {
   "cell_type": "code",
   "execution_count": 29,
   "metadata": {},
   "outputs": [
    {
     "data": {
      "image/png": "[encoded data removed]",
      "text/plain": [
       "<Figure size 432x288 with 1 Axes>"
      ]
     },
     "metadata": {
      "needs_background": "light"
     },
     "output_type": "display_data"
    }
   ],
   "source": [
    "caloLike_calibration.calibrationLikelihoodProfile(plane_num=2, \n",
    "                                                  parameters_value=[0.6, 0.2], \n",
    "                                                  pdg_code=13, \n",
    "                                                  start_point=[1],\n",
    "                                                  data_selection='default', \n",
    "                                                  plot=True,\n",
    "                                                  mu_binnings=[[0.8, 1.2, 50]])\n",
    "plt.ticklabel_format(style='sci', axis='y', scilimits=(0,0))\n",
    "plt.tight_layout()\n",
    "# plt.savefig(save_folder+'plane_2_pitch_0.75.png', dpi=250)"
   ]
  },
  {
   "cell_type": "code",
   "execution_count": 30,
   "metadata": {},
   "outputs": [
    {
     "data": {
      "image/png": "[encoded data removed]",
      "text/plain": [
       "<Figure size 432x288 with 2 Axes>"
      ]
     },
     "metadata": {
      "needs_background": "light"
     },
     "output_type": "display_data"
    }
   ],
   "source": [
    "mu_scan_binning = [[0.8, 1.3, 50]]\n",
    "for plane in [0, 1, 2]:\n",
    "    caloLike_calibration.buildCalibrationTable(mu_scan_binning=mu_scan_binning, \n",
    "                          plane_num=plane, \n",
    "                          pdg_code=13, \n",
    "                          start_point=[1],\n",
    "                          data_selection='default', \n",
    "                          plot_folder=save_folder_calibration)\n",
    "    edges, table = caloLike_calibration.plotCalibration2d(plane)\n",
    "    plt.savefig(save_folder+'calibration_table_plane_{}.png'.format(plane), dpi=200)"
   ]
  },
  {
   "cell_type": "code",
   "execution_count": 31,
   "metadata": {},
   "outputs": [],
   "source": [
    "mu_scan_binning = [[0.8, 1.2, 50]]\n",
    "caloLike_calibration.buildCalibrationTable(mu_scan_binning=mu_scan_binning, \n",
    "                          plane_num=2, \n",
    "                          pdg_code=13, \n",
    "                          start_point=[1],\n",
    "                          data_selection='default', \n",
    "                          plot_folder=save_folder_calibration)"
   ]
  },
  {
   "cell_type": "code",
   "execution_count": 32,
   "metadata": {},
   "outputs": [],
   "source": [
    "# edges, table = caloLike_calibration.plotCalibration2d(2)\n",
    "# plt.savefig(save_folder+'calibration_table_plane2.png', dpi=200)"
   ]
  },
  {
   "cell_type": "code",
   "execution_count": 33,
   "metadata": {},
   "outputs": [],
   "source": [
    "# for i in [0, 1, 2]:\n",
    "#     caloLike_test.buildLookupTableMC(i, 13, cali=True)\n",
    "#     caloLike_test.buildLookupTableData(i, 'default')"
   ]
  },
  {
   "cell_type": "code",
   "execution_count": 34,
   "metadata": {},
   "outputs": [],
   "source": [
    "# plane_num = 2\n",
    "# caloLike_test.calibration_table = caloLike_calibration.calibration_table\n",
    "# caloLike_test.buildLookUpTableMC(plane_num, 13, cali=True)\n",
    "# caloLike_test.buildLookUpTableData(plane_num, 'default')\n",
    "\n",
    "# bin_centers = product(*caloLike_test.parameters_bin_centers[plane_num])\n",
    "# for bin_center in bin_centers:\n",
    "#     caloLike_test.plotLookUpDedxDataMC(plane_num=plane_num,\n",
    "#                     pdg_code=13, \n",
    "#                     data_selection='default', \n",
    "#                     parameters_value=bin_center,\n",
    "#                     add_to_title='Calibrated sample')\n",
    "#     plt.savefig(save_folder_datamc_cali+'plane_{}_theta_y_{:.2f}_theta_xz_{:.2f}.png'.format(plane_num, bin_center[0], bin_center[1]), dpi=200)\n",
    "#     plt.tight_layout()\n",
    "#     plt.close()"
   ]
  },
  {
   "cell_type": "code",
   "execution_count": 35,
   "metadata": {},
   "outputs": [],
   "source": [
    "#print table\n",
    "caloLike_calibration.printCplusplusCorrection(filename='/home/nic/Dropbox/MicroBooNE/bnb_nue_analysis/calorimetry_likelihood/larsoft_dev/LLRPID_correction_lookup.h', planes=[0, 1, 2])"
   ]
  },
  {
   "cell_type": "code",
   "execution_count": 48,
   "metadata": {},
   "outputs": [],
   "source": [
    "#dump calibration object\n",
    "caloLike_calibration.save(filename='/home/nic/Dropbox/MicroBooNE/bnb_nue_analysis/calorimetry_likelihood/dumped_objects/calibration.dat')"
   ]
  },
  {
   "cell_type": "markdown",
   "metadata": {},
   "source": [
    "### Dump, load and closure test calibration"
   ]
  },
  {
   "cell_type": "code",
   "execution_count": 41,
   "metadata": {},
   "outputs": [
    {
     "name": "stdout",
     "output_type": "stream",
     "text": [
      "array_dedx_out\n",
      "274874\n",
      "0.12482192105380818\n",
      "9333.149141073229\n",
      "[1.50379371 1.8093936  1.71154798 ... 2.41094009 2.02826758 2.14731425]\n"
     ]
    }
   ],
   "source": [
    "#1\n",
    "caloLike_dump_test1 = caloLikelihood(array_mc_test, quality_mask=muon_test, quality_masks_planes=mc_test_planes)\n",
    "caloLike_dump_test1.setPdgCodeVar(pdgcode_var)\n",
    "i=1\n",
    "caloLike_dump_test1.setVariablesBinning(i, parameters[i], parameters_bin_edges, dedx_vars[i], np.linspace(0, 10000, 100), parameters_legend_names[i])\n",
    "caloLike_dump_test1.setCalibrationFunction(calibration_function=scale_calibration, n_calibration_parameters=1)\n",
    "caloLike_dump_test1.calibration_table = caloLike_calibration.calibration_table\n",
    "caloLike_dump_test1.buildLookUpTableMC(i, 13, cali=True)"
   ]
  },
  {
   "cell_type": "code",
   "execution_count": 50,
   "metadata": {},
   "outputs": [
    {
     "name": "stdout",
     "output_type": "stream",
     "text": [
      "array_dedx_out\n",
      "274874\n",
      "0.12482192105380818\n",
      "9333.149141073229\n",
      "[1.50379371 1.8093936  1.71154798 ... 2.41094009 2.02826758 2.14731425]\n"
     ]
    },
    {
     "name": "stderr",
     "output_type": "stream",
     "text": [
      "/home/nic/Dropbox/MicroBooNE/bnb_nue_analysis/lib/calo_likelihood.py:182: RuntimeWarning: invalid value encountered in greater\n",
      "  np.where((parameter_value>parameter_bin_edges[0]) & (parameter_value<parameter_bin_edges[-1]),\n",
      "/home/nic/Dropbox/MicroBooNE/bnb_nue_analysis/lib/calo_likelihood.py:182: RuntimeWarning: invalid value encountered in less\n",
      "  np.where((parameter_value>parameter_bin_edges[0]) & (parameter_value<parameter_bin_edges[-1]),\n",
      "/home/nic/Dropbox/MicroBooNE/bnb_nue_analysis/lib/calo_likelihood.py:184: RuntimeWarning: invalid value encountered in less_equal\n",
      "  np.where((parameter_value<=parameter_bin_edges[0]),\n"
     ]
    }
   ],
   "source": [
    "#2\n",
    "caloLikelihood_cali_trail = caloLikelihood(None)\n",
    "caloLikelihood_cali_trail.load(filename='/home/nic/Dropbox/MicroBooNE/bnb_nue_analysis/calorimetry_likelihood/dumped_objects/calibration.dat')\n",
    "array_mc_test['dedx_v_cali'] = caloLikelihood_cali_trail.calibrateDedxExternal(array_mc_test, 1)\n",
    "caloLike_dump_test2 = caloLikelihood(array_mc_test, quality_mask=muon_test, quality_masks_planes=mc_test_planes)\n",
    "caloLike_dump_test2.setPdgCodeVar(pdgcode_var)\n",
    "i=1\n",
    "caloLike_dump_test2.setVariablesBinning(i, parameters[i], parameters_bin_edges, 'dedx_v_cali', np.linspace(0, 10000, 100), parameters_legend_names[i])\n",
    "caloLike_dump_test2.buildLookUpTableMC(i, 13, cali=False)"
   ]
  },
  {
   "cell_type": "code",
   "execution_count": 43,
   "metadata": {},
   "outputs": [
    {
     "data": {
      "text/plain": [
       "False"
      ]
     },
     "execution_count": 43,
     "metadata": {},
     "output_type": "execute_result"
    }
   ],
   "source": [
    "(caloLike_dump_test1.lookup_tables[13][1] - caloLike_dump_test2.lookup_tables[13][1]).any()"
   ]
  },
  {
   "cell_type": "markdown",
   "metadata": {},
   "source": [
    "## Calibration mu + sigma"
   ]
  },
  {
   "cell_type": "code",
   "execution_count": 102,
   "metadata": {},
   "outputs": [],
   "source": [
    "def scale_calibration(mu, dedx):\n",
    "    scale = np.clip(mu[0], 0, np.inf)\n",
    "    smearing = np.clip(mu[1], 0, np.inf)\n",
    "    if type(dedx) is np.ndarray:\n",
    "        return scale * dedx + np.random.normal(loc=0.0, scale=smearing, size=len(dedx))\n",
    "    else:\n",
    "        return scale * dedx + np.random.normal(loc=0.0, scale=smearing)"
   ]
  },
  {
   "cell_type": "code",
   "execution_count": 104,
   "metadata": {},
   "outputs": [
    {
     "ename": "NameError",
     "evalue": "name 'caloLike_test' is not defined",
     "output_type": "error",
     "traceback": [
      "\u001b[0;31m---------------------------------------------------------------------------\u001b[0m",
      "\u001b[0;31mNameError\u001b[0m                                 Traceback (most recent call last)",
      "\u001b[0;32m<ipython-input-104-4f9ec3233257>\u001b[0m in \u001b[0;36m<module>\u001b[0;34m\u001b[0m\n\u001b[1;32m      2\u001b[0m                                 n_calibration_parameters=2)\n\u001b[1;32m      3\u001b[0m \u001b[0;34m\u001b[0m\u001b[0m\n\u001b[0;32m----> 4\u001b[0;31m caloLike_test.setCalibrationFunction(calibration_function=scale_calibration, \n\u001b[0m\u001b[1;32m      5\u001b[0m                                 n_calibration_parameters=2)\n",
      "\u001b[0;31mNameError\u001b[0m: name 'caloLike_test' is not defined"
     ]
    }
   ],
   "source": [
    "caloLike_calibration.setCalibrationFunction(calibration_function=scale_calibration, \n",
    "                                n_calibration_parameters=2)\n",
    "\n",
    "caloLike_test.setCalibrationFunction(calibration_function=scale_calibration, \n",
    "                                n_calibration_parameters=2)"
   ]
  },
  {
   "cell_type": "code",
   "execution_count": 127,
   "metadata": {},
   "outputs": [
    {
     "data": {
      "image/png": "[encoded data removed]",
      "text/plain": [
       "<Figure size 432x288 with 2 Axes>"
      ]
     },
     "metadata": {
      "needs_background": "light"
     },
     "output_type": "display_data"
    }
   ],
   "source": [
    "caloLike_calibration.calibrationLikelihoodProfile(plane_num=0, \n",
    "                                      parameters_value=[0.8, 0.9], \n",
    "                                      pdg_code=13, \n",
    "                                      data_selection='default', \n",
    "                                      start_point=[1, 0.06],\n",
    "                                      plot=True,\n",
    "                                      mu_binnings=[[1.05, 1.07, 10], [0.0, 0.1, 10]])\n",
    "plt.ticklabel_format(style='sci', axis='y', scilimits=(0,0))\n",
    "plt.tight_layout()\n",
    "# plt.savefig(save_folder+'plane_2_pitch_0.75.png', dpi=250)"
   ]
  },
  {
   "cell_type": "code",
   "execution_count": 113,
   "metadata": {},
   "outputs": [
    {
     "name": "stderr",
     "output_type": "stream",
     "text": [
      "/home/nic/.local/lib/python3.7/site-packages/ipykernel_launcher.py:55: RuntimeWarning: invalid value encountered in true_divide\n",
      "/home/nic/.local/lib/python3.7/site-packages/ipykernel_launcher.py:56: RuntimeWarning: divide by zero encountered in true_divide\n",
      "/home/nic/.local/lib/python3.7/site-packages/ipykernel_launcher.py:56: RuntimeWarning: invalid value encountered in true_divide\n"
     ]
    },
    {
     "data": {
      "text/plain": [
       "(0.5, 2)"
      ]
     },
     "execution_count": 113,
     "metadata": {},
     "output_type": "execute_result"
    },
    {
     "data": {
      "image/png": "[encoded data removed]",
      "text/plain": [
       "<Figure size 576x360 with 2 Axes>"
      ]
     },
     "metadata": {
      "needs_background": "light"
     },
     "output_type": "display_data"
    }
   ],
   "source": [
    "def mask(array):\n",
    "    return (array['abs_theta_z_u'] > 0.78539816) &\\\n",
    "           (array['abs_theta_z_u'] < 1.04719755) &\\\n",
    "           (array['abs_theta_yx_u'] > 0.78539816) &\\\n",
    "           (array['abs_theta_yx_u'] < 0.9817477)\n",
    "\n",
    "kwargs = {'histtype' : 'step'}\n",
    "plane_num = 0\n",
    "dedx_bins_edges = caloLike_calibration.dedx_bin_edges[plane_num]\n",
    "dedx_bins_centers = caloLike_calibration.dedx_bins_centers[plane_num]\n",
    "\n",
    "fig, ax = plt.subplots(ncols=1,\n",
    "                       nrows=2,\n",
    "                       figsize=(8, 5),\n",
    "                       sharex='col',\n",
    "                       gridspec_kw={'height_ratios': [3, 1]})\n",
    "\n",
    "plt.sca(ax[0])\n",
    "# bin_contents0 = caloLike_calibration.plotVariableMC(var_name='dedx_u', \n",
    "#                                     bins=dedx_bins_edges, \n",
    "#                                     range=[0, 10], \n",
    "#                                     function_mask=mask, \n",
    "#                                     quality_mask=True, \n",
    "#                                     label='[1., 0.]', \n",
    "#                                     cali_pars=[1., 0.],\n",
    "#                                    **kwargs)\n",
    "\n",
    "bin_contents1 = caloLike_calibration.plotVariableMC(var_name='dedx_u', \n",
    "                                    bins=dedx_bins_edges, \n",
    "                                    range=[0, 10], \n",
    "                                    function_mask=mask, \n",
    "                                    quality_mask=True, \n",
    "                                    label='[1.063, 0.051]', \n",
    "                                    cali_pars=[1.063, 0.051],\n",
    "                                   **kwargs)\n",
    "\n",
    "bin_contents2 = caloLike_calibration.plotVariableMCFancy(var_name='dedx_u', \n",
    "                                    bins=dedx_bins_edges, \n",
    "                                    range=[0, 10], \n",
    "                                    function_mask=mask, \n",
    "                                    quality_mask=True, \n",
    "                                    label='[1.063, 0.1]', \n",
    "                                    cali_pars=[1.03, 0.1],\n",
    "                                        **kwargs)\n",
    "\n",
    "bin_centers, bin_edges, bin_contents_data = caloLike_calibration.plotVariableData(var_name='dedx_u', \n",
    "                                    bins=dedx_bins_edges, \n",
    "                                    range=[0, 10], \n",
    "                                    function_mask=mask, \n",
    "                                    label='data');\n",
    "\n",
    "plt.xlim(0, 5)\n",
    "plt.sca(ax[1])\n",
    "# plt.plot(bin_centers, bin_contents_data/bin_contents0, '.', label='[1., 0.]')\n",
    "plt.plot(bin_centers, bin_contents_data/bin_contents1, '.')\n",
    "plt.plot(bin_centers, bin_contents_data/bin_contents2, '.')\n",
    "plt.plot([dedx_bins_edges[0], dedx_bins_edges[-1]], [1, 1], '--k', alpha=0.3)\n",
    "plt.ylim(0.5, 2)"
   ]
  },
  {
   "cell_type": "markdown",
   "metadata": {},
   "source": [
    "## Plot pdf before and after"
   ]
  },
  {
   "cell_type": "code",
   "execution_count": 35,
   "metadata": {},
   "outputs": [],
   "source": [
    "caloLike_test = caloLikelihood(array_mc_test, quality_mask=muon_test, quality_masks_planes=mc_test_planes)\n",
    "caloLike_test.loadData(array_data_test, overall_data_mask=data_test_mask, overall_data_masks_planes=data_test_planes)\n",
    "\n",
    "caloLike_test2 = caloLikelihood(array_mc_test, quality_mask=muon_test, quality_masks_planes=mc_test_planes)\n",
    "caloLike_test2.loadData(array_data_test, overall_data_mask=data_test_mask, overall_data_masks_planes=data_test_planes)"
   ]
  },
  {
   "cell_type": "code",
   "execution_count": 36,
   "metadata": {},
   "outputs": [],
   "source": [
    "caloLike_test.setPdgCodeVar(pdgcode_var)\n",
    "caloLike_test2.setPdgCodeVar(pdgcode_var)\n",
    "\n",
    "for i in [0, 1, 2]:\n",
    "    caloLike_test.setVariablesBinning(i, parameters[i], parameters_bin_edges, dedx_vars[i], dedx_bins, parameters_legend_names[i])\n",
    "    caloLike_test2.setVariablesBinning(i, parameters[i], parameters_bin_edges, dedx_vars[i], dedx_bins, parameters_legend_names[i])\n",
    "    \n",
    "    caloLike_test.buildLookUpTableMC(i, 13)\n",
    "    caloLike_test.buildLookUpTableData(i, 'default')"
   ]
  },
  {
   "cell_type": "code",
   "execution_count": 37,
   "metadata": {},
   "outputs": [],
   "source": [
    "caloLike_test2.setCalibrationFunction(calibration_function=scale_calibration, \n",
    "                                n_calibration_parameters=1)\n",
    "caloLike_test2.calibration_table = caloLike_calibration.calibration_table\n",
    "caloLike_test2.buildLookUpTableMC(2, 13, cali=True)"
   ]
  },
  {
   "cell_type": "code",
   "execution_count": 42,
   "metadata": {},
   "outputs": [
    {
     "name": "stderr",
     "output_type": "stream",
     "text": [
      "/home/nic/.local/lib/python3.7/site-packages/ipykernel_launcher.py:36: RuntimeWarning: divide by zero encountered in true_divide\n",
      "/home/nic/.local/lib/python3.7/site-packages/ipykernel_launcher.py:36: RuntimeWarning: invalid value encountered in true_divide\n",
      "/home/nic/.local/lib/python3.7/site-packages/ipykernel_launcher.py:37: RuntimeWarning: divide by zero encountered in true_divide\n",
      "/home/nic/.local/lib/python3.7/site-packages/ipykernel_launcher.py:37: RuntimeWarning: invalid value encountered in true_divide\n",
      "/home/nic/.local/lib/python3.7/site-packages/ipykernel_launcher.py:36: RuntimeWarning: divide by zero encountered in true_divide\n",
      "/home/nic/.local/lib/python3.7/site-packages/ipykernel_launcher.py:36: RuntimeWarning: invalid value encountered in true_divide\n",
      "/home/nic/.local/lib/python3.7/site-packages/ipykernel_launcher.py:37: RuntimeWarning: divide by zero encountered in true_divide\n",
      "/home/nic/.local/lib/python3.7/site-packages/ipykernel_launcher.py:37: RuntimeWarning: invalid value encountered in true_divide\n",
      "/home/nic/.local/lib/python3.7/site-packages/ipykernel_launcher.py:36: RuntimeWarning: divide by zero encountered in true_divide\n",
      "/home/nic/.local/lib/python3.7/site-packages/ipykernel_launcher.py:36: RuntimeWarning: invalid value encountered in true_divide\n",
      "/home/nic/.local/lib/python3.7/site-packages/ipykernel_launcher.py:37: RuntimeWarning: divide by zero encountered in true_divide\n",
      "/home/nic/.local/lib/python3.7/site-packages/ipykernel_launcher.py:37: RuntimeWarning: invalid value encountered in true_divide\n",
      "/home/nic/.local/lib/python3.7/site-packages/ipykernel_launcher.py:36: RuntimeWarning: invalid value encountered in true_divide\n",
      "/home/nic/.local/lib/python3.7/site-packages/ipykernel_launcher.py:37: RuntimeWarning: divide by zero encountered in true_divide\n",
      "/home/nic/.local/lib/python3.7/site-packages/ipykernel_launcher.py:37: RuntimeWarning: invalid value encountered in true_divide\n",
      "/home/nic/.local/lib/python3.7/site-packages/ipykernel_launcher.py:36: RuntimeWarning: invalid value encountered in true_divide\n",
      "/home/nic/.local/lib/python3.7/site-packages/ipykernel_launcher.py:37: RuntimeWarning: invalid value encountered in true_divide\n",
      "/home/nic/.local/lib/python3.7/site-packages/ipykernel_launcher.py:36: RuntimeWarning: divide by zero encountered in true_divide\n",
      "/home/nic/.local/lib/python3.7/site-packages/ipykernel_launcher.py:36: RuntimeWarning: invalid value encountered in true_divide\n",
      "/home/nic/.local/lib/python3.7/site-packages/ipykernel_launcher.py:37: RuntimeWarning: invalid value encountered in true_divide\n",
      "/home/nic/.local/lib/python3.7/site-packages/ipykernel_launcher.py:36: RuntimeWarning: invalid value encountered in true_divide\n",
      "/home/nic/.local/lib/python3.7/site-packages/ipykernel_launcher.py:37: RuntimeWarning: invalid value encountered in true_divide\n",
      "/home/nic/.local/lib/python3.7/site-packages/ipykernel_launcher.py:36: RuntimeWarning: invalid value encountered in true_divide\n",
      "/home/nic/.local/lib/python3.7/site-packages/ipykernel_launcher.py:37: RuntimeWarning: divide by zero encountered in true_divide\n",
      "/home/nic/.local/lib/python3.7/site-packages/ipykernel_launcher.py:37: RuntimeWarning: invalid value encountered in true_divide\n",
      "/home/nic/.local/lib/python3.7/site-packages/ipykernel_launcher.py:36: RuntimeWarning: divide by zero encountered in true_divide\n",
      "/home/nic/.local/lib/python3.7/site-packages/ipykernel_launcher.py:36: RuntimeWarning: invalid value encountered in true_divide\n",
      "/home/nic/.local/lib/python3.7/site-packages/ipykernel_launcher.py:37: RuntimeWarning: divide by zero encountered in true_divide\n",
      "/home/nic/.local/lib/python3.7/site-packages/ipykernel_launcher.py:37: RuntimeWarning: invalid value encountered in true_divide\n",
      "/home/nic/.local/lib/python3.7/site-packages/ipykernel_launcher.py:36: RuntimeWarning: invalid value encountered in true_divide\n",
      "/home/nic/.local/lib/python3.7/site-packages/ipykernel_launcher.py:37: RuntimeWarning: divide by zero encountered in true_divide\n",
      "/home/nic/.local/lib/python3.7/site-packages/ipykernel_launcher.py:37: RuntimeWarning: invalid value encountered in true_divide\n",
      "/home/nic/.local/lib/python3.7/site-packages/ipykernel_launcher.py:36: RuntimeWarning: invalid value encountered in true_divide\n",
      "/home/nic/.local/lib/python3.7/site-packages/ipykernel_launcher.py:37: RuntimeWarning: divide by zero encountered in true_divide\n",
      "/home/nic/.local/lib/python3.7/site-packages/ipykernel_launcher.py:37: RuntimeWarning: invalid value encountered in true_divide\n",
      "/home/nic/.local/lib/python3.7/site-packages/ipykernel_launcher.py:36: RuntimeWarning: invalid value encountered in true_divide\n",
      "/home/nic/.local/lib/python3.7/site-packages/ipykernel_launcher.py:37: RuntimeWarning: divide by zero encountered in true_divide\n",
      "/home/nic/.local/lib/python3.7/site-packages/ipykernel_launcher.py:37: RuntimeWarning: invalid value encountered in true_divide\n",
      "/home/nic/.local/lib/python3.7/site-packages/ipykernel_launcher.py:36: RuntimeWarning: invalid value encountered in true_divide\n",
      "/home/nic/.local/lib/python3.7/site-packages/ipykernel_launcher.py:37: RuntimeWarning: divide by zero encountered in true_divide\n",
      "/home/nic/.local/lib/python3.7/site-packages/ipykernel_launcher.py:37: RuntimeWarning: invalid value encountered in true_divide\n",
      "/home/nic/.local/lib/python3.7/site-packages/ipykernel_launcher.py:36: RuntimeWarning: invalid value encountered in true_divide\n",
      "/home/nic/.local/lib/python3.7/site-packages/ipykernel_launcher.py:37: RuntimeWarning: invalid value encountered in true_divide\n",
      "/home/nic/.local/lib/python3.7/site-packages/ipykernel_launcher.py:36: RuntimeWarning: invalid value encountered in true_divide\n",
      "/home/nic/.local/lib/python3.7/site-packages/ipykernel_launcher.py:37: RuntimeWarning: invalid value encountered in true_divide\n",
      "/home/nic/.local/lib/python3.7/site-packages/ipykernel_launcher.py:36: RuntimeWarning: invalid value encountered in true_divide\n",
      "/home/nic/.local/lib/python3.7/site-packages/ipykernel_launcher.py:37: RuntimeWarning: invalid value encountered in true_divide\n",
      "/home/nic/.local/lib/python3.7/site-packages/ipykernel_launcher.py:36: RuntimeWarning: divide by zero encountered in true_divide\n",
      "/home/nic/.local/lib/python3.7/site-packages/ipykernel_launcher.py:36: RuntimeWarning: invalid value encountered in true_divide\n",
      "/home/nic/.local/lib/python3.7/site-packages/ipykernel_launcher.py:37: RuntimeWarning: divide by zero encountered in true_divide\n",
      "/home/nic/.local/lib/python3.7/site-packages/ipykernel_launcher.py:37: RuntimeWarning: invalid value encountered in true_divide\n",
      "/home/nic/.local/lib/python3.7/site-packages/ipykernel_launcher.py:36: RuntimeWarning: invalid value encountered in true_divide\n",
      "/home/nic/.local/lib/python3.7/site-packages/ipykernel_launcher.py:37: RuntimeWarning: divide by zero encountered in true_divide\n",
      "/home/nic/.local/lib/python3.7/site-packages/ipykernel_launcher.py:37: RuntimeWarning: invalid value encountered in true_divide\n",
      "/home/nic/.local/lib/python3.7/site-packages/ipykernel_launcher.py:36: RuntimeWarning: invalid value encountered in true_divide\n",
      "/home/nic/.local/lib/python3.7/site-packages/ipykernel_launcher.py:37: RuntimeWarning: divide by zero encountered in true_divide\n",
      "/home/nic/.local/lib/python3.7/site-packages/ipykernel_launcher.py:37: RuntimeWarning: invalid value encountered in true_divide\n",
      "/home/nic/.local/lib/python3.7/site-packages/ipykernel_launcher.py:36: RuntimeWarning: invalid value encountered in true_divide\n",
      "/home/nic/.local/lib/python3.7/site-packages/ipykernel_launcher.py:37: RuntimeWarning: divide by zero encountered in true_divide\n",
      "/home/nic/.local/lib/python3.7/site-packages/ipykernel_launcher.py:37: RuntimeWarning: invalid value encountered in true_divide\n",
      "/home/nic/.local/lib/python3.7/site-packages/ipykernel_launcher.py:36: RuntimeWarning: invalid value encountered in true_divide\n",
      "/home/nic/.local/lib/python3.7/site-packages/ipykernel_launcher.py:37: RuntimeWarning: divide by zero encountered in true_divide\n",
      "/home/nic/.local/lib/python3.7/site-packages/ipykernel_launcher.py:37: RuntimeWarning: invalid value encountered in true_divide\n",
      "/home/nic/.local/lib/python3.7/site-packages/ipykernel_launcher.py:36: RuntimeWarning: invalid value encountered in true_divide\n",
      "/home/nic/.local/lib/python3.7/site-packages/ipykernel_launcher.py:37: RuntimeWarning: invalid value encountered in true_divide\n",
      "/home/nic/.local/lib/python3.7/site-packages/ipykernel_launcher.py:36: RuntimeWarning: invalid value encountered in true_divide\n",
      "/home/nic/.local/lib/python3.7/site-packages/ipykernel_launcher.py:37: RuntimeWarning: invalid value encountered in true_divide\n",
      "/home/nic/.local/lib/python3.7/site-packages/ipykernel_launcher.py:36: RuntimeWarning: invalid value encountered in true_divide\n",
      "/home/nic/.local/lib/python3.7/site-packages/ipykernel_launcher.py:37: RuntimeWarning: invalid value encountered in true_divide\n",
      "/home/nic/.local/lib/python3.7/site-packages/ipykernel_launcher.py:36: RuntimeWarning: divide by zero encountered in true_divide\n",
      "/home/nic/.local/lib/python3.7/site-packages/ipykernel_launcher.py:36: RuntimeWarning: invalid value encountered in true_divide\n",
      "/home/nic/.local/lib/python3.7/site-packages/ipykernel_launcher.py:37: RuntimeWarning: divide by zero encountered in true_divide\n",
      "/home/nic/.local/lib/python3.7/site-packages/ipykernel_launcher.py:37: RuntimeWarning: invalid value encountered in true_divide\n",
      "/home/nic/.local/lib/python3.7/site-packages/ipykernel_launcher.py:36: RuntimeWarning: invalid value encountered in true_divide\n",
      "/home/nic/.local/lib/python3.7/site-packages/ipykernel_launcher.py:37: RuntimeWarning: divide by zero encountered in true_divide\n",
      "/home/nic/.local/lib/python3.7/site-packages/ipykernel_launcher.py:37: RuntimeWarning: invalid value encountered in true_divide\n",
      "/home/nic/.local/lib/python3.7/site-packages/ipykernel_launcher.py:36: RuntimeWarning: invalid value encountered in true_divide\n",
      "/home/nic/.local/lib/python3.7/site-packages/ipykernel_launcher.py:37: RuntimeWarning: divide by zero encountered in true_divide\n",
      "/home/nic/.local/lib/python3.7/site-packages/ipykernel_launcher.py:37: RuntimeWarning: invalid value encountered in true_divide\n",
      "/home/nic/.local/lib/python3.7/site-packages/ipykernel_launcher.py:36: RuntimeWarning: invalid value encountered in true_divide\n",
      "/home/nic/.local/lib/python3.7/site-packages/ipykernel_launcher.py:37: RuntimeWarning: divide by zero encountered in true_divide\n",
      "/home/nic/.local/lib/python3.7/site-packages/ipykernel_launcher.py:37: RuntimeWarning: invalid value encountered in true_divide\n",
      "/home/nic/.local/lib/python3.7/site-packages/ipykernel_launcher.py:36: RuntimeWarning: invalid value encountered in true_divide\n",
      "/home/nic/.local/lib/python3.7/site-packages/ipykernel_launcher.py:37: RuntimeWarning: divide by zero encountered in true_divide\n",
      "/home/nic/.local/lib/python3.7/site-packages/ipykernel_launcher.py:37: RuntimeWarning: invalid value encountered in true_divide\n",
      "/home/nic/.local/lib/python3.7/site-packages/ipykernel_launcher.py:36: RuntimeWarning: invalid value encountered in true_divide\n",
      "/home/nic/.local/lib/python3.7/site-packages/ipykernel_launcher.py:37: RuntimeWarning: divide by zero encountered in true_divide\n",
      "/home/nic/.local/lib/python3.7/site-packages/ipykernel_launcher.py:37: RuntimeWarning: invalid value encountered in true_divide\n",
      "/home/nic/.local/lib/python3.7/site-packages/ipykernel_launcher.py:36: RuntimeWarning: invalid value encountered in true_divide\n",
      "/home/nic/.local/lib/python3.7/site-packages/ipykernel_launcher.py:37: RuntimeWarning: divide by zero encountered in true_divide\n",
      "/home/nic/.local/lib/python3.7/site-packages/ipykernel_launcher.py:37: RuntimeWarning: invalid value encountered in true_divide\n",
      "/home/nic/.local/lib/python3.7/site-packages/ipykernel_launcher.py:36: RuntimeWarning: invalid value encountered in true_divide\n",
      "/home/nic/.local/lib/python3.7/site-packages/ipykernel_launcher.py:37: RuntimeWarning: divide by zero encountered in true_divide\n",
      "/home/nic/.local/lib/python3.7/site-packages/ipykernel_launcher.py:37: RuntimeWarning: invalid value encountered in true_divide\n",
      "/home/nic/.local/lib/python3.7/site-packages/ipykernel_launcher.py:36: RuntimeWarning: divide by zero encountered in true_divide\n",
      "/home/nic/.local/lib/python3.7/site-packages/ipykernel_launcher.py:36: RuntimeWarning: invalid value encountered in true_divide\n",
      "/home/nic/.local/lib/python3.7/site-packages/ipykernel_launcher.py:37: RuntimeWarning: divide by zero encountered in true_divide\n",
      "/home/nic/.local/lib/python3.7/site-packages/ipykernel_launcher.py:37: RuntimeWarning: invalid value encountered in true_divide\n",
      "/home/nic/.local/lib/python3.7/site-packages/ipykernel_launcher.py:36: RuntimeWarning: divide by zero encountered in true_divide\n",
      "/home/nic/.local/lib/python3.7/site-packages/ipykernel_launcher.py:36: RuntimeWarning: invalid value encountered in true_divide\n",
      "/home/nic/.local/lib/python3.7/site-packages/ipykernel_launcher.py:37: RuntimeWarning: divide by zero encountered in true_divide\n",
      "/home/nic/.local/lib/python3.7/site-packages/ipykernel_launcher.py:37: RuntimeWarning: invalid value encountered in true_divide\n",
      "/home/nic/.local/lib/python3.7/site-packages/ipykernel_launcher.py:36: RuntimeWarning: invalid value encountered in true_divide\n",
      "/home/nic/.local/lib/python3.7/site-packages/ipykernel_launcher.py:37: RuntimeWarning: divide by zero encountered in true_divide\n",
      "/home/nic/.local/lib/python3.7/site-packages/ipykernel_launcher.py:37: RuntimeWarning: invalid value encountered in true_divide\n",
      "/home/nic/.local/lib/python3.7/site-packages/ipykernel_launcher.py:36: RuntimeWarning: invalid value encountered in true_divide\n",
      "/home/nic/.local/lib/python3.7/site-packages/ipykernel_launcher.py:37: RuntimeWarning: invalid value encountered in true_divide\n",
      "/home/nic/.local/lib/python3.7/site-packages/ipykernel_launcher.py:36: RuntimeWarning: invalid value encountered in true_divide\n",
      "/home/nic/.local/lib/python3.7/site-packages/ipykernel_launcher.py:37: RuntimeWarning: invalid value encountered in true_divide\n",
      "/home/nic/.local/lib/python3.7/site-packages/ipykernel_launcher.py:36: RuntimeWarning: invalid value encountered in true_divide\n",
      "/home/nic/.local/lib/python3.7/site-packages/ipykernel_launcher.py:37: RuntimeWarning: invalid value encountered in true_divide\n",
      "/home/nic/.local/lib/python3.7/site-packages/ipykernel_launcher.py:36: RuntimeWarning: invalid value encountered in true_divide\n",
      "/home/nic/.local/lib/python3.7/site-packages/ipykernel_launcher.py:37: RuntimeWarning: invalid value encountered in true_divide\n",
      "/home/nic/.local/lib/python3.7/site-packages/ipykernel_launcher.py:36: RuntimeWarning: divide by zero encountered in true_divide\n",
      "/home/nic/.local/lib/python3.7/site-packages/ipykernel_launcher.py:36: RuntimeWarning: invalid value encountered in true_divide\n",
      "/home/nic/.local/lib/python3.7/site-packages/ipykernel_launcher.py:37: RuntimeWarning: invalid value encountered in true_divide\n"
     ]
    }
   ],
   "source": [
    "plane_num = 2\n",
    "bins = 101\n",
    "\n",
    "bin_centers = product(*caloLike_test.parameters_bin_centers[plane_num])\n",
    "for bin_center in bin_centers:\n",
    "\n",
    "    fig, ax = plt.subplots(ncols=1,\n",
    "                                   nrows=2,\n",
    "                                   figsize=(6.5, 5),\n",
    "                                   sharex='col',\n",
    "                                   gridspec_kw={'height_ratios': [3, 1]})\n",
    "\n",
    "    plt.sca(ax[0])\n",
    "\n",
    "    bin_contents_mc = caloLike_test.plotLookUpDedxMC(plane_num=2,\n",
    "                            pdg_code=13, \n",
    "                            parameters_value=bin_center, \n",
    "                            label='simulation')\n",
    "\n",
    "    bin_contents_mc_cali = caloLike_test2.plotLookUpDedxMCfancy(plane_num=2,\n",
    "                            pdg_code=13, \n",
    "                            parameters_value=bin_center,\n",
    "                            title_left='Cosmic ray candidates\\n', \n",
    "                            label='simulation corrected')\n",
    "\n",
    "    bin_contents_data = caloLike_test.plotLookUpDedxData(plane_num=2,\n",
    "                            data_selection='default', \n",
    "                            parameters_value=bin_center)\n",
    "\n",
    "    dedx_bins_centers = caloLike_test.dedx_bins_centers[plane_num]\n",
    "    dedx_bins_edges = caloLike_test.dedx_bin_edges[plane_num]\n",
    "    plt.legend()\n",
    "    plt.xlabel('')\n",
    "    plt.xlim(0, 4)\n",
    "    plt.sca(ax[1])\n",
    "    plt.plot(dedx_bins_centers, bin_contents_data/bin_contents_mc, '.', label='mc')\n",
    "    plt.plot(dedx_bins_centers, bin_contents_data/bin_contents_mc_cali, '.', label='mc corrected')\n",
    "    plt.plot([dedx_bins_edges[0], dedx_bins_edges[-1]], [1, 1], '--k', alpha=0.3)\n",
    "    plt.ylim(0.5, 2)\n",
    "    plt.xlabel('dE/dx [MeV/cm]')\n",
    "    plt.ylabel('Data/Simulation')\n",
    "    plt.tight_layout()\n",
    "    plt.savefig(save_folder_datamc_cali +'plane_{}_theta_y_{:.2f}_theta_xz_{:.2f}.pdf'.format(plane_num, bin_center[0], bin_center[1]))\n",
    "    plt.close()"
   ]
  },
  {
   "cell_type": "markdown",
   "metadata": {},
   "source": [
    "# Studies for pitch dependence for small pitch"
   ]
  },
  {
   "cell_type": "code",
   "execution_count": 33,
   "metadata": {},
   "outputs": [],
   "source": [
    "dedx_binning = [0, 4]\n",
    "dedx_n_bins = 150\n",
    "pitch_binning = [0.3, 0.4, 0.5, 0.6, 0.7, 0.8]\n",
    "\n",
    "sel_mc = muon_train & mc_train_planes[2] & (array_mc_train['dedx_y']>0) & (array_mc_train['dedx_y']<4)\n",
    "sel_data = data_train_mask & data_train_planes[2] & (array_data_train['dedx_y']>0) & (array_data_train['dedx_y']<4)\n",
    "\n",
    "for array, sel, name in zip([array_mc_train, array_data_train], [sel_mc, sel_data], ['simulation', 'data']):\n",
    "    for pitch_bin in zip(pitch_binning[:-1], pitch_binning[1:]):\n",
    "        pitch_mask = (array['pitch_y'] > pitch_bin[0]) & (array['pitch_y'] <= pitch_bin[1])\n",
    "        \n",
    "        dedx = array['dedx_y'][pitch_mask & sel].flatten()\n",
    "        \n",
    "        sns.distplot(dedx, hist=False, kde=True,\n",
    "                 kde_kws={'linewidth': 1},\n",
    "                 label='{:.2g} < pitch < {:.2g}'.format(pitch_bin[0], pitch_bin[1]), norm_hist=True,\n",
    "                 hist_kws={\"range\": [0, 4]})\n",
    "        \n",
    "#         plt.hist(dedx, bins=dedx_n_bins, range=dedx_binning, density=True,\n",
    "#                  label='{:.2g} < pitch < {:.2g}'.format(pitch_bin[0], pitch_bin[1]), histtype='step')\n",
    "    \n",
    "    plt.title('ACPT candidates in {}\\n'.format(name)+\n",
    "              'collection plane hits\\n', loc='left')\n",
    "    plt.title('MicroBooNE In Progress', loc='right')\n",
    "#     plt.xlim(0, 4)  \n",
    "    plt.xlabel('dE/dx [MeV/cm]')\n",
    "    plt.ylabel('Probability density [1/(MeV/cm)]')\n",
    "    plt.legend()\n",
    "    plt.tight_layout()\n",
    "    plt.savefig(save_folder+'dedx_different_pitch_{}.png'.format(name), dpi=250)\n",
    "    plt.close()"
   ]
  },
  {
   "cell_type": "markdown",
   "metadata": {},
   "source": [
    "# Studies for pitch-pitch_dir and x, y, z"
   ]
  },
  {
   "cell_type": "code",
   "execution_count": 19,
   "metadata": {},
   "outputs": [],
   "source": [
    "array = array_mc_train\n",
    "muon_mask = muon_train\n",
    "mask = array['rr_y'][muon_mask].min() == array['rr_y'][muon_mask]"
   ]
  },
  {
   "cell_type": "code",
   "execution_count": 20,
   "metadata": {},
   "outputs": [],
   "source": [
    "plt.hist2d(array['x_y'][muon_mask][mask].flatten(), array['y_y'][muon_mask][mask].flatten(), range=[[-10, 280], [-120, -50]], bins=[100, 100]);\n",
    "plt.xlabel('x position [cm]')\n",
    "plt.ylabel('y position [cm]')\n",
    "plt.title('simulated ACPT candidates\\nlast point of each track\\nPandoraTrackCaliSCE - anab::calorimetry\\nMicroBooNE Preliminary', loc='left')\n",
    "plt.tight_layout()\n",
    "plt.savefig(save_folder+'pandora_track_xy_acpt_mc_last_point.png', dpi=250)\n",
    "plt.close()\n",
    "\n",
    "plt.hist2d(array['trk_end_x'][muon_mask], array['trk_end_y'][muon_mask], range=[[-10, 280], [-120, -50]], bins=[100, 100]);\n",
    "plt.xlabel('x position [cm]')\n",
    "plt.ylabel('y position [cm]')\n",
    "plt.title('simulated ACPT candidates\\ntrack end point\\nPandoraTrack - recob::track\\nMicroBooNE Preliminary', loc='left')\n",
    "plt.tight_layout()\n",
    "plt.savefig(save_folder+'pandora_track_xy_acpt_mc_trk_end_point.png', dpi=250)\n",
    "plt.close()\n",
    "\n",
    "plt.hist2d(array['trk_sce_end_x'][muon_mask], array['trk_sce_end_y'][muon_mask], range=[[-10, 280], [-120, -50]], bins=[100, 100]);\n",
    "plt.xlabel('x position [cm]')\n",
    "plt.ylabel('y position [cm]')\n",
    "plt.title('simulated ACPT candidates\\ntrack end point SCE corrected\\nPandoraTrack - recob::track\\nMicroBooNE Preliminary', loc='left')\n",
    "plt.tight_layout()\n",
    "plt.savefig(save_folder+'pandora_track_xy_acpt_mc_trk_end_point_sce.png', dpi=250)\n",
    "plt.close()"
   ]
  },
  {
   "cell_type": "code",
   "execution_count": 21,
   "metadata": {},
   "outputs": [
    {
     "ename": "NameError",
     "evalue": "name 'array_data_train' is not defined",
     "output_type": "error",
     "traceback": [
      "\u001b[0;31m---------------------------------------------------------------------------\u001b[0m",
      "\u001b[0;31mNameError\u001b[0m                                 Traceback (most recent call last)",
      "\u001b[0;32m<ipython-input-21-c57132a93121>\u001b[0m in \u001b[0;36m<module>\u001b[0;34m\u001b[0m\n\u001b[0;32m----> 1\u001b[0;31m \u001b[0marray\u001b[0m \u001b[0;34m=\u001b[0m \u001b[0marray_data_train\u001b[0m\u001b[0;34m\u001b[0m\u001b[0;34m\u001b[0m\u001b[0m\n\u001b[0m\u001b[1;32m      2\u001b[0m \u001b[0mmuon_mask\u001b[0m \u001b[0;34m=\u001b[0m \u001b[0mdata_train_mask\u001b[0m\u001b[0;34m\u001b[0m\u001b[0;34m\u001b[0m\u001b[0m\n\u001b[1;32m      3\u001b[0m \u001b[0mmask\u001b[0m \u001b[0;34m=\u001b[0m \u001b[0marray\u001b[0m\u001b[0;34m[\u001b[0m\u001b[0;34m'rr_y'\u001b[0m\u001b[0;34m]\u001b[0m\u001b[0;34m[\u001b[0m\u001b[0mmuon_mask\u001b[0m\u001b[0;34m]\u001b[0m\u001b[0;34m.\u001b[0m\u001b[0mmin\u001b[0m\u001b[0;34m(\u001b[0m\u001b[0;34m)\u001b[0m \u001b[0;34m==\u001b[0m \u001b[0marray\u001b[0m\u001b[0;34m[\u001b[0m\u001b[0;34m'rr_y'\u001b[0m\u001b[0;34m]\u001b[0m\u001b[0;34m[\u001b[0m\u001b[0mmuon_mask\u001b[0m\u001b[0;34m]\u001b[0m\u001b[0;34m\u001b[0m\u001b[0;34m\u001b[0m\u001b[0m\n",
      "\u001b[0;31mNameError\u001b[0m: name 'array_data_train' is not defined"
     ]
    }
   ],
   "source": [
    "array = array_data_train\n",
    "muon_mask = data_train_mask\n",
    "mask = array['rr_y'][muon_mask].min() == array['rr_y'][muon_mask]"
   ]
  },
  {
   "cell_type": "code",
   "execution_count": 216,
   "metadata": {},
   "outputs": [],
   "source": [
    "plt.hist2d(array['x_y'][muon_mask][mask].flatten(), array['y_y'][muon_mask][mask].flatten(), range=[[-10, 280], [-120, -50]], bins=[100, 100]);\n",
    "plt.xlabel('x position [cm]')\n",
    "plt.ylabel('y position [cm]')\n",
    "plt.title('Beam OFF data ACPT candidates\\nlast point of each track\\nPandoraTrackCaliSCE - anab::calorimetry\\nMicroBooNE Preliminary', loc='left')\n",
    "plt.tight_layout()\n",
    "plt.savefig(save_folder+'pandora_track_xy_acpt_data_last_point.png', dpi=250)\n",
    "plt.close()\n",
    "\n",
    "plt.hist2d(array['trk_end_x'][muon_mask], array['trk_end_y'][muon_mask], range=[[-10, 280], [-120, -50]], bins=[100, 100]);\n",
    "plt.xlabel('x position [cm]')\n",
    "plt.ylabel('y position [cm]')\n",
    "plt.title('Beam OFF data ACPT candidates\\ntrack end point\\nPandoraTrack - recob::track\\nMicroBooNE Preliminary', loc='left')\n",
    "plt.tight_layout()\n",
    "plt.savefig(save_folder+'pandora_track_xy_acpt_data_trk_end_point.png', dpi=250)\n",
    "plt.close()\n",
    "\n",
    "plt.hist2d(array['trk_sce_end_x'][muon_mask], array['trk_sce_end_y'][muon_mask], range=[[-10, 280], [-120, -50]], bins=[100, 100]);\n",
    "plt.xlabel('x position [cm]')\n",
    "plt.ylabel('y position [cm]')\n",
    "plt.title('Beam OFF data ACPT candidates\\ntrack end point SCE corrected\\nPandoraTrack - recob::track\\nMicroBooNE Preliminary', loc='left')\n",
    "plt.tight_layout()\n",
    "plt.savefig(save_folder+'pandora_track_xy_acpt_data_trk_end_point_sce.png', dpi=250)\n",
    "plt.close()"
   ]
  },
  {
   "cell_type": "code",
   "execution_count": 24,
   "metadata": {},
   "outputs": [],
   "source": [
    "array = array_mc_train\n",
    "muon_mask = muon_train\n",
    "plt.hist(array['pitch_y'][muon_train].flatten() - np.abs(array['dir_pitch_y'][muon_train]).flatten(), bins=51, range=[-0.1, 0.1]);\n",
    "plt.ylabel('Number of entries')\n",
    "plt.xlabel('pitch from calo object - pitch recomputed from direction [cm]')\n",
    "plt.title('Simulated ACPT candidates\\npitch difference - Y plane\\nPandoraTrack - recob::track\\nPandoraTrackCaliSCE - anab::calorimetry\\nMicroBooNE Preliminary', loc='left')\n",
    "plt.tight_layout()\n",
    "plt.savefig(save_folder+'pandora_track_acpt_mc_pitch_difference.png', dpi=250)\n",
    "plt.close()"
   ]
  },
  {
   "cell_type": "markdown",
   "metadata": {},
   "source": [
    "## for the pandora (not pandora track)"
   ]
  },
  {
   "cell_type": "code",
   "execution_count": 194,
   "metadata": {},
   "outputs": [],
   "source": [
    "array = array_mc_train\n",
    "muon_mask = muon_train\n",
    "mask = array['rr_y'][muon_mask].min() == array['rr_y'][muon_mask]"
   ]
  },
  {
   "cell_type": "code",
   "execution_count": 195,
   "metadata": {},
   "outputs": [],
   "source": [
    "plt.hist2d(array['x_y'][muon_mask][mask].flatten(), array['y_y'][muon_mask][mask].flatten(), range=[[-10, 280], [-120, -50]], bins=[100, 100]);\n",
    "plt.xlabel('x position [cm]')\n",
    "plt.ylabel('y position [cm]')\n",
    "plt.title('simulated ACPT candidates\\nlast point of each track\\nPandoraCaliSCE - anab::calorimetry\\nMicroBooNE Preliminary', loc='left')\n",
    "plt.tight_layout()\n",
    "plt.savefig(save_folder+'pandora_xy_acpt_mc_last_point.png', dpi=250)\n",
    "plt.close()\n",
    "\n",
    "plt.hist2d(array['trk_end_x'][muon_mask], array['trk_end_y'][muon_mask], range=[[-10, 280], [-120, -50]], bins=[100, 100]);\n",
    "plt.xlabel('x position [cm]')\n",
    "plt.ylabel('y position [cm]')\n",
    "plt.title('simulated ACPT candidates\\ntrack end point\\nPandora - recob::track\\nMicroBooNE Preliminary', loc='left')\n",
    "plt.tight_layout()\n",
    "plt.savefig(save_folder+'pandora_xy_acpt_mc_trk_end_point.png', dpi=250)\n",
    "plt.close()\n",
    "\n",
    "plt.hist2d(array['trk_sce_end_x'][muon_mask], array['trk_sce_end_y'][muon_mask], range=[[-10, 280], [-120, -50]], bins=[100, 100]);\n",
    "plt.xlabel('x position [cm]')\n",
    "plt.ylabel('y position [cm]')\n",
    "plt.title('simulated ACPT candidates\\ntrack end point SCE corrected\\nPandora - recob::track\\nMicroBooNE Preliminary', loc='left')\n",
    "plt.tight_layout()\n",
    "plt.savefig(save_folder+'pandora_xy_acpt_mc_trk_end_point_sce.png', dpi=250)\n",
    "plt.close()"
   ]
  },
  {
   "cell_type": "code",
   "execution_count": 196,
   "metadata": {},
   "outputs": [],
   "source": [
    "array = array_mc_train\n",
    "muon_mask = muon_train\n",
    "plt.hist(array['pitch_y'][muon_train].flatten() - np.abs(array['dir_pitch_y'][muon_train]).flatten(), bins=51, range=[-0.1, 0.1]);\n",
    "plt.ylabel('Number of entries')\n",
    "plt.xlabel('pitch from calo object - pitch recomputed from direction [cm]')\n",
    "plt.title('Simulated ACPT candidates\\npitch difference - Y plane\\nPandora - recob::track\\nPandoraCaliSCE - anab::calorimetry\\nMicroBooNE Preliminary', loc='left')\n",
    "plt.tight_layout()\n",
    "plt.savefig(save_folder+'pandora_acpt_mc_pitch_difference.png', dpi=250)\n",
    "plt.close()"
   ]
  },
  {
   "cell_type": "markdown",
   "metadata": {},
   "source": [
    "# OLD"
   ]
  },
  {
   "cell_type": "markdown",
   "metadata": {},
   "source": [
    "## Compute likelihood and plot"
   ]
  },
  {
   "cell_type": "code",
   "execution_count": 82,
   "metadata": {},
   "outputs": [],
   "source": [
    "caloLike_calibration.buildLookUpTableMC(i, 13, cali=True)"
   ]
  },
  {
   "cell_type": "code",
   "execution_count": 83,
   "metadata": {},
   "outputs": [],
   "source": [
    "plane_num = 2\n",
    "array = caloLike_test.array\n",
    "array['like_13_{}'.format(i)] = caloLike_calibration.likelihoodWholeDataset(array, \n",
    "                                  plane_num=plane_num, \n",
    "                                  pdg_code=13,\n",
    "                                  cali=False                                          \n",
    "                                  )\n",
    "array['like_13_sum_{}'.format(plane_num)] = array['like_13_{}'.format(plane_num)].sum()\n",
    "array['like_13_sum_atan_{}'.format(plane_num)] = 2/np.pi*np.arctan(array['like_13_sum_{}'.format(plane_num)])\n",
    "\n",
    "array['like_13_{}_cali'.format(plane_num)] = caloLike_calibration.likelihoodWholeDataset(array, \n",
    "                                  plane_num=plane_num, \n",
    "                                  pdg_code=13,\n",
    "                                  cali=True                                     \n",
    "                                  )\n",
    "array['like_13_sum_{}_cali'.format(plane_num)] = array['like_13_{}_cali'.format(plane_num)].sum()\n",
    "array['like_13_sum_atan_{}_cali'.format(plane_num)] = 2/np.pi*np.arctan(array['like_13_sum_{}_cali'.format(plane_num)])\n",
    "\n",
    "array = caloLike_test.array_data\n",
    "array['like_13_{}'.format(i)] = caloLike_calibration.likelihoodWholeDataset(array, \n",
    "                                  plane_num=plane_num, \n",
    "                                  pdg_code=13,\n",
    "                                  cali=False                                          \n",
    "                                  )\n",
    "array['like_13_sum_{}'.format(plane_num)] = array['like_13_{}'.format(plane_num)].sum()\n",
    "array['like_13_sum_atan_{}'.format(plane_num)] = 2/np.pi*np.arctan(array['like_13_sum_{}'.format(plane_num)])"
   ]
  },
  {
   "cell_type": "code",
   "execution_count": 84,
   "metadata": {},
   "outputs": [
    {
     "data": {
      "text/plain": [
       "[array([0.        , 0.26179939, 0.52359878, 0.78539816, 1.04719755,\n",
       "        1.30899694, 1.57079633]),\n",
       " array([0.        , 0.19634954, 0.39269908, 0.58904862, 0.78539816,\n",
       "        0.9817477 , 1.17809725, 1.37444679, 1.57079633])]"
      ]
     },
     "execution_count": 84,
     "metadata": {},
     "output_type": "execute_result"
    }
   ],
   "source": [
    "parameters_bin_edges"
   ]
  },
  {
   "cell_type": "code",
   "execution_count": 94,
   "metadata": {},
   "outputs": [
    {
     "name": "stderr",
     "output_type": "stream",
     "text": [
      "/home/nic/.local/lib/python3.7/site-packages/ipykernel_launcher.py:43: RuntimeWarning: invalid value encountered in true_divide\n",
      "/home/nic/.local/lib/python3.7/site-packages/ipykernel_launcher.py:44: RuntimeWarning: invalid value encountered in true_divide\n"
     ]
    },
    {
     "data": {
      "text/plain": [
       "Text(0, 0.5, 'Data/MC')"
      ]
     },
     "execution_count": 94,
     "metadata": {},
     "output_type": "execute_result"
    },
    {
     "data": {
      "image/png": "[encoded data removed]",
      "text/plain": [
       "<Figure size 576x360 with 2 Axes>"
      ]
     },
     "metadata": {
      "needs_background": "light"
     },
     "output_type": "display_data"
    }
   ],
   "source": [
    "plane_num = 2\n",
    "bins = 101\n",
    "range = [-10, 2]\n",
    "var_name = 'like_13_{}'.format(plane_num)\n",
    "\n",
    "def mask_theta_phi(array):\n",
    "    return (array['abs_theta_y_y'] > 1.04719755) &\\\n",
    "           (array['abs_theta_y_y'] < 1.30899694) &\\\n",
    "           (array['abs_theta_xz_y'] > 1.37444679) &\\\n",
    "           (array['abs_theta_xz_y'] < 1.57079633)\n",
    "function_mask = mask_theta_phi\n",
    "\n",
    "fig, ax = plt.subplots(ncols=1,\n",
    "                               nrows=2,\n",
    "                               figsize=(8, 5),\n",
    "                               sharex='col',\n",
    "                               gridspec_kw={'height_ratios': [3, 1]})\n",
    "\n",
    "plt.sca(ax[0])\n",
    "bin_contents_mc = caloLike_test.plotVariableMC(var_name, \n",
    "                                      bins, \n",
    "                                      range, \n",
    "                                      function_mask, \n",
    "                                      quality_mask=True, \n",
    "                                      label='mc', \n",
    "                                      histtype='step',\n",
    "                                      log=True)\n",
    "bin_contents_mc_cali = caloLike_test.plotVariableMC(var_name+'_cali', \n",
    "                                      bins, \n",
    "                                      range, \n",
    "                                      function_mask, \n",
    "                                      quality_mask=True, \n",
    "                                      label='mc calibrated', \n",
    "                                      histtype='step')\n",
    "bin_centers, bin_edges, bin_contents_data = caloLike_test.plotVariableData(var_name, \n",
    "                                          bins, \n",
    "                                          range, \n",
    "                                          function_mask, \n",
    "                                          data_selection='default', \n",
    "                                          label='data')\n",
    "plt.legend()\n",
    "plt.sca(ax[1])\n",
    "plt.plot(bin_centers, bin_contents_data/bin_contents_mc, '.', label='mc')\n",
    "plt.plot(bin_centers, bin_contents_data/bin_contents_mc_cali, '.', label='mc calibrated')\n",
    "plt.plot([range[0], range[-1]], [1, 1], '--k', alpha=0.3)\n",
    "plt.ylim(0.5, 1.5)\n",
    "plt.xlabel('Log likelihood plane 2')\n",
    "plt.ylabel('Data/MC')"
   ]
  },
  {
   "cell_type": "markdown",
   "metadata": {},
   "source": [
    "## Little study horizontal and vertical tracks"
   ]
  },
  {
   "cell_type": "code",
   "execution_count": null,
   "metadata": {},
   "outputs": [],
   "source": [
    "vertical = array_mc_train['dedx_y'][muon_train & \n",
    "                                    (abs(array_mc_train['trk_dir_y'])> 0.9) & \n",
    "                                    (abs(array_mc_train['trk_dir_x']) < 0.05)].flatten()\n",
    "horizontal = array_mc_train['dedx_y'][muon_train & \n",
    "                                      (abs(array_mc_train['trk_dir_x'])> 0.9)].flatten()"
   ]
  },
  {
   "cell_type": "code",
   "execution_count": null,
   "metadata": {},
   "outputs": [],
   "source": [
    "binning = [100, 0, 5]\n",
    "plt.hist(vertical, \n",
    "         range=(binning[1], binning[2]), \n",
    "         bins=binning[0], \n",
    "         histtype='step',\n",
    "         label='|direction y| > 0.9 & |direction x| < 0.05',\n",
    "        density=True);\n",
    "plt.hist(horizontal, \n",
    "         range=(binning[1], binning[2]), \n",
    "         bins=binning[0], \n",
    "         histtype='step',\n",
    "         label='|direction x| > 0.9',\n",
    "        density=True);\n",
    "plt.legend()\n",
    "plt.xlabel('dE/dx [MeV/cm]')\n",
    "plt.ylabel('Density [(MeV/cm)$^{-1}$]')\n",
    "plt.title('ACPT simulated\\ndE/dx Y-plane', loc='left')\n",
    "plt.title('MicroBooNE Preliminary', loc='right')\n",
    "plt.savefig(save_folder+'dedx_vs_directions.png', dpi=250)"
   ]
  },
  {
   "cell_type": "code",
   "execution_count": null,
   "metadata": {},
   "outputs": [],
   "source": [
    "vertical_all_x = array_mc_train['dedx_y'][muon_train & \n",
    "                                    (abs(array_mc_train['trk_dir_y'])> 0.9)]\n",
    "x_values = array_mc_train['trk_dir_x'][muon_train & \n",
    "                                    (abs(array_mc_train['trk_dir_y'])> 0.9)]\n",
    "\n",
    "x_values_expanded = x_values * (vertical_all_x == vertical_all_x)"
   ]
  },
  {
   "cell_type": "code",
   "execution_count": null,
   "metadata": {},
   "outputs": [],
   "source": [
    "plt.hist2d(x_values_expanded.flatten(), \n",
    "           vertical_all_x.flatten(),\n",
    "           range=((-0.45, 0.45), (0, 4)),\n",
    "           bins=(50, 50), \n",
    "           norm=LogNorm())\n",
    "plt.colorbar()\n",
    "\n",
    "plt.xlabel('Direction X')\n",
    "plt.ylabel('dE/dx [MeV/cm]')\n",
    "plt.title('ACPT simulated, |direction-Y| > 0.9\\ndE/dx Y-plane', loc='left')\n",
    "plt.title('MicroBooNE Preliminary', loc='right')\n",
    "plt.tight_layout()\n",
    "plt.savefig(save_folder+'dedx_vs_x_direction.png', dpi=250)"
   ]
  },
  {
   "cell_type": "markdown",
   "metadata": {},
   "source": [
    "## Little study for the cutoff at low dE/dx"
   ]
  },
  {
   "cell_type": "code",
   "execution_count": null,
   "metadata": {},
   "outputs": [],
   "source": [
    "binning = [100, 0, 1]\n",
    "plt.hist(array_mc_train['dedx_y'][muon_train].flatten(), \n",
    "         range=(binning[1], binning[2]), \n",
    "         bins=binning[0], \n",
    "         histtype='step',\n",
    "         label='mc',\n",
    "        density=True);\n",
    "plt.hist(array_data_train['dedx_y'][data_train_mask].flatten(), \n",
    "         range=(binning[1], binning[2]), \n",
    "         bins=binning[0], \n",
    "         histtype='step',\n",
    "         label='data',\n",
    "        density=True);\n",
    "plt.legend()\n",
    "plt.xlabel('dE/dx [MeV/cm]')\n",
    "plt.ylabel('Density [(MeV/cm)$^{-1}$]')\n",
    "plt.title('ACPT simulated\\ndE/dx Y-plane', loc='left')\n",
    "plt.title('MicroBooNE Preliminary', loc='right')\n",
    "plt.savefig(save_folder+'low_dedx_cutoff_yplane.png', dpi=250)"
   ]
  },
  {
   "cell_type": "code",
   "execution_count": null,
   "metadata": {},
   "outputs": [],
   "source": [
    "binning = [100, 0, 1]\n",
    "plt.hist(array_mc_train['dedx_u'][muon_train].flatten(), \n",
    "         range=(binning[1], binning[2]), \n",
    "         bins=binning[0], \n",
    "         histtype='step',\n",
    "         label='mc',\n",
    "        density=True);\n",
    "plt.hist(array_data_train['dedx_u'][data_train_mask].flatten(), \n",
    "         range=(binning[1], binning[2]), \n",
    "         bins=binning[0], \n",
    "         histtype='step',\n",
    "         label='data',\n",
    "        density=True);\n",
    "plt.legend()\n",
    "plt.xlabel('dE/dx [MeV/cm]')\n",
    "plt.ylabel('Density [(MeV/cm)$^{-1}$]')\n",
    "plt.title('ACPT simulated\\ndE/dx U-plane', loc='left')\n",
    "plt.title('MicroBooNE Preliminary', loc='right')\n",
    "plt.savefig(save_folder+'low_dedx_cutoff_uplane.png', dpi=250)"
   ]
  },
  {
   "cell_type": "code",
   "execution_count": null,
   "metadata": {},
   "outputs": [],
   "source": [
    "binning = [100, 0, 1]\n",
    "plt.hist(array_mc_train['dedx_v'][muon_train].flatten(), \n",
    "         range=(binning[1], binning[2]), \n",
    "         bins=binning[0], \n",
    "         histtype='step',\n",
    "         label='mc',\n",
    "        density=True);\n",
    "plt.hist(array_data_train['dedx_v'][data_train_mask].flatten(), \n",
    "         range=(binning[1], binning[2]), \n",
    "         bins=binning[0], \n",
    "         histtype='step',\n",
    "         label='data',\n",
    "        density=True);\n",
    "plt.legend()\n",
    "plt.xlabel('dE/dx [MeV/cm]')\n",
    "plt.ylabel('Density [(MeV/cm)$^{-1}$]')\n",
    "plt.title('ACPT simulated\\ndE/dx V-plane', loc='left')\n",
    "plt.title('MicroBooNE Preliminary', loc='right')\n",
    "plt.savefig(save_folder+'low_dedx_cutoff_vplane.png', dpi=250)"
   ]
  },
  {
   "cell_type": "markdown",
   "metadata": {},
   "source": [
    "# Study of the angles \\theta_xz and \\theta_yz"
   ]
  },
  {
   "cell_type": "code",
   "execution_count": 15,
   "metadata": {},
   "outputs": [
    {
     "data": {
      "text/plain": [
       "<matplotlib.colorbar.Colorbar at 0x7fb8132b3090>"
      ]
     },
     "execution_count": 15,
     "metadata": {},
     "output_type": "execute_result"
    },
    {
     "data": {
      "image/png": "[encoded data removed]",
      "text/plain": [
       "<Figure size 432x288 with 2 Axes>"
      ]
     },
     "metadata": {
      "needs_background": "light"
     },
     "output_type": "display_data"
    }
   ],
   "source": [
    "no_dir = (np.abs(caloLike_calibration.array['dir_z_y'])<0.1)\n",
    "\n",
    "x = caloLike_calibration.array['dir_x_y'][caloLike_calibration.quality_mask].flatten()\n",
    "y = caloLike_calibration.array['dir_y_y'][caloLike_calibration.quality_mask].flatten()\n",
    "\n",
    "plt.hist2d(x, y, range=[[-1, 1], [-1, 1]], bins=[101, 101], norm=LogNorm());\n",
    "plt.colorbar()"
   ]
  },
  {
   "cell_type": "code",
   "execution_count": 24,
   "metadata": {},
   "outputs": [
    {
     "data": {
      "text/plain": [
       "<JaggedArray [[0.0 -0.74133277 0.0 ... 0.0 0.0 0.0] [-0.5945011 -0.59927386 -0.5993049 ... -0.64937395 -0.6481412 -0.6484071] [-0.52000284 -0.52000284 -0.52000284 ... -0.52000284 -0.52000284 -0.52000284] ... [0.0 0.0 0.0 ... 0.0 0.0 0.0] [-0.25089422 -0.25014514 -0.24979733 ... -0.36122605 -0.3610174 -0.36095187] [-0.61235225 -0.6123863 -0.6122133 ... -0.6709001 -0.671342 -0.6719527]] at 0x7fb8132c8e50>"
      ]
     },
     "execution_count": 24,
     "metadata": {},
     "output_type": "execute_result"
    }
   ],
   "source": [
    "caloLike_calibration.array['dir_y_y']"
   ]
  },
  {
   "cell_type": "code",
   "execution_count": 36,
   "metadata": {},
   "outputs": [
    {
     "data": {
      "text/plain": [
       "<matplotlib.colorbar.Colorbar at 0x7fb7f7bb4810>"
      ]
     },
     "execution_count": 36,
     "metadata": {},
     "output_type": "execute_result"
    },
    {
     "data": {
      "image/png": "[encoded data removed]",
      "text/plain": [
       "<Figure size 432x288 with 2 Axes>"
      ]
     },
     "metadata": {
      "needs_background": "light"
     },
     "output_type": "display_data"
    }
   ],
   "source": [
    "no_dir = (np.abs(caloLike_calibration.array['dir_z_y'])<0.1)\n",
    "\n",
    "y = caloLike_calibration.array['dir_z_y'][caloLike_calibration.quality_mask].flatten()\n",
    "x = caloLike_calibration.array['theta_xz_y'][caloLike_calibration.quality_mask].flatten()\n",
    "\n",
    "plt.hist2d(x, y, range=[[-np.pi, np.pi], [-1, 1]], bins=[101, 101]);\n",
    "plt.ylabel(r'cos $\\theta$')\n",
    "plt.xlabel(r'$\\theta_{xz}$')\n",
    "plt.colorbar()"
   ]
  },
  {
   "cell_type": "code",
   "execution_count": null,
   "metadata": {},
   "outputs": [],
   "source": [
    "no_dir = (np.abs(caloLike_calibration.array['dir_z_y'])<0.1)\n",
    "\n",
    "dir_z_plus = (caloLike_calibration.array['dir_z_y']> 0.9)\n",
    "dir_z_minus = (caloLike_calibration.array['dir_z_y']< -0.9)\n",
    "dir_x_plus = (caloLike_calibration.array['dir_x_y']> 0.9)\n",
    "dir_x_minus = (caloLike_calibration.array['dir_x_y']< -0.9)\n",
    "dir_y_plus = (caloLike_calibration.array['dir_y_y']> 0.9)\n",
    "dir_y_minus = (caloLike_calibration.array['dir_y_y']< -0.9)\n",
    "\n",
    "selection = caloLike_calibration.quality_mask\n",
    "\n",
    "x = caloLike_calibration.array['theta_xz_y'][selection].flatten()\n",
    "y = caloLike_calibration.array['theta_yz_y'][selection].flatten()\n",
    "\n",
    "plt.hist2d(x, y, bins=[101, 101], range=[[-math.pi, math.pi], [-math.pi, math.pi]], norm=LogNorm());\n",
    "plt.xlabel('theta_xz')\n",
    "plt.ylabel('theta_yz')\n",
    "plt.colorbar()"
   ]
  },
  {
   "cell_type": "code",
   "execution_count": null,
   "metadata": {},
   "outputs": [],
   "source": [
    "x = caloLike_calibration.array['abs_theta_xz_y'][caloLike_calibration.quality_mask].flatten()\n",
    "y = caloLike_calibration.array['abs_theta_yz_y'][caloLike_calibration.quality_mask].flatten()\n",
    "\n",
    "plt.hist2d(x, y, bins=[100, 100], norm=LogNorm());\n",
    "plt.colorbar()"
   ]
  },
  {
   "cell_type": "code",
   "execution_count": null,
   "metadata": {},
   "outputs": [],
   "source": [
    "no_dir = (np.abs(caloLike_calibration.array['dir_z_y'])<0.1)\n",
    "\n",
    "dir_z_plus = (caloLike_calibration.array['dir_z_y']> 0.9)\n",
    "dir_z_minus = (caloLike_calibration.array['dir_z_y']< -0.9)\n",
    "dir_x_plus = (caloLike_calibration.array['dir_x_y']> 0.9)\n",
    "dir_x_minus = (caloLike_calibration.array['dir_x_y']< -0.9)\n",
    "dir_y_plus = (caloLike_calibration.array['dir_y_y']> 0.9)\n",
    "dir_y_minus = (caloLike_calibration.array['dir_y_y']< -0.9)\n",
    "\n",
    "selection = caloLike_calibration.quality_mask\n",
    "\n",
    "x = caloLike_calibration.array['theta_xz_y'][selection].flatten()\n",
    "y = caloLike_calibration.array['theta_y_y'][selection].flatten()\n",
    "\n",
    "plt.hist2d(x, y, bins=[101, 101], range=[[-math.pi, math.pi], [0, math.pi]], norm=LogNorm());\n",
    "plt.xlabel('theta_xz')\n",
    "plt.ylabel('theta_y')\n",
    "plt.colorbar()"
   ]
  },
  {
   "cell_type": "code",
   "execution_count": null,
   "metadata": {},
   "outputs": [],
   "source": [
    "no_dir = (np.abs(caloLike_calibration.array['dir_z_y'])<0.1)\n",
    "\n",
    "dir_z_plus = (caloLike_calibration.array['dir_z_y']> 0.8)\n",
    "dir_z_minus = (caloLike_calibration.array['dir_z_y']< -0.9)\n",
    "dir_x_plus = (caloLike_calibration.array['dir_x_y']> 0.9)\n",
    "dir_x_minus = (caloLike_calibration.array['dir_x_y']< -0.9)\n",
    "dir_y_plus = (caloLike_calibration.array['dir_y_y']> 0.9)\n",
    "dir_y_minus = (caloLike_calibration.array['dir_y_y']< -0.9)\n",
    "\n",
    "selection = caloLike_calibration.quality_mask\n",
    "\n",
    "x = caloLike_calibration.array['theta_xz_y'][selection].flatten()\n",
    "y = caloLike_calibration.array['theta_yx_y'][selection].flatten()\n",
    "\n",
    "plt.hist2d(x, y, bins=[101, 101], range=[[-math.pi, math.pi], [-math.pi, math.pi]], norm=LogNorm());\n",
    "plt.xlabel('theta_xz')\n",
    "plt.ylabel('theta_yx')\n",
    "plt.colorbar()"
   ]
  },
  {
   "cell_type": "code",
   "execution_count": null,
   "metadata": {},
   "outputs": [],
   "source": [
    "no_dir = (np.abs(caloLike_calibration.array['dir_z_y'])<0.1)\n",
    "\n",
    "dir_z_plus = (caloLike_calibration.array['dir_z_y']> 0.8)\n",
    "dir_z_minus = (caloLike_calibration.array['dir_z_y']< -0.9)\n",
    "dir_x_plus = (caloLike_calibration.array['dir_x_y']> 0.9)\n",
    "dir_x_minus = (caloLike_calibration.array['dir_x_y']< -0.9)\n",
    "dir_y_plus = (caloLike_calibration.array['dir_y_y']> 0.9)\n",
    "dir_y_minus = (caloLike_calibration.array['dir_y_y']< -0.9)\n",
    "\n",
    "selection = caloLike_calibration.quality_mask\n",
    "\n",
    "x = caloLike_calibration.array['theta_xz_y'][selection].flatten()\n",
    "y = caloLike_calibration.array['theta_y_y'][selection].flatten()\n",
    "\n",
    "plt.hist2d(x, y, bins=[101, 101], range=[[-math.pi, math.pi], [0, math.pi]], norm=LogNorm());\n",
    "plt.xlabel('theta_xz_y')\n",
    "plt.ylabel('theta_y_y')\n",
    "plt.colorbar()\n",
    "plt.savefig(save_folder + 'theta_y_y_vs_theta_xz_y.png', dpi=200)"
   ]
  },
  {
   "cell_type": "code",
   "execution_count": null,
   "metadata": {},
   "outputs": [],
   "source": [
    "no_dir = (np.abs(caloLike_calibration.array['dir_z_y'])<0.1)\n",
    "\n",
    "dir_z_plus = (caloLike_calibration.array['dir_z_y']> 0.8)\n",
    "dir_z_minus = (caloLike_calibration.array['dir_z_y']< -0.9)\n",
    "dir_x_plus = (caloLike_calibration.array['dir_x_y']> 0.9)\n",
    "dir_x_minus = (caloLike_calibration.array['dir_x_y']< -0.9)\n",
    "dir_y_plus = (caloLike_calibration.array['dir_y_y']> 0.9)\n",
    "dir_y_minus = (caloLike_calibration.array['dir_y_y']< -0.9)\n",
    "\n",
    "selection = caloLike_calibration.quality_mask\n",
    "\n",
    "x = caloLike_calibration.array['abs_theta_xz_y'][selection].flatten()\n",
    "y = caloLike_calibration.array['abs_theta_y_y'][selection].flatten()\n",
    "\n",
    "plt.hist2d(x, y, bins=[21, 21], range=[[0, math.pi/2], [0, math.pi/2]], norm=LogNorm());\n",
    "plt.xlabel('abs_theta_xz_y')\n",
    "plt.ylabel('abs_theta_y_y')\n",
    "plt.colorbar()\n",
    "# plt.savefig(save_folder + 'abs_theta_y_y_vs_abs_theta_xz_y.png', dpi=200)"
   ]
  },
  {
   "cell_type": "code",
   "execution_count": null,
   "metadata": {},
   "outputs": [],
   "source": [
    "array_used = caloLike_test.array\n",
    "qual_mask = caloLike_test.quality_mask"
   ]
  },
  {
   "cell_type": "code",
   "execution_count": null,
   "metadata": {},
   "outputs": [],
   "source": [
    "mask_thetay_pi2 = array_used['abs_theta_y_y'] == math.pi/2"
   ]
  },
  {
   "cell_type": "code",
   "execution_count": null,
   "metadata": {},
   "outputs": [],
   "source": [
    "array_used['trk_start_z'][qual_mask & mask_diry_1.any()].flatten()"
   ]
  },
  {
   "cell_type": "code",
   "execution_count": null,
   "metadata": {},
   "outputs": [],
   "source": [
    "array_used['trk_end_z'][qual_mask & mask_diry_1.any()].flatten()"
   ]
  },
  {
   "cell_type": "code",
   "execution_count": null,
   "metadata": {},
   "outputs": [],
   "source": [
    "array_used['z_y'][qual_mask & mask_diry_1.any()].flatten()"
   ]
  },
  {
   "cell_type": "code",
   "execution_count": null,
   "metadata": {},
   "outputs": [],
   "source": [
    "array_used['dir_x_y'][qual_mask & mask_diry_1].flatten()"
   ]
  },
  {
   "cell_type": "code",
   "execution_count": null,
   "metadata": {},
   "outputs": [],
   "source": [
    "array_used['dir_y_y'][qual_mask & mask_thetay_pi2].flatten()"
   ]
  },
  {
   "cell_type": "code",
   "execution_count": null,
   "metadata": {},
   "outputs": [],
   "source": [
    "array_used['dir_z_y'][qual_mask & mask_thetay_pi2].flatten()"
   ]
  },
  {
   "cell_type": "code",
   "execution_count": null,
   "metadata": {},
   "outputs": [],
   "source": [
    "array_used['pitch_y'][qual_mask & mask_thetay_pi2].flatten()"
   ]
  },
  {
   "cell_type": "code",
   "execution_count": null,
   "metadata": {},
   "outputs": [],
   "source": [
    "mask_diry_1 = np.abs(array_used['dir_y_y']) == 1"
   ]
  },
  {
   "cell_type": "code",
   "execution_count": null,
   "metadata": {},
   "outputs": [],
   "source": [
    "array_used['abs_theta_xz_y'][qual_mask & mask_diry_1.any()].flatten()"
   ]
  },
  {
   "cell_type": "code",
   "execution_count": null,
   "metadata": {},
   "outputs": [],
   "source": [
    "array = array_mc_train\n",
    "mask = selection_mask(array)"
   ]
  },
  {
   "cell_type": "code",
   "execution_count": null,
   "metadata": {},
   "outputs": [],
   "source": [
    "array['evt'][~mask]"
   ]
  },
  {
   "cell_type": "code",
   "execution_count": null,
   "metadata": {},
   "outputs": [],
   "source": [
    "array['run'][~mask]"
   ]
  },
  {
   "cell_type": "code",
   "execution_count": null,
   "metadata": {},
   "outputs": [],
   "source": [
    "array['sub'][~mask]"
   ]
  },
  {
   "cell_type": "code",
   "execution_count": null,
   "metadata": {},
   "outputs": [],
   "source": [
    "array['dir_x_y'][~mask]"
   ]
  },
  {
   "cell_type": "code",
   "execution_count": null,
   "metadata": {},
   "outputs": [],
   "source": [
    "array['dir_y_y'][~mask]"
   ]
  },
  {
   "cell_type": "code",
   "execution_count": null,
   "metadata": {},
   "outputs": [],
   "source": [
    "array['dir_z_y'][~mask]"
   ]
  },
  {
   "cell_type": "code",
   "execution_count": null,
   "metadata": {},
   "outputs": [],
   "source": [
    "array['z_y'][~mask]"
   ]
  },
  {
   "cell_type": "code",
   "execution_count": null,
   "metadata": {},
   "outputs": [],
   "source": [
    "array['trk_start_z'][~mask]"
   ]
  },
  {
   "cell_type": "code",
   "execution_count": null,
   "metadata": {},
   "outputs": [],
   "source": [
    "array['trk_end_z'][~mask]"
   ]
  },
  {
   "cell_type": "code",
   "execution_count": null,
   "metadata": {},
   "outputs": [],
   "source": [
    "aux = (np.abs(array['dir_pitch_y']) - array['pitch_y'])[~mask].flatten()\n",
    "out = np.arctan(aux)\n",
    "plt.hist(out, bins=100, log=True);\n",
    "plt.xlabel('arctan(Pitch from direction - Pitch from calorimetry)')\n",
    "plt.title('Events with bad quality')"
   ]
  },
  {
   "cell_type": "code",
   "execution_count": null,
   "metadata": {},
   "outputs": [],
   "source": [
    "aux = (np.abs(array['dir_pitch_y']) - array['pitch_y'])[mask].flatten()\n",
    "out = np.arctan(aux)\n",
    "plt.hist(out, bins=100, log=True);\n",
    "plt.xlabel('arctan(Pitch from direction - Pitch from calorimetry)')\n",
    "plt.title('Events with good quality')"
   ]
  },
  {
   "cell_type": "markdown",
   "metadata": {},
   "source": [
    "# Random checks"
   ]
  },
  {
   "cell_type": "code",
   "execution_count": null,
   "metadata": {},
   "outputs": [],
   "source": [
    "np.isnan(caloLike_calibration.array_mc['dir_x_y']).any()"
   ]
  },
  {
   "cell_type": "code",
   "execution_count": null,
   "metadata": {},
   "outputs": [],
   "source": [
    "caloLike_calibration.array['dedx_y'][-2]"
   ]
  },
  {
   "cell_type": "code",
   "execution_count": null,
   "metadata": {},
   "outputs": [],
   "source": [
    "caloLike_calibration.array['rr_y'][-2]"
   ]
  },
  {
   "cell_type": "code",
   "execution_count": null,
   "metadata": {},
   "outputs": [],
   "source": [
    "caloLike_calibration.array['pitch_y'][-2]"
   ]
  },
  {
   "cell_type": "code",
   "execution_count": null,
   "metadata": {},
   "outputs": [],
   "source": [
    "ev_num = -2\n",
    "print('evt', caloLike_calibration.array['evt'][ev_num])\n",
    "print('run', caloLike_calibration.array['run'][ev_num])\n",
    "print('sub', caloLike_calibration.array['sub'][ev_num])\n",
    "print()\n",
    "print('trk_start_x', caloLike_calibration.array['trk_start_x'][ev_num])\n",
    "print('trk_start_y', caloLike_calibration.array['trk_start_y'][ev_num])\n",
    "print('trk_start_z', caloLike_calibration.array['trk_start_z'][ev_num])\n",
    "print()\n",
    "print('trk_end_x', caloLike_calibration.array['trk_end_x'][ev_num])\n",
    "print('trk_end_y', caloLike_calibration.array['trk_end_y'][ev_num])\n",
    "print('trk_end_z', caloLike_calibration.array['trk_end_z'][ev_num])\n",
    "print()\n",
    "print()\n",
    "print('x_y', caloLike_calibration.array['x_y'][ev_num])\n",
    "print('y_y', caloLike_calibration.array['y_y'][ev_num])\n",
    "print('z_y', caloLike_calibration.array['z_y'][ev_num])\n",
    "print()\n",
    "print()\n",
    "print('x_u', caloLike_calibration.array['x_u'][ev_num])\n",
    "print('y_u', caloLike_calibration.array['y_u'][ev_num])\n",
    "print('z_u', caloLike_calibration.array['z_u'][ev_num])\n",
    "print()\n",
    "print()\n",
    "print('x_v', caloLike_calibration.array['x_v'][ev_num])\n",
    "print('y_v', caloLike_calibration.array['y_v'][ev_num])\n",
    "print('z_v', caloLike_calibration.array['z_v'][ev_num])\n",
    "print()\n",
    "print()\n",
    "print('dir_x_y', caloLike_calibration.array['dir_x_y'][ev_num])\n",
    "print('dir_y_y', caloLike_calibration.array['dir_y_y'][ev_num])\n",
    "print('dir_z_y', caloLike_calibration.array['dir_z_y'][ev_num])\n",
    "print()\n",
    "print()\n",
    "print('dir_x_u', caloLike_calibration.array['dir_x_u'][ev_num])\n",
    "print('dir_y_u', caloLike_calibration.array['dir_y_u'][ev_num])\n",
    "print('dir_z_u', caloLike_calibration.array['dir_z_u'][ev_num])\n",
    "print()\n",
    "print()\n",
    "print('dir_x_v', caloLike_calibration.array['dir_x_v'][ev_num])\n",
    "print('dir_y_v', caloLike_calibration.array['dir_y_v'][ev_num])\n",
    "print('dir_z_v', caloLike_calibration.array['dir_z_v'][ev_num])"
   ]
  },
  {
   "cell_type": "markdown",
   "metadata": {},
   "source": [
    "## Old code"
   ]
  },
  {
   "cell_type": "code",
   "execution_count": 9,
   "metadata": {},
   "outputs": [],
   "source": [
    "# file_folder = '~/Desktop/MicroBooNE/calorimetry_likelihood/v1_david/'\n",
    "\n",
    "# filenames = {\n",
    "#     'mc': file_folder + 'mc.root',\n",
    "#     'data': file_folder + 'data.root',\n",
    "# }\n",
    "\n",
    "# split_factor = 0.05\n",
    "# split_factor2 = 0.1\n",
    "\n",
    "# folder = \"nuselection\"\n",
    "# tree = \"CalorimetryAnalyzer\"\n",
    "\n",
    "# root_file_mc = uproot.open(filenames['mc'])[folder][tree]\n",
    "# entry_split_mc = int(len(root_file_mc) * split_factor)\n",
    "# entry_split2_mc = int(len(root_file_mc) * split_factor2)\n",
    "# array_mc_train = root_file_mc.arrays(branches, namedecode=\"utf-8\", entrystop=entry_split_mc)\n",
    "# array_mc_test = root_file_mc.arrays(branches, namedecode=\"utf-8\", entrystart=entry_split_mc, entrystop=entry_split2_mc)\n",
    "\n",
    "# root_file_data = uproot.open(filenames['data'])[folder][tree]\n",
    "# entry_split2_data = int(len(root_file_data) * split_factor2)\n",
    "# entry_split_data = int(len(root_file_data) * split_factor)\n",
    "# array_data_train = root_file_data.arrays(branches, namedecode=\"utf-8\", entrystop=entry_split_data)\n",
    "# array_data_test = root_file_data.arrays(branches, namedecode=\"utf-8\", entrystart=entry_split_data, entrystop=entry_split2_data)"
   ]
  },
  {
   "cell_type": "code",
   "execution_count": 10,
   "metadata": {},
   "outputs": [],
   "source": [
    "# file_folder = '~/Desktop/MicroBooNE/calorimetry_likelihood/v1_david/'\n",
    "\n",
    "# filenames = {\n",
    "#     'mc': file_folder + 'mc.root',\n",
    "#     'data': file_folder + 'data.root',\n",
    "# }\n",
    "\n",
    "# split_factor = 0.45\n",
    "\n",
    "# folder = \"nuselection\"\n",
    "# tree = \"CalorimetryAnalyzer\"\n",
    "\n",
    "# root_file_mc = uproot.open(filenames['mc'])[folder][tree]\n",
    "# entry_split_mc = int(len(root_file_mc) * split_factor)\n",
    "# array_mc_train = root_file_mc.arrays(branches, namedecode=\"utf-8\", entrystop=entry_split_mc)\n",
    "# array_mc_test = root_file_mc.arrays(branches, namedecode=\"utf-8\", entrystart=entry_split_mc)\n",
    "\n",
    "# root_file_data = uproot.open(filenames['data'])[folder][tree]\n",
    "# entry_split_data = int(len(root_file_data) * split_factor)\n",
    "# array_data_train = root_file_data.arrays(branches, namedecode=\"utf-8\", entrystop=entry_split_data)\n",
    "# array_data_test = root_file_data.arrays(branches, namedecode=\"utf-8\", entrystart=entry_split_data)"
   ]
  },
  {
   "cell_type": "code",
   "execution_count": 121,
   "metadata": {},
   "outputs": [
    {
     "data": {
      "text/plain": [
       "0"
      ]
     },
     "execution_count": 121,
     "metadata": {},
     "output_type": "execute_result"
    }
   ],
   "source": [
    "(abs(array_mc_train['norm_dir_y'] -1) > 0.001).sum().sum()"
   ]
  },
  {
   "cell_type": "code",
   "execution_count": 127,
   "metadata": {},
   "outputs": [
    {
     "data": {
      "text/plain": [
       "0.11371011357490536"
      ]
     },
     "execution_count": 127,
     "metadata": {},
     "output_type": "execute_result"
    }
   ],
   "source": [
    "(abs(array_data_train['norm_dir_y'] -1) > 0.01).sum().sum()/(abs(array_data_train['norm_dir_y'] -1) >= 0).sum().sum()"
   ]
  },
  {
   "cell_type": "code",
   "execution_count": 136,
   "metadata": {},
   "outputs": [],
   "source": [
    "mask = (abs(array_data_train['norm_dir_y'] -1) > 0.001).any()"
   ]
  },
  {
   "cell_type": "code",
   "execution_count": 140,
   "metadata": {},
   "outputs": [
    {
     "data": {
      "text/plain": [
       "<JaggedArray [[3.9734833 3.795518 3.8490105 ... 5.1875334 6.4419236 6.5536213] [1.0544255 1.0573634 1.0590749 ... 1.12592 1.1234745 1.1198924] [0.3954863 0.3955876 0.39570147 ... 0.41052893 0.41065794 0.4107967] ... [0.3617974 0.3617974 0.3617974 ... 0.49655968 0.49655968 0.49655968] [1.1054138 1.1040484 1.1052866 ... 0.7904888 0.7891403 0.78851956] [0.6853262 0.7044401 0.717695 ... 5.1093516 5.8202634 6.6827726]] at 0x7f807fe2ebd0>"
      ]
     },
     "execution_count": 140,
     "metadata": {},
     "output_type": "execute_result"
    }
   ],
   "source": [
    "array_data_train['pitch_y'][mask]"
   ]
  },
  {
   "cell_type": "code",
   "execution_count": 141,
   "metadata": {},
   "outputs": [
    {
     "data": {
      "text/plain": [
       "<JaggedArray [[0.0 0.0 0.0 ... 0.0 0.0 0.0] [1.7361596e-06 1.7361596e-06 1.7361596e-06 ... 1.7361596e-06 1.7361596e-06 1.7361596e-06] [999.0 999.0 999.0 ... 999.0 999.0 999.0] ... [1412.7993 1412.7993 1412.7993 ... 1412.7993 1412.7993 1412.7993] [inf inf inf ... inf inf inf] [1412.7993 1412.7993 1412.7993 ... 1412.7993 1412.7993 1412.7993]] at 0x7f809335ecd0>"
      ]
     },
     "execution_count": 141,
     "metadata": {},
     "output_type": "execute_result"
    }
   ],
   "source": [
    "array_data_train['norm_dir_y'][mask]"
   ]
  },
  {
   "cell_type": "code",
   "execution_count": 137,
   "metadata": {},
   "outputs": [
    {
     "data": {
      "text/plain": [
       "<JaggedArray [[0.0 0.0 0.0 ... 0.0 0.0 0.0] [0.0 0.0 0.0 ... 0.0 0.0 0.0] [-999.0 -999.0 -999.0 ... -999.0 -999.0 -999.0] ... [-999.0 -999.0 -999.0 ... -999.0 -999.0 -999.0] [inf inf inf ... inf inf inf] [-999.0 -999.0 -999.0 ... -999.0 -999.0 -999.0]] at 0x7f7da666f410>"
      ]
     },
     "execution_count": 137,
     "metadata": {},
     "output_type": "execute_result"
    }
   ],
   "source": [
    "array_data_train['dir_x_y'][mask]"
   ]
  },
  {
   "cell_type": "code",
   "execution_count": 138,
   "metadata": {},
   "outputs": [
    {
     "data": {
      "text/plain": [
       "<JaggedArray [[0.0 0.0 0.0 ... 0.0 0.0 0.0] [1.7361596e-06 1.7361596e-06 1.7361596e-06 ... 1.7361596e-06 1.7361596e-06 1.7361596e-06] [0.053039305 0.053039305 0.053039305 ... 0.053039305 0.053039305 0.053039305] ... [-999.0 -999.0 -999.0 ... -999.0 -999.0 -999.0] [0.0 0.0 0.0 ... 0.0 0.0 0.0] [-999.0 -999.0 -999.0 ... -999.0 -999.0 -999.0]] at 0x7f807fe2e350>"
      ]
     },
     "execution_count": 138,
     "metadata": {},
     "output_type": "execute_result"
    }
   ],
   "source": [
    "array_data_train['dir_y_y'][mask]"
   ]
  },
  {
   "cell_type": "code",
   "execution_count": 139,
   "metadata": {},
   "outputs": [
    {
     "data": {
      "text/plain": [
       "<JaggedArray [[0.0 0.0 0.0 ... 0.0 0.0 0.0] [0.0 0.0 0.0 ... 0.0 0.0 0.0] [0.0 0.0 0.0 ... 0.0 0.0 0.0] ... [0.0 0.0 0.0 ... 0.0 0.0 0.0] [0.0 0.0 0.0 ... 0.0 0.0 0.0] [0.0 0.0 0.0 ... 0.0 0.0 0.0]] at 0x7f8188bed510>"
      ]
     },
     "execution_count": 139,
     "metadata": {},
     "output_type": "execute_result"
    }
   ],
   "source": [
    "array_data_train['dir_z_y'][mask]"
   ]
  }
 ],
 "metadata": {
  "kernelspec": {
   "display_name": "Python 3",
   "language": "python",
   "name": "python3"
  },
  "language_info": {
   "codemirror_mode": {
    "name": "ipython",
    "version": 3
   },
   "file_extension": ".py",
   "mimetype": "text/x-python",
   "name": "python",
   "nbconvert_exporter": "python",
   "pygments_lexer": "ipython3",
   "version": "3.7.6"
  }
 },
 "nbformat": 4,
 "nbformat_minor": 2
}
