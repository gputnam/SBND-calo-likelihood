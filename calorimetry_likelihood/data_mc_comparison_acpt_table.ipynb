{
 "cells": [
  {
   "cell_type": "markdown",
   "metadata": {},
   "source": [
    "# DATA/MC comparison with ACPT with Awkward.Table"
   ]
  },
  {
   "cell_type": "code",
   "execution_count": null,
   "metadata": {},
   "outputs": [],
   "source": [
    "%load_ext autoreload\n",
    "%autoreload 2\n",
    "\n",
    "import math\n",
    "from itertools import product\n",
    "import uproot\n",
    "import awkward\n",
    "import numpy as np\n",
    "import matplotlib.pyplot as plt\n",
    "from matplotlib.colors import LogNorm\n",
    "from scipy.stats import binned_statistic\n",
    "\n",
    "import matplotlib\n",
    "from matplotlib.colors import LogNorm\n",
    "\n",
    "matplotlib.rcParams.update({'font.size': 12})\n",
    "\n",
    "from calo_likelihood import caloLikelihood\n",
    "from helpers import *\n",
    "from loaders import *"
   ]
  },
  {
   "cell_type": "code",
   "execution_count": null,
   "metadata": {},
   "outputs": [],
   "source": [
    "import matplotlib\n",
    "matplotlib.rcParams.update({'font.size': 12})"
   ]
  },
  {
   "cell_type": "code",
   "execution_count": null,
   "metadata": {},
   "outputs": [],
   "source": [
    "today = '19_10_15'"
   ]
  },
  {
   "cell_type": "code",
   "execution_count": null,
   "metadata": {},
   "outputs": [],
   "source": [
    "!mkdir -p ~/Dropbox/MicroBooNE/_fig/$today/acpt_studies_calo\n",
    "!mkdir -p ~/Dropbox/MicroBooNE/_fig/$today/acpt_studies_calo/datamc\n",
    "!mkdir -p ~/Dropbox/MicroBooNE/_fig/$today/acpt_studies_calo/calibration\n",
    "!mkdir -p ~/Dropbox/MicroBooNE/_fig/$today/acpt_studies_calo/datamc_cali"
   ]
  },
  {
   "cell_type": "code",
   "execution_count": null,
   "metadata": {},
   "outputs": [],
   "source": [
    "save_folder = '/home/nic/Dropbox/MicroBooNE/_fig/' + today + '/acpt_studies_calo/'\n",
    "save_folder_datamc = save_folder+'datamc/'\n",
    "save_folder_calibration = save_folder+'calibration'\n",
    "save_folder_datamc_cali = save_folder+'datamc_cali/'"
   ]
  },
  {
   "cell_type": "code",
   "execution_count": null,
   "metadata": {},
   "outputs": [],
   "source": [
    "branches = [\n",
    "    'run',\n",
    "    'sub',\n",
    "    'evt',\n",
    "    \n",
    "#     'slpdg',\n",
    "#     'nslice',\n",
    "    \n",
    "    'backtracked_pdg',\n",
    "    'backtracked_e',\n",
    "    'backtracked_purity',\n",
    "    'backtracked_completeness',\n",
    "    'backtracked_overlay_purity',\n",
    "#     'backtracked_px',\n",
    "#     'backtracked_py',\n",
    "#     'backtracked_pz',\n",
    "#     'backtracked_start_x',\n",
    "#     'backtracked_start_y',\n",
    "#     'backtracked_start_z',\n",
    "#     'backtracked_start_t',\n",
    "#     'backtracked_start_U',\n",
    "#     'backtracked_start_V',\n",
    "#     'backtracked_start_Y',\n",
    "#     'backtracked_sce_start_x',\n",
    "#     'backtracked_sce_start_y',\n",
    "#     'backtracked_sce_start_z',\n",
    "#     'backtracked_sce_start_U',\n",
    "#     'backtracked_sce_start_V',\n",
    "#     'backtracked_sce_start_Y',\n",
    "\n",
    "#     'true_nu_vtx_x',\n",
    "#     'true_nu_vtx_y',\n",
    "#     'true_nu_vtx_z', \n",
    "#     'true_nu_vtx_sce_x',\n",
    "#     'true_nu_vtx_sce_y',\n",
    "#     'true_nu_vtx_sce_z',\n",
    "    \n",
    "#     'reco_nu_vtx_x',\n",
    "#     'reco_nu_vtx_y',\n",
    "#     'reco_nu_vtx_z', \n",
    "#     'reco_nu_vtx_sce_x',\n",
    "#     'reco_nu_vtx_sce_y',\n",
    "#     'reco_nu_vtx_sce_z',\n",
    "    \n",
    "#     'nplanehits_U',\n",
    "#     'nplanehits_V',\n",
    "#     'nplanehits_Y',\n",
    "#     'trk_score',\n",
    "\n",
    "    'trk_start_x',\n",
    "    'trk_start_y',\n",
    "    'trk_start_z',\n",
    "\n",
    "    'trk_theta',\n",
    "    'trk_phi',\n",
    "\n",
    "    'trk_dir_x',\n",
    "    'trk_dir_y',\n",
    "    'trk_dir_z',\n",
    "\n",
    "    'trk_end_x',\n",
    "    'trk_end_y',\n",
    "    'trk_end_z',\n",
    "\n",
    "    'trk_len',\n",
    "    \n",
    "    'dqdx_u',\n",
    "    'dqdx_v',\n",
    "    'dqdx_y',\n",
    "\n",
    "    'dedx_u',\n",
    "    'dedx_v',\n",
    "    'dedx_y',\n",
    "\n",
    "    'rr_u',\n",
    "    'rr_v',\n",
    "    'rr_y',\n",
    "\n",
    "    'pitch_u',\n",
    "    'pitch_v',\n",
    "    'pitch_y',\n",
    "    \n",
    "    'x_u',\n",
    "    'x_v',\n",
    "    'x_y',\n",
    "    \n",
    "    'y_u',\n",
    "    'y_v',\n",
    "    'y_y',\n",
    "    \n",
    "    'z_u',\n",
    "    'z_v',\n",
    "    'z_y',\n",
    "    \n",
    "    'dir_x_u',\n",
    "    'dir_x_v',\n",
    "    'dir_x_y',\n",
    "    \n",
    "    'dir_y_u',\n",
    "    'dir_y_v',\n",
    "    'dir_y_y',\n",
    "    \n",
    "    'dir_z_u',\n",
    "    'dir_z_v',\n",
    "    'dir_z_y',\n",
    "]"
   ]
  },
  {
   "cell_type": "code",
   "execution_count": null,
   "metadata": {},
   "outputs": [],
   "source": [
    "# file_folder = '~/Desktop/MicroBooNE/calorimetry_likelihood/v1_david/'\n",
    "\n",
    "# filenames = {\n",
    "#     'mc': file_folder + 'mc.root',\n",
    "#     'data': file_folder + 'data.root',\n",
    "# }\n",
    "\n",
    "# split_factor = 0.55\n",
    "\n",
    "# folder = \"nuselection\"\n",
    "# tree = \"CalorimetryAnalyzer\"\n",
    "\n",
    "# root_file_mc = uproot.open(filenames['mc'])[folder][tree]\n",
    "# entry_split_mc = int(len(root_file_mc) * split_factor)\n",
    "# array_mc_train = root_file_mc.arrays(branches, namedecode=\"utf-8\", entrystop=entry_split_mc)\n",
    "# array_mc_test = root_file_mc.arrays(branches, namedecode=\"utf-8\", entrystart=entry_split_mc)\n",
    "\n",
    "# root_file_data = uproot.open(filenames['data'])[folder][tree]\n",
    "# entry_split_data = int(len(root_file_data) * split_factor)\n",
    "# array_data_train = root_file_data.arrays(branches, namedecode=\"utf-8\", entrystop=entry_split_data)\n",
    "# array_data_test = root_file_data.arrays(branches, namedecode=\"utf-8\", entrystart=entry_split_data)"
   ]
  },
  {
   "cell_type": "code",
   "execution_count": null,
   "metadata": {},
   "outputs": [],
   "source": [
    "for array in [array_mc_train, array_mc_test, array_data_train, array_data_test]:\n",
    "    abs_pitch(array)\n",
    "    clip_rr(array)\n",
    "    theta_xz_yz_yx_y(array)\n",
    "    dir_pitch(array)"
   ]
  },
  {
   "cell_type": "code",
   "execution_count": null,
   "metadata": {},
   "outputs": [],
   "source": [
    "file_folder = '~/Desktop/MicroBooNE/calorimetry_likelihood/v1_david/'\n",
    "\n",
    "filenames = {\n",
    "    'mc': file_folder + 'mc.root',\n",
    "    'data': file_folder + 'data.root',\n",
    "}\n",
    "\n",
    "split_factor = 0.55\n",
    "\n",
    "folder = \"nuselection\"\n",
    "tree = \"CalorimetryAnalyzer\"\n",
    "\n",
    "root_file_mc =  uproot.open(filenames['mc'])[folder][tree]\n",
    "len_root_file_mc = root_file_mc.numentries\n",
    "entry_split_mc = int(len_root_file_mc * split_factor)\n",
    "table_mc_train = root_file_mc.lazyarrays(branches=branches, entrystop=entry_split_mc)\n",
    "table_mc_test = root_file_mc.lazyarrays(branches=branches, entrystart=entry_split_mc)\n",
    "\n",
    "root_file_data =  uproot.open(filenames['data'])[folder][tree]\n",
    "len_root_file_data = root_file_data.numentries\n",
    "entry_split_data = int(len_root_file_data * split_factor)\n",
    "table_data_train = root_file_data.lazyarrays(branches=branches, entrystop=entry_split_data)\n",
    "table_data_test = root_file_data.lazyarrays(branches=branches, entrystart=entry_split_data)"
   ]
  },
  {
   "cell_type": "code",
   "execution_count": null,
   "metadata": {},
   "outputs": [],
   "source": [
    "file_folder = '~/Desktop/MicroBooNE/calorimetry_likelihood/v1_david/'\n",
    "\n",
    "filenames = {\n",
    "    'mc': file_folder + 'mc.root',\n",
    "    'data': file_folder + 'data.root',\n",
    "}\n",
    "\n",
    "split_factor = 0.55\n",
    "\n",
    "folder = \"nuselection\"\n",
    "tree = \"CalorimetryAnalyzer\""
   ]
  },
  {
   "cell_type": "code",
   "execution_count": null,
   "metadata": {},
   "outputs": [],
   "source": [
    "def table2JaggedDict(table, mask):\n",
    "    return {n: table[mask][n] for n in table[mask].columns}"
   ]
  },
  {
   "cell_type": "code",
   "execution_count": null,
   "metadata": {},
   "outputs": [],
   "source": [
    "mask_mc_train = selection_mask(table_mc_train)\n",
    "array_mc_train = table2JaggedDict(table_mc_train, mask_mc_train)"
   ]
  },
  {
   "cell_type": "code",
   "execution_count": null,
   "metadata": {},
   "outputs": [],
   "source": [
    "mask_mc_test = selection_mask(table_mc_test)\n",
    "array_mc_test = table2JaggedDict(table_mc_test, mask_mc_test)"
   ]
  },
  {
   "cell_type": "code",
   "execution_count": null,
   "metadata": {},
   "outputs": [],
   "source": [
    "mask_data_train = selection_mask(table_data_train)\n",
    "array_data_train = table2JaggedDict(table_data_train, mask_data_train)"
   ]
  },
  {
   "cell_type": "code",
   "execution_count": null,
   "metadata": {},
   "outputs": [],
   "source": [
    "mask_data_test = selection_mask(table_data_test)\n",
    "array_data_test = table2JaggedDict(table_data_test, mask_data_test)"
   ]
  },
  {
   "cell_type": "code",
   "execution_count": null,
   "metadata": {},
   "outputs": [],
   "source": [
    "def selection_base(array):\n",
    "    mask = (array['trk_len'] > 0) & (array['trk_dir_y']<=0)\n",
    "    return mask\n",
    "\n",
    "def selection_mask_old(array):\n",
    "    mask = selection_base(array)\n",
    "    for plane in ['_u', '_v', '_y']:\n",
    "        for direction in ['_x', '_y', '_z']:\n",
    "            mask = mask & (  (np.isnan(array['dir'+direction+plane]) == False).all() )\n",
    "    mask = mask & (array['trk_dir_y']<=0)\n",
    "    return mask\n",
    "\n",
    "def selection_mask(array):\n",
    "    mask = selection_base(array)\n",
    "    for plane in ['_u', '_v', '_y']:\n",
    "        unit_v = np.sqrt(array['dir_z'+plane]**2 + array['dir_x'+plane]**2 + array['dir_y'+plane]**2)\n",
    "        mask = mask &\\\n",
    "              (unit_v > 0.999).all() &\\\n",
    "              (unit_v < 1.001).all() &\\\n",
    "              (np.abs(array['dir_x'+plane]) != 1).all() &\\\n",
    "              (np.abs(array['dir_y'+plane]) != 1).all() &\\\n",
    "              (np.abs(array['dir_z'+plane]) != 1).all()\n",
    "    return mask\n",
    "\n",
    "def selection_efficiency(array):\n",
    "    base_mask = selection_base(array)\n",
    "    array_len = len(base_mask)\n",
    "    print(\"base selection eff = {:.3f}\".format(base_mask.sum()/array_len))\n",
    "    \n",
    "    sel_mask = selection_mask(array)\n",
    "    print(\"complete selection eff = {:.3f}\".format(sel_mask.sum()/array_len))"
   ]
  },
  {
   "cell_type": "code",
   "execution_count": null,
   "metadata": {},
   "outputs": [],
   "source": [
    "selection_efficiency(array_mc_train)"
   ]
  },
  {
   "cell_type": "code",
   "execution_count": null,
   "metadata": {},
   "outputs": [],
   "source": [
    "selection_efficiency(array_data_train)"
   ]
  },
  {
   "cell_type": "code",
   "execution_count": null,
   "metadata": {},
   "outputs": [],
   "source": [
    "muon_train = (abs(array_mc_train['backtracked_pdg']) == 13) & selection_mask(array_mc_train)\n",
    "muon_test = (abs(array_mc_test['backtracked_pdg']) == 13) & selection_mask(array_mc_test)\n",
    "data_train_mask = selection_mask(array_data_train)\n",
    "data_test_mask = selection_mask(array_data_test)"
   ]
  },
  {
   "cell_type": "code",
   "execution_count": null,
   "metadata": {},
   "outputs": [],
   "source": [
    "# parameters = [['abs_pitch_u'], ['abs_pitch_v'], ['abs_pitch_y']]\n",
    "# parameters_legend_names = [['pitch-U'], ['pitch-V'], ['pitch-Y']]\n",
    "# parameters_bin_edges = [[0.3, 0.4, 0.5, 0.8, 1, 1.25, 1.5, 2, 2.5, 3, 30, 100000]]\n",
    "# dedx_vars = ['dedx_u', 'dedx_v', 'dedx_y']\n",
    "# dedx_bins = np.linspace(0, 10, 100)\n",
    "# pdgcode_var = 'backtracked_pdg'"
   ]
  },
  {
   "cell_type": "code",
   "execution_count": null,
   "metadata": {},
   "outputs": [],
   "source": [
    "parameters = [['abs_theta_y_u', 'abs_theta_xz_u'],\n",
    "              ['abs_theta_y_v', 'abs_theta_xz_v'],\n",
    "              ['abs_theta_y_y', 'abs_theta_xz_y'],]\n",
    "parameters_legend_names = [[r'$\\theta_{y}$ - U', r'$\\theta_{xz}$ - U'],\n",
    "                           [r'$\\theta_{y}$ - V', r'$\\theta_{xz}$ - V'],\n",
    "                           [r'$\\theta_{y}$ - Y', r'$\\theta_{xz}$ - Y'],]\n",
    "parameters_bin_edges = [np.append(np.linspace(-0.001, np.pi/2, 9), np.inf), np.append(np.linspace(-0.001, np.pi/2, 10), np.inf)]\n",
    "dedx_vars = ['dedx_u', 'dedx_v', 'dedx_y']\n",
    "dedx_bins = np.append(np.linspace(0, 10, 100), np.inf)\n",
    "pdgcode_var = 'backtracked_pdg'"
   ]
  },
  {
   "cell_type": "code",
   "execution_count": null,
   "metadata": {},
   "outputs": [],
   "source": [
    "caloLike_calibration = caloLikelihood(array_mc_train, quality_mask=muon_train)\n",
    "caloLike_calibration.load_data(array_data_train, overall_mask=data_train_mask)\n",
    "\n",
    "caloLike_test = caloLikelihood(array_mc_test, quality_mask=muon_test)\n",
    "caloLike_test.load_data(array_data_test, overall_mask=data_test_mask)"
   ]
  },
  {
   "cell_type": "code",
   "execution_count": null,
   "metadata": {},
   "outputs": [],
   "source": [
    "caloLike_calibration.setPdgCodeVar(pdgcode_var)\n",
    "caloLike_test.setPdgCodeVar(pdgcode_var)\n",
    "\n",
    "for i in [0, 1, 2]:\n",
    "    caloLike_calibration.setVariablesBinning(i, parameters[i], parameters_bin_edges, dedx_vars[i], dedx_bins, parameters_legend_names[i])\n",
    "    \n",
    "    caloLike_calibration.buildLookUpTableMC(i, 13)\n",
    "    caloLike_calibration.buildLookUpTableData(i, 'default')\n",
    "    \n",
    "    caloLike_test.setVariablesBinning(i, parameters[i], parameters_bin_edges, dedx_vars[i], dedx_bins, parameters_legend_names[i])"
   ]
  },
  {
   "cell_type": "code",
   "execution_count": null,
   "metadata": {},
   "outputs": [],
   "source": [
    "a = np.array(dtype=float, shape=(3,1))\n",
    "mask = np.array([True, False, True])"
   ]
  },
  {
   "cell_type": "code",
   "execution_count": null,
   "metadata": {},
   "outputs": [],
   "source": [
    "a[mask] = a[mask]**2"
   ]
  },
  {
   "cell_type": "code",
   "execution_count": null,
   "metadata": {},
   "outputs": [],
   "source": [
    "a"
   ]
  },
  {
   "cell_type": "code",
   "execution_count": null,
   "metadata": {},
   "outputs": [],
   "source": [
    "caloLike_calibration.plotLookUpDedxDataMC(plane_num=2,\n",
    "                        pdg_code=13, \n",
    "                        data_selection='default', \n",
    "                        parameters_value=[0.8, 0.7],\n",
    "                        add_to_title='Calibration sample')"
   ]
  },
  {
   "cell_type": "code",
   "execution_count": null,
   "metadata": {},
   "outputs": [],
   "source": [
    "# for plane_num in [0, 1, 2]:\n",
    "#     bin_centers = product(*caloLike_calibration.parameters_bin_centers[plane_num])\n",
    "#     for bin_center in bin_centers:\n",
    "#         caloLike_calibration.dataMCDedxPlot(plane_num=plane_num,\n",
    "#                         pdg_code=13, \n",
    "#                         data_selection='default', \n",
    "#                         parameters_value=bin_center,\n",
    "#                         add_to_title='Calibration sample')\n",
    "#         plt.savefig(save_folder_datamc+'plane_{}_theta_yz_{}_theta_xz_{}.png'.format(plane_num, bin_center[0], bin_center[1]), dpi=200)\n",
    "#         plt.close()"
   ]
  },
  {
   "cell_type": "code",
   "execution_count": null,
   "metadata": {},
   "outputs": [],
   "source": [
    "plane_num = 2\n",
    "bin_centers = product(*caloLike_calibration.parameters_bin_centers[plane_num])\n",
    "for bin_center in bin_centers:\n",
    "    caloLike_calibration.plotLookUpDedxDataMC(plane_num=plane_num,\n",
    "                    pdg_code=13, \n",
    "                    data_selection='default', \n",
    "                    parameters_value=bin_center,\n",
    "                    add_to_title='Calibration sample')\n",
    "    plt.savefig(save_folder_datamc+'plane_{}_theta_y_{:.2f}_theta_xz_{:.2f}.png'.format(plane_num, bin_center[0], bin_center[1]), dpi=200)\n",
    "    plt.tight_layout()\n",
    "    plt.close()"
   ]
  },
  {
   "cell_type": "markdown",
   "metadata": {},
   "source": [
    "## Calibration"
   ]
  },
  {
   "cell_type": "code",
   "execution_count": null,
   "metadata": {},
   "outputs": [],
   "source": [
    "def scale_calibration(mu, dedx, *parameter_values):\n",
    "    return mu * dedx"
   ]
  },
  {
   "cell_type": "code",
   "execution_count": null,
   "metadata": {},
   "outputs": [],
   "source": [
    "caloLike_calibration.setCalibrationFunction(calibration_function=scale_calibration, \n",
    "                                vectorize=True, \n",
    "                                excluded=None)\n",
    "\n",
    "caloLike_test.setCalibrationFunction(calibration_function=scale_calibration, \n",
    "                                vectorize=True, \n",
    "                                excluded=None)"
   ]
  },
  {
   "cell_type": "code",
   "execution_count": null,
   "metadata": {},
   "outputs": [],
   "source": [
    "caloLike_calibration.calibrationLikelihoodProfile(mu_binning=[0.6, 1.2, 50], \n",
    "                                      plane_num=2, \n",
    "                                      parameters_value=[0.1, 0.2], \n",
    "                                      pdg_code=13, \n",
    "                                      data_selection='default', \n",
    "                                      binned_data=False, \n",
    "                                      plot=True)\n",
    "plt.ticklabel_format(style='sci', axis='y', scilimits=(0,0))\n",
    "plt.tight_layout()\n",
    "# plt.savefig(save_folder+'plane_2_pitch_0.75.png', dpi=250)"
   ]
  },
  {
   "cell_type": "code",
   "execution_count": null,
   "metadata": {},
   "outputs": [],
   "source": [
    "# mu_scan_binning = [0.8, 1.3, 50]\n",
    "# for plane in [0, 1, 2]:\n",
    "#     caloLike_calibration.buildCalibrationTable(mu_scan_binning=mu_scan_binning, \n",
    "#                           plane_num=plane, \n",
    "#                           pdg_code=13, \n",
    "#                           data_selection='default', \n",
    "#                           plot_folder=save_folder_calibration)"
   ]
  },
  {
   "cell_type": "code",
   "execution_count": null,
   "metadata": {},
   "outputs": [],
   "source": [
    "mu_scan_binning = [0.6, 1.2, 50]\n",
    "caloLike_calibration.buildCalibrationTable(mu_scan_binning=mu_scan_binning, \n",
    "                          plane_num=2, \n",
    "                          pdg_code=13, \n",
    "                          data_selection='default', \n",
    "                          plot_folder=save_folder_calibration)"
   ]
  },
  {
   "cell_type": "code",
   "execution_count": null,
   "metadata": {},
   "outputs": [],
   "source": [
    "caloLike_calibration.plotCalibration2d(2)"
   ]
  },
  {
   "cell_type": "code",
   "execution_count": null,
   "metadata": {},
   "outputs": [],
   "source": [
    "caloLike_test.calibration_table = caloLike_calibration.calibration_table"
   ]
  },
  {
   "cell_type": "code",
   "execution_count": null,
   "metadata": {},
   "outputs": [],
   "source": [
    "i = 2\n",
    "caloLike_test.buildLookUpTableMC(i, 13, cali=True)\n",
    "caloLike_test.buildLookUpTableData(i, 'default')"
   ]
  },
  {
   "cell_type": "code",
   "execution_count": null,
   "metadata": {},
   "outputs": [],
   "source": [
    "# for i in [0, 1, 2]:\n",
    "#     caloLike_test.buildLookupTableMC(i, 13, cali=True)\n",
    "#     caloLike_test.buildLookupTableData(i, 'default')"
   ]
  },
  {
   "cell_type": "code",
   "execution_count": null,
   "metadata": {},
   "outputs": [],
   "source": [
    "plane_num = 2\n",
    "bin_centers = product(*caloLike_test.parameters_bin_centers[plane_num])\n",
    "for bin_center in bin_centers:\n",
    "    caloLike_test.plotLookUpDedxDataMC(plane_num=plane_num,\n",
    "                    pdg_code=13, \n",
    "                    data_selection='default', \n",
    "                    parameters_value=bin_center,\n",
    "                    add_to_title='Calibrated sample')\n",
    "    plt.savefig(save_folder_datamc_cali+'plane_{}_theta_y_{:.2f}_theta_xz_{:.2f}.png'.format(plane_num, bin_center[0], bin_center[1]), dpi=200)\n",
    "    plt.tight_layout()\n",
    "    plt.close()"
   ]
  },
  {
   "cell_type": "markdown",
   "metadata": {},
   "source": [
    "## Compute likelihood and plot"
   ]
  },
  {
   "cell_type": "code",
   "execution_count": null,
   "metadata": {},
   "outputs": [],
   "source": [
    "i = 2\n",
    "array = caloLike_calibration.array\n",
    "array['like_13_{}'.format(i)] = caloLike_calibration.likelihoodWholeDataset(array=array, \n",
    "                                  plane_num=i, \n",
    "                                  pdg_code=13)\n",
    "array['like_13_sum_{}'.format(i)] = array['like_13_{}'.format(i)].sum()"
   ]
  },
  {
   "cell_type": "code",
   "execution_count": null,
   "metadata": {},
   "outputs": [],
   "source": [
    "nan_mask = np.isnan(array['theta_y_y'])"
   ]
  },
  {
   "cell_type": "code",
   "execution_count": null,
   "metadata": {},
   "outputs": [],
   "source": [
    "np.isnan(array['dir_x_y'][nan_mask].flatten()).sum()"
   ]
  },
  {
   "cell_type": "code",
   "execution_count": null,
   "metadata": {},
   "outputs": [],
   "source": [
    "np.isnan(array['dir_y_y'][nan_mask].flatten()).sum()"
   ]
  },
  {
   "cell_type": "code",
   "execution_count": null,
   "metadata": {},
   "outputs": [],
   "source": [
    "np.arccos(array['dir_y_y'][nan_mask])"
   ]
  },
  {
   "cell_type": "code",
   "execution_count": null,
   "metadata": {},
   "outputs": [],
   "source": [
    "array['dir_z_y'][nan_mask].flatten()"
   ]
  },
  {
   "cell_type": "code",
   "execution_count": null,
   "metadata": {},
   "outputs": [],
   "source": [
    "len(caloLike_calibration.lookup_tables[13][2])"
   ]
  },
  {
   "cell_type": "code",
   "execution_count": null,
   "metadata": {},
   "outputs": [],
   "source": [
    "caloLike_calibration.plotVariableMC(var_name='dir_y_y', bins=20, range=[-1, 1], function_mask=None, quality_mask=True, label='mc')"
   ]
  },
  {
   "cell_type": "markdown",
   "metadata": {},
   "source": [
    "## Little study horizontal and vertical tracks"
   ]
  },
  {
   "cell_type": "code",
   "execution_count": null,
   "metadata": {},
   "outputs": [],
   "source": [
    "vertical = array_mc_train['dedx_y'][muon_train & \n",
    "                                    (abs(array_mc_train['trk_dir_y'])> 0.9) & \n",
    "                                    (abs(array_mc_train['trk_dir_x']) < 0.05)].flatten()\n",
    "horizontal = array_mc_train['dedx_y'][muon_train & \n",
    "                                      (abs(array_mc_train['trk_dir_x'])> 0.9)].flatten()"
   ]
  },
  {
   "cell_type": "code",
   "execution_count": null,
   "metadata": {},
   "outputs": [],
   "source": [
    "binning = [100, 0, 5]\n",
    "plt.hist(vertical, \n",
    "         range=(binning[1], binning[2]), \n",
    "         bins=binning[0], \n",
    "         histtype='step',\n",
    "         label='|direction y| > 0.9 & |direction x| < 0.05',\n",
    "        density=True);\n",
    "plt.hist(horizontal, \n",
    "         range=(binning[1], binning[2]), \n",
    "         bins=binning[0], \n",
    "         histtype='step',\n",
    "         label='|direction x| > 0.9',\n",
    "        density=True);\n",
    "plt.legend()\n",
    "plt.xlabel('dE/dx [MeV/cm]')\n",
    "plt.ylabel('Density [(MeV/cm)$^{-1}$]')\n",
    "plt.title('ACPT simulated\\ndE/dx Y-plane', loc='left')\n",
    "plt.title('MicroBooNE Preliminary', loc='right')\n",
    "plt.savefig(save_folder+'dedx_vs_directions.png', dpi=250)"
   ]
  },
  {
   "cell_type": "code",
   "execution_count": null,
   "metadata": {},
   "outputs": [],
   "source": [
    "vertical_all_x = array_mc_train['dedx_y'][muon_train & \n",
    "                                    (abs(array_mc_train['trk_dir_y'])> 0.9)]\n",
    "x_values = array_mc_train['trk_dir_x'][muon_train & \n",
    "                                    (abs(array_mc_train['trk_dir_y'])> 0.9)]\n",
    "\n",
    "x_values_expanded = x_values * (vertical_all_x == vertical_all_x)"
   ]
  },
  {
   "cell_type": "code",
   "execution_count": null,
   "metadata": {},
   "outputs": [],
   "source": [
    "plt.hist2d(x_values_expanded.flatten(), \n",
    "           vertical_all_x.flatten(),\n",
    "           range=((-0.45, 0.45), (0, 4)),\n",
    "           bins=(50, 50), \n",
    "           norm=LogNorm())\n",
    "plt.colorbar()\n",
    "\n",
    "plt.xlabel('Direction X')\n",
    "plt.ylabel('dE/dx [MeV/cm]')\n",
    "plt.title('ACPT simulated, |direction-Y| > 0.9\\ndE/dx Y-plane', loc='left')\n",
    "plt.title('MicroBooNE Preliminary', loc='right')\n",
    "plt.tight_layout()\n",
    "plt.savefig(save_folder+'dedx_vs_x_direction.png', dpi=250)"
   ]
  },
  {
   "cell_type": "markdown",
   "metadata": {},
   "source": [
    "## Little study for the cutoff at low dE/dx"
   ]
  },
  {
   "cell_type": "code",
   "execution_count": null,
   "metadata": {},
   "outputs": [],
   "source": [
    "binning = [100, 0, 1]\n",
    "plt.hist(array_mc_train['dedx_y'][muon_train].flatten(), \n",
    "         range=(binning[1], binning[2]), \n",
    "         bins=binning[0], \n",
    "         histtype='step',\n",
    "         label='mc',\n",
    "        density=True);\n",
    "plt.hist(array_data_train['dedx_y'][data_train_mask].flatten(), \n",
    "         range=(binning[1], binning[2]), \n",
    "         bins=binning[0], \n",
    "         histtype='step',\n",
    "         label='data',\n",
    "        density=True);\n",
    "plt.legend()\n",
    "plt.xlabel('dE/dx [MeV/cm]')\n",
    "plt.ylabel('Density [(MeV/cm)$^{-1}$]')\n",
    "plt.title('ACPT simulated\\ndE/dx Y-plane', loc='left')\n",
    "plt.title('MicroBooNE Preliminary', loc='right')\n",
    "plt.savefig(save_folder+'low_dedx_cutoff_yplane.png', dpi=250)"
   ]
  },
  {
   "cell_type": "code",
   "execution_count": null,
   "metadata": {},
   "outputs": [],
   "source": [
    "binning = [100, 0, 1]\n",
    "plt.hist(array_mc_train['dedx_u'][muon_train].flatten(), \n",
    "         range=(binning[1], binning[2]), \n",
    "         bins=binning[0], \n",
    "         histtype='step',\n",
    "         label='mc',\n",
    "        density=True);\n",
    "plt.hist(array_data_train['dedx_u'][data_train_mask].flatten(), \n",
    "         range=(binning[1], binning[2]), \n",
    "         bins=binning[0], \n",
    "         histtype='step',\n",
    "         label='data',\n",
    "        density=True);\n",
    "plt.legend()\n",
    "plt.xlabel('dE/dx [MeV/cm]')\n",
    "plt.ylabel('Density [(MeV/cm)$^{-1}$]')\n",
    "plt.title('ACPT simulated\\ndE/dx U-plane', loc='left')\n",
    "plt.title('MicroBooNE Preliminary', loc='right')\n",
    "plt.savefig(save_folder+'low_dedx_cutoff_uplane.png', dpi=250)"
   ]
  },
  {
   "cell_type": "code",
   "execution_count": null,
   "metadata": {},
   "outputs": [],
   "source": [
    "binning = [100, 0, 1]\n",
    "plt.hist(array_mc_train['dedx_v'][muon_train].flatten(), \n",
    "         range=(binning[1], binning[2]), \n",
    "         bins=binning[0], \n",
    "         histtype='step',\n",
    "         label='mc',\n",
    "        density=True);\n",
    "plt.hist(array_data_train['dedx_v'][data_train_mask].flatten(), \n",
    "         range=(binning[1], binning[2]), \n",
    "         bins=binning[0], \n",
    "         histtype='step',\n",
    "         label='data',\n",
    "        density=True);\n",
    "plt.legend()\n",
    "plt.xlabel('dE/dx [MeV/cm]')\n",
    "plt.ylabel('Density [(MeV/cm)$^{-1}$]')\n",
    "plt.title('ACPT simulated\\ndE/dx V-plane', loc='left')\n",
    "plt.title('MicroBooNE Preliminary', loc='right')\n",
    "plt.savefig(save_folder+'low_dedx_cutoff_vplane.png', dpi=250)"
   ]
  },
  {
   "cell_type": "markdown",
   "metadata": {},
   "source": [
    "# Study of the angles \\theta_xz and \\theta_yz"
   ]
  },
  {
   "cell_type": "code",
   "execution_count": null,
   "metadata": {},
   "outputs": [],
   "source": [
    "no_dir = (np.abs(caloLike_calibration.array['dir_z_y'])<0.1)\n",
    "\n",
    "x = caloLike_calibration.array['dir_x_y'][caloLike_calibration.quality_mask].flatten()\n",
    "y = caloLike_calibration.array['dir_y_y'][caloLike_calibration.quality_mask].flatten()\n",
    "\n",
    "plt.hist2d(x, y, range=[[-1, 1], [-1, 1]], bins=[101, 101], norm=LogNorm());\n",
    "plt.colorbar()"
   ]
  },
  {
   "cell_type": "code",
   "execution_count": null,
   "metadata": {},
   "outputs": [],
   "source": [
    "no_dir = (np.abs(caloLike_calibration.array['dir_z_y'])<0.1)\n",
    "\n",
    "dir_z_plus = (caloLike_calibration.array['dir_z_y']> 0.9)\n",
    "dir_z_minus = (caloLike_calibration.array['dir_z_y']< -0.9)\n",
    "dir_x_plus = (caloLike_calibration.array['dir_x_y']> 0.9)\n",
    "dir_x_minus = (caloLike_calibration.array['dir_x_y']< -0.9)\n",
    "dir_y_plus = (caloLike_calibration.array['dir_y_y']> 0.9)\n",
    "dir_y_minus = (caloLike_calibration.array['dir_y_y']< -0.9)\n",
    "\n",
    "selection = caloLike_calibration.quality_mask\n",
    "\n",
    "x = caloLike_calibration.array['theta_xz_y'][selection].flatten()\n",
    "y = caloLike_calibration.array['theta_yz_y'][selection].flatten()\n",
    "\n",
    "plt.hist2d(x, y, bins=[101, 101], range=[[-math.pi, math.pi], [-math.pi, math.pi]], norm=LogNorm());\n",
    "plt.xlabel('theta_xz')\n",
    "plt.ylabel('theta_yz')\n",
    "plt.colorbar()"
   ]
  },
  {
   "cell_type": "code",
   "execution_count": null,
   "metadata": {},
   "outputs": [],
   "source": [
    "x = caloLike_calibration.array['abs_theta_xz_y'][caloLike_calibration.quality_mask].flatten()\n",
    "y = caloLike_calibration.array['abs_theta_yz_y'][caloLike_calibration.quality_mask].flatten()\n",
    "\n",
    "plt.hist2d(x, y, bins=[100, 100], norm=LogNorm());\n",
    "plt.colorbar()"
   ]
  },
  {
   "cell_type": "code",
   "execution_count": null,
   "metadata": {},
   "outputs": [],
   "source": [
    "no_dir = (np.abs(caloLike_calibration.array['dir_z_y'])<0.1)\n",
    "\n",
    "dir_z_plus = (caloLike_calibration.array['dir_z_y']> 0.9)\n",
    "dir_z_minus = (caloLike_calibration.array['dir_z_y']< -0.9)\n",
    "dir_x_plus = (caloLike_calibration.array['dir_x_y']> 0.9)\n",
    "dir_x_minus = (caloLike_calibration.array['dir_x_y']< -0.9)\n",
    "dir_y_plus = (caloLike_calibration.array['dir_y_y']> 0.9)\n",
    "dir_y_minus = (caloLike_calibration.array['dir_y_y']< -0.9)\n",
    "\n",
    "selection = caloLike_calibration.quality_mask\n",
    "\n",
    "x = caloLike_calibration.array['theta_xz_y'][selection].flatten()\n",
    "y = caloLike_calibration.array['theta_y_y'][selection].flatten()\n",
    "\n",
    "plt.hist2d(x, y, bins=[101, 101], range=[[-math.pi, math.pi], [0, math.pi]], norm=LogNorm());\n",
    "plt.xlabel('theta_xz')\n",
    "plt.ylabel('theta_y')\n",
    "plt.colorbar()"
   ]
  },
  {
   "cell_type": "code",
   "execution_count": null,
   "metadata": {},
   "outputs": [],
   "source": [
    "no_dir = (np.abs(caloLike_calibration.array['dir_z_y'])<0.1)\n",
    "\n",
    "dir_z_plus = (caloLike_calibration.array['dir_z_y']> 0.8)\n",
    "dir_z_minus = (caloLike_calibration.array['dir_z_y']< -0.9)\n",
    "dir_x_plus = (caloLike_calibration.array['dir_x_y']> 0.9)\n",
    "dir_x_minus = (caloLike_calibration.array['dir_x_y']< -0.9)\n",
    "dir_y_plus = (caloLike_calibration.array['dir_y_y']> 0.9)\n",
    "dir_y_minus = (caloLike_calibration.array['dir_y_y']< -0.9)\n",
    "\n",
    "selection = caloLike_calibration.quality_mask\n",
    "\n",
    "x = caloLike_calibration.array['theta_xz_y'][selection].flatten()\n",
    "y = caloLike_calibration.array['theta_yx_y'][selection].flatten()\n",
    "\n",
    "plt.hist2d(x, y, bins=[101, 101], range=[[-math.pi, math.pi], [-math.pi, math.pi]], norm=LogNorm());\n",
    "plt.xlabel('theta_xz')\n",
    "plt.ylabel('theta_yx')\n",
    "plt.colorbar()"
   ]
  },
  {
   "cell_type": "code",
   "execution_count": null,
   "metadata": {},
   "outputs": [],
   "source": [
    "no_dir = (np.abs(caloLike_calibration.array['dir_z_y'])<0.1)\n",
    "\n",
    "dir_z_plus = (caloLike_calibration.array['dir_z_y']> 0.8)\n",
    "dir_z_minus = (caloLike_calibration.array['dir_z_y']< -0.9)\n",
    "dir_x_plus = (caloLike_calibration.array['dir_x_y']> 0.9)\n",
    "dir_x_minus = (caloLike_calibration.array['dir_x_y']< -0.9)\n",
    "dir_y_plus = (caloLike_calibration.array['dir_y_y']> 0.9)\n",
    "dir_y_minus = (caloLike_calibration.array['dir_y_y']< -0.9)\n",
    "\n",
    "selection = caloLike_calibration.quality_mask\n",
    "\n",
    "x = caloLike_calibration.array['theta_xz_y'][selection].flatten()\n",
    "y = caloLike_calibration.array['theta_y_y'][selection].flatten()\n",
    "\n",
    "plt.hist2d(x, y, bins=[101, 101], range=[[-math.pi, math.pi], [0, math.pi]], norm=LogNorm());\n",
    "plt.xlabel('theta_xz_y')\n",
    "plt.ylabel('theta_y_y')\n",
    "plt.colorbar()\n",
    "plt.savefig(save_folder + 'theta_y_y_vs_theta_xz_y.png', dpi=200)"
   ]
  },
  {
   "cell_type": "code",
   "execution_count": null,
   "metadata": {},
   "outputs": [],
   "source": [
    "no_dir = (np.abs(caloLike_calibration.array['dir_z_y'])<0.1)\n",
    "\n",
    "dir_z_plus = (caloLike_calibration.array['dir_z_y']> 0.8)\n",
    "dir_z_minus = (caloLike_calibration.array['dir_z_y']< -0.9)\n",
    "dir_x_plus = (caloLike_calibration.array['dir_x_y']> 0.9)\n",
    "dir_x_minus = (caloLike_calibration.array['dir_x_y']< -0.9)\n",
    "dir_y_plus = (caloLike_calibration.array['dir_y_y']> 0.9)\n",
    "dir_y_minus = (caloLike_calibration.array['dir_y_y']< -0.9)\n",
    "\n",
    "selection = caloLike_calibration.quality_mask\n",
    "\n",
    "x = caloLike_calibration.array['abs_theta_xz_y'][selection].flatten()\n",
    "y = caloLike_calibration.array['abs_theta_y_y'][selection].flatten()\n",
    "\n",
    "plt.hist2d(x, y, bins=[21, 21], range=[[0, math.pi/2], [0, math.pi/2]], norm=LogNorm());\n",
    "plt.xlabel('abs_theta_xz_y')\n",
    "plt.ylabel('abs_theta_y_y')\n",
    "plt.colorbar()\n",
    "# plt.savefig(save_folder + 'abs_theta_y_y_vs_abs_theta_xz_y.png', dpi=200)"
   ]
  },
  {
   "cell_type": "code",
   "execution_count": null,
   "metadata": {},
   "outputs": [],
   "source": [
    "array_used = caloLike_test.array\n",
    "qual_mask = caloLike_test.quality_mask"
   ]
  },
  {
   "cell_type": "code",
   "execution_count": null,
   "metadata": {},
   "outputs": [],
   "source": [
    "mask_thetay_pi2 = array_used['abs_theta_y_y'] == math.pi/2"
   ]
  },
  {
   "cell_type": "code",
   "execution_count": null,
   "metadata": {},
   "outputs": [],
   "source": [
    "array_used['trk_start_z'][qual_mask & mask_diry_1.any()].flatten()"
   ]
  },
  {
   "cell_type": "code",
   "execution_count": null,
   "metadata": {},
   "outputs": [],
   "source": [
    "array_used['trk_end_z'][qual_mask & mask_diry_1.any()].flatten()"
   ]
  },
  {
   "cell_type": "code",
   "execution_count": null,
   "metadata": {},
   "outputs": [],
   "source": [
    "array_used['z_y'][qual_mask & mask_diry_1.any()].flatten()"
   ]
  },
  {
   "cell_type": "code",
   "execution_count": null,
   "metadata": {},
   "outputs": [],
   "source": [
    "array_used['dir_x_y'][qual_mask & mask_diry_1].flatten()"
   ]
  },
  {
   "cell_type": "code",
   "execution_count": null,
   "metadata": {},
   "outputs": [],
   "source": [
    "array_used['dir_y_y'][qual_mask & mask_thetay_pi2].flatten()"
   ]
  },
  {
   "cell_type": "code",
   "execution_count": null,
   "metadata": {},
   "outputs": [],
   "source": [
    "array_used['dir_z_y'][qual_mask & mask_thetay_pi2].flatten()"
   ]
  },
  {
   "cell_type": "code",
   "execution_count": null,
   "metadata": {},
   "outputs": [],
   "source": [
    "array_used['pitch_y'][qual_mask & mask_thetay_pi2].flatten()"
   ]
  },
  {
   "cell_type": "code",
   "execution_count": null,
   "metadata": {},
   "outputs": [],
   "source": [
    "mask_diry_1 = np.abs(array_used['dir_y_y']) == 1"
   ]
  },
  {
   "cell_type": "code",
   "execution_count": null,
   "metadata": {},
   "outputs": [],
   "source": [
    "array_used['abs_theta_xz_y'][qual_mask & mask_diry_1.any()].flatten()"
   ]
  },
  {
   "cell_type": "code",
   "execution_count": null,
   "metadata": {},
   "outputs": [],
   "source": [
    "array = array_mc_train\n",
    "mask = selection_mask(array)"
   ]
  },
  {
   "cell_type": "code",
   "execution_count": null,
   "metadata": {},
   "outputs": [],
   "source": [
    "array['evt'][~mask]"
   ]
  },
  {
   "cell_type": "code",
   "execution_count": null,
   "metadata": {},
   "outputs": [],
   "source": [
    "array['run'][~mask]"
   ]
  },
  {
   "cell_type": "code",
   "execution_count": null,
   "metadata": {},
   "outputs": [],
   "source": [
    "array['sub'][~mask]"
   ]
  },
  {
   "cell_type": "code",
   "execution_count": null,
   "metadata": {},
   "outputs": [],
   "source": [
    "array['dir_x_y'][~mask]"
   ]
  },
  {
   "cell_type": "code",
   "execution_count": null,
   "metadata": {},
   "outputs": [],
   "source": [
    "array['dir_y_y'][~mask]"
   ]
  },
  {
   "cell_type": "code",
   "execution_count": null,
   "metadata": {},
   "outputs": [],
   "source": [
    "array['dir_z_y'][~mask]"
   ]
  },
  {
   "cell_type": "code",
   "execution_count": null,
   "metadata": {},
   "outputs": [],
   "source": [
    "array['z_y'][~mask]"
   ]
  },
  {
   "cell_type": "code",
   "execution_count": null,
   "metadata": {},
   "outputs": [],
   "source": [
    "array['trk_start_z'][~mask]"
   ]
  },
  {
   "cell_type": "code",
   "execution_count": null,
   "metadata": {},
   "outputs": [],
   "source": [
    "array['trk_end_z'][~mask]"
   ]
  },
  {
   "cell_type": "code",
   "execution_count": null,
   "metadata": {},
   "outputs": [],
   "source": [
    "aux = (np.abs(array['dir_pitch_y']) - array['pitch_y'])[~mask].flatten()\n",
    "out = np.arctan(aux)\n",
    "plt.hist(out, bins=100, log=True);\n",
    "plt.xlabel('arctan(Pitch from direction - Pitch from calorimetry)')\n",
    "plt.title('Events with bad quality')"
   ]
  },
  {
   "cell_type": "code",
   "execution_count": null,
   "metadata": {},
   "outputs": [],
   "source": [
    "aux = (np.abs(array['dir_pitch_y']) - array['pitch_y'])[mask].flatten()\n",
    "out = np.arctan(aux)\n",
    "plt.hist(out, bins=100, log=True);\n",
    "plt.xlabel('arctan(Pitch from direction - Pitch from calorimetry)')\n",
    "plt.title('Events with good quality')"
   ]
  },
  {
   "cell_type": "markdown",
   "metadata": {},
   "source": [
    "# Random checks"
   ]
  },
  {
   "cell_type": "code",
   "execution_count": null,
   "metadata": {},
   "outputs": [],
   "source": [
    "np.isnan(caloLike_calibration.array_mc['dir_x_y']).any()"
   ]
  },
  {
   "cell_type": "code",
   "execution_count": null,
   "metadata": {},
   "outputs": [],
   "source": [
    "caloLike_calibration.array['dedx_y'][-2]"
   ]
  },
  {
   "cell_type": "code",
   "execution_count": null,
   "metadata": {},
   "outputs": [],
   "source": [
    "caloLike_calibration.array['rr_y'][-2]"
   ]
  },
  {
   "cell_type": "code",
   "execution_count": null,
   "metadata": {},
   "outputs": [],
   "source": [
    "caloLike_calibration.array['pitch_y'][-2]"
   ]
  },
  {
   "cell_type": "code",
   "execution_count": null,
   "metadata": {},
   "outputs": [],
   "source": [
    "ev_num = -2\n",
    "print('evt', caloLike_calibration.array['evt'][ev_num])\n",
    "print('run', caloLike_calibration.array['run'][ev_num])\n",
    "print('sub', caloLike_calibration.array['sub'][ev_num])\n",
    "print()\n",
    "print('trk_start_x', caloLike_calibration.array['trk_start_x'][ev_num])\n",
    "print('trk_start_y', caloLike_calibration.array['trk_start_y'][ev_num])\n",
    "print('trk_start_z', caloLike_calibration.array['trk_start_z'][ev_num])\n",
    "print()\n",
    "print('trk_end_x', caloLike_calibration.array['trk_end_x'][ev_num])\n",
    "print('trk_end_y', caloLike_calibration.array['trk_end_y'][ev_num])\n",
    "print('trk_end_z', caloLike_calibration.array['trk_end_z'][ev_num])\n",
    "print()\n",
    "print()\n",
    "print('x_y', caloLike_calibration.array['x_y'][ev_num])\n",
    "print('y_y', caloLike_calibration.array['y_y'][ev_num])\n",
    "print('z_y', caloLike_calibration.array['z_y'][ev_num])\n",
    "print()\n",
    "print()\n",
    "print('x_u', caloLike_calibration.array['x_u'][ev_num])\n",
    "print('y_u', caloLike_calibration.array['y_u'][ev_num])\n",
    "print('z_u', caloLike_calibration.array['z_u'][ev_num])\n",
    "print()\n",
    "print()\n",
    "print('x_v', caloLike_calibration.array['x_v'][ev_num])\n",
    "print('y_v', caloLike_calibration.array['y_v'][ev_num])\n",
    "print('z_v', caloLike_calibration.array['z_v'][ev_num])\n",
    "print()\n",
    "print()\n",
    "print('dir_x_y', caloLike_calibration.array['dir_x_y'][ev_num])\n",
    "print('dir_y_y', caloLike_calibration.array['dir_y_y'][ev_num])\n",
    "print('dir_z_y', caloLike_calibration.array['dir_z_y'][ev_num])\n",
    "print()\n",
    "print()\n",
    "print('dir_x_u', caloLike_calibration.array['dir_x_u'][ev_num])\n",
    "print('dir_y_u', caloLike_calibration.array['dir_y_u'][ev_num])\n",
    "print('dir_z_u', caloLike_calibration.array['dir_z_u'][ev_num])\n",
    "print()\n",
    "print()\n",
    "print('dir_x_v', caloLike_calibration.array['dir_x_v'][ev_num])\n",
    "print('dir_y_v', caloLike_calibration.array['dir_y_v'][ev_num])\n",
    "print('dir_z_v', caloLike_calibration.array['dir_z_v'][ev_num])"
   ]
  }
 ],
 "metadata": {
  "kernelspec": {
   "display_name": "Python 3",
   "language": "python",
   "name": "python3"
  },
  "language_info": {
   "codemirror_mode": {
    "name": "ipython",
    "version": 3
   },
   "file_extension": ".py",
   "mimetype": "text/x-python",
   "name": "python",
   "nbconvert_exporter": "python",
   "pygments_lexer": "ipython3",
   "version": "3.7.4"
  }
 },
 "nbformat": 4,
 "nbformat_minor": 2
}
