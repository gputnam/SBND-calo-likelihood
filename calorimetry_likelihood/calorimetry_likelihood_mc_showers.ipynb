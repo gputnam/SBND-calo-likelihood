{
 "cells": [
  {
   "cell_type": "markdown",
   "metadata": {},
   "source": [
    "# Performance on simulated electrons and photons"
   ]
  },
  {
   "cell_type": "code",
   "execution_count": 3,
   "metadata": {},
   "outputs": [],
   "source": [
    "%load_ext autoreload\n",
    "%autoreload 2\n",
    "\n",
    "import math\n",
    "from itertools import product\n",
    "import uproot\n",
    "import awkward\n",
    "import numpy as np\n",
    "import matplotlib.pyplot as plt\n",
    "from matplotlib.colors import LogNorm\n",
    "from scipy.stats import binned_statistic\n",
    "\n",
    "import matplotlib\n",
    "matplotlib.rcParams.update({'font.size': 12})\n",
    "\n",
    "from calo_likelihood import caloLikelihood\n",
    "from general_functions import *\n",
    "from loaders import *\n",
    "from initializers import initialisation_for_calorimetry_shower"
   ]
  },
  {
   "cell_type": "code",
   "execution_count": 4,
   "metadata": {},
   "outputs": [],
   "source": [
    "today = '20_02_12'"
   ]
  },
  {
   "cell_type": "code",
   "execution_count": 5,
   "metadata": {},
   "outputs": [],
   "source": [
    "!mkdir -p ~/Dropbox/MicroBooNE/_fig/$today/shower_calo/\n",
    "!mkdir -p ~/Dropbox/MicroBooNE/_fig/$today/shower_calo/pdfs/\n",
    "save_folder = '/home/nic/Dropbox/MicroBooNE/_fig/' + today + '/shower_calo/'\n",
    "save_folder_pdfs = save_folder + 'pdfs/'"
   ]
  },
  {
   "cell_type": "markdown",
   "metadata": {},
   "source": [
    "## Loading and initializing"
   ]
  },
  {
   "cell_type": "code",
   "execution_count": 6,
   "metadata": {},
   "outputs": [],
   "source": [
    "branches = [\n",
    "    'run',\n",
    "    'sub',\n",
    "    'evt',\n",
    "    \n",
    "    'generation',\n",
    "    'backtracked_pdg',\n",
    "    'backtracked_e',\n",
    "    'backtracked_purity',\n",
    "    'backtracked_completeness',\n",
    "    'backtracked_overlay_purity',\n",
    "    'backtracked_start_x',\n",
    "    'backtracked_start_y',\n",
    "    'backtracked_start_z',\n",
    "    'backtracked_start_t',\n",
    "    'backtracked_sce_start_x',\n",
    "    'backtracked_sce_start_y',\n",
    "    'backtracked_sce_start_z',\n",
    "    \n",
    "    'nplanehits_U',\n",
    "    'nplanehits_V',\n",
    "    'nplanehits_Y',\n",
    "    'trk_score',\n",
    "\n",
    "    'trk_start_x',\n",
    "    'trk_start_y',\n",
    "    'trk_start_z',\n",
    "    \n",
    "    'trk_sce_start_x',\n",
    "    'trk_sce_start_y',\n",
    "    'trk_sce_start_z',\n",
    "\n",
    "    'trk_end_x',\n",
    "    'trk_end_y',\n",
    "    'trk_end_z',\n",
    "    \n",
    "    'trk_sce_end_x',\n",
    "    'trk_sce_end_y',\n",
    "    'trk_sce_end_z',\n",
    "    \n",
    "    'trk_theta',\n",
    "    'trk_phi',\n",
    "\n",
    "    'trk_dir_x',\n",
    "    'trk_dir_y',\n",
    "    'trk_dir_z',\n",
    "\n",
    "    'trk_len',\n",
    "    \n",
    "#     'dqdx_u',\n",
    "#     'dqdx_v',\n",
    "#     'dqdx_y',\n",
    "\n",
    "    'dedx_u',\n",
    "    'dedx_v',\n",
    "    'dedx_y',\n",
    "\n",
    "    'rr_u',\n",
    "    'rr_v',\n",
    "    'rr_y',\n",
    "\n",
    "    'pitch_u',\n",
    "    'pitch_v',\n",
    "    'pitch_y',\n",
    "    \n",
    "    'x_u',\n",
    "    'x_v',\n",
    "    'x_y',\n",
    "    \n",
    "    'y_u',\n",
    "    'y_v',\n",
    "    'y_y',\n",
    "    \n",
    "    'z_u',\n",
    "    'z_v',\n",
    "    'z_y',\n",
    "    \n",
    "    'dir_x_u',\n",
    "    'dir_x_v',\n",
    "    'dir_x_y',\n",
    "    \n",
    "    'dir_y_u',\n",
    "    'dir_y_v',\n",
    "    'dir_y_y',\n",
    "    \n",
    "    'dir_z_u',\n",
    "    'dir_z_v',\n",
    "    'dir_z_y',\n",
    "]"
   ]
  },
  {
   "cell_type": "code",
   "execution_count": 7,
   "metadata": {},
   "outputs": [],
   "source": [
    "# Declaring files, folder and tree\n",
    "\n",
    "directory = '~/Desktop/MicroBooNE/calorimetry_likelihood/v05/'\n",
    "\n",
    "folder = \"nuselection\"\n",
    "tree = \"CalorimetryAnalyzer\"\n",
    "\n",
    "split_factor = 0.2\n",
    "split_factor2 = 0.4\n",
    "\n",
    "file_lists = {}\n",
    "arrays_train = {}\n",
    "arrays_test = {}\n",
    "\n",
    "file_lists['nue'] = directory + 'bnb_nue_shr/out.root'\n",
    "file_lists['ccpi0'] = directory + 'bnb_ccpi0_shr/out.root'\n",
    "file_lists['ncpi0'] = directory + 'bnb_ncpi0_shr/out.root'"
   ]
  },
  {
   "cell_type": "code",
   "execution_count": 8,
   "metadata": {},
   "outputs": [],
   "source": [
    "#Loading arrays\n",
    "for name, file_path in file_lists.items():\n",
    "    root_file = uproot.open(file_path)[folder][tree]\n",
    "    entry_split = int(len(root_file) * split_factor)\n",
    "    entry_split2 = int(len(root_file) * split_factor2)\n",
    "    arrays_train[name] = root_file.arrays(branches, namedecode=\"utf-8\", entrystop=entry_split)\n",
    "    arrays_test[name] = root_file.arrays(branches, namedecode=\"utf-8\", entrystart=entry_split, entrystop=entry_split2)"
   ]
  },
  {
   "cell_type": "code",
   "execution_count": 9,
   "metadata": {},
   "outputs": [],
   "source": [
    "# Merging nue, nu, and ncpi0\n",
    "array_train = {}\n",
    "array_test = {}\n",
    "for variable in branches:\n",
    "    array_train[variable] = awkward.concatenate([array[variable] for array in arrays_train.values()])    \n",
    "    array_test[variable] = awkward.concatenate([array[variable] for array in arrays_test.values()])"
   ]
  },
  {
   "cell_type": "code",
   "execution_count": 10,
   "metadata": {},
   "outputs": [
    {
     "name": "stderr",
     "output_type": "stream",
     "text": [
      "/home/nic/Dropbox/MicroBooNE/bnb_nue_analysis/lib/general_functions.py:89: RuntimeWarning: overflow encountered in square\n",
      "  (point1_y - point2_y)**2 +\n",
      "/home/nic/Dropbox/MicroBooNE/bnb_nue_analysis/lib/general_functions.py:90: RuntimeWarning: overflow encountered in square\n",
      "  (point1_z - point2_z)**2 )\n",
      "/home/nic/.local/lib/python3.7/site-packages/awkward/array/jagged.py:1035: RuntimeWarning: invalid value encountered in subtract\n",
      "  result = getattr(ufunc, method)(*inputs, **kwargs)\n",
      "/home/nic/.local/lib/python3.7/site-packages/awkward/array/jagged.py:1035: RuntimeWarning: overflow encountered in power\n",
      "  result = getattr(ufunc, method)(*inputs, **kwargs)\n",
      "/home/nic/.local/lib/python3.7/site-packages/awkward/array/jagged.py:1035: RuntimeWarning: invalid value encountered in arccos\n",
      "  result = getattr(ufunc, method)(*inputs, **kwargs)\n"
     ]
    }
   ],
   "source": [
    "# initialising arrays\n",
    "for array in [array_train, array_test]:\n",
    "    initialisation_for_calorimetry_shower(array)"
   ]
  },
  {
   "cell_type": "code",
   "execution_count": 12,
   "metadata": {},
   "outputs": [],
   "source": [
    "def selection_for_train(array):\n",
    "    return (array['backtracked_purity'] > 0.9) &\\\n",
    "           (array['start_is_fiducial']) &\\\n",
    "           (array['distance_3d_start'] < 2) &\\\n",
    "           (array['distance_3d_start'] > 0) &\\\n",
    "           ((array['dedx_u'].count() + array['dedx_v'].count() + array['dedx_y'].count()) > 0 ) &\\\n",
    "           ((abs(array['backtracked_pdg']) == 11) | (abs(array['backtracked_pdg']) == 22))\n",
    "\n",
    "def selection_for_test(array):\n",
    "    return (array['backtracked_purity'] > 0.9) &\\\n",
    "           (array['start_is_fiducial']) &\\\n",
    "           (array['distance_3d_start'] < 2) &\\\n",
    "           ((array['dedx_u'].count() + array['dedx_v'].count() + array['dedx_y'].count()) > 0 ) &\\\n",
    "           (array['distance_3d_start'] > 0)\n",
    "\n",
    "def electron_for_test(array):\n",
    "    return selection_for_test(array) & (np.abs(array['backtracked_pdg'])==11)\n",
    "\n",
    "def photon_for_test(array):\n",
    "    return selection_for_test(array) & (np.abs(array['backtracked_pdg'])==22)\n",
    "\n",
    "def cosmic_for_test(array):\n",
    "    return selection_for_test(array) & (np.abs(array['backtracked_pdg'])==0)"
   ]
  },
  {
   "cell_type": "code",
   "execution_count": 13,
   "metadata": {},
   "outputs": [],
   "source": [
    "#declaring some masks\n",
    "selection_train = selection_for_train(array_train)\n",
    "selection_test = selection_for_test(array_test)\n",
    "\n",
    "electron_train = (abs(array_train['backtracked_pdg']) == 11)\n",
    "photon_train = (abs(array_train['backtracked_pdg']) == 22)\n",
    "\n",
    "electron_test = (abs(array_test['backtracked_pdg']) == 11)\n",
    "photon_test = (abs(array_test['backtracked_pdg']) == 22)"
   ]
  },
  {
   "cell_type": "code",
   "execution_count": 14,
   "metadata": {},
   "outputs": [],
   "source": [
    "# Easy start point resolution studies"
   ]
  },
  {
   "cell_type": "code",
   "execution_count": 15,
   "metadata": {},
   "outputs": [
    {
     "data": {
      "image/png": "[encoded data removed]",
      "text/plain": [
       "<Figure size 432x288 with 1 Axes>"
      ]
     },
     "metadata": {
      "needs_background": "light"
     },
     "output_type": "display_data"
    }
   ],
   "source": [
    "def base_selection_for_res_start_study(array):\n",
    "    return (array['backtracked_purity'] > 0.9) &\\\n",
    "           (array['start_is_fiducial']) &\\\n",
    "           (array['backtracked_e'] > 1) &\\\n",
    "           ((abs(array['backtracked_pdg']) == 11) | (abs(array['backtracked_pdg']) == 22))\n",
    "\n",
    "base_sel = base_selection_for_res_start_study(array_train)\n",
    "plt.hist(array_train['distance_3d_start'][electron_train & base_sel], bins=50, range=[0, 150], alpha=0.5, density=True, label='electron')\n",
    "plt.hist(array_train['distance_3d_start'][photon_train & base_sel], bins=50, range=[0, 150], alpha=0.5, density=True, label='photon')\n",
    "plt.legend()\n",
    "plt.xlabel('3D start point resolution [cm]')\n",
    "plt.ylabel('probability density [1/cm]')\n",
    "plt.title('Electron and photon candidates in BNB\\nbacktracked to electrons and photons\\npurity>90%, start point in the fiducial volume\\nMicroBooNE preliminary', loc='left')\n",
    "plt.tight_layout()\n",
    "# plt.savefig(save_folder + 'electron_photon_startpoint_res.png', dpi=250)"
   ]
  },
  {
   "cell_type": "code",
   "execution_count": 16,
   "metadata": {},
   "outputs": [
    {
     "data": {
      "image/png": "[encoded data removed]",
      "text/plain": [
       "<Figure size 432x288 with 1 Axes>"
      ]
     },
     "metadata": {
      "needs_background": "light"
     },
     "output_type": "display_data"
    }
   ],
   "source": [
    "plt.hist(array_train['backtracked_e'][electron_train & selection_train], bins=50, range=[0, 1], alpha=0.5, density=True, label='electron')\n",
    "plt.hist(array_train['backtracked_e'][photon_train & selection_train], bins=50, range=[0, 1], alpha=0.5, density=True, label='photon')\n",
    "plt.legend()\n",
    "plt.xlabel('True shower energy [GeV]')\n",
    "plt.ylabel('probability density [1/cm]')\n",
    "plt.title('Electron and photon candidates in BNB\\nbacktracked to electrons and photons\\npurity>90%, start point in the fiducial volume\\nstart point accuracy < 2 cm\\nMicroBooNE preliminary', loc='left')\n",
    "plt.tight_layout()\n",
    "plt.savefig(save_folder + 'electron_photon_shower_energy.png', dpi=250)"
   ]
  },
  {
   "cell_type": "code",
   "execution_count": 17,
   "metadata": {},
   "outputs": [
    {
     "data": {
      "image/png": "[encoded data removed]",
      "text/plain": [
       "<Figure size 432x288 with 1 Axes>"
      ]
     },
     "metadata": {
      "needs_background": "light"
     },
     "output_type": "display_data"
    }
   ],
   "source": [
    "dedx_y = array_train['dedx_y'][photon_train & selection_train]\n",
    "dist = array_train['range_y'][photon_train & selection_train]\n",
    "\n",
    "plt.hist2d(dist.flatten(), dedx_y.flatten(), range=[[0, 1], [0, 6]], bins=[51, 51])\n",
    "plt.xlabel(\"Distance from the reco start point [cm]\")\n",
    "plt.ylabel(\"dE/dx [MeV/cm]\")\n",
    "plt.title('Photon candidates in BNB\\nbacktracked to photons\\npurity>90%, start point in the fiducial volume\\nstart point accuracy < 2 cm\\nMicroBooNE preliminary', loc='left')\n",
    "plt.tight_layout()\n",
    "# plt.savefig(save_folder + 'photon_2d_dedx_dist.png', dpi=250)"
   ]
  },
  {
   "cell_type": "code",
   "execution_count": 18,
   "metadata": {},
   "outputs": [
    {
     "data": {
      "image/png": "[encoded data removed]",
      "text/plain": [
       "<Figure size 432x288 with 1 Axes>"
      ]
     },
     "metadata": {
      "needs_background": "light"
     },
     "output_type": "display_data"
    }
   ],
   "source": [
    "sh_energy_bins = [0, 0.1, 0.2, 1]\n",
    "for sh_en_low, sh_en_high in zip(sh_energy_bins[:-1], sh_energy_bins[1:]):\n",
    "    sh_en_mask = (array_train['backtracked_e'] > sh_en_low) & (array_train['backtracked_e'] <= sh_en_high)\n",
    "    dedx_y = array_train['dedx_y'][photon_train & selection_train & sh_en_mask]\n",
    "    dist = array_train['range_y'][photon_train & selection_train & sh_en_mask]\n",
    "    \n",
    "    plt.hist2d(dist.flatten(), dedx_y.flatten(), range=[[0, 20], [0, 6]], bins=[51, 51])\n",
    "    plt.xlabel(\"Distance from the reco start point [cm]\")\n",
    "    plt.ylabel(\"dE/dx [MeV/cm]\")\n",
    "    plt.title('Photon candidates in BNB\\nbacktracked to photons with {:.2g} < E-true < {:.2g} GeV\\npurity>90%, start point in the fiducial volume\\nstart point accuracy < 2 cm\\nMicroBooNE preliminary'\n",
    "              .format(sh_en_low, sh_en_high), loc='left')\n",
    "    plt.tight_layout()\n",
    "    plt.savefig(save_folder + 'photon_2d_dedx_dist_sh_energy_{:.2g}_{:.2g}.png'.format(sh_en_low, sh_en_high), dpi=250)"
   ]
  },
  {
   "cell_type": "code",
   "execution_count": 19,
   "metadata": {},
   "outputs": [
    {
     "name": "stderr",
     "output_type": "stream",
     "text": [
      "/home/nic/.local/lib/python3.7/site-packages/awkward/array/jagged.py:1035: RuntimeWarning: invalid value encountered in less\n",
      "  result = getattr(ufunc, method)(*inputs, **kwargs)\n"
     ]
    },
    {
     "data": {
      "image/png": "[encoded data removed]",
      "text/plain": [
       "<Figure size 432x288 with 1 Axes>"
      ]
     },
     "metadata": {
      "needs_background": "light"
     },
     "output_type": "display_data"
    }
   ],
   "source": [
    "sh_energy_bins = [0, 0.1, 0.2, 1]\n",
    "for sh_en_low, sh_en_high in zip(sh_energy_bins[:-1], sh_energy_bins[1:]):\n",
    "    sh_en_mask = (array_train['backtracked_e'] > sh_en_low) & (array_train['backtracked_e'] <= sh_en_high)\n",
    "    dist_mask = array_train['range_y'] < 4\n",
    "    dedx_y = array_train['dedx_y'][photon_train & selection_train & dist_mask & sh_en_mask]\n",
    "    \n",
    "    plt.hist(dedx_y.flatten(), \n",
    "             range=[0, 6], \n",
    "             bins=51, \n",
    "             density=True,\n",
    "             histtype='step',\n",
    "             label='{:.2g} < E-true < {:.2g} GeV'.format(sh_en_low, sh_en_high))\n",
    "    \n",
    "plt.ylabel(\"Number of entries\")\n",
    "plt.xlabel(\"hit dE/dx in the first 4 cm [MeV/cm]\")\n",
    "plt.legend()\n",
    "plt.ylim(0, 1)\n",
    "plt.title('Photon candidates in BNB\\nbacktracked to photons with \\npurity>90%, start point in the fiducial volume\\nstart point accuracy < 2 cm\\nMicroBooNE preliminary', loc='left')\n",
    "plt.tight_layout()\n",
    "plt.savefig(save_folder + 'photon_1d_dedx_sh_energy.png', dpi=250)"
   ]
  },
  {
   "cell_type": "code",
   "execution_count": 20,
   "metadata": {},
   "outputs": [
    {
     "data": {
      "image/png": "[encoded data removed]",
      "text/plain": [
       "<Figure size 432x288 with 1 Axes>"
      ]
     },
     "metadata": {
      "needs_background": "light"
     },
     "output_type": "display_data"
    }
   ],
   "source": [
    "dedx_y = array_train['dedx_y'][electron_train & selection_train]\n",
    "dist = array_train['range_y'][electron_train & selection_train]\n",
    "\n",
    "plt.hist2d(dist.flatten(), dedx_y.flatten(), range=[[0, 20], [0, 6]], bins=[51, 51])\n",
    "plt.xlabel(\"Distance from the reco start point [cm]\")\n",
    "plt.ylabel(\"dE/dx [MeV/cm]\")\n",
    "plt.title('Electro candidates in BNB\\nbacktracked to photons\\npurity>90%, start point in the fiducial volume\\nstart point accuracy < 2 cm\\nMicroBooNE preliminary', loc='left')\n",
    "plt.tight_layout()\n",
    "plt.savefig(save_folder + 'electron_2d_dedx_dist.png', dpi=250)"
   ]
  },
  {
   "cell_type": "markdown",
   "metadata": {},
   "source": [
    "## Lookup Tables"
   ]
  },
  {
   "cell_type": "code",
   "execution_count": 24,
   "metadata": {},
   "outputs": [],
   "source": [
    "# two parameters\n",
    "parameters_names = ['dist_from_start', 'pitch']\n",
    "parameters_bin_edges = [[0., 1, 2, 3, 4, 5, 10, 1000],\n",
    "                  [0.3, 0.6, 1., 1.5, 3000]]\n",
    "\n",
    "dedx_var = 'dedx'\n",
    "dedx_bins = [0.        , 0.31578947, 0.63157895, 0.94736842, 1.26315789,\n",
    "       1.57894737, 1.89473684, 2.21052632, 2.52631579, 2.84210526,\n",
    "       3.15789474, 3.47368421, 3.78947368, 4.10526316, 4.42105263,\n",
    "       4.73684211, 5.05263158, 5.36842105, 5.68421053, 6. , 6.5, 7, 7.5, 8, 9, 10, 12, 15, 20, 30, 50]\n",
    "\n",
    "parameters = []\n",
    "dedx_vars = []\n",
    "for plane in ['u', 'v', 'y']:\n",
    "    parameters.append([parameter_name+'_'+plane for parameter_name in parameters_names])\n",
    "    dedx_vars.append(dedx_var+'_'+plane)\n",
    "\n",
    "pdgcode_var = 'backtracked_pdg'"
   ]
  },
  {
   "cell_type": "code",
   "execution_count": 25,
   "metadata": {},
   "outputs": [],
   "source": [
    "# declaring caloLikelihood objects\n",
    "caloLike_train = caloLikelihood(array_train, quality_mask=selection_train)\n",
    "caloLike_test = caloLikelihood(array_test, quality_mask=selection_test)\n",
    "\n",
    "caloLike_train.setPdgCodeVar(pdgcode_var)\n",
    "caloLike_test.setPdgCodeVar(pdgcode_var)"
   ]
  },
  {
   "cell_type": "code",
   "execution_count": 26,
   "metadata": {},
   "outputs": [
    {
     "name": "stderr",
     "output_type": "stream",
     "text": [
      "/home/nic/Dropbox/MicroBooNE/bnb_nue_analysis/lib/calo_likelihood.py:146: RuntimeWarning: divide by zero encountered in log\n",
      "  np.log(table_1) - np.log(table_2),\n",
      "/home/nic/Dropbox/MicroBooNE/bnb_nue_analysis/lib/calo_likelihood.py:146: RuntimeWarning: invalid value encountered in subtract\n",
      "  np.log(table_1) - np.log(table_2),\n"
     ]
    }
   ],
   "source": [
    "for i in [0, 1, 2]:\n",
    "    caloLike_train.setVariablesBinning(i, parameters[i], parameters_bin_edges, dedx_vars[i], dedx_bins)\n",
    "    caloLike_train.buildLookUpTableMC(i, 11)    \n",
    "    caloLike_train.buildLookUpTableMC(i, 22)    \n",
    "    caloLike_train.buildLookUpLogLikelihoodRatio(i, [11, 22])\n",
    "    caloLike_test.setVariablesBinning(i, parameters[i], parameters_bin_edges, dedx_vars[i], dedx_bins)"
   ]
  },
  {
   "cell_type": "code",
   "execution_count": 27,
   "metadata": {},
   "outputs": [
    {
     "name": "stderr",
     "output_type": "stream",
     "text": [
      "/home/nic/Dropbox/MicroBooNE/bnb_nue_analysis/lib/calo_likelihood.py:251: RuntimeWarning: divide by zero encountered in log\n",
      "  return np.log(self.lookup_tables[pdg_code][plane_num][lookup_index])\n",
      "/home/nic/Dropbox/MicroBooNE/bnb_nue_analysis/lib/calo_likelihood.py:298: RuntimeWarning: invalid value encountered in subtract\n",
      "  array['log_like_ratio_{}'.format(plane)] = array['like_{}_sum_{}'.format(pdg_codes[0], plane)] - array['like_{}_sum_{}'.format(pdg_codes[1], plane)]\n",
      "/home/nic/Dropbox/MicroBooNE/bnb_nue_analysis/lib/calo_likelihood.py:300: RuntimeWarning: invalid value encountered in add\n",
      "  array['log_like_ratio'] = array['log_like_ratio_0'] + array['log_like_ratio_1'] + array['log_like_ratio_2']\n",
      "/home/nic/Dropbox/MicroBooNE/bnb_nue_analysis/lib/calo_likelihood.py:301: RuntimeWarning: invalid value encountered in add\n",
      "  array['log_like_ratio_01'] = array['log_like_ratio_0'] + array['log_like_ratio_1']\n"
     ]
    }
   ],
   "source": [
    "caloLike_train.addCalorimetryVariables(caloLike_test.array, pdg_codes=[11, 22], cali=False)\n",
    "caloLike_train.addCalorimetryVariablesFromLLRTable(caloLike_test.array, cali=False)"
   ]
  },
  {
   "cell_type": "code",
   "execution_count": 29,
   "metadata": {},
   "outputs": [],
   "source": [
    "caloLike_train.printCplusplusLookUp(filename='/home/nic/Dropbox/MicroBooNE/bnb_nue_analysis/calorimetry_likelihood/larsoft_dev/LLRPID_electron_photon_lookup.h', \n",
    "                                    name='ELECTRON_PHOTON', struct_name='ElectronPhotonLookUpParameters',\n",
    "                                    planes=[0, 1, 2])"
   ]
  },
  {
   "cell_type": "markdown",
   "metadata": {},
   "source": [
    "## Plot of the pdfs/likelihoods in bins of residual range and pitch"
   ]
  },
  {
   "cell_type": "markdown",
   "metadata": {},
   "source": [
    "### Plot PDFs from lookup tables"
   ]
  },
  {
   "cell_type": "code",
   "execution_count": 30,
   "metadata": {},
   "outputs": [],
   "source": [
    "# Plot PDF 2parameters\n",
    "for plane_num in [0, 1, 2]:\n",
    "    bin_centers = product(*caloLike_train.parameters_bin_centers[plane_num])\n",
    "    for bin_center in bin_centers:\n",
    "        caloLike_train.plotLookUpDedxMC(plane_num=plane_num, \n",
    "                                  pdg_code=11, \n",
    "                                  parameters_value=bin_center, \n",
    "                                  label='electron')\n",
    "        caloLike_train.plotLookUpDedxMCfancy(plane_num=plane_num, \n",
    "                                  pdg_code=22, \n",
    "                                  parameters_value=bin_center, \n",
    "                                  label='photon')\n",
    "        plt.xlim(0, 10)\n",
    "        plt.tight_layout()\n",
    "        plt.savefig(save_folder_pdfs+'plane_{}_dist_{}_pitch_{}.png'.format(plane_num, bin_center[0], bin_center[1]), dpi=250)\n",
    "        plt.close()"
   ]
  },
  {
   "cell_type": "markdown",
   "metadata": {},
   "source": [
    "## Plots"
   ]
  },
  {
   "cell_type": "code",
   "execution_count": 12,
   "metadata": {},
   "outputs": [
    {
     "name": "stderr",
     "output_type": "stream",
     "text": [
      "/home/nic/.local/lib/python3.7/site-packages/awkward/array/jagged.py:1031: RuntimeWarning: invalid value encountered in less\n",
      "  result = getattr(ufunc, method)(*inputs, **kwargs)\n"
     ]
    }
   ],
   "source": [
    "for array in [array_train, array_test]:\n",
    "    for plane in ['_u', '_v', '_y']:\n",
    "        aux_array = array['dedx'+plane][array['range'+plane]<4]\n",
    "        out_array = []\n",
    "        for i in aux_array:\n",
    "            if len(i) == 0:\n",
    "                out_array.append(-np.inf)\n",
    "            else:\n",
    "                out_array.append(np.median(i))\n",
    "        array['dedx_median_4'+plane] = np.array(out_array)"
   ]
  },
  {
   "cell_type": "code",
   "execution_count": 13,
   "metadata": {},
   "outputs": [],
   "source": [
    "def add_norm_variable(array, var, scale=100):\n",
    "    array[var+'_n'] = 2/math.pi*np.arctan(array[var]/scale)"
   ]
  },
  {
   "cell_type": "code",
   "execution_count": 20,
   "metadata": {},
   "outputs": [
    {
     "data": {
      "text/plain": [
       "0.0695322376738306"
      ]
     },
     "execution_count": 20,
     "metadata": {},
     "output_type": "execute_result"
    }
   ],
   "source": [
    "sel = selection_test & (electron_test | photon_test)\n",
    "(array_test['dedx_median_4_y'][sel]<0).sum()/len(array_test['dedx_median_4_y'][sel])"
   ]
  },
  {
   "cell_type": "code",
   "execution_count": null,
   "metadata": {},
   "outputs": [],
   "source": [
    "interesting_variables = [\n",
    "                         'dedx_median_4_u',\n",
    "                         'dedx_median_4_v',\n",
    "                         'dedx_median_4_y',\n",
    "                         'llr_sum_0',\n",
    "                         'llr_sum_1',\n",
    "                         'llr_sum_2',\n",
    "                         'llr_01',\n",
    "                         'llr_012',\n",
    "                        ]\n",
    "\n",
    "variable_labels = {\n",
    "    'dedx_median_4_u': 'dE/dx U median-4cm',\n",
    "    'dedx_median_4_v': 'dE/dx V median-4cm',\n",
    "    'dedx_median_4_y': 'dE/dx Y median-4cm',\n",
    "    'llr_sum_0': 'LLR U',\n",
    "    'llr_sum_1': 'LLR V',\n",
    "    'llr_sum_2': 'LLR Y',\n",
    "    'llr_01': 'LLR UV',   \n",
    "    'llr_012': 'LLR UVY',   \n",
    "}\n",
    "\n",
    "for variable in interesting_variables:\n",
    "    if 'llr' in variable:\n",
    "        scale = 10\n",
    "    elif 'bragg' in variable:\n",
    "        scale = 1\n",
    "    else:\n",
    "        scale = 10\n",
    "    add_norm_variable(caloLike_test.array, variable, scale)"
   ]
  },
  {
   "cell_type": "code",
   "execution_count": null,
   "metadata": {},
   "outputs": [],
   "source": [
    "bins = 101\n",
    "hist_range = [-1, 1]\n",
    "kwargs = {'histtype':'step'}\n",
    "for var in interesting_variables:\n",
    "    variable = var + '_n'\n",
    "    caloLike_test.plotVariableMC(variable, bins, hist_range, function_mask=electron_for_test, quality_mask=True, label='electron', **kwargs);\n",
    "    caloLike_test.plotVariableMCFancy(variable, bins, hist_range, function_mask=photon_for_test, quality_mask=True, label='photon', **kwargs);\n",
    "    plt.xlabel(variable_labels[var])\n",
    "    plt.tight_layout()\n",
    "    plt.savefig(save_folder + variable + '.png', dpi=250)\n",
    "    plt.close()"
   ]
  },
  {
   "cell_type": "code",
   "execution_count": null,
   "metadata": {},
   "outputs": [],
   "source": [
    "def electron_selection_function(array, parameter, bin_range):\n",
    "    return (array[parameter] >= bin_range[0]) &\\\n",
    "           (array[parameter] < bin_range[1]) &\\\n",
    "            electron_for_test(array)\n",
    "\n",
    "def photon_selection_function(array, parameter, bin_range):\n",
    "    return (array[parameter] >= bin_range[0]) &\\\n",
    "           (array[parameter] < bin_range[1]) &\\\n",
    "            photon_for_test(array)\n",
    "\n",
    "pdg_codes = [11, 22]\n",
    "interesting_variables = [\n",
    "#                          'dedx_median_4_u',\n",
    "#                          'dedx_median_4_v',\n",
    "                         'dedx_median_4_y',\n",
    "#                          'llr_sum_0',\n",
    "#                          'llr_sum_1',\n",
    "#                          'llr_sum_2',\n",
    "#                          'llr_01',\n",
    "                         'llr_012',\n",
    "                        ]\n",
    "parameter_name = 'backtracked_e'\n",
    "parameter_bin_edges = np.array([0.0, 0.1, 0.2, 0.5, 1, 1.5, 2])\n",
    "\n",
    "bins = 101\n",
    "hist_range = [-1, 1]\n",
    "kwargs = {'histtype':'step'}\n",
    "for sh_en_bin in zip(parameter_bin_edges[:-1], parameter_bin_edges[1:]):\n",
    "    for var in interesting_variables:\n",
    "        def this_electron_function(array):\n",
    "            return electron_selection_function(array, parameter_name, sh_en_bin)\n",
    "        def this_photon_function(array):\n",
    "            return photon_selection_function(array, parameter_name, sh_en_bin)\n",
    "        \n",
    "        variable = var + '_n'\n",
    "        caloLike_test.plotVariableMC(variable, bins, hist_range, function_mask=this_electron_function, quality_mask=True, label='electron', **kwargs);\n",
    "        caloLike_test.plotVariableMCFancy(variable, bins, hist_range, function_mask=this_photon_function, quality_mask=True, label='photon', \n",
    "                                          add_to_title='\\n{:.2g} < E-true < {:.2g} GeV'.format(sh_en_bin[0], sh_en_bin[1]), **kwargs);\n",
    "        plt.xlabel(variable_labels[var])\n",
    "        plt.tight_layout()\n",
    "        plt.savefig(save_folder + variable + '_sh_energy_{:.2g}_{:.2g}.png'.format(sh_en_bin[0], sh_en_bin[1]), dpi=250)\n",
    "        plt.close()"
   ]
  },
  {
   "cell_type": "code",
   "execution_count": 50,
   "metadata": {},
   "outputs": [],
   "source": [
    "ar = array_test"
   ]
  },
  {
   "cell_type": "code",
   "execution_count": 51,
   "metadata": {},
   "outputs": [
    {
     "data": {
      "text/plain": [
       "<JaggedArray [[32.324062 32.012726 31.701399 ... 1.5945294 1.4367614 1.3359141] [123.004616 121.22198 120.781105 ... 20.084003 20.217402 20.35663] [254.30626 254.6137 254.92143 ... 300.48898 300.82452 301.16235] ... [29.889292 29.645887 24.169157 ... 17.04682 16.740131 4.5464387] [] [33.509678 33.033195 32.55658 ... 3.3829386 3.1056144 2.896028]] at 0x7f22db018110>"
      ]
     },
     "execution_count": 51,
     "metadata": {},
     "output_type": "execute_result"
    }
   ],
   "source": [
    "mask = (ar['backtracked_e'] > 1.5) & (ar['backtracked_e'] < 2) & photon_test\n",
    "# ar['dedx_y'][caloLike_test.quality_mask & (ar['backtracked_e'] > 1.5) & (ar['backtracked_e'] < 2) & photon_test]\n",
    "ar['dist_from_start_y'][mask]"
   ]
  },
  {
   "cell_type": "code",
   "execution_count": 59,
   "metadata": {},
   "outputs": [],
   "source": [
    "id = 1"
   ]
  },
  {
   "cell_type": "code",
   "execution_count": 60,
   "metadata": {},
   "outputs": [
    {
     "data": {
      "text/plain": [
       "(array([121.32467 , 120.92577 , 120.52858 , 119.72279 , 119.3254  ,\n",
       "        118.92806 , 118.5309  , 118.1341  , 117.73747 , 117.340805,\n",
       "        116.94439 , 116.54813 , 116.15198 , 115.3591  , 114.96323 ,\n",
       "        114.5674  , 114.17166 , 113.77602 , 113.380486, 112.98499 ,\n",
       "        112.58942 , 112.19385 , 111.79831 , 111.40285 , 111.007355,\n",
       "        110.61185 , 110.21638 , 109.82083 , 109.42503 , 109.029205,\n",
       "        108.63317 , 108.23697 , 107.84054 , 107.44398 , 107.047104,\n",
       "        106.64998 , 106.2526  , 105.85527 , 105.457306, 105.058876,\n",
       "        104.66017 , 104.259575, 103.86262 , 103.467545, 103.07238 ,\n",
       "        102.67711 , 102.2818  , 101.88649 , 101.49113 , 101.09564 ,\n",
       "        100.70043 , 100.305305,  99.91026 ,  99.51534 ,  99.120544,\n",
       "         98.725845,  98.331314,  97.93709 ,  97.54174 ,  97.14819 ,\n",
       "         96.75478 ,  96.361626,  95.96894 ,  95.57675 ,  95.18469 ,\n",
       "         94.792816,  94.40112 ,  94.00962 ,  93.226006,  92.83484 ,\n",
       "         92.44377 ,  92.05271 ,  91.66175 ,  91.2711  ,  90.880585,\n",
       "         90.490295,  90.1002  ,  89.71032 ,  88.93038 ,  88.54108 ,\n",
       "         88.15189 ,  87.76292 ,  87.37405 ,  86.98534 ,  86.59673 ,\n",
       "         86.20823 ,  85.819855,  85.4319  ,  85.04366 ,  84.65471 ,\n",
       "         84.26551 ,  83.876434,  83.487495,  83.09875 ,  82.71003 ,\n",
       "         82.32131 ,  81.93261 ,  81.54752 ,  81.15829 ,  80.76904 ,\n",
       "         80.37989 ,  79.99081 ,  79.601776,  79.21425 ,  78.82739 ,\n",
       "         78.44046 ,  78.053444,  77.666435,  76.88868 ,  76.50133 ,\n",
       "         76.11394 ,  75.726425,  74.95128 ,  74.56343 ,  74.17543 ,\n",
       "         73.78727 ,  73.39897 ,  73.01048 ,  72.62183 ,  72.232994,\n",
       "         71.84403 ,  71.45494 ,  71.06569 ,  70.677025,  70.28777 ,\n",
       "         69.89798 ,  69.507996,  69.11782 ,  68.72757 ,  68.33722 ,\n",
       "         67.94673 ,  67.55622 ,  67.1657  ,  66.77515 ,  66.38457 ,\n",
       "         65.99404 ,  65.60361 ,  65.21099 ,  64.818344,  64.42502 ,\n",
       "         64.03163 ,  63.638367,  63.244995,  62.850582,  62.456238,\n",
       "         62.062153,  61.668335,  61.27475 ,  60.881496,  60.488583,\n",
       "         60.096016,  59.703754,  59.31188 ,  58.920357,  58.529186,\n",
       "         58.138412,  57.74796 ,  57.357986,  56.96846 ,  56.57936 ,\n",
       "         56.190678,  55.80242 ,  55.414604,  55.02725 ,  54.64031 ,\n",
       "         54.253838,  53.867855,  53.482296,  53.097263,  52.712666,\n",
       "         52.328583,  51.945007,  51.561954,  51.179436,  50.7974  ,\n",
       "         44.361404,  43.987507,  43.61438 ,  43.242077,  42.87056 ,\n",
       "         42.49986 ,  42.130016,  41.761063,  41.39289 ,  41.025562,\n",
       "         40.65919 ,  40.29377 ,  39.92931 ,  39.565907,  39.203533,\n",
       "         38.842255,  38.48207 ,  38.12489 ,  37.766777,  37.409843,\n",
       "         37.054085,  36.6995  ,  36.34611 ,  35.994   ,  35.293537,\n",
       "         34.946354,  34.600723,  34.25663 ,  33.914074,  33.573124,\n",
       "         33.233765,  32.56505 ,  32.233547,  31.903902,  31.57615 ,\n",
       "         31.250372,  30.926662,  30.605469,  30.286179,  29.968845,\n",
       "         29.653656,  29.340603,  29.029808,  28.72139 ,  28.41546 ,\n",
       "         28.108335,  27.806208,  27.506762,  27.2102  ,  26.916624,\n",
       "         26.338917,  26.055038,  25.774628,  25.497898,  25.224897,\n",
       "         24.955826,  24.690834,  24.430052,  24.17365 ,  23.921541,\n",
       "         23.673027,  23.429214,  23.190172,  22.956095,  22.727098,\n",
       "         22.503332,  22.28492 ,  20.286924,  20.1472  ,  20.015362,\n",
       "         19.891592,  19.775942,  19.668598,  19.569693,  19.479492,\n",
       "         19.39804 ,  19.325487,  19.261932,  19.20754 ,  19.16227 ,\n",
       "         19.126383,  19.100212,  19.083576,  19.07655 ,  19.072515,\n",
       "         19.082495,  19.093092,  19.112097,  19.139444,  19.175053,\n",
       "         19.21883 ,  19.270733,  19.330591,  19.398327,  19.473755,\n",
       "         19.556894,  19.647573,  19.745493,  19.850206,  19.962154,\n",
       "         20.08147 ,  20.207748,  20.34075 ,  20.480633], dtype=float32),\n",
       " array([119.90847 , 116.108475, 104.62593 , 101.002686,  97.35139 ,\n",
       "         93.57602 ,  89.49018 ,  85.379196,  81.32157 ,  76.985695,\n",
       "         49.01653 ,  27.772474,  22.111336,  19.097609], dtype=float32),\n",
       " array([123.004616, 121.22198 , 120.781105, 119.91868 , 119.47542 ,\n",
       "        119.03262 , 118.59008 , 118.14775 , 117.7057  , 117.2641  ,\n",
       "        116.8227  , 116.3815  , 115.94049 , 115.49881 , 115.0582  ,\n",
       "        114.61772 , 114.17735 , 113.7371  , 113.29684 , 112.85652 ,\n",
       "        112.416046, 111.97555 , 111.534966, 111.09429 , 110.65347 ,\n",
       "        110.21254 , 109.77116 , 109.3296  , 108.8876  , 108.44515 ,\n",
       "        108.002174, 107.55885 , 107.11505 , 106.67071 , 106.22641 ,\n",
       "        105.78125 , 105.33527 , 104.88879 , 103.9916  , 103.54848 ,\n",
       "        103.10521 , 102.66177 , 102.21821 , 101.774574, 101.3309  ,\n",
       "        100.887245, 100.44374 , 100.0004  ,  99.55717 ,  99.11396 ,\n",
       "         98.67112 ,  98.228714,  97.776375,  97.33635 ,  96.896774,\n",
       "         96.45766 ,  96.01927 ,  95.58166 ,  95.14483 ,  94.708725,\n",
       "         94.27328 ,  93.8386  ,  92.97265 ,  92.53977 ,  92.107254,\n",
       "         91.67514 ,  91.24331 ,  90.81205 ,  90.38112 ,  89.950485,\n",
       "         89.52008 ,  88.65765 ,  88.227806,  87.798096,  87.3686  ,\n",
       "         86.93917 ,  86.50981 ,  86.08058 ,  85.6514  ,  85.22258 ,\n",
       "         84.79305 ,  84.36283 ,  83.932724,  83.50282 ,  83.07306 ,\n",
       "         82.64346 ,  82.21404 ,  81.7849  ,  81.3553  ,  80.92669 ,\n",
       "         80.49827 ,  80.07013 ,  79.642166,  79.21578 ,  78.79064 ,\n",
       "         78.365746,  77.94104 ,  77.09569 ,  76.672035,  76.248436,\n",
       "         75.82495 ,  75.40156 ,  74.97819 ,  74.55492 ,  74.13161 ,\n",
       "         73.70837 ,  73.2852  ,  72.862045,  72.439   ,  72.01595 ,\n",
       "         71.59304 ,  71.17037 ,  70.74768 ,  70.325   ,  69.902405,\n",
       "         69.48004 ,  69.05776 ,  68.63566 ,  68.21374 ,  67.79207 ,\n",
       "         67.370636,  66.94945 ,  66.52856 ,  66.10794 ,  65.68764 ,\n",
       "         65.2651  ,  64.84236 ,  64.41988 ,  63.99791 ,  63.57619 ,\n",
       "         63.154556,  62.732025,  62.309994,  61.88852 ,  61.46756 ,\n",
       "         61.047127,  60.62722 ,  60.207882,  59.789074,  59.37075 ,\n",
       "         58.952988,  58.535732,  58.119022,  57.702885,  57.287315,\n",
       "         56.87251 ,  56.45826 ,  56.044506,  55.6313  ,  55.21861 ,\n",
       "         54.806393,  54.39467 ,  53.98346 ,  53.57277 ,  53.16254 ,\n",
       "         52.752846,  52.34361 ,  51.934902,  51.526688,  51.11892 ,\n",
       "         50.711708,  50.304962,  49.898655,  49.492886,  49.08884 ,\n",
       "         48.683292,  48.27751 ,  47.872036,  47.466686,  47.061634,\n",
       "         46.657127,  46.253147,  45.849457,  45.446213,  45.043774,\n",
       "         44.642082,  44.24113 ,  43.841003,  43.44171 ,  43.043224,\n",
       "         42.645565,  42.248806,  41.852898,  41.45788 ,  41.063835,\n",
       "         40.670788,  40.27879 ,  39.88783 ,  39.497917,  39.109184,\n",
       "         38.72163 ,  38.337036,  37.951794,  37.56784 ,  37.185196,\n",
       "         36.803883,  36.423965,  35.668472,  35.29301 ,  34.92017 ,\n",
       "         34.54916 ,  34.18004 ,  33.81278 ,  33.447495,  33.084892,\n",
       "         32.72651 ,  32.37033 ,  32.016354,  31.66472 ,  31.31544 ,\n",
       "         30.968716,  30.624495,  30.282866,  29.943895,  29.607695,\n",
       "         29.274387,  28.944004,  28.616703,  28.289125,  27.968224,\n",
       "         27.650576,  27.336294,  27.025482,  26.718264,  26.414774,\n",
       "         26.115175,  25.81963 ,  25.528242,  25.241224,  24.958681,\n",
       "         24.680828,  24.40777 ,  24.139713,  23.876347,  23.617369,\n",
       "         23.363691,  23.115515,  22.872965,  22.636179,  22.405346,\n",
       "         22.180574,  21.344385,  21.152422,  20.967726,  20.790462,\n",
       "         20.620853,  20.459068,  20.305294,  20.159733,  20.022572,\n",
       "         19.894043,  19.774315,  19.663527,  19.561872,  19.469448,\n",
       "         19.386488,  19.31309 ,  19.249388,  19.195492,  19.15151 ,\n",
       "         19.117558,  19.09372 ,  19.080162,  19.069304,  19.077217,\n",
       "         19.086332,  19.101439,  19.125566,  19.158632,  19.200703,\n",
       "         19.251663,  19.37932 ,  19.455847,  19.540865,  19.63379 ,\n",
       "         19.73484 ,  19.843506,  19.9598  ,  20.084003,  20.217402,\n",
       "         20.35663 ], dtype=float32))"
      ]
     },
     "execution_count": 60,
     "metadata": {},
     "output_type": "execute_result"
    }
   ],
   "source": [
    "ar['dist_from_start_u'][mask][id], ar['dist_from_start_v'][mask][id], ar['dist_from_start_y'][mask][id]"
   ]
  },
  {
   "cell_type": "code",
   "execution_count": 61,
   "metadata": {},
   "outputs": [
    {
     "data": {
      "text/plain": [
       "(array([128.30931   , 127.9028    , 127.49775   , 126.67899   ,\n",
       "        126.27351   , 125.86807   , 125.46281   , 125.0578    ,\n",
       "        124.65292   , 124.247986  , 123.84323   , 123.43854   ,\n",
       "        123.03386   , 122.223885  , 121.8193    , 121.41473   ,\n",
       "        121.010155  , 120.60559   , 120.201065  , 119.79651   ,\n",
       "        119.39187   , 118.987206  , 118.582504  , 118.17777   ,\n",
       "        117.77297   , 117.368126  , 116.96321   , 116.55816   ,\n",
       "        116.15283   , 115.74737   , 115.34167   , 114.93571   ,\n",
       "        114.52947   , 114.12306   , 113.71632   , 113.30924   ,\n",
       "        112.90187   , 112.49446   , 112.08642   , 111.67781   ,\n",
       "        111.26889   , 110.85803   , 110.45047   , 110.04449   ,\n",
       "        109.63833   , 109.23201   , 108.825554  , 108.41898   ,\n",
       "        108.01233   , 107.60545   , 107.19873   , 106.791985  ,\n",
       "        106.38524   , 105.9785    , 105.571785  , 105.16505   ,\n",
       "        104.75843   , 104.351944  , 103.94359   , 103.53764   ,\n",
       "        103.13179   , 102.726036  , 102.32094   , 101.91667   ,\n",
       "        101.512436  , 101.108345  , 100.704346  , 100.30048   ,\n",
       "         99.49226   ,  99.088554  ,  98.68486   ,  98.28119   ,\n",
       "         97.87749   ,  97.47398   ,  97.07052   ,  96.667145  ,\n",
       "         96.263855  ,  95.86064   ,  95.053696  ,  94.650665  ,\n",
       "         94.24768   ,  93.84473   ,  93.44182   ,  93.03891   ,\n",
       "         92.636     ,  92.23309   ,  91.83017   ,  91.42752   ,\n",
       "         91.02452   ,  90.61994   ,  90.214714  ,  89.80948   ,\n",
       "         89.404236  ,  88.99907   ,  88.5938    ,  88.18845   ,\n",
       "         87.783035  ,  87.38025   ,  86.9742    ,  86.568085  ,\n",
       "         86.161934  ,  85.75572   ,  85.34949   ,  84.94615   ,\n",
       "         84.544304  ,  84.142334  ,  83.74025   ,  83.338196  ,\n",
       "         82.53129   ,  82.12879   ,  81.72612   ,  81.32326   ,\n",
       "         80.51701   ,  80.113525  ,  79.70978   ,  79.30577   ,\n",
       "         78.901535  ,  78.49704   ,  78.092285  ,  77.68729   ,\n",
       "         77.28204   ,  76.87655   ,  76.47086   ,  76.065475  ,\n",
       "         75.659515  ,  75.25303   ,  74.846245  ,  74.439224  ,\n",
       "         74.032     ,  73.62457   ,  73.21695   ,  72.80919   ,\n",
       "         72.401276  ,  71.99324   ,  71.58509   ,  71.17685   ,\n",
       "         70.7684    ,  70.355865  ,  69.94305   ,  69.52937   ,\n",
       "         69.1154    ,  68.701126  ,  68.2867    ,  67.87127   ,\n",
       "         67.45584   ,  67.04065   ,  66.62571   ,  66.21101   ,\n",
       "         65.79657   ,  65.38239   ,  64.968506  ,  64.554886  ,\n",
       "         64.14153   ,  63.72844   ,  63.31562   ,  62.90307   ,\n",
       "         62.49077   ,  62.078827  ,  61.667183  ,  61.255806  ,\n",
       "         60.844704  ,  60.43386   ,  60.023277  ,  59.61296   ,\n",
       "         59.202896  ,  58.793076  ,  58.383514  ,  57.974197  ,\n",
       "         57.565117  ,  57.15628   ,  56.747665  ,  56.33928   ,\n",
       "         55.931145  ,  55.523216  ,  55.1155    ,  48.14061   ,\n",
       "         47.726967  ,  47.31337   ,  46.899834  ,  46.486298  ,\n",
       "         46.072807  ,  45.659332  ,  45.245903  ,  44.832382  ,\n",
       "         44.41886   ,  44.00534   ,  43.591835  ,  43.178345  ,\n",
       "         42.764854  ,  42.35138   ,  41.937912  ,  41.524445  ,\n",
       "         41.11252   ,  40.698853  ,  40.28515   ,  39.87139   ,\n",
       "         39.457558  ,  39.043625  ,  38.6296    ,  37.801155  ,\n",
       "         37.387848  ,  36.97458   ,  36.56131   ,  36.147995  ,\n",
       "         35.734657  ,  35.32125   ,  34.494476  ,  34.080864  ,\n",
       "         33.667107  ,  33.253204  ,  32.839157  ,  32.42501   ,\n",
       "         32.010994  ,  31.59668   ,  31.182083  ,  30.76725   ,\n",
       "         30.35218   ,  29.936874  ,  29.521378  ,  29.10569   ,\n",
       "         28.686287  ,  28.269241  ,  27.852165  ,  27.43509   ,\n",
       "         27.018013  ,  26.183823  ,  25.766739  ,  25.34964   ,\n",
       "         24.932549  ,  24.515434  ,  24.09832   ,  23.681198  ,\n",
       "         23.264076  ,  22.846924  ,  22.42968   ,  22.012123  ,\n",
       "         21.59452   ,  21.176872  ,  20.75917   ,  20.341408  ,\n",
       "         19.923569  ,  19.505638  ,  14.903954  ,  14.484108  ,\n",
       "         14.064011  ,  13.643654  ,  13.222969  ,  12.801971  ,\n",
       "         12.3806305 ,  11.959015  ,  11.537079  ,  11.1147995 ,\n",
       "         10.692177  ,  10.269234  ,   9.845871  ,   9.422203  ,\n",
       "          8.998428  ,   8.574364  ,   8.150032  ,   7.720886  ,\n",
       "          7.3010864 ,   6.8916245 ,   6.482628  ,   6.074112  ,\n",
       "          5.6660385 ,   5.2584305 ,   4.8512573 ,   4.4445114 ,\n",
       "          4.03817   ,   3.6321945 ,   3.2266617 ,   2.8215485 ,\n",
       "          2.4167633 ,   2.0128326 ,   1.6097031 ,   1.2069244 ,\n",
       "          0.8047714 ,   0.40208435,   0.        ], dtype=float32),\n",
       " array([120.06063 , 116.18121 , 104.42624 , 100.70198 ,  96.94066 ,\n",
       "         93.045845,  88.82539 ,  84.56555 ,  80.33745 ,  75.82422 ,\n",
       "         46.40767 ,  21.420052,  12.361725,   0.      ], dtype=float32),\n",
       " array([129.45761   , 127.85103   , 127.401825  , 126.52557   ,\n",
       "        126.07357   , 125.621826  , 125.17027   , 124.71881   ,\n",
       "        124.26759   , 123.81674   , 123.36602   , 122.91541   ,\n",
       "        122.4649    , 122.01371   , 121.56344   , 121.1132    ,\n",
       "        120.66299   , 120.21278   , 119.76253   , 119.31209   ,\n",
       "        118.861496  , 118.41079   , 117.95993   , 117.508896  ,\n",
       "        117.05763   , 116.60613   , 116.15411   , 115.70183   ,\n",
       "        115.249084  , 114.79577   , 114.341896  , 113.88761   ,\n",
       "        113.432785  , 112.97735   , 112.521904  , 112.0655    ,\n",
       "        111.608246  , 111.15036   , 110.23003   , 109.77472   ,\n",
       "        109.31914   , 108.86328   , 108.4072    , 107.950935  ,\n",
       "        107.49451   , 107.03803   , 106.58155   , 106.12505   ,\n",
       "        105.66859   , 105.21202   , 104.75565   , 104.29961   ,\n",
       "        103.83238   , 103.37859   , 102.925125  , 102.47201   ,\n",
       "        102.01969   , 101.56864   , 101.11826   , 100.66852   ,\n",
       "        100.21944   ,  99.771034  ,  98.877815  ,  98.43104   ,\n",
       "         97.98454   ,  97.53838   ,  97.09235   ,  96.646736  ,\n",
       "         96.20132   ,  95.75604   ,  95.31088   ,  94.41837   ,\n",
       "         93.973274  ,  93.5282    ,  93.08313   ,  92.63803   ,\n",
       "         92.19287   ,  91.74764   ,  91.302345  ,  90.85721   ,\n",
       "         90.41096   ,  89.96303   ,  89.51509   ,  89.06718   ,\n",
       "         88.61926   ,  88.171394  ,  87.723625  ,  87.27596   ,\n",
       "         86.82668   ,  86.37952   ,  85.932434  ,  85.485466  ,\n",
       "         85.03856   ,  84.59467   ,  84.153076  ,  83.71164   ,\n",
       "         83.27039   ,  82.39337   ,  81.95312   ,  81.512856  ,\n",
       "         81.07258   ,  80.632324  ,  80.19198   ,  79.751595  ,\n",
       "         79.311104  ,  78.87061   ,  78.430046  ,  77.989456  ,\n",
       "         77.54886   ,  77.10817   ,  76.66751   ,  76.22684   ,\n",
       "         75.78613   ,  75.34546   ,  74.9048    ,  74.46431   ,\n",
       "         74.02374   ,  73.58328   ,  73.14291   ,  72.70264   ,\n",
       "         72.26252   ,  71.822556  ,  71.38271   ,  70.94307   ,\n",
       "         70.50362   ,  70.06002   ,  69.61562   ,  69.17111   ,\n",
       "         68.72694   ,  68.282684  ,  67.8385    ,  67.39339   ,\n",
       "         66.94879   ,  66.504715  ,  66.06114   ,  65.61808   ,\n",
       "         65.175514  ,  64.73349   ,  64.29187   ,  63.850662  ,\n",
       "         63.40988   ,  62.96953   ,  62.529617  ,  62.090134  ,\n",
       "         61.651093  ,  61.212715  ,  60.774696  ,  60.337036  ,\n",
       "         59.899704  ,  59.462654  ,  59.025894  ,  58.589417  ,\n",
       "         58.1532    ,  57.717224  ,  57.28147   ,  56.84594   ,\n",
       "         56.410614  ,  55.97548   ,  55.540512  ,  55.105667  ,\n",
       "         54.67096   ,  54.236397  ,  53.801926  ,  53.367554  ,\n",
       "         52.934425  ,  52.499695  ,  52.064514  ,  51.629135  ,\n",
       "         51.190445  ,  50.749664  ,  50.3087    ,  49.86757   ,\n",
       "         49.42552   ,  48.98268   ,  48.539856  ,  48.097     ,\n",
       "         47.6541    ,  47.211136  ,  46.768127  ,  46.325058  ,\n",
       "         45.881905  ,  45.438713  ,  44.995438  ,  44.552086  ,\n",
       "         44.108597  ,  43.665024  ,  43.221405  ,  42.77767   ,\n",
       "         42.33383   ,  41.889954  ,  41.446     ,  41.00334   ,\n",
       "         40.559067  ,  40.1147    ,  39.670265  ,  39.22577   ,\n",
       "         38.78121   ,  37.891808  ,  37.446808  ,  37.00287   ,\n",
       "         36.55902   ,  36.11528   ,  35.671616  ,  35.228027  ,\n",
       "         34.78456   ,  34.341232  ,  33.897934  ,  33.454636  ,\n",
       "         33.01136   ,  32.56813   ,  32.12464   ,  31.681305  ,\n",
       "         31.238174  ,  30.795212  ,  30.35247   ,  29.90998   ,\n",
       "         29.467697  ,  29.025635  ,  28.580246  ,  28.139572  ,\n",
       "         27.699257  ,  27.25924   ,  26.819489  ,  26.380013  ,\n",
       "         25.940758  ,  25.501816  ,  25.063156  ,  24.624763  ,\n",
       "         24.18666   ,  23.748856  ,  23.31134   ,  22.874084  ,\n",
       "         22.437134  ,  22.00029   ,  21.563492  ,  21.126984  ,\n",
       "         20.69075   ,  20.254784  ,  19.819107  ,  19.383705  ,\n",
       "         18.948586  ,  17.210281  ,  16.77604   ,  16.341759  ,\n",
       "         15.90741   ,  15.472984  ,  15.0384445 ,  14.603783  ,\n",
       "         14.168961  ,  13.733978  ,  13.298759  ,  12.863312  ,\n",
       "         12.42762   ,  11.991699  ,  11.5555725 ,  11.119194  ,\n",
       "         10.682571  ,  10.2456665 ,   9.808502  ,   9.371048  ,\n",
       "          8.933266  ,   8.495155  ,   8.056686  ,   7.6245956 ,\n",
       "          7.18486   ,   6.7555466 ,   6.3304977 ,   5.9057465 ,\n",
       "          5.481308  ,   5.0572586 ,   4.633568  ,   3.78714   ,\n",
       "          3.3644333 ,   2.942093  ,   2.5200653 ,   2.0984268 ,\n",
       "          1.6776199 ,   1.2575531 ,   0.8377533 ,   0.41911316,\n",
       "          0.        ], dtype=float32))"
      ]
     },
     "execution_count": 61,
     "metadata": {},
     "output_type": "execute_result"
    }
   ],
   "source": [
    "ar['range_u'][mask][id], ar['range_v'][mask][id], ar['range_y'][mask][id]"
   ]
  },
  {
   "cell_type": "code",
   "execution_count": 62,
   "metadata": {},
   "outputs": [
    {
     "data": {
      "text/plain": [
       "(array([ 45.15903 ,  46.220043,  46.47933 ,  46.978912,  47.24111 ,\n",
       "         47.502583,  47.763695,  48.024635,  48.285187,  48.54524 ,\n",
       "         48.80508 ,  49.06473 ,  49.324203,  49.58483 ,  49.843903,\n",
       "         50.10287 ,  50.361763,  50.6206  ,  50.87945 ,  51.138546,\n",
       "         51.398087,  51.657787,  51.917686,  52.177837,  52.438293,\n",
       "         52.69911 ,  52.96053 ,  53.22246 ,  53.485104,  53.748573,\n",
       "         54.01288 ,  54.277954,  54.5439  ,  54.81077 ,  55.077663,\n",
       "         55.346024,  55.61568 ,  55.886303,  56.433563,  56.698326,\n",
       "         56.96351 ,  57.22908 ,  57.494984,  57.761154,  58.027527,\n",
       "         58.294086,  58.560505,  58.82692 ,  59.093277,  59.35973 ,\n",
       "         59.625904,  59.891644,  60.169907,  60.43284 ,  60.69534 ,\n",
       "         60.95737 ,  61.218895,  61.48017 ,  61.74066 ,  62.00047 ,\n",
       "         62.259594,  62.517975,  63.03141 ,  63.288082,  63.54453 ,\n",
       "         63.800533,  64.05635 ,  64.31158 ,  64.56653 ,  64.82126 ,\n",
       "         65.0758  ,  65.58759 ,  65.84194 ,  66.09625 ,  66.350555,\n",
       "         66.60491 ,  66.85936 ,  67.11393 ,  67.36862 ,  67.623   ,\n",
       "         67.87817 ,  68.13367 ,  68.38926 ,  68.64483 ,  68.90054 ,\n",
       "         69.156364,  69.412224,  69.66813 ,  69.92388 ,  70.17996 ,\n",
       "         70.43608 ,  70.692245,  70.9484  ,  71.2043  ,  71.459984,\n",
       "         71.715775,  71.97165 ,  72.48063 ,  72.73646 ,  72.99247 ,\n",
       "         73.24867 ,  73.50512 ,  73.76187 ,  74.01895 ,  74.27636 ,\n",
       "         74.53408 ,  74.79212 ,  75.05049 ,  75.30917 ,  75.568184,\n",
       "         75.827484,  76.0867  ,  76.34642 ,  76.60664 ,  76.86716 ,\n",
       "         77.1279  ,  77.388885,  77.65007 ,  77.911415,  78.1729  ,\n",
       "         78.43449 ,  78.696175,  78.95792 ,  79.21971 ,  79.48152 ,\n",
       "         79.745575,  80.010124,  80.27474 ,  80.53922 ,  80.80373 ,\n",
       "         81.06847 ,  81.33437 ,  81.6002  ,  81.86591 ,  82.1315  ,\n",
       "         82.39695 ,  82.66225 ,  82.92734 ,  83.192314,  83.457184,\n",
       "         83.72191 ,  83.98649 ,  84.250885,  84.5151  ,  84.77909 ,\n",
       "         85.04257 ,  85.305916,  85.56913 ,  85.832214,  86.095215,\n",
       "         86.35812 ,  86.62093 ,  86.88367 ,  87.14633 ,  87.40894 ,\n",
       "         87.671486,  87.93399 ,  88.19645 ,  88.4589  ,  88.72137 ,\n",
       "         88.98383 ,  89.24631 ,  89.50884 ,  89.77144 ,  90.03222 ,\n",
       "         90.29607 ,  90.561104,  90.82652 ,  91.092   ,  91.35753 ,\n",
       "         91.62326 ,  91.8892  ,  92.15577 ,  92.4228  ,  92.689804,\n",
       "         92.95683 ,  93.22393 ,  93.49107 ,  93.75828 ,  94.02556 ,\n",
       "         94.29292 ,  94.56036 ,  94.82793 ,  95.0956  ,  95.363365,\n",
       "         95.63124 ,  95.89909 ,  96.16709 ,  96.435196,  96.70331 ,\n",
       "         96.97147 ,  97.23714 ,  97.505646,  97.77422 ,  98.04291 ,\n",
       "         98.311676,  98.58054 ,  99.11861 ,  99.38787 ,  99.655914,\n",
       "         99.923775, 100.19149 , 100.45907 , 100.7265  , 100.99295 ,\n",
       "        101.256546, 101.52001 , 101.7834  , 102.04669 , 102.30988 ,\n",
       "        102.573074, 102.83615 , 103.0991  , 103.361946, 103.62464 ,\n",
       "        103.88715 , 104.14951 , 104.411705, 104.67913 , 104.940155,\n",
       "        105.20099 , 105.46167 , 105.72222 , 105.98261 , 106.242874,\n",
       "        106.50288 , 106.76263 , 107.02212 , 107.28132 , 107.54019 ,\n",
       "        107.798706, 108.0569  , 108.31471 , 108.57277 , 108.831566,\n",
       "        109.09007 , 109.34829 , 109.60622 , 109.86388 , 110.12126 ,\n",
       "        110.37841 , 111.4038  , 111.659485, 111.91512 , 112.17077 ,\n",
       "        112.426445, 112.68217 , 112.93798 , 113.19389 , 113.44992 ,\n",
       "        113.706116, 113.96249 , 114.21905 , 114.47579 , 114.73271 ,\n",
       "        114.989815, 115.24711 , 115.50463 , 115.762375, 116.020355,\n",
       "        116.2786  , 116.537125, 116.79588 , 117.05048 , 117.30987 ,\n",
       "        117.56378 , 117.81552 , 118.06727 , 118.319016, 118.5706  ,\n",
       "        118.822075, 119.32519 , 119.576775, 119.828224, 120.07989 ,\n",
       "        120.33146 , 120.582596, 120.83343 , 121.084305, 121.33299 ,\n",
       "        121.58384 ], dtype=float32),\n",
       " array([-116.42095 , -115.5639  , -115.35256 , -114.95427 , -114.740585,\n",
       "        -114.52656 , -114.31252 , -114.09846 , -113.884445, -113.67061 ,\n",
       "        -113.45679 , -113.24298 , -113.02917 , -112.81534 , -112.60155 ,\n",
       "        -112.38772 , -112.17385 , -111.959946, -111.74595 , -111.53186 ,\n",
       "        -111.31797 , -111.10403 , -110.889984, -110.67588 , -110.46166 ,\n",
       "        -110.24737 , -110.03272 , -109.81813 , -109.60344 , -109.388535,\n",
       "        -109.17349 , -108.9585  , -108.74345 , -108.52823 , -108.313065,\n",
       "        -108.097664, -107.882126, -107.666435, -107.233116, -107.01629 ,\n",
       "        -106.79937 , -106.58237 , -106.36529 , -106.148125, -105.93088 ,\n",
       "        -105.71376 , -105.49644 , -105.27907 , -105.06168 , -104.844215,\n",
       "        -104.6268  , -104.409515, -104.18431 , -103.96834 , -103.752495,\n",
       "        -103.53681 , -103.322235, -103.11021 , -102.898636, -102.68753 ,\n",
       "        -102.47697 , -102.26691 , -101.850266, -101.64152 , -101.43329 ,\n",
       "        -101.22524 , -101.01724 , -100.80947 , -100.60176 , -100.394104,\n",
       "        -100.186485,  -99.76994 ,  -99.56228 ,  -99.354645,  -99.14703 ,\n",
       "         -98.93944 ,  -98.731865,  -98.52431 ,  -98.31678 ,  -98.10925 ,\n",
       "         -97.90039 ,  -97.68849 ,  -97.47669 ,  -97.26494 ,  -97.05336 ,\n",
       "         -96.842026,  -96.63094 ,  -96.42015 ,  -96.205795,  -95.99628 ,\n",
       "         -95.78702 ,  -95.57804 ,  -95.36919 ,  -95.16657 ,  -94.96876 ,\n",
       "         -94.7714  ,  -94.57458 ,  -94.18948 ,  -93.994774,  -93.80027 ,\n",
       "         -93.60599 ,  -93.4121  ,  -93.21839 ,  -93.02504 ,  -92.83187 ,\n",
       "         -92.639114,  -92.44661 ,  -92.2545  ,  -92.06276 ,  -91.87127 ,\n",
       "         -91.68021 ,  -91.489   ,  -91.298386,  -91.10849 ,  -90.919044,\n",
       "         -90.73026 ,  -90.541626,  -90.35349 ,  -90.16574 ,  -89.97842 ,\n",
       "         -89.791565,  -89.60519 ,  -89.419136,  -89.23359 ,  -89.0485  ,\n",
       "         -88.857124,  -88.664566,  -88.471794,  -88.27954 ,  -88.08705 ,\n",
       "         -87.89545 ,  -87.70436 ,  -87.51436 ,  -87.325386,  -87.13741 ,\n",
       "         -86.95041 ,  -86.76436 ,  -86.57926 ,  -86.39495 ,  -86.211426,\n",
       "         -86.02871 ,  -85.84676 ,  -85.66559 ,  -85.485146,  -85.30542 ,\n",
       "         -85.12652 ,  -84.94825 ,  -84.770615,  -84.59357 ,  -84.417015,\n",
       "         -84.24098 ,  -84.065475,  -83.89043 ,  -83.71581 ,  -83.54162 ,\n",
       "         -83.36783 ,  -83.194405,  -83.021324,  -82.84858 ,  -82.676094,\n",
       "         -82.5039  ,  -82.33198 ,  -82.16032 ,  -81.9889  ,  -81.81778 ,\n",
       "         -81.64722 ,  -81.47722 ,  -81.307236,  -81.12954 ,  -80.94708 ,\n",
       "         -80.76446 ,  -80.581665,  -80.3975  ,  -80.21199 ,  -80.02643 ,\n",
       "         -79.84079 ,  -79.65509 ,  -79.46929 ,  -79.2834  ,  -79.09744 ,\n",
       "         -78.911354,  -78.72526 ,  -78.53907 ,  -78.35284 ,  -78.16639 ,\n",
       "         -77.979805,  -77.79308 ,  -77.606255,  -77.41929 ,  -77.23219 ,\n",
       "         -77.04495 ,  -76.85718 ,  -76.66961 ,  -76.48188 ,  -76.2941  ,\n",
       "         -76.10627 ,  -75.918396,  -75.54236 ,  -75.35392 ,  -75.16571 ,\n",
       "         -74.97745 ,  -74.789154,  -74.600845,  -74.41251 ,  -74.22318 ,\n",
       "         -74.03076 ,  -73.838264,  -73.64567 ,  -73.45304 ,  -73.2604  ,\n",
       "         -73.06716 ,  -72.87414 ,  -72.681404,  -72.488945,  -72.29678 ,\n",
       "         -72.10493 ,  -71.91335 ,  -71.72203 ,  -71.53038 ,  -71.34097 ,\n",
       "         -71.15209 ,  -70.96368 ,  -70.77568 ,  -70.58806 ,  -70.40075 ,\n",
       "         -70.2138  ,  -70.02714 ,  -69.84074 ,  -69.65459 ,  -69.468666,\n",
       "         -69.28294 ,  -69.09736 ,  -68.91196 ,  -68.727   ,  -68.54291 ,\n",
       "         -68.359116,  -68.17558 ,  -67.99234 ,  -67.80942 ,  -67.626816,\n",
       "         -67.444565,  -66.71997 ,  -66.53922 ,  -66.35842 ,  -66.17756 ,\n",
       "         -65.99661 ,  -65.81558 ,  -65.634445,  -65.4532  ,  -65.271805,\n",
       "         -65.09018 ,  -64.908356,  -64.72634 ,  -64.54412 ,  -64.36178 ,\n",
       "         -64.1792  ,  -63.996418,  -63.81342 ,  -63.630215,  -63.446774,\n",
       "         -63.26307 ,  -63.07907 ,  -62.894695,  -62.719875,  -62.53364 ,\n",
       "         -62.359585,  -62.190434,  -62.021763,  -61.853603,  -61.685852,\n",
       "         -61.518536,  -61.185658,  -61.02006 ,  -60.854874,  -60.690495,\n",
       "         -60.526608,  -60.363636,  -60.201374,  -60.03932 ,  -59.87622 ,\n",
       "         -59.71487 ], dtype=float32),\n",
       " array([570.2362 , 569.037  , 568.7372 , 568.1375 , 567.83765, 567.53784,\n",
       "        567.238  , 566.9382 , 566.6383 , 566.33844, 566.0386 , 565.7387 ,\n",
       "        565.43884, 565.139  , 564.8391 , 564.53925, 564.2394 , 563.9395 ,\n",
       "        563.6396 , 563.3397 , 563.03986, 562.74   , 562.4401 , 562.14026,\n",
       "        561.8404 , 561.5406 , 561.2407 , 560.9409 , 560.64105, 560.34125,\n",
       "        560.0414 , 559.7416 , 559.4418 , 559.14197, 558.8421 , 558.5423 ,\n",
       "        558.24243, 557.9426 , 557.34283, 557.0425 , 556.7422 , 556.4419 ,\n",
       "        556.1416 , 555.8413 , 555.541  , 555.2407 , 554.9404 , 554.6402 ,\n",
       "        554.3399 , 554.0396 , 553.7394 , 553.43915, 553.13885, 552.8386 ,\n",
       "        552.5384 , 552.23816, 551.9379 , 551.6375 , 551.33716, 551.03687,\n",
       "        550.7365 , 550.4362 , 549.8357 , 549.5354 , 549.23505, 548.93463,\n",
       "        548.6342 , 548.3338 , 548.0334 , 547.733  , 547.4325 , 546.83154,\n",
       "        546.53107, 546.2305 , 545.93005, 545.6295 , 545.3289 , 545.0284 ,\n",
       "        544.7278 , 544.4272 , 544.12646, 543.82574, 543.52496, 543.2242 ,\n",
       "        542.9234 , 542.6226 , 542.3218 , 542.021  , 541.72015, 541.4194 ,\n",
       "        541.1185 , 540.81775, 540.5169 , 540.21606, 539.9152 , 539.61444,\n",
       "        539.3136 , 538.7121 , 538.4114 , 538.1106 , 537.8098 , 537.50903,\n",
       "        537.20825, 536.90753, 536.60675, 536.30597, 536.00525, 535.70447,\n",
       "        535.40375, 535.10297, 534.80225, 534.5015 , 534.2008 , 533.9001 ,\n",
       "        533.59937, 533.2987 , 532.99805, 532.6974 , 532.3967 , 532.0961 ,\n",
       "        531.79553, 531.49493, 531.1944 , 530.89386, 530.5933 , 530.2926 ,\n",
       "        529.9919 , 529.6912 , 529.3906 , 529.09   , 528.7892 , 528.4877 ,\n",
       "        528.18616, 527.8847 , 527.58325, 527.2818 , 526.98035, 526.6789 ,\n",
       "        526.3775 , 526.0761 , 525.7748 , 525.47345, 525.1721 , 524.87085,\n",
       "        524.5696 , 524.2683 , 523.9671 , 523.6659 , 523.36475, 523.06366,\n",
       "        522.7626 , 522.4615 , 522.16046, 521.8595 , 521.55853, 521.2576 ,\n",
       "        520.9567 , 520.6559 , 520.3551 , 520.0543 , 519.75366, 519.453  ,\n",
       "        519.15234, 518.8518 , 518.5513 , 518.2508 , 517.9504 , 517.65   ,\n",
       "        517.3494 , 517.0486 , 516.7478 , 516.447  , 516.1463 , 515.84564,\n",
       "        515.54504, 515.24445, 514.94385, 514.6433 , 514.34283, 514.04236,\n",
       "        513.7419 , 513.44147, 513.14105, 512.84064, 512.5403 , 512.24   ,\n",
       "        511.93967, 511.6394 , 511.33914, 511.0389 , 510.7387 , 510.4385 ,\n",
       "        510.13834, 509.8382 , 509.5381 , 509.23798, 508.9379 , 508.3378 ,\n",
       "        508.0378 , 507.7381 , 507.43842, 507.1388 , 506.83914, 506.53952,\n",
       "        506.2398 , 505.93976, 505.6397 , 505.3396 , 505.03952, 504.73938,\n",
       "        504.43927, 504.13913, 503.839  , 503.53885, 503.2387 , 502.9386 ,\n",
       "        502.63846, 502.33835, 502.03812, 501.73782, 501.43753, 501.13727,\n",
       "        500.83704, 500.5368 , 500.2366 , 499.9364 , 499.63623, 499.33603,\n",
       "        499.0359 , 498.73572, 498.43558, 498.1354 , 497.83527, 497.53522,\n",
       "        497.23535, 496.93546, 496.63556, 496.33563, 496.03568, 495.73572,\n",
       "        495.43573, 494.23355, 493.93268, 493.63174, 493.33075, 493.02972,\n",
       "        492.72864, 492.4275 , 492.1263 , 491.82504, 491.5237 , 491.22235,\n",
       "        490.9209 , 490.6194 , 490.3178 , 490.01617, 489.71445, 489.41266,\n",
       "        489.1108 , 488.80887, 488.50687, 488.20477, 487.90262, 487.6004 ,\n",
       "        487.2981 , 486.99887, 486.70105, 486.4034 , 486.10596, 485.80865,\n",
       "        485.51154, 484.91782, 484.62122, 484.3248 , 484.0286 , 483.73254,\n",
       "        483.43683, 483.1415 , 482.84653, 482.55188, 482.25745],\n",
       "       dtype=float32))"
      ]
     },
     "execution_count": 62,
     "metadata": {},
     "output_type": "execute_result"
    }
   ],
   "source": [
    "ar['x_y'][mask][id], ar['y_y'][mask][id], ar['z_y'][mask][id]"
   ]
  },
  {
   "cell_type": "code",
   "execution_count": 63,
   "metadata": {},
   "outputs": [
    {
     "data": {
      "text/plain": [
       "(124.921684, -77.4687, 482.44974)"
      ]
     },
     "execution_count": 63,
     "metadata": {},
     "output_type": "execute_result"
    }
   ],
   "source": [
    "ar['trk_start_x'][mask][id], ar['trk_start_y'][mask][id], ar['trk_start_z'][mask][id]"
   ]
  },
  {
   "cell_type": "code",
   "execution_count": 64,
   "metadata": {},
   "outputs": [
    {
     "data": {
      "text/plain": [
       "(40972, 7001, 819)"
      ]
     },
     "execution_count": 64,
     "metadata": {},
     "output_type": "execute_result"
    }
   ],
   "source": [
    "ar['evt'][mask][id], ar['run'][mask][id], ar['sub'][mask][id]"
   ]
  },
  {
   "cell_type": "markdown",
   "metadata": {},
   "source": [
    "## ROC curves"
   ]
  },
  {
   "cell_type": "code",
   "execution_count": null,
   "metadata": {},
   "outputs": [],
   "source": [
    "interesting_variables = [\n",
    "                         'dedx_median_4_u',\n",
    "                         'dedx_median_4_v',\n",
    "                         'dedx_median_4_y',\n",
    "                         'llr_sum_0',\n",
    "                         'llr_sum_1',\n",
    "                         'llr_sum_2',\n",
    "                         'llr_01',\n",
    "                         'llr_012',\n",
    "                        ]\n",
    "\n",
    "for variable in interesting_variables:\n",
    "    caloLike_test.rocCurve(variable=variable+'_n', \n",
    "         pdg_codes=[11, 22], \n",
    "         plot=True,\n",
    "         variable_label=variable_labels[variable])\n",
    "\n",
    "plt.title('Electron/photon separation\\nSimulated tracks', loc='left')\n",
    "plt.savefig(save_folder + 'roc_curves.png', dpi=250)"
   ]
  },
  {
   "cell_type": "code",
   "execution_count": null,
   "metadata": {},
   "outputs": [],
   "source": [
    "def selection_function(array, parameter, bin_range):\n",
    "    return (array[parameter] >= bin_range[0]) &\\\n",
    "           (array[parameter] < bin_range[1])\n",
    "\n",
    "pdg_codes = [11, 22]\n",
    "interesting_variables = [\n",
    "                         'dedx_median_4_u',\n",
    "                         'dedx_median_4_v',\n",
    "                         'dedx_median_4_y',\n",
    "                         'llr_sum_0',\n",
    "                         'llr_sum_1',\n",
    "                         'llr_sum_2',\n",
    "                         'llr_01',\n",
    "                         'llr_012',\n",
    "                        ]\n",
    "parameter_name = 'backtracked_e'\n",
    "parameter_bin_edges = np.array([0, 0.1, 0.2, 0.5, 1, 1.5, 2])\n",
    "\n",
    "for variable in interesting_variables:\n",
    "    out = caloLike_test.auc1D(variable+'_n', \n",
    "                        pdg_codes, \n",
    "                        selection_function, \n",
    "                        parameter_name, \n",
    "                        parameter_bin_edges,\n",
    "                        legend_label=variable_labels[variable])\n",
    "plt.ylim(0.5, 1)\n",
    "plt.xlabel(r'True shower energy [GeV]')\n",
    "plt.legend()\n",
    "plt.title('Electron/photon separation\\nSimulated tracks', loc='left')\n",
    "plt.tight_layout()\n",
    "plt.savefig(save_folder+'auc1d'+parameter_name+'.png', dpi=250)"
   ]
  },
  {
   "cell_type": "markdown",
   "metadata": {},
   "source": [
    "# Old"
   ]
  },
  {
   "cell_type": "code",
   "execution_count": null,
   "metadata": {},
   "outputs": [],
   "source": [
    "norm_direction_vector(arrays_train['nue'])\n",
    "out_mask = np.abs(arrays_train['nue']['norm_dir_y'] -1) > 0.001"
   ]
  },
  {
   "cell_type": "code",
   "execution_count": null,
   "metadata": {},
   "outputs": [],
   "source": [
    "arrays_train['nue']['run'][out_mask.any()], arrays_train['nue']['sub'][out_mask.any()], arrays_train['nue']['evt'][out_mask.any()]"
   ]
  },
  {
   "cell_type": "code",
   "execution_count": null,
   "metadata": {},
   "outputs": [],
   "source": [
    "arrays_train['nue']['dir_x_y'][out_mask.any()], arrays_train['nue']['dir_y_y'][out_mask.any()], arrays_train['nue']['dir_z_y'][out_mask.any()]"
   ]
  },
  {
   "cell_type": "code",
   "execution_count": null,
   "metadata": {},
   "outputs": [],
   "source": []
  }
 ],
 "metadata": {
  "kernelspec": {
   "display_name": "Python 3",
   "language": "python",
   "name": "python3"
  },
  "language_info": {
   "codemirror_mode": {
    "name": "ipython",
    "version": 3
   },
   "file_extension": ".py",
   "mimetype": "text/x-python",
   "name": "python",
   "nbconvert_exporter": "python",
   "pygments_lexer": "ipython3",
   "version": "3.7.6"
  }
 },
 "nbformat": 4,
 "nbformat_minor": 2
}
