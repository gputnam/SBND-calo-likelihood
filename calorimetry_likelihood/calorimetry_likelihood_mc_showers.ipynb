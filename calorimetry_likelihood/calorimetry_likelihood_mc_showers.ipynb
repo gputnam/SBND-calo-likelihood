{
 "cells": [
  {
   "cell_type": "markdown",
   "metadata": {},
   "source": [
    "# Performance on simulated electrons and photons"
   ]
  },
  {
   "cell_type": "code",
   "execution_count": 1,
   "metadata": {},
   "outputs": [],
   "source": [
    "%load_ext autoreload\n",
    "%autoreload 2\n",
    "\n",
    "import math\n",
    "from itertools import product\n",
    "import uproot\n",
    "import awkward\n",
    "import numpy as np\n",
    "import matplotlib.pyplot as plt\n",
    "from matplotlib.colors import LogNorm\n",
    "from scipy.stats import binned_statistic\n",
    "\n",
    "import matplotlib\n",
    "matplotlib.rcParams.update({'font.size': 12})\n",
    "\n",
    "from calo_likelihood import caloLikelihood\n",
    "from helpers import *\n",
    "from loaders import *\n",
    "from initializers import initialisation_for_calorimetry_shower"
   ]
  },
  {
   "cell_type": "code",
   "execution_count": 37,
   "metadata": {},
   "outputs": [],
   "source": [
    "today = '19_12_03'"
   ]
  },
  {
   "cell_type": "code",
   "execution_count": 38,
   "metadata": {},
   "outputs": [],
   "source": [
    "!mkdir -p ~/Dropbox/MicroBooNE/_fig/$today/shower_calo/\n",
    "!mkdir -p ~/Dropbox/MicroBooNE/_fig/$today/shower_calo/pdfs/\n",
    "save_folder = '/home/nic/Dropbox/MicroBooNE/_fig/' + today + '/shower_calo/'\n",
    "save_folder_pdfs = save_folder + 'pdfs/'"
   ]
  },
  {
   "cell_type": "markdown",
   "metadata": {},
   "source": [
    "## Loading and initializing"
   ]
  },
  {
   "cell_type": "code",
   "execution_count": 4,
   "metadata": {},
   "outputs": [],
   "source": [
    "branches = [\n",
    "    'run',\n",
    "    'sub',\n",
    "    'evt',\n",
    "    \n",
    "    'generation',\n",
    "    'backtracked_pdg',\n",
    "    'backtracked_e',\n",
    "    'backtracked_purity',\n",
    "    'backtracked_completeness',\n",
    "    'backtracked_overlay_purity',\n",
    "    'backtracked_start_x',\n",
    "    'backtracked_start_y',\n",
    "    'backtracked_start_z',\n",
    "    'backtracked_start_t',\n",
    "    'backtracked_sce_start_x',\n",
    "    'backtracked_sce_start_y',\n",
    "    'backtracked_sce_start_z',\n",
    "    \n",
    "    'nplanehits_U',\n",
    "    'nplanehits_V',\n",
    "    'nplanehits_Y',\n",
    "    'trk_score',\n",
    "\n",
    "    'trk_start_x',\n",
    "    'trk_start_y',\n",
    "    'trk_start_z',\n",
    "    \n",
    "    'trk_sce_start_x',\n",
    "    'trk_sce_start_y',\n",
    "    'trk_sce_start_z',\n",
    "\n",
    "    'trk_end_x',\n",
    "    'trk_end_y',\n",
    "    'trk_end_z',\n",
    "    \n",
    "    'trk_sce_end_x',\n",
    "    'trk_sce_end_y',\n",
    "    'trk_sce_end_z',\n",
    "    \n",
    "    'trk_theta',\n",
    "    'trk_phi',\n",
    "\n",
    "    'trk_dir_x',\n",
    "    'trk_dir_y',\n",
    "    'trk_dir_z',\n",
    "\n",
    "    'trk_len',\n",
    "    \n",
    "#     'dqdx_u',\n",
    "#     'dqdx_v',\n",
    "#     'dqdx_y',\n",
    "\n",
    "    'dedx_u',\n",
    "    'dedx_v',\n",
    "    'dedx_y',\n",
    "\n",
    "    'rr_u',\n",
    "    'rr_v',\n",
    "    'rr_y',\n",
    "\n",
    "    'pitch_u',\n",
    "    'pitch_v',\n",
    "    'pitch_y',\n",
    "    \n",
    "    'x_u',\n",
    "    'x_v',\n",
    "    'x_y',\n",
    "    \n",
    "    'y_u',\n",
    "    'y_v',\n",
    "    'y_y',\n",
    "    \n",
    "    'z_u',\n",
    "    'z_v',\n",
    "    'z_y',\n",
    "    \n",
    "    'dir_x_u',\n",
    "    'dir_x_v',\n",
    "    'dir_x_y',\n",
    "    \n",
    "    'dir_y_u',\n",
    "    'dir_y_v',\n",
    "    'dir_y_y',\n",
    "    \n",
    "    'dir_z_u',\n",
    "    'dir_z_v',\n",
    "    'dir_z_y',\n",
    "]"
   ]
  },
  {
   "cell_type": "code",
   "execution_count": 43,
   "metadata": {},
   "outputs": [],
   "source": [
    "# Declaring files, folder and tree\n",
    "\n",
    "directory = '~/Desktop/MicroBooNE/calorimetry_likelihood/v03/'\n",
    "\n",
    "folder = \"nuselection\"\n",
    "tree = \"CalorimetryAnalyzer\"\n",
    "\n",
    "split_factor = 0.5\n",
    "split_factor2 = 1\n",
    "\n",
    "file_lists = {}\n",
    "arrays_train = {}\n",
    "arrays_test = {}\n",
    "\n",
    "file_lists['nue'] = directory + 'bnb_nue_shr/out.root'\n",
    "file_lists['ccpi0'] = directory + 'bnb_ccpi0_shr/out.root'\n",
    "file_lists['ncpi0'] = directory + 'bnb_ncpi0_shr/out.root'"
   ]
  },
  {
   "cell_type": "code",
   "execution_count": 44,
   "metadata": {},
   "outputs": [],
   "source": [
    "#Loading arrays\n",
    "for name, file_path in file_lists.items():\n",
    "    root_file = uproot.open(file_path)[folder][tree]\n",
    "    entry_split = int(len(root_file) * split_factor)\n",
    "    entry_split2 = int(len(root_file) * split_factor2)\n",
    "    arrays_train[name] = root_file.arrays(branches, namedecode=\"utf-8\", entrystop=entry_split)\n",
    "    arrays_test[name] = root_file.arrays(branches, namedecode=\"utf-8\", entrystart=entry_split, entrystop=entry_split2)"
   ]
  },
  {
   "cell_type": "code",
   "execution_count": 45,
   "metadata": {},
   "outputs": [],
   "source": [
    "# Merging nue, nu, and ncpi0\n",
    "array_train = {}\n",
    "array_test = {}\n",
    "for variable in branches:\n",
    "    array_train[variable] = awkward.concatenate([array[variable] for array in arrays_train.values()])    \n",
    "    array_test[variable] = awkward.concatenate([array[variable] for array in arrays_test.values()])"
   ]
  },
  {
   "cell_type": "code",
   "execution_count": 46,
   "metadata": {},
   "outputs": [],
   "source": [
    "# initialising arrays\n",
    "for array in [array_train, array_test]:\n",
    "    initialisation_for_calorimetry_shower(array)"
   ]
  },
  {
   "cell_type": "code",
   "execution_count": 83,
   "metadata": {},
   "outputs": [],
   "source": [
    "def selection_for_train(array):\n",
    "    return (array['backtracked_purity'] > 0.9) &\\\n",
    "           (array['start_is_fiducial']) &\\\n",
    "           (array['distance_3d_start'] < 2) &\\\n",
    "           (array['distance_3d_start'] > 0) &\\\n",
    "           ((abs(array['backtracked_pdg']) == 11) | (abs(array['backtracked_pdg']) == 22))\n",
    "\n",
    "def selection_for_test(array):\n",
    "    return (array['backtracked_purity'] > 0.9) &\\\n",
    "           (array['start_is_fiducial']) &\\\n",
    "           (array['distance_3d_start'] < 2) &\\\n",
    "           (array['distance_3d_start'] > 0)\n",
    "\n",
    "def electron_for_test(array):\n",
    "    return selection_for_test(array) & (np.abs(array['backtracked_pdg'])==11)\n",
    "\n",
    "def photon_for_test(array):\n",
    "    return selection_for_test(array) & (np.abs(array['backtracked_pdg'])==22)\n",
    "\n",
    "def cosmic_for_test(array):\n",
    "    return selection_for_test(array) & (np.abs(array['backtracked_pdg'])==0)"
   ]
  },
  {
   "cell_type": "code",
   "execution_count": 100,
   "metadata": {},
   "outputs": [],
   "source": [
    "#declaring some masks\n",
    "selection_train = selection_for_train(array_train)\n",
    "selection_test = selection_for_test(array_test)\n",
    "\n",
    "electron_train = (abs(array_train['backtracked_pdg']) == 11)\n",
    "photon_train = (abs(array_train['backtracked_pdg']) == 22)\n",
    "\n",
    "electron_test = (abs(array_test['backtracked_pdg']) == 11)\n",
    "photon_test = (abs(array_test['backtracked_pdg']) == 22)"
   ]
  },
  {
   "cell_type": "code",
   "execution_count": 56,
   "metadata": {},
   "outputs": [],
   "source": [
    "# Easy start point resolution studies"
   ]
  },
  {
   "cell_type": "code",
   "execution_count": 57,
   "metadata": {},
   "outputs": [
    {
     "data": {
      "text/plain": [
       "Text(0.0, 1.0, 'Electron and photon candidates in BNB\\nbacktracked to electrons and photons\\npurity>90%, start point in the fiducial volume\\nMicroBooNE preliminary')"
      ]
     },
     "execution_count": 57,
     "metadata": {},
     "output_type": "execute_result"
    },
    {
     "data": {
      "image/png": "[encoded data removed]",
      "text/plain": [
       "<Figure size 432x288 with 1 Axes>"
      ]
     },
     "metadata": {
      "needs_background": "light"
     },
     "output_type": "display_data"
    }
   ],
   "source": [
    "def base_selection_for_res_start_study(array):\n",
    "    return (array['backtracked_purity'] > 0.9) &\\\n",
    "           (array['start_is_fiducial']) &\\\n",
    "           ((abs(array['backtracked_pdg']) == 11) | (abs(array['backtracked_pdg']) == 22))\n",
    "\n",
    "base_sel = base_selection_for_res_start_study(array_train)\n",
    "plt.hist(array_train['distance_3d_start'][electron_train & base_sel], bins=50, range=[0, 10], alpha=0.5, density=True, label='electron')\n",
    "plt.hist(array_train['distance_3d_start'][photon_train & base_sel], bins=50, range=[0, 10], alpha=0.5, density=True, label='photon')\n",
    "plt.legend()\n",
    "plt.xlabel('3D start point resolution [cm]')\n",
    "plt.ylabel('probability density [1/cm]')\n",
    "plt.title('Electron and photon candidates in BNB\\nbacktracked to electrons and photons\\npurity>90%, start point in the fiducial volume\\nMicroBooNE preliminary', loc='left')"
   ]
  },
  {
   "cell_type": "code",
   "execution_count": 58,
   "metadata": {},
   "outputs": [
    {
     "data": {
      "text/plain": [
       "Text(0.0, 1.0, 'Photon candidates in BNB\\nbacktracked to photons\\npurity>90%, start point in the fiducial volume\\nMicroBooNE preliminary')"
      ]
     },
     "execution_count": 58,
     "metadata": {},
     "output_type": "execute_result"
    },
    {
     "data": {
      "image/png": "[encoded data removed]",
      "text/plain": [
       "<Figure size 432x288 with 1 Axes>"
      ]
     },
     "metadata": {
      "needs_background": "light"
     },
     "output_type": "display_data"
    }
   ],
   "source": [
    "dedx_y = array_train['dedx_y'][photon_train & selection_train]\n",
    "dist = array_train['dist_from_start_y'][photon_train & selection_train]\n",
    "\n",
    "plt.hist2d(dist.flatten(), dedx_y.flatten(), range=[[0, 10], [0, 10]], bins=[51, 51])\n",
    "plt.xlabel(\"Distance from the reco start point [cm]\")\n",
    "plt.ylabel(\"dE/dx [MeV/cm]\")\n",
    "plt.title('Photon candidates in BNB\\nbacktracked to photons\\npurity>90%, start point in the fiducial volume\\nMicroBooNE preliminary', loc='left')"
   ]
  },
  {
   "cell_type": "markdown",
   "metadata": {},
   "source": [
    "## Lookup Tables"
   ]
  },
  {
   "cell_type": "code",
   "execution_count": 60,
   "metadata": {},
   "outputs": [],
   "source": [
    "# two parameters\n",
    "parameters_names = ['dist_from_start', 'pitch']\n",
    "parameters_bin_edges = [[0., 1, 2, 3, 4, 5, 10],\n",
    "                  [0.3, 0.6, 1., 1.5, 3]]\n",
    "\n",
    "dedx_var = 'dedx'\n",
    "dedx_bins = [0.        , 0.31578947, 0.63157895, 0.94736842, 1.26315789,\n",
    "       1.57894737, 1.89473684, 2.21052632, 2.52631579, 2.84210526,\n",
    "       3.15789474, 3.47368421, 3.78947368, 4.10526316, 4.42105263,\n",
    "       4.73684211, 5.05263158, 5.36842105, 5.68421053, 6. , 6.5, 7, 7.5, 8, 9, 10, 12, 15, 20, 30, 50]\n",
    "\n",
    "parameters = []\n",
    "dedx_vars = []\n",
    "for plane in ['u', 'v', 'y']:\n",
    "    parameters.append([parameter_name+'_'+plane for parameter_name in parameters_names])\n",
    "    dedx_vars.append(dedx_var+'_'+plane)\n",
    "\n",
    "pdgcode_var = 'backtracked_pdg'"
   ]
  },
  {
   "cell_type": "code",
   "execution_count": 101,
   "metadata": {},
   "outputs": [],
   "source": [
    "# declaring caloLikelihood objects\n",
    "caloLike_train = caloLikelihood(array_train, quality_mask=selection_train)\n",
    "caloLike_test = caloLikelihood(array_test, quality_mask=selection_test)\n",
    "\n",
    "caloLike_train.setPdgCodeVar(pdgcode_var)\n",
    "caloLike_test.setPdgCodeVar(pdgcode_var)"
   ]
  },
  {
   "cell_type": "code",
   "execution_count": 102,
   "metadata": {},
   "outputs": [
    {
     "name": "stderr",
     "output_type": "stream",
     "text": [
      "/home/nic/Dropbox/MicroBooNE/bnb_nue_analysis/lib/calo_likelihood.py:140: RuntimeWarning: divide by zero encountered in log\n",
      "  np.log(table_1) - np.log(table_2),\n",
      "/home/nic/Dropbox/MicroBooNE/bnb_nue_analysis/lib/calo_likelihood.py:140: RuntimeWarning: invalid value encountered in subtract\n",
      "  np.log(table_1) - np.log(table_2),\n"
     ]
    }
   ],
   "source": [
    "for i in [0, 1, 2]:\n",
    "    caloLike_train.setVariablesBinning(i, parameters[i], parameters_bin_edges, dedx_vars[i], dedx_bins)\n",
    "    caloLike_train.buildLookUpTableMC(i, 11)    \n",
    "    caloLike_train.buildLookUpTableMC(i, 22)    \n",
    "    caloLike_train.buildLookUpLogLikelihoodRatio(i, [11, 22])\n",
    "    caloLike_test.setVariablesBinning(i, parameters[i], parameters_bin_edges, dedx_vars[i], dedx_bins)"
   ]
  },
  {
   "cell_type": "code",
   "execution_count": 103,
   "metadata": {},
   "outputs": [
    {
     "name": "stderr",
     "output_type": "stream",
     "text": [
      "/home/nic/Dropbox/MicroBooNE/bnb_nue_analysis/lib/calo_likelihood.py:245: RuntimeWarning: divide by zero encountered in log\n",
      "  return np.log(self.lookup_tables[pdg_code][plane_num][lookup_index])\n",
      "/home/nic/Dropbox/MicroBooNE/bnb_nue_analysis/lib/calo_likelihood.py:292: RuntimeWarning: invalid value encountered in subtract\n",
      "  array['log_like_ratio_{}'.format(plane)] = array['like_{}_sum_{}'.format(pdg_codes[0], plane)] - array['like_{}_sum_{}'.format(pdg_codes[1], plane)]\n",
      "/home/nic/Dropbox/MicroBooNE/bnb_nue_analysis/lib/calo_likelihood.py:294: RuntimeWarning: invalid value encountered in add\n",
      "  array['log_like_ratio'] = array['log_like_ratio_0'] + array['log_like_ratio_1'] + array['log_like_ratio_2']\n",
      "/home/nic/Dropbox/MicroBooNE/bnb_nue_analysis/lib/calo_likelihood.py:295: RuntimeWarning: invalid value encountered in add\n",
      "  array['log_like_ratio_01'] = array['log_like_ratio_0'] + array['log_like_ratio_1']\n"
     ]
    }
   ],
   "source": [
    "caloLike_train.addCalorimetryVariables(caloLike_test.array, pdg_codes=[11, 22], cali=False)\n",
    "caloLike_train.addCalorimetryVariablesFromLLRTable(caloLike_test.array, cali=False)"
   ]
  },
  {
   "cell_type": "code",
   "execution_count": 14,
   "metadata": {},
   "outputs": [],
   "source": [
    "# caloLike_train.printCplusplusCode(filename='/home/nic/Dropbox/MicroBooNE/bnb_nue_analysis/calorimetry_likelihood/larsoft_dev/LLRPID_proton_muon_lookup.h', planes=[0, 1, 2])"
   ]
  },
  {
   "cell_type": "code",
   "execution_count": 64,
   "metadata": {},
   "outputs": [],
   "source": [
    "# DUMP LOOKUP TABLE ON A C++ FILE\n",
    "# caloLike_train.printCplusplusCode(filename='/home/nic/Dropbox/MicroBooNE/bnb_nue_analysis/calorimetry_likelihood/larsoft_dev/outlookup.h', planes=[0, 1, 2])"
   ]
  },
  {
   "cell_type": "markdown",
   "metadata": {},
   "source": [
    "## Plot of the pdfs/likelihoods in bins of residual range and pitch"
   ]
  },
  {
   "cell_type": "markdown",
   "metadata": {},
   "source": [
    "### Plot PDFs from lookup tables"
   ]
  },
  {
   "cell_type": "code",
   "execution_count": 65,
   "metadata": {},
   "outputs": [],
   "source": [
    "# Plot PDF 2parameters\n",
    "for plane_num in [0, 1, 2]:\n",
    "    bin_centers = product(*caloLike_train.parameters_bin_centers[plane_num])\n",
    "    for bin_center in bin_centers:\n",
    "        caloLike_train.plotLookUpDedxMC(plane_num=plane_num, \n",
    "                                  pdg_code=11, \n",
    "                                  parameters_value=bin_center, \n",
    "                                  label='electron')\n",
    "        caloLike_train.plotLookUpDedxMCfancy(plane_num=plane_num, \n",
    "                                  pdg_code=22, \n",
    "                                  parameters_value=bin_center, \n",
    "                                  label='photon')\n",
    "        plt.xlim(0, 10)\n",
    "        plt.savefig(save_folder_pdfs+'plane_{}_dist_{}_pitch_{}.png'.format(plane_num, bin_center[0], bin_center[1]), dpi=250)\n",
    "        plt.close()"
   ]
  },
  {
   "cell_type": "code",
   "execution_count": 64,
   "metadata": {},
   "outputs": [],
   "source": [
    "#Plot PDF 1parameters\n",
    "for plane_num in [0, 1, 2]:\n",
    "    bin_centers = product(*caloLike_train.parameters_bin_centers[plane_num])\n",
    "    for bin_center in bin_centers:\n",
    "        caloLike_train.plotLookUpDedxMC(plane_num=plane_num, \n",
    "                                  pdg_code=11, \n",
    "                                  parameters_value=bin_center, \n",
    "                                  label='electron')\n",
    "        caloLike_train.plotLookUpDedxMCfancy(plane_num=plane_num, \n",
    "                                  pdg_code=22, \n",
    "                                  parameters_value=bin_center, \n",
    "                                  label='photon')\n",
    "        plt.xlim(0, 20)\n",
    "        plt.savefig(save_folder_pdfs+'plane_{}_pitch_{}.png'.format(plane_num, bin_center[0]), dpi=250)\n",
    "        plt.close()"
   ]
  },
  {
   "cell_type": "markdown",
   "metadata": {},
   "source": [
    "## Plots"
   ]
  },
  {
   "cell_type": "code",
   "execution_count": 164,
   "metadata": {},
   "outputs": [],
   "source": [
    "for array in [array_train, array_test]:\n",
    "    for plane in ['_u', '_v', '_y']:\n",
    "        aux_array = array['dedx'+plane][array['dist_from_start'+plane]<4]\n",
    "        out_array = []\n",
    "        for i in aux_array:\n",
    "            out_array.append(np.median(i))\n",
    "        array['dedx_median_4'+plane] = np.array(out_array)"
   ]
  },
  {
   "cell_type": "code",
   "execution_count": 165,
   "metadata": {},
   "outputs": [],
   "source": [
    "def add_norm_variable(array, var, scale=100):\n",
    "    array[var+'_n'] = 2/math.pi*np.arctan(array[var]/scale)"
   ]
  },
  {
   "cell_type": "code",
   "execution_count": 166,
   "metadata": {},
   "outputs": [],
   "source": [
    "interesting_variables = [\n",
    "                         'dedx_median_4_u',\n",
    "                         'dedx_median_4_v',\n",
    "                         'dedx_median_4_y',\n",
    "                         'llr_sum_0',\n",
    "                         'llr_sum_1',\n",
    "                         'llr_sum_2',\n",
    "                         'llr_01',\n",
    "                         'llr_012',\n",
    "                        ]\n",
    "\n",
    "variable_labels = {\n",
    "    'dedx_median_4_u': 'dE/dx U median-4cm',\n",
    "    'dedx_median_4_v': 'dE/dx V median-4cm',\n",
    "    'dedx_median_4_y': 'dE/dx Y median-4cm',\n",
    "    'llr_sum_0': 'LLR U',\n",
    "    'llr_sum_1': 'LLR V',\n",
    "    'llr_sum_2': 'LLR Y',\n",
    "    'llr_01': 'LLR UV',   \n",
    "    'llr_012': 'LLR UVY',   \n",
    "}\n",
    "\n",
    "for variable in interesting_variables:\n",
    "    if 'llr' in variable:\n",
    "        scale = 10\n",
    "    elif 'bragg' in variable:\n",
    "        scale = 1\n",
    "    else:\n",
    "        scale = 10\n",
    "    add_norm_variable(caloLike_test.array, variable, scale)"
   ]
  },
  {
   "cell_type": "code",
   "execution_count": 167,
   "metadata": {},
   "outputs": [],
   "source": [
    "bins = 41\n",
    "hist_range = [-1, 1]\n",
    "kwargs = {'histtype':'step'}\n",
    "for var in interesting_variables:\n",
    "    variable = var + '_n'\n",
    "    caloLike_test.plotVariableMC(variable, bins, hist_range, function_mask=electron_for_test, quality_mask=True, label='electron', **kwargs);\n",
    "    caloLike_test.plotVariableMC(variable, bins, hist_range, function_mask=photon_for_test, quality_mask=True, label='photon', **kwargs);\n",
    "    caloLike_test.plotVariableMCFancy(variable, bins, hist_range, function_mask=cosmic_for_test, quality_mask=True, label='cosmic', **kwargs);\n",
    "    plt.xlabel(variable_labels[var])\n",
    "    plt.tight_layout()\n",
    "    plt.savefig(save_folder + variable + '.png', dpi=250)\n",
    "    plt.close()"
   ]
  },
  {
   "cell_type": "markdown",
   "metadata": {},
   "source": [
    "## ROC curves"
   ]
  },
  {
   "cell_type": "code",
   "execution_count": 168,
   "metadata": {},
   "outputs": [
    {
     "data": {
      "image/png": "[encoded data removed]",
      "text/plain": [
       "<Figure size 432x288 with 1 Axes>"
      ]
     },
     "metadata": {
      "needs_background": "light"
     },
     "output_type": "display_data"
    }
   ],
   "source": [
    "for variable in interesting_variables:\n",
    "    caloLike_test.rocCurve(variable=variable+'_n', \n",
    "         pdg_codes=[11, 22], \n",
    "         plot=True,\n",
    "         variable_label=variable_labels[variable])\n",
    "\n",
    "plt.title('Electron/photon separation\\nSimulated tracks', loc='left')\n",
    "plt.savefig(save_folder + 'roc_curves.png', dpi=250)"
   ]
  },
  {
   "cell_type": "markdown",
   "metadata": {},
   "source": [
    "# Old"
   ]
  },
  {
   "cell_type": "code",
   "execution_count": 137,
   "metadata": {},
   "outputs": [
    {
     "name": "stderr",
     "output_type": "stream",
     "text": [
      "/home/nic/.local/lib/python3.7/site-packages/awkward/array/jagged.py:1031: RuntimeWarning: invalid value encountered in greater\n",
      "  result = getattr(ufunc, method)(*inputs, **kwargs)\n"
     ]
    }
   ],
   "source": [
    "norm_direction_vector(arrays_train['nue'])\n",
    "out_mask = np.abs(arrays_train['nue']['norm_dir_y'] -1) > 0.001"
   ]
  },
  {
   "cell_type": "code",
   "execution_count": 143,
   "metadata": {},
   "outputs": [
    {
     "data": {
      "text/plain": [
       "(array([7010, 7010, 5151, ..., 7053, 7053, 7001], dtype=uint32),\n",
       " array([1217, 1217,  131, ...,    6,    6,  381], dtype=uint32),\n",
       " array([60883, 60894,  6590, ...,   331,   343, 19083], dtype=uint32))"
      ]
     },
     "execution_count": 143,
     "metadata": {},
     "output_type": "execute_result"
    }
   ],
   "source": [
    "arrays_train['nue']['run'][out_mask.any()], arrays_train['nue']['sub'][out_mask.any()], arrays_train['nue']['evt'][out_mask.any()]"
   ]
  },
  {
   "cell_type": "code",
   "execution_count": 144,
   "metadata": {},
   "outputs": [
    {
     "data": {
      "text/plain": [
       "(<JaggedArray [[-999.0 -999.0 -999.0 ... -999.0 -999.0 -999.0] [0.0 0.0 0.0 ... 0.0 0.0 0.0] [-0.22249842 -0.22249842 -0.22249842 ... 0.0 0.0 0.0] ... [0.0 0.0 0.0 ... 0.0 0.0 0.0] [-999.0 -999.0 -999.0 ... 0.47337908 0.47337908 0.47337908] [0.0 0.0 0.0 ... -0.04409793 -0.064682014 -0.09194935]] at 0x7f3f75c068d0>,\n",
       " <JaggedArray [[-999.0 -999.0 -999.0 ... -999.0 -999.0 -999.0] [0.0 0.0 0.0 ... 0.0 0.0 0.0] [0.1795345 0.1795345 0.1795345 ... 0.0 0.0 0.0] ... [0.0 0.0 0.0 ... 0.0 0.0 0.0] [-999.0 -999.0 -999.0 ... -0.5046163 -0.5046163 -0.5046163] [0.0 0.0 0.0 ... -0.99649787 -0.9948789 -0.9853971]] at 0x7f3f4eb50c50>,\n",
       " <JaggedArray [[0.0 0.0 0.0 ... 0.0 0.0 0.0] [0.0 0.0 0.0 ... 0.0 0.0 0.0] [0.9582599 0.9582599 0.9582599 ... 0.0 0.0 0.0] ... [0.0 0.0 0.0 ... 0.0 0.0 0.0] [0.0 0.0 0.0 ... 0.7219935 0.7219935 0.7219935] [0.0 0.0 0.0 ... -0.071044974 -0.077667244 -0.14331038]] at 0x7f3f4eb50750>)"
      ]
     },
     "execution_count": 144,
     "metadata": {},
     "output_type": "execute_result"
    }
   ],
   "source": [
    "arrays_train['nue']['dir_x_y'][out_mask.any()], arrays_train['nue']['dir_y_y'][out_mask.any()], arrays_train['nue']['dir_z_y'][out_mask.any()]"
   ]
  }
 ],
 "metadata": {
  "kernelspec": {
   "display_name": "Python 3",
   "language": "python",
   "name": "python3"
  },
  "language_info": {
   "codemirror_mode": {
    "name": "ipython",
    "version": 3
   },
   "file_extension": ".py",
   "mimetype": "text/x-python",
   "name": "python",
   "nbconvert_exporter": "python",
   "pygments_lexer": "ipython3",
   "version": "3.7.5"
  }
 },
 "nbformat": 4,
 "nbformat_minor": 2
}
