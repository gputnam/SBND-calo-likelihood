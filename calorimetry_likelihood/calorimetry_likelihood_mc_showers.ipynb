{
 "cells": [
  {
   "cell_type": "markdown",
   "metadata": {},
   "source": [
    "# Performance on simulated electrons and photons"
   ]
  },
  {
   "cell_type": "code",
   "execution_count": 18,
   "metadata": {},
   "outputs": [
    {
     "name": "stdout",
     "output_type": "stream",
     "text": [
      "The autoreload extension is already loaded. To reload it, use:\n",
      "  %reload_ext autoreload\n"
     ]
    }
   ],
   "source": [
    "%load_ext autoreload\n",
    "%autoreload 2\n",
    "\n",
    "import math\n",
    "from itertools import product\n",
    "import uproot\n",
    "import awkward\n",
    "import numpy as np\n",
    "import matplotlib.pyplot as plt\n",
    "from matplotlib.colors import LogNorm\n",
    "from scipy.stats import binned_statistic\n",
    "\n",
    "import matplotlib\n",
    "matplotlib.rcParams.update({'font.size': 12})\n",
    "\n",
    "from calo_likelihood import caloLikelihood\n",
    "from helpers import *\n",
    "from loaders import *\n",
    "from initializers import initialisation_for_calorimetry_shower"
   ]
  },
  {
   "cell_type": "code",
   "execution_count": 2,
   "metadata": {},
   "outputs": [],
   "source": [
    "today = '19_11_12'"
   ]
  },
  {
   "cell_type": "code",
   "execution_count": 3,
   "metadata": {},
   "outputs": [],
   "source": [
    "!mkdir -p ~/Dropbox/MicroBooNE/_fig/$today/shower_calo/\n",
    "!mkdir -p ~/Dropbox/MicroBooNE/_fig/$today/shower_calo/pdfs/\n",
    "save_folder = '/home/nic/Dropbox/MicroBooNE/_fig/' + today + '/shower_calo/'\n",
    "save_folder_pdfs = save_folder + 'pdfs/'"
   ]
  },
  {
   "cell_type": "markdown",
   "metadata": {},
   "source": [
    "## Loading and initializing"
   ]
  },
  {
   "cell_type": "code",
   "execution_count": 90,
   "metadata": {},
   "outputs": [],
   "source": [
    "branches = [\n",
    "    'run',\n",
    "    'sub',\n",
    "    'evt',\n",
    "    \n",
    "    'generation',\n",
    "    'backtracked_pdg',\n",
    "    'backtracked_e',\n",
    "    'backtracked_purity',\n",
    "    'backtracked_completeness',\n",
    "    'backtracked_overlay_purity',\n",
    "    'backtracked_start_x',\n",
    "    'backtracked_start_y',\n",
    "    'backtracked_start_z',\n",
    "    'backtracked_start_t',\n",
    "    'backtracked_sce_start_x',\n",
    "    'backtracked_sce_start_y',\n",
    "    'backtracked_sce_start_z',\n",
    "    \n",
    "    'nplanehits_U',\n",
    "    'nplanehits_V',\n",
    "    'nplanehits_Y',\n",
    "    'trk_score',\n",
    "\n",
    "    'trk_start_x',\n",
    "    'trk_start_y',\n",
    "    'trk_start_z',\n",
    "    \n",
    "    'trk_sce_start_x',\n",
    "    'trk_sce_start_y',\n",
    "    'trk_sce_start_z',\n",
    "\n",
    "    'trk_end_x',\n",
    "    'trk_end_y',\n",
    "    'trk_end_z',\n",
    "    \n",
    "    'trk_sce_end_x',\n",
    "    'trk_sce_end_y',\n",
    "    'trk_sce_end_z',\n",
    "    \n",
    "    'trk_theta',\n",
    "    'trk_phi',\n",
    "\n",
    "    'trk_dir_x',\n",
    "    'trk_dir_y',\n",
    "    'trk_dir_z',\n",
    "\n",
    "    'trk_len',\n",
    "    \n",
    "#     'dqdx_u',\n",
    "#     'dqdx_v',\n",
    "#     'dqdx_y',\n",
    "\n",
    "    'dedx_u',\n",
    "    'dedx_v',\n",
    "    'dedx_y',\n",
    "\n",
    "    'rr_u',\n",
    "    'rr_v',\n",
    "    'rr_y',\n",
    "\n",
    "    'pitch_u',\n",
    "    'pitch_v',\n",
    "    'pitch_y',\n",
    "    \n",
    "#     'x_u',\n",
    "#     'x_v',\n",
    "#     'x_y',\n",
    "    \n",
    "#     'y_u',\n",
    "#     'y_v',\n",
    "#     'y_y',\n",
    "    \n",
    "#     'z_u',\n",
    "#     'z_v',\n",
    "#     'z_y',\n",
    "    \n",
    "#     'dir_x_u',\n",
    "#     'dir_x_v',\n",
    "#     'dir_x_y',\n",
    "    \n",
    "#     'dir_y_u',\n",
    "#     'dir_y_v',\n",
    "#     'dir_y_y',\n",
    "    \n",
    "#     'dir_z_u',\n",
    "#     'dir_z_v',\n",
    "#     'dir_z_y',\n",
    "]"
   ]
  },
  {
   "cell_type": "code",
   "execution_count": 112,
   "metadata": {},
   "outputs": [],
   "source": [
    "# Declaring files, folder and tree\n",
    "folder = \"nuselection\"\n",
    "tree = \"NeutrinoSelectionFilter\"\n",
    "\n",
    "split_factor = 0.5\n",
    "split_factor2 = 1\n",
    "\n",
    "file_lists = {}\n",
    "arrays_train = {}\n",
    "arrays_test = {}\n",
    "\n",
    "file_lists['nue'] = '~/Desktop/MicroBooNE/calorimetry_likelihood/v02/bnb_nue_shr/out.root'\n",
    "file_lists['nu'] = '~/Desktop/MicroBooNE/calorimetry_likelihood/v02/bnb_nu_shr/out.root'\n",
    "file_lists['ncpi0'] = '~/Desktop/MicroBooNE/calorimetry_likelihood/v02/bnb_ncpi0_shr/out.root'"
   ]
  },
  {
   "cell_type": "code",
   "execution_count": 113,
   "metadata": {},
   "outputs": [],
   "source": [
    "#Loading arrays\n",
    "for name, file_path in file_lists.items():\n",
    "    root_file = uproot.open(file_path)[folder][tree]\n",
    "    entry_split = int(len(root_file) * split_factor)\n",
    "    entry_split2 = int(len(root_file) * split_factor2)\n",
    "    arrays_train[name] = root_file.arrays(branches, namedecode=\"utf-8\", entrystop=entry_split)\n",
    "    arrays_test[name] = root_file.arrays(branches, namedecode=\"utf-8\", entrystart=entry_split, entrystop=entry_split2)"
   ]
  },
  {
   "cell_type": "code",
   "execution_count": 114,
   "metadata": {},
   "outputs": [],
   "source": [
    "# Merging nue, nu, and ncpi0\n",
    "array_train = {}\n",
    "array_test = {}\n",
    "for variable in branches:\n",
    "    array_train[variable] = awkward.concatenate([arrays_train['nue'][variable], arrays_train['nu'][variable]])    \n",
    "    array_test[variable] = awkward.concatenate([arrays_test['nue'][variable], arrays_test['nu'][variable]])"
   ]
  },
  {
   "cell_type": "code",
   "execution_count": 115,
   "metadata": {},
   "outputs": [],
   "source": [
    "# initialising arrays\n",
    "for array in [array_train, array_test]:\n",
    "    initialisation_for_calorimetry_shower(array)"
   ]
  },
  {
   "cell_type": "code",
   "execution_count": 154,
   "metadata": {},
   "outputs": [],
   "source": [
    "def selection_for_train(array):\n",
    "    return (array['backtracked_purity'] > 0.9) &\\\n",
    "           (array['start_is_fiducial']) &\\\n",
    "           (array['distance_3d_start'] < 3) &\\\n",
    "           (array['distance_3d_start'] > 0) &\\\n",
    "           ((abs(array['backtracked_pdg']) == 11) | (abs(array['backtracked_pdg']) == 22))"
   ]
  },
  {
   "cell_type": "code",
   "execution_count": 143,
   "metadata": {},
   "outputs": [],
   "source": [
    "#declaring some masks\n",
    "selection_train = selection_for_train(array_train)\n",
    "selection_test = selection_for_train(array_test)\n",
    "\n",
    "electron_train = (abs(array_train['backtracked_pdg']) == 11)\n",
    "photon_train = (abs(array_train['backtracked_pdg']) == 22)\n",
    "\n",
    "electron_test = (abs(array_test['backtracked_pdg']) == 11)\n",
    "photon_test = (abs(array_test['backtracked_pdg']) == 22)"
   ]
  },
  {
   "cell_type": "code",
   "execution_count": 144,
   "metadata": {},
   "outputs": [],
   "source": [
    "# Easy start point resolution studies"
   ]
  },
  {
   "cell_type": "code",
   "execution_count": 145,
   "metadata": {},
   "outputs": [
    {
     "data": {
      "text/plain": [
       "Text(0.0, 1.0, 'Electron and photon candidates in BNB\\nbacktracked to electrons and photons\\npurity>90%, start point in the fiducial volume\\nMicroBooNE preliminary')"
      ]
     },
     "execution_count": 145,
     "metadata": {},
     "output_type": "execute_result"
    },
    {
     "data": {
      "image/png": "[encoded data removed]",
      "text/plain": [
       "<Figure size 432x288 with 1 Axes>"
      ]
     },
     "metadata": {
      "needs_background": "light"
     },
     "output_type": "display_data"
    }
   ],
   "source": [
    "def base_selection_for_res_start_study(array):\n",
    "    return (array['backtracked_purity'] > 0.9) &\\\n",
    "           (array['start_is_fiducial']) &\\\n",
    "           ((abs(array['backtracked_pdg']) == 11) | (abs(array['backtracked_pdg']) == 22))\n",
    "\n",
    "base_sel = base_selection_for_res_start_study(array_train)\n",
    "plt.hist(array_train['distance_3d_start'][electron_train & base_sel], bins=50, range=[0,50], alpha=0.5, density=True, label='electron')\n",
    "plt.hist(array_train['distance_3d_start'][photon_train & base_sel], bins=50, range=[0,50], alpha=0.5, density=True, label='photon')\n",
    "plt.legend()\n",
    "plt.xlabel('3D start point resolution [cm]')\n",
    "plt.ylabel('probability density [1/cm]')\n",
    "plt.title('Electron and photon candidates in BNB\\nbacktracked to electrons and photons\\npurity>90%, start point in the fiducial volume\\nMicroBooNE preliminary', loc='left')"
   ]
  },
  {
   "cell_type": "code",
   "execution_count": 146,
   "metadata": {},
   "outputs": [
    {
     "data": {
      "text/plain": [
       "Text(0.0, 1.0, 'Photon candidates in BNB\\nbacktracked to photons\\npurity>90%, start point in the fiducial volume\\nMicroBooNE preliminary')"
      ]
     },
     "execution_count": 146,
     "metadata": {},
     "output_type": "execute_result"
    },
    {
     "data": {
      "image/png": "[encoded data removed]",
      "text/plain": [
       "<Figure size 432x288 with 1 Axes>"
      ]
     },
     "metadata": {
      "needs_background": "light"
     },
     "output_type": "display_data"
    }
   ],
   "source": [
    "dedx_y = array_train['dedx_y'][photon_train & selection_train & (array_train['range_y']<4)]\n",
    "dist_3d = (array_train['distance_3d_start']*(array_train['dedx_y'] == array_train['dedx_y']))[photon_train & selection_train & (array_train['range_y']<4)] \n",
    "\n",
    "plt.hist2d(dist_3d.flatten(), dedx_y.flatten(), range=[[0, 3], [0, 10]], bins=[20, 20])\n",
    "plt.xlabel(\"3d start point resolution [cm]\")\n",
    "plt.ylabel(\"dE/dx [MeV/cm]\")\n",
    "plt.title('Photon candidates in BNB\\nbacktracked to photons\\npurity>90%, start point in the fiducial volume\\nMicroBooNE preliminary', loc='left')"
   ]
  },
  {
   "cell_type": "markdown",
   "metadata": {},
   "source": [
    "## Lookup Tables"
   ]
  },
  {
   "cell_type": "code",
   "execution_count": 147,
   "metadata": {},
   "outputs": [],
   "source": [
    "## two parameters\n",
    "# parameters_names = ['range', 'abs_pitch']\n",
    "# parameters_bin_edges = [[0., 4, 20, np.inf],\n",
    "#                   [.0, 1.5, 3, np.inf]]\n",
    "\n",
    "# dedx_var = 'dedx'\n",
    "# dedx_bins = [0, 0.5, 1, 1.5, 2, 2.5, 3, 3.5, 4, 4.5, 5, 5.5, 6, 6.5, 7, 7.5, 8, 9, 10, 12, 15, 20, 30, 50, np.inf]\n",
    "\n",
    "# parameters = []\n",
    "# dedx_vars = []\n",
    "# for plane in ['u', 'v', 'y']:\n",
    "#     parameters.append([parameter_name+'_'+plane for parameter_name in parameters_names])\n",
    "#     dedx_vars.append(dedx_var+'_'+plane)\n",
    "\n",
    "# pdgcode_var = 'backtracked_pdg'"
   ]
  },
  {
   "cell_type": "code",
   "execution_count": 148,
   "metadata": {},
   "outputs": [],
   "source": [
    "# one parameter (pitch only)\n",
    "parameters_names = ['pitch']\n",
    "parameters_bin_edges = [[.0, 3, 10, np.inf]]\n",
    "\n",
    "dedx_var = 'dedx'\n",
    "# dedx_bins = [0, 0.5, 1, 1.5, 2, 2.5, 3, 3.5, 4, 4.5, 5, 5.5, 6, 6.5, 7, 7.5, 8, 9, 10, 20, np.inf]\n",
    "dedx_bins = np.linspace(0, 20, 40)\n",
    "\n",
    "parameters = []\n",
    "dedx_vars = []\n",
    "for plane in ['u', 'v', 'y']:\n",
    "    parameters.append([parameter_name+'_'+plane for parameter_name in parameters_names])\n",
    "    dedx_vars.append(dedx_var+'_'+plane)\n",
    "\n",
    "pdgcode_var = 'backtracked_pdg'"
   ]
  },
  {
   "cell_type": "code",
   "execution_count": 149,
   "metadata": {},
   "outputs": [],
   "source": [
    "# declaring caloLikelihood objects\n",
    "caloLike_train = caloLikelihood(array_train, quality_mask=selection_train)\n",
    "caloLike_test = caloLikelihood(array_test, quality_mask=selection_test)\n",
    "\n",
    "caloLike_train.setPdgCodeVar(pdgcode_var)\n",
    "caloLike_test.setPdgCodeVar(pdgcode_var)"
   ]
  },
  {
   "cell_type": "code",
   "execution_count": 150,
   "metadata": {},
   "outputs": [],
   "source": [
    "# building lookup tables and likelihood variables\n",
    "array = caloLike_test.array\n",
    "for i in [0, 1, 2]:\n",
    "    caloLike_train.setVariablesBinning(i, parameters[i], parameters_bin_edges, dedx_vars[i], dedx_bins)\n",
    "    caloLike_train.buildLookUpTableMC(i, 11)    \n",
    "    caloLike_train.buildLookUpTableMC(i, 22)    \n",
    "    caloLike_train.buildLookUpLogLikelihoodRatio(i, [11, 22])\n",
    "    caloLike_test.setVariablesBinning(i, parameters[i], parameters_bin_edges, dedx_vars[i], dedx_bins)\n",
    "    caloLike_test.lookup_tables = caloLike_train.lookup_tables    \n",
    "    \n",
    "#     array['like_11_{}'.format(i)] = caloLike_train.likelihoodWholeDataset(array=array, \n",
    "#                                       plane_num=i, \n",
    "#                                       pdg_code=11)\n",
    "#     array['like_22_{}'.format(i)] = caloLike_train.likelihoodWholeDataset(array=array, \n",
    "#                                       plane_num=i, \n",
    "#                                       pdg_code=22)\n",
    "#     array['like_11_sum_{}'.format(i)] = array['like_11_{}'.format(i)].sum()\n",
    "#     array['like_22_sum_{}'.format(i)] = array['like_22_{}'.format(i)].sum()\n",
    "#     array['log_like_ratio_{}'.format(i)] = array['like_11_sum_{}'.format(i)] - array['like_22_sum_{}'.format(i)]\n",
    "    \n",
    "# array['log_like_ratio'] = array['log_like_ratio_0'] + array['log_like_ratio_1'] + array['log_like_ratio_2']\n",
    "# array['log_like_ratio_01'] = array['log_like_ratio_0'] + array['log_like_ratio_1']"
   ]
  },
  {
   "cell_type": "code",
   "execution_count": 151,
   "metadata": {},
   "outputs": [],
   "source": [
    "# DUMP LOOKUP TABLE ON A C++ FILE\n",
    "# caloLike_train.printCplusplusCode(filename='/home/nic/Dropbox/MicroBooNE/bnb_nue_analysis/calorimetry_likelihood/larsoft_dev/outlookup.h', planes=[0, 1, 2])"
   ]
  },
  {
   "cell_type": "markdown",
   "metadata": {},
   "source": [
    "## Plot of the pdfs/likelihoods in bins of residual range and pitch"
   ]
  },
  {
   "cell_type": "markdown",
   "metadata": {},
   "source": [
    "### Plot PDFs from lookup tables"
   ]
  },
  {
   "cell_type": "code",
   "execution_count": 152,
   "metadata": {},
   "outputs": [],
   "source": [
    "#Plot PDF 2parameters\n",
    "# for plane_num in [0, 1, 2]:\n",
    "#     bin_centers = product(*caloLike_train.parameters_bin_centers[plane_num])\n",
    "#     for bin_center in bin_centers:\n",
    "#         caloLike_train.plotLookUpDedxMC(plane_num=plane_num, \n",
    "#                                   pdg_code=11, \n",
    "#                                   parameters_value=bin_center, \n",
    "#                                   label='electron')\n",
    "#         caloLike_train.plotLookUpDedxMCfancy(plane_num=plane_num, \n",
    "#                                   pdg_code=22, \n",
    "#                                   parameters_value=bin_center, \n",
    "#                                   label='photon')\n",
    "#         plt.xlim(0, 10)\n",
    "#         plt.savefig(save_folder_pdfs+'plane_{}_rr_{}_pitch_{}.png'.format(plane_num, bin_center[0], bin_center[1]), dpi=250)\n",
    "#         plt.close()"
   ]
  },
  {
   "cell_type": "code",
   "execution_count": 153,
   "metadata": {},
   "outputs": [],
   "source": [
    "#Plot PDF 1parameters\n",
    "for plane_num in [0, 1, 2]:\n",
    "    bin_centers = product(*caloLike_train.parameters_bin_centers[plane_num])\n",
    "    for bin_center in bin_centers:\n",
    "        caloLike_train.plotLookUpDedxMC(plane_num=plane_num, \n",
    "                                  pdg_code=11, \n",
    "                                  parameters_value=bin_center, \n",
    "                                  label='electron')\n",
    "        caloLike_train.plotLookUpDedxMCfancy(plane_num=plane_num, \n",
    "                                  pdg_code=22, \n",
    "                                  parameters_value=bin_center, \n",
    "                                  label='photon')\n",
    "        plt.xlim(0, 20)\n",
    "        plt.savefig(save_folder_pdfs+'plane_{}_pitch_{}.png'.format(plane_num, bin_center[0]), dpi=250)\n",
    "        plt.close()"
   ]
  },
  {
   "cell_type": "code",
   "execution_count": null,
   "metadata": {},
   "outputs": [],
   "source": []
  }
 ],
 "metadata": {
  "kernelspec": {
   "display_name": "Python 3",
   "language": "python",
   "name": "python3"
  },
  "language_info": {
   "codemirror_mode": {
    "name": "ipython",
    "version": 3
   },
   "file_extension": ".py",
   "mimetype": "text/x-python",
   "name": "python",
   "nbconvert_exporter": "python",
   "pygments_lexer": "ipython3",
   "version": "3.7.5"
  }
 },
 "nbformat": 4,
 "nbformat_minor": 2
}
