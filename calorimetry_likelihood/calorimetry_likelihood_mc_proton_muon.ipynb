{
 "cells": [
  {
   "cell_type": "markdown",
   "metadata": {},
   "source": [
    "# Performance on simulated protons and muons"
   ]
  },
  {
   "cell_type": "code",
   "execution_count": 1,
   "metadata": {},
   "outputs": [],
   "source": [
    "%load_ext autoreload\n",
    "%autoreload 2\n",
    "\n",
    "import math\n",
    "from itertools import product\n",
    "import uproot\n",
    "import awkward\n",
    "import numpy as np\n",
    "import matplotlib.pyplot as plt\n",
    "from matplotlib.colors import LogNorm\n",
    "\n",
    "import matplotlib\n",
    "matplotlib.rcParams.update({'font.size': 12})\n",
    "\n",
    "from calo_likelihood import caloLikelihood\n",
    "from helpers import *\n",
    "from loaders import *\n",
    "from initializers import *"
   ]
  },
  {
   "cell_type": "code",
   "execution_count": 2,
   "metadata": {},
   "outputs": [],
   "source": [
    "today = '19_11_25'"
   ]
  },
  {
   "cell_type": "code",
   "execution_count": 3,
   "metadata": {},
   "outputs": [],
   "source": [
    "!mkdir -p ~/Dropbox/MicroBooNE/_fig/$today/proton_muon/\n",
    "!mkdir -p ~/Dropbox/MicroBooNE/_fig/$today/proton_muon/pdfs/"
   ]
  },
  {
   "cell_type": "code",
   "execution_count": 4,
   "metadata": {},
   "outputs": [],
   "source": [
    "save_folder = '/home/nic/Dropbox/MicroBooNE/_fig/' + today + '/proton_muon/'\n",
    "save_folder_pdfs = save_folder + 'pdfs/'"
   ]
  },
  {
   "cell_type": "code",
   "execution_count": 5,
   "metadata": {},
   "outputs": [],
   "source": [
    "branches = [\n",
    "    'run',\n",
    "    'sub',\n",
    "    'evt',\n",
    "    \n",
    "    'backtracked_pdg',\n",
    "    'backtracked_e',\n",
    "    'backtracked_purity',\n",
    "    'backtracked_completeness',\n",
    "    'backtracked_overlay_purity',\n",
    "    'backtracked_end_process',\n",
    "    \n",
    "    'backtracked_start_x',\n",
    "    'backtracked_start_y',\n",
    "    'backtracked_start_z',\n",
    "    \n",
    "    'backtracked_sce_start_x',\n",
    "    'backtracked_sce_start_y',\n",
    "    'backtracked_sce_start_z',\n",
    "    \n",
    "    'nplanehits_U',\n",
    "    'nplanehits_V',\n",
    "    'nplanehits_Y',\n",
    "    'trk_score',\n",
    "\n",
    "    'generation',\n",
    "    'trk_daughters',\n",
    "    'shr_daughters',\n",
    "\n",
    "    'trk_sce_start_x',\n",
    "    'trk_sce_start_y',\n",
    "    'trk_sce_start_z',\n",
    "\n",
    "    'trk_sce_end_x',\n",
    "    'trk_sce_end_y',\n",
    "    'trk_sce_end_z',\n",
    "    \n",
    "    'trk_theta',\n",
    "    'trk_phi',\n",
    "\n",
    "    'trk_dir_x',\n",
    "    'trk_dir_y',\n",
    "    'trk_dir_z',\n",
    "    \n",
    "    'trk_pid_chipr_u',\n",
    "    'trk_pid_chipr_v',\n",
    "    'trk_pid_chipr_y',\n",
    "    'trk_pid_chimu_y',\n",
    "    'trk_bragg_p_y',\n",
    "    'trk_bragg_mu_y',\n",
    "    'trk_bragg_p_three_planes',\n",
    "\n",
    "    'trk_len',\n",
    "    'longest',\n",
    "    \n",
    "    'dedx_u',\n",
    "    'dedx_v',\n",
    "    'dedx_y',\n",
    "\n",
    "    'rr_u',\n",
    "    'rr_v',\n",
    "    'rr_y',\n",
    "\n",
    "    'pitch_u',\n",
    "    'pitch_v',\n",
    "    'pitch_y',\n",
    "    \n",
    "#     'dir_x_u',\n",
    "#     'dir_x_v',\n",
    "#     'dir_x_y',\n",
    "    \n",
    "#     'dir_y_u',\n",
    "#     'dir_y_v',\n",
    "#     'dir_y_y',\n",
    "    \n",
    "#     'dir_z_u',\n",
    "#     'dir_z_v',\n",
    "#     'dir_z_y',\n",
    "]"
   ]
  },
  {
   "cell_type": "code",
   "execution_count": 6,
   "metadata": {},
   "outputs": [],
   "source": [
    "file_bnb = '~/Desktop/MicroBooNE/calorimetry_likelihood/v03/bnb_nu/out.root'\n",
    "\n",
    "folder = \"nuselection\"\n",
    "tree = \"CalorimetryAnalyzer\"\n",
    "\n",
    "split_factor = 0.7\n",
    "split_factor2 = 1\n",
    "root_file = uproot.open(file_bnb)[folder][tree]\n",
    "entry_split = int(len(root_file) * split_factor)\n",
    "entry_split2 = int(len(root_file) * split_factor2)\n",
    "array_train = root_file.arrays(branches, namedecode=\"utf-8\", entrystop=entry_split)\n",
    "array_test = root_file.arrays(branches, namedecode=\"utf-8\", entrystart=entry_split, entrystop=entry_split2)"
   ]
  },
  {
   "cell_type": "code",
   "execution_count": 7,
   "metadata": {},
   "outputs": [],
   "source": [
    "for array in [array_train, array_test]:\n",
    "    initialisation_for_caloriemtry_data_mc(array)"
   ]
  },
  {
   "cell_type": "code",
   "execution_count": 8,
   "metadata": {},
   "outputs": [],
   "source": [
    "def selection_for_train(array):\n",
    "    return (array['backtracked_completeness'] > 0.9) &\\\n",
    "           (array['backtracked_purity'] > 0.9) &\\\n",
    "           (array['start_is_fiducial']) &\\\n",
    "           (array['end_is_fiducial']) &\\\n",
    "           (array['non_inelastic']) &\\\n",
    "           (array['trk_daughters']==0) &\\\n",
    "           (array['shr_daughters']==0)\n",
    "\n",
    "def selection_for_test(array):\n",
    "    return (array['start_is_fiducial']) &\\\n",
    "           (array['end_is_fiducial']) &\\\n",
    "           (array['trk_daughters']==0) &\\\n",
    "           (array['shr_daughters']==0)\n",
    "\n",
    "def muon_for_test(array):\n",
    "    return selection_for_test(array) & (np.abs(array['backtracked_pdg'])==13)\n",
    "\n",
    "def proton_for_test(array):\n",
    "    return selection_for_test(array) & (np.abs(array['backtracked_pdg'])==2212)\n",
    "\n",
    "def cosmic_for_test(array):\n",
    "    return selection_for_test(array) & (np.abs(array['backtracked_pdg'])==0)\n",
    "\n",
    "def selection_planes(array):\n",
    "    aux = []\n",
    "    for plane in ['_u', '_v', '_y']:\n",
    "        aux.append(array['first_last_hit_mask'+plane])\n",
    "    return aux"
   ]
  },
  {
   "cell_type": "code",
   "execution_count": 9,
   "metadata": {},
   "outputs": [],
   "source": [
    "selection_train = selection_for_train(array_train)\n",
    "selection_train_planes = selection_planes(array_train)\n",
    "selection_test = selection_for_test(array_test)\n",
    "selection_test_planes = selection_planes(array_test)"
   ]
  },
  {
   "cell_type": "code",
   "execution_count": 10,
   "metadata": {},
   "outputs": [],
   "source": [
    "parameters_names = ['rr', 'pitch']\n",
    "parameters_bin_edges = [[0., 2, 4, 7, 10, 15, 20, 30, 50, 100, 300, 2000],\n",
    "                  [.0, 0.6, 1, 1.5, 3, 30]]\n",
    "\n",
    "dedx_var = 'dedx'\n",
    "dedx_bins = [0, 0.5, 1, 1.5, 2, 2.5, 3, 3.5, 4, 4.5, 5, 5.5, 6, 6.5, 7, 7.5, 8, 9, 10, 12, 15, 20, 25, 30, 35, 40, 45, 50]\n",
    "\n",
    "parameters = []\n",
    "dedx_vars = []\n",
    "for plane in ['u', 'v', 'y']:\n",
    "    parameters.append([parameter_name+'_'+plane for parameter_name in parameters_names])\n",
    "    dedx_vars.append(dedx_var+'_'+plane)\n",
    "\n",
    "pdgcode_var = 'backtracked_pdg'"
   ]
  },
  {
   "cell_type": "code",
   "execution_count": 11,
   "metadata": {},
   "outputs": [],
   "source": [
    "caloLike_train = caloLikelihood(array_train, quality_mask=selection_train, quality_masks_planes=selection_train_planes)\n",
    "caloLike_test = caloLikelihood(array_test, quality_mask=selection_test, quality_masks_planes=selection_test_planes)\n",
    "\n",
    "caloLike_train.setPdgCodeVar(pdgcode_var)\n",
    "caloLike_test.setPdgCodeVar(pdgcode_var)"
   ]
  },
  {
   "cell_type": "code",
   "execution_count": 12,
   "metadata": {},
   "outputs": [
    {
     "name": "stderr",
     "output_type": "stream",
     "text": [
      "/home/nic/Dropbox/MicroBooNE/bnb_nue_analysis/lib/calo_likelihood.py:129: RuntimeWarning: invalid value encountered in true_divide\n",
      "  hist_total/hist_partial[..., np.newaxis],\n",
      "/home/nic/Dropbox/MicroBooNE/bnb_nue_analysis/lib/calo_likelihood.py:140: RuntimeWarning: divide by zero encountered in log\n",
      "  np.log(table_1) - np.log(table_2),\n",
      "/home/nic/Dropbox/MicroBooNE/bnb_nue_analysis/lib/calo_likelihood.py:140: RuntimeWarning: invalid value encountered in subtract\n",
      "  np.log(table_1) - np.log(table_2),\n"
     ]
    }
   ],
   "source": [
    "for i in [0, 1, 2]:\n",
    "    caloLike_train.setVariablesBinning(i, parameters[i], parameters_bin_edges, dedx_vars[i], dedx_bins)\n",
    "    caloLike_train.buildLookUpTableMC(i, 13)    \n",
    "    caloLike_train.buildLookUpTableMC(i, 2212)    \n",
    "    caloLike_train.buildLookUpLogLikelihoodRatio(i, [13, 2212])\n",
    "    caloLike_test.setVariablesBinning(i, parameters[i], parameters_bin_edges, dedx_vars[i], dedx_bins)"
   ]
  },
  {
   "cell_type": "code",
   "execution_count": 13,
   "metadata": {},
   "outputs": [
    {
     "name": "stderr",
     "output_type": "stream",
     "text": [
      "/home/nic/Dropbox/MicroBooNE/bnb_nue_analysis/lib/calo_likelihood.py:245: RuntimeWarning: divide by zero encountered in log\n",
      "  return np.log(self.lookup_tables[pdg_code][plane_num][lookup_index])\n",
      "/home/nic/Dropbox/MicroBooNE/bnb_nue_analysis/lib/calo_likelihood.py:292: RuntimeWarning: invalid value encountered in subtract\n",
      "  array['log_like_ratio_{}'.format(plane)] = array['like_{}_sum_{}'.format(pdg_codes[0], plane)] - array['like_{}_sum_{}'.format(pdg_codes[1], plane)]\n",
      "/home/nic/Dropbox/MicroBooNE/bnb_nue_analysis/lib/calo_likelihood.py:294: RuntimeWarning: invalid value encountered in add\n",
      "  array['log_like_ratio'] = array['log_like_ratio_0'] + array['log_like_ratio_1'] + array['log_like_ratio_2']\n",
      "/home/nic/Dropbox/MicroBooNE/bnb_nue_analysis/lib/calo_likelihood.py:295: RuntimeWarning: invalid value encountered in add\n",
      "  array['log_like_ratio_01'] = array['log_like_ratio_0'] + array['log_like_ratio_1']\n"
     ]
    }
   ],
   "source": [
    "caloLike_train.addCalorimetryVariables(caloLike_test.array, pdg_codes=[13, 2212], cali=False)\n",
    "caloLike_train.addCalorimetryVariablesFromLLRTable(caloLike_test.array, selection_test_planes, cali=False)"
   ]
  },
  {
   "cell_type": "code",
   "execution_count": 14,
   "metadata": {},
   "outputs": [],
   "source": [
    "# caloLike_train.printCplusplusCode(filename='/home/nic/Dropbox/MicroBooNE/bnb_nue_analysis/calorimetry_likelihood/larsoft_dev/LLRPID_proton_muon_lookup.h', planes=[0, 1, 2])"
   ]
  },
  {
   "cell_type": "code",
   "execution_count": 15,
   "metadata": {},
   "outputs": [
    {
     "data": {
      "text/plain": [
       "-0.26331808708734084"
      ]
     },
     "execution_count": 15,
     "metadata": {},
     "output_type": "execute_result"
    }
   ],
   "source": [
    "caloLike_train.logLikelihoodRatioOneHit(2, 2.5, [27, 4])"
   ]
  },
  {
   "cell_type": "markdown",
   "metadata": {},
   "source": [
    "## Plot of the pdfs/likelihoods in bins of residual range and pitch"
   ]
  },
  {
   "cell_type": "markdown",
   "metadata": {},
   "source": [
    "### Plot PDFs from lookup tables"
   ]
  },
  {
   "cell_type": "code",
   "execution_count": 46,
   "metadata": {},
   "outputs": [],
   "source": [
    "for plane_num in [0, 1, 2]:\n",
    "    bin_centers = product(*caloLike_train.parameters_bin_centers[plane_num])\n",
    "    for bin_center in bin_centers:\n",
    "        caloLike_train.plotLookUpDedxMC(plane_num=plane_num, \n",
    "                                  pdg_code=13, \n",
    "                                  parameters_value=bin_center, \n",
    "                                  label='muon')\n",
    "        caloLike_train.plotLookUpDedxMCfancy(plane_num=plane_num, \n",
    "                                  pdg_code=2212, \n",
    "                                  parameters_value=bin_center, \n",
    "                                  label='proton')\n",
    "        plt.xlim(0, 30)\n",
    "        plt.tight_layout()\n",
    "        plt.savefig(save_folder_pdfs+'plane_{}_rr_{}_pitch_{}.png'.format(plane_num, bin_center[0], bin_center[1]), dpi=250)\n",
    "        plt.close()"
   ]
  },
  {
   "cell_type": "markdown",
   "metadata": {},
   "source": [
    "## Plots"
   ]
  },
  {
   "cell_type": "code",
   "execution_count": 14,
   "metadata": {},
   "outputs": [],
   "source": [
    "def add_norm_variable(array, var, scale=100):\n",
    "    array[var+'_n'] = 2/math.pi*np.arctan(array[var]/scale)"
   ]
  },
  {
   "cell_type": "code",
   "execution_count": 15,
   "metadata": {},
   "outputs": [],
   "source": [
    "interesting_variables = ['trk_pid_chipr_y',\n",
    "                         'trk_pid_chimu_y',\n",
    "                         'trk_bragg_p_y',\n",
    "                         'trk_bragg_mu_y',\n",
    "                         'trk_bragg_p_three_planes',\n",
    "#                          'llr_sum_0',\n",
    "#                          'llr_sum_1',\n",
    "                         'llr_sum_2',\n",
    "                         'llr_01',\n",
    "                         'llr_012',\n",
    "                        ]\n",
    "\n",
    "variable_labels = {\n",
    "    'trk_pid_chipr_y': '$\\chi^2_{proton}$ Y',\n",
    "    'trk_pid_chimu_y': '$\\chi^2_{\\mu}$ Y',\n",
    "    'trk_bragg_p_y': 'Bragg likelihood proton Y',\n",
    "    'trk_bragg_mu_y': 'Bragg likelihood muon Y',\n",
    "    'trk_bragg_p_three_planes': 'Bragg likelihood proton UVY',\n",
    "    'llr_sum_0': 'LLR U',\n",
    "    'llr_sum_1': 'LLR V',\n",
    "    'llr_sum_2': 'LLR Y',\n",
    "    'llr_01': 'LLR UV',   \n",
    "    'llr_012': 'LLR UVY',   \n",
    "}\n",
    "\n",
    "for variable in interesting_variables:\n",
    "    if 'llr' in variable:\n",
    "        scale = 100\n",
    "    elif 'bragg' in variable:\n",
    "        scale = 1\n",
    "    else:\n",
    "        scale = 10\n",
    "    add_norm_variable(caloLike_test.array, variable, scale)"
   ]
  },
  {
   "cell_type": "code",
   "execution_count": 16,
   "metadata": {},
   "outputs": [],
   "source": [
    "bins = 41\n",
    "range = [-1, 1]\n",
    "kwargs = {'histtype':'step'}\n",
    "for var in interesting_variables:\n",
    "    variable = var + '_n'\n",
    "    caloLike_test.plotVariableMC(variable, bins, range, function_mask=proton_for_test, quality_mask=True, label='proton', **kwargs);\n",
    "    caloLike_test.plotVariableMC(variable, bins, range, function_mask=muon_for_test, quality_mask=True, label='muon', **kwargs);\n",
    "    caloLike_test.plotVariableMCFancy(variable, bins, range, function_mask=cosmic_for_test, quality_mask=True, label='cosmic', **kwargs);\n",
    "    plt.xlabel(variable_labels[var])\n",
    "    plt.tight_layout()\n",
    "    plt.savefig(save_folder + variable + '.png', dpi=250)\n",
    "    plt.close()"
   ]
  },
  {
   "cell_type": "markdown",
   "metadata": {},
   "source": [
    "## ROC curves"
   ]
  },
  {
   "cell_type": "code",
   "execution_count": 17,
   "metadata": {},
   "outputs": [
    {
     "data": {
      "image/png": "[encoded data removed]",
      "text/plain": [
       "<Figure size 432x288 with 1 Axes>"
      ]
     },
     "metadata": {
      "needs_background": "light"
     },
     "output_type": "display_data"
    }
   ],
   "source": [
    "for variable in interesting_variables:\n",
    "    caloLike_test.rocCurve(variable=variable+'_n', \n",
    "         pdg_codes=[13, 2212], \n",
    "         plot=True,\n",
    "         variable_label=variable_labels[variable])\n",
    "\n",
    "plt.title('Proton/muon separation\\nSimulated tracks', loc='left')\n",
    "plt.savefig(save_folder + 'roc_curves.png', dpi=250)"
   ]
  },
  {
   "cell_type": "code",
   "execution_count": 18,
   "metadata": {},
   "outputs": [],
   "source": [
    "def selection_function(array, parameter, bin_range):\n",
    "    return (array[parameter] >= bin_range[0]) &\\\n",
    "           (array[parameter] < bin_range[1])\n",
    "\n",
    "pdg_codes = [13, 2212]\n",
    "interesting_variables = ['trk_pid_chipr_y',\n",
    "                         'trk_bragg_p_three_planes',\n",
    "                         'trk_bragg_p_y',\n",
    "                         'llr_01',\n",
    "                         'llr_sum_2',\n",
    "                         'llr_012',\n",
    "                        ]\n",
    "parameter_name = 'trk_theta'\n",
    "parameter_bin_edges = np.linspace(0, np.pi, 20)\n",
    "\n",
    "for variable in interesting_variables:\n",
    "    caloLike_test.auc1D(variable+'_n', \n",
    "                        pdg_codes, \n",
    "                        selection_function, \n",
    "                        parameter_name, \n",
    "                        parameter_bin_edges,\n",
    "                        legend_label=variable_labels[variable])\n",
    "    \n",
    "plt.xlabel(r'Track $\\theta$')\n",
    "plt.legend()\n",
    "plt.title('Proton/muon separation\\nSimulated tracks', loc='left')\n",
    "plt.tight_layout()\n",
    "plt.savefig(save_folder+'auc1d'+parameter_name+'.png', dpi=250)\n",
    "plt.close()"
   ]
  },
  {
   "cell_type": "code",
   "execution_count": 19,
   "metadata": {},
   "outputs": [],
   "source": [
    "def selection_function(array, parameter, bin_range):\n",
    "    return (array[parameter] >= bin_range[0]) &\\\n",
    "           (array[parameter] < bin_range[1])\n",
    "\n",
    "pdg_codes = [13, 2212]\n",
    "interesting_variables = ['trk_pid_chipr_y',\n",
    "                         'trk_bragg_p_three_planes',\n",
    "                         'trk_bragg_p_y',\n",
    "                         'llr_01',\n",
    "                         'llr_sum_2',\n",
    "                         'llr_012',\n",
    "                        ]\n",
    "parameter_name = 'trk_phi'\n",
    "parameter_bin_edges = np.linspace(-np.pi, np.pi, 20)\n",
    "\n",
    "for variable in interesting_variables:\n",
    "    caloLike_test.auc1D(variable+'_n', \n",
    "                        pdg_codes, \n",
    "                        selection_function, \n",
    "                        parameter_name, \n",
    "                        parameter_bin_edges,\n",
    "                        legend_label=variable_labels[variable])\n",
    "    \n",
    "plt.xlabel(r'Track $\\phi$')\n",
    "plt.legend()\n",
    "plt.title('Proton/muon separation\\nSimulated tracks', loc='left')\n",
    "plt.tight_layout()\n",
    "plt.savefig(save_folder+'auc1d'+parameter_name+'.png', dpi=250)\n",
    "plt.close()"
   ]
  },
  {
   "cell_type": "code",
   "execution_count": 20,
   "metadata": {},
   "outputs": [],
   "source": [
    "def selection_function(array, parameters_names, bin_ranges):\n",
    "    return (array[parameters_names[0]] >= bin_ranges[0][0]) &\\\n",
    "           (array[parameters_names[0]] < bin_ranges[0][1]) &\\\n",
    "           (array[parameters_names[1]] >= bin_ranges[1][0]) &\\\n",
    "           (array[parameters_names[1]] < bin_ranges[1][1])\n",
    "\n",
    "pdg_codes = [13, 2212]\n",
    "\n",
    "parameters_names = ['trk_theta', 'trk_phi']\n",
    "parameter_bin_edges = (np.linspace(0, np.pi, 6), np.linspace(-np.pi, np.pi, 10))\n",
    "\n",
    "for variable in interesting_variables:\n",
    "    caloLike_test.auc2D(variable+'_n', \n",
    "                            pdg_codes, \n",
    "                            selection_function, \n",
    "                            parameters_names, \n",
    "                            parameter_bin_edges)\n",
    "\n",
    "    plt.xlabel(r'Track $\\theta$')\n",
    "    plt.ylabel(r'Track $\\phi$')\n",
    "    plt.title('Proton/muon separation\\nSimulated tracks\\nArea Under the Roc Curve\\n'+variable_labels[variable]+'\\n', loc='left')\n",
    "    plt.tight_layout()\n",
    "    plt.savefig(save_folder+'auc2d'+variable+'.png', dpi=250)\n",
    "    plt.close()"
   ]
  },
  {
   "cell_type": "code",
   "execution_count": null,
   "metadata": {},
   "outputs": [],
   "source": []
  }
 ],
 "metadata": {
  "kernelspec": {
   "display_name": "Python 3",
   "language": "python",
   "name": "python3"
  },
  "language_info": {
   "codemirror_mode": {
    "name": "ipython",
    "version": 3
   },
   "file_extension": ".py",
   "mimetype": "text/x-python",
   "name": "python",
   "nbconvert_exporter": "python",
   "pygments_lexer": "ipython3",
   "version": "3.7.5"
  }
 },
 "nbformat": 4,
 "nbformat_minor": 2
}
