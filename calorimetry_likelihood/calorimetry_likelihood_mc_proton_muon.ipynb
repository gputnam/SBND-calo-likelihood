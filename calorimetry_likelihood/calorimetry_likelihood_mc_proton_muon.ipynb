{
 "cells": [
  {
   "cell_type": "markdown",
   "metadata": {},
   "source": [
    "# Performance on simulated protons and muons"
   ]
  },
  {
   "cell_type": "code",
   "execution_count": 1,
   "metadata": {},
   "outputs": [],
   "source": [
    "%load_ext autoreload\n",
    "%autoreload 2\n",
    "\n",
    "import math\n",
    "from itertools import product\n",
    "import uproot\n",
    "import awkward\n",
    "import numpy as np\n",
    "from scipy.stats import binned_statistic_2d\n",
    "import matplotlib.pyplot as plt\n",
    "from matplotlib.colors import LogNorm\n",
    "\n",
    "import matplotlib\n",
    "matplotlib.rcParams.update({'font.size': 12})\n",
    "\n",
    "from calo_likelihood import caloLikelihood\n",
    "from general_functions import *\n",
    "from loaders import *\n",
    "from initializers import *"
   ]
  },
  {
   "cell_type": "code",
   "execution_count": 2,
   "metadata": {},
   "outputs": [],
   "source": [
    "today = '20_02_02'"
   ]
  },
  {
   "cell_type": "code",
   "execution_count": 4,
   "metadata": {},
   "outputs": [],
   "source": [
    "!mkdir -p /sbnd/app/users/gputnam/calorimetry-likelihood/proton_muon/\n",
    "!mkdir -p /sbnd/app/users/gputnam/calorimetry-likelihood/proton_muon/pdfs/"
   ]
  },
  {
   "cell_type": "code",
   "execution_count": 4,
   "metadata": {},
   "outputs": [],
   "source": [
    "save_folder = '/sbnd/app/users/gputnam/calorimetry-likelihood/proton_muon/'\n",
    "save_folder_pdfs = save_folder + 'pdfs/'"
   ]
  },
  {
   "cell_type": "code",
   "execution_count": 5,
   "metadata": {},
   "outputs": [],
   "source": [
    "branches = [\n",
    "    'run',\n",
    "    'sub',\n",
    "    'evt',\n",
    "    \n",
    "    'backtracked_pdg',\n",
    "    'backtracked_e',\n",
    "    'backtracked_purity',\n",
    "    'backtracked_completeness',\n",
    "    'backtracked_overlay_purity',\n",
    "    'backtracked_process_is_stopping',\n",
    "    'backtracked_end_in_tpc',\n",
    "    \n",
    "    'backtracked_start_x',\n",
    "    'backtracked_start_y',\n",
    "    'backtracked_start_z',\n",
    "    \n",
    "    'backtracked_sce_start_x',\n",
    "    'backtracked_sce_start_y',\n",
    "    'backtracked_sce_start_z',\n",
    "    \n",
    "    'nplanehits_U',\n",
    "    'nplanehits_V',\n",
    "    'nplanehits_Y',\n",
    "    'trk_score',\n",
    "\n",
    "    'generation',\n",
    "    'trk_daughters',\n",
    "    'shr_daughters',\n",
    "\n",
    "    'trk_sce_start_x',\n",
    "    'trk_sce_start_y',\n",
    "    'trk_sce_start_z',\n",
    "\n",
    "    'trk_sce_end_x',\n",
    "    'trk_sce_end_y',\n",
    "    'trk_sce_end_z',\n",
    "    \n",
    "    'trk_theta',\n",
    "    'trk_phi',\n",
    "\n",
    "    'trk_dir_x',\n",
    "    'trk_dir_y',\n",
    "    'trk_dir_z',\n",
    "    \n",
    "    'trk_pid_chipr_u',\n",
    "    'trk_pid_chipr_v',\n",
    "    'trk_pid_chipr_y',\n",
    "    'trk_pid_chimu_y',\n",
    "    'trk_bragg_p_y',\n",
    "    'trk_bragg_mu_y',\n",
    "    'trk_bragg_p_three_planes',\n",
    "\n",
    "    'trk_len',\n",
    "    'longest',\n",
    "    \n",
    "    'dedx_u',\n",
    "    'dedx_v',\n",
    "    'dedx_y',\n",
    "\n",
    "    'rr_u',\n",
    "    'rr_v',\n",
    "    'rr_y',\n",
    "\n",
    "    'pitch_u',\n",
    "    'pitch_v',\n",
    "    'pitch_y',\n",
    "    \n",
    "    'dir_x_u',\n",
    "    'dir_x_v',\n",
    "    'dir_x_y',\n",
    "    \n",
    "    'dir_y_u',\n",
    "    'dir_y_v',\n",
    "    'dir_y_y',\n",
    "    \n",
    "    'dir_z_u',\n",
    "    'dir_z_v',\n",
    "    'dir_z_y',\n",
    "]"
   ]
  },
  {
   "cell_type": "code",
   "execution_count": 6,
   "metadata": {},
   "outputs": [],
   "source": [
    "file_bnb = '/pnfs/sbnd/scratch/users/gputnam/numu-selection/bnblike_single/caloout.root'\n",
    "\n",
    "folder = \"caloana\"\n",
    "tree = \"CalorimetryAnalyzer\"\n",
    "\n",
    "split_factor = 0.9\n",
    "split_factor2 = 0.1\n",
    "root_file = uproot.open(file_bnb)[folder][tree]\n",
    "entry_split = int(len(root_file) * split_factor)\n",
    "entry_split2 = int(len(root_file) * split_factor2)\n",
    "array_train = root_file.arrays(branches, namedecode=\"utf-8\") #entrystop=entry_split)\n",
    "array_test = root_file.arrays(branches, namedecode=\"utf-8\") #entrystart=entry_split, entrystop=entry_split2)"
   ]
  },
  {
   "cell_type": "code",
   "execution_count": 7,
   "metadata": {},
   "outputs": [],
   "source": [
    "for array in [array_train, array_test]:\n",
    "    initialisation_for_caloriemtry_data_mc(array)"
   ]
  },
  {
   "cell_type": "code",
   "execution_count": 49,
   "metadata": {},
   "outputs": [
    {
     "data": {
      "text/plain": [
       "131282"
      ]
     },
     "execution_count": 49,
     "metadata": {},
     "output_type": "execute_result"
    }
   ],
   "source": [
    "len(array_test['run'])"
   ]
  },
  {
   "cell_type": "code",
   "execution_count": 50,
   "metadata": {},
   "outputs": [],
   "source": [
    "def selection_for_train(array):\n",
    "    return (array['backtracked_completeness'] > 0.8) &\\\n",
    "           (array['backtracked_purity'] > 0.8) &\\\n",
    "           (array['end_is_fiducial']) &\\\n",
    "           (array['start_is_fiducial']) &\\\n",
    "           (array['trk_daughters']==0) &\\\n",
    "           (array['shr_daughters']==0) &\\\n",
    "           (array['non_inelastic'])\n",
    "\n",
    "def selection_for_train(array):\n",
    "    return (array['backtracked_completeness'] > 0.8) &\\\n",
    "           (array['backtracked_purity'] > 0.8) &\\\n",
    "           (array['backtracked_end_in_tpc']) &\\\n",
    "           (array['backtracked_process_is_stopping']) &\\\n",
    "           (array['non_inelastic'])\n",
    "\n",
    "def selection_for_test(array):\n",
    "    return (array['start_is_fiducial']) &\\\n",
    "           (array['end_is_fiducial']) &\\\n",
    "           (array['trk_daughters']==0) &\\\n",
    "           (array['shr_daughters']==0)\n",
    "\n",
    "def muon_for_test(array):\n",
    "    return selection_for_test(array) & (np.abs(array['backtracked_pdg'])==13)\n",
    "\n",
    "def proton_for_test(array):\n",
    "    return selection_for_test(array) & (np.abs(array['backtracked_pdg'])==2212)\n",
    "\n",
    "def cosmic_for_test(array):\n",
    "    return selection_for_test(array) & (np.abs(array['backtracked_pdg'])==0)\n",
    "\n",
    "def selection_planes(array):\n",
    "    aux = []\n",
    "    for plane in ['_u', '_v', '_y']:\n",
    "        aux.append(array['first_last_hit_mask'+plane])\n",
    "    return aux"
   ]
  },
  {
   "cell_type": "code",
   "execution_count": 9,
   "metadata": {},
   "outputs": [],
   "source": [
    "selection_train = selection_for_train(array_train)\n",
    "selection_train_planes = selection_planes(array_train)\n",
    "selection_test = selection_for_test(array_test)\n",
    "selection_test_planes = selection_planes(array_test)"
   ]
  },
  {
   "cell_type": "code",
   "execution_count": 52,
   "metadata": {},
   "outputs": [
    {
     "name": "stdout",
     "output_type": "stream",
     "text": [
      "43989\n",
      "131282\n"
     ]
    }
   ],
   "source": [
    "print(len([x for x in selection_train if x]))\n",
    "print(len(array_train['run']))"
   ]
  },
  {
   "cell_type": "code",
   "execution_count": 53,
   "metadata": {},
   "outputs": [],
   "source": [
    "# # calibration\n",
    "# def scale_calibration(mu, dedx):\n",
    "#     return dedx * mu[0]\n",
    "# caloLikelihood_cali = caloLikelihood(None)\n",
    "# caloLikelihood_cali.load(filename='/home/nic/Dropbox/MicroBooNE/bnb_nue_analysis/calorimetry_likelihood/dumped_objects/calibration.dat')\n",
    "# for array in [array_train, array_test]:\n",
    "#     for plane_num, plane in enumerate(['u', 'v', 'y']):\n",
    "#         array['dedx_{}_cali'.format(plane)] = caloLikelihood_cali.calibrateDedxExternal(array, plane_num)"
   ]
  },
  {
   "cell_type": "code",
   "execution_count": null,
   "metadata": {},
   "outputs": [],
   "source": [
    "# parameters_names = ['rr', 'pitch']\n",
    "# parameters_bin_edges = [[0., 2, 4, 7, 10, 15, 20, 30, 50, 100, 300, 2000],\n",
    "#                   [.0, 0.6, 1, 1.5, 3, 30]]\n",
    "\n",
    "# dedx_var = 'dedx'\n",
    "# dedx_var_end = '_cali'\n",
    "# dedx_bins = [0, 0.5, 1, 1.5, 2, 2.5, 3, 3.5, 4, 4.5, 5, 5.5, 6, 6.5, 7, 7.5, 8, 9, 10, 12, 15, 20, 25, 30, 35, 40, 45, 50]\n",
    "\n",
    "# parameters = []\n",
    "# dedx_vars = []\n",
    "# for plane in ['u', 'v', 'y']:\n",
    "#     parameters.append([parameter_name+'_'+plane for parameter_name in parameters_names])\n",
    "#     dedx_vars.append(dedx_var+'_'+plane+dedx_var_end)\n",
    "\n",
    "# pdgcode_var = 'backtracked_pdg'"
   ]
  },
  {
   "cell_type": "code",
   "execution_count": null,
   "metadata": {},
   "outputs": [],
   "source": [
    "# for array in [array_train, array_test]:\n",
    "#     array['residual range'] = array['rr_y']\n",
    "#     array['pitch'] = array['pitch_y']\n",
    "    \n",
    "# parameters_names = ['rr', 'pitch']\n",
    "# parameters_bin_edges = [[0., 2, 4, 7, 10, 15, 20, 30, 50, 100, 300, 2000],\n",
    "#                   [.0, 0.6, 1, 1.5, 3, 30]]\n",
    "\n",
    "# dedx_var = 'dedx'\n",
    "# dedx_var_end = '_cali'\n",
    "# dedx_bins = [0, 0.5, 1, 1.5, 2, 2.5, 3, 3.5, 4, 4.5, 5, 5.5, 6, 6.5, 7, 7.5, 8, 9, 10, 12, 15, 20, 25, 30, 35, 40, 45, 50]\n",
    "\n",
    "# parameters = []\n",
    "# dedx_vars = []\n",
    "# for plane in ['u', 'v', 'y']:\n",
    "#     if plane == 'y':\n",
    "#         parameters.append(['residual range', 'pitch'])\n",
    "#         dedx_vars.append(dedx_var+'_'+plane+dedx_var_end)\n",
    "#     else:\n",
    "#         parameters.append([parameter_name+'_'+plane for parameter_name in parameters_names])\n",
    "#         dedx_vars.append(dedx_var+'_'+plane+dedx_var_end)\n",
    "\n",
    "# pdgcode_var = 'backtracked_pdg'"
   ]
  },
  {
   "cell_type": "code",
   "execution_count": 10,
   "metadata": {},
   "outputs": [],
   "source": [
    "parameters_names = ['rr', 'pitch']\n",
    "parameters_bin_edges = [[0., 2, 4, 7, 10, 15, 20, 30, 50, 100, 300, 2000],\n",
    "                         [0.,30]]\n",
    "                        # [.0, 0.6, 1, 1.5, 3, 30]]\n",
    "\n",
    "dedx_var = 'dedx'\n",
    "dedx_var_end = ''#'_cali'\n",
    "dedx_bins = [0, 0.5, 1, 1.5, 2, 2.5, 3, 3.5, 4, 4.5, 5, 5.5, 6, 6.5, 7, 7.5, 8, 9, 10, 12, 15, 20, 25, 30, 35, 40, 45, 50]\n",
    "\n",
    "parameters = []\n",
    "dedx_vars = []\n",
    "for plane in ['u', 'v', 'y']:\n",
    "    parameters.append([parameter_name+'_'+plane for parameter_name in parameters_names])\n",
    "    dedx_vars.append(dedx_var+'_'+plane+dedx_var_end)\n",
    "\n",
    "pdgcode_var = 'backtracked_pdg'"
   ]
  },
  {
   "cell_type": "code",
   "execution_count": 11,
   "metadata": {},
   "outputs": [],
   "source": [
    "caloLike_train = caloLikelihood(array_train, quality_mask=selection_train, quality_masks_planes=selection_train_planes)\n",
    "caloLike_test = caloLikelihood(array_test, quality_mask=selection_test, quality_masks_planes=selection_test_planes)\n",
    "\n",
    "caloLike_train.setPdgCodeVar(pdgcode_var)\n",
    "caloLike_test.setPdgCodeVar(pdgcode_var)"
   ]
  },
  {
   "cell_type": "code",
   "execution_count": 12,
   "metadata": {},
   "outputs": [
    {
     "name": "stderr",
     "output_type": "stream",
     "text": [
      "/home/nic/Dropbox/MicroBooNE/bnb_nue_analysis/lib/calo_likelihood.py:135: RuntimeWarning: invalid value encountered in true_divide\n",
      "  hist_total/hist_partial[..., np.newaxis],\n",
      "/home/nic/Dropbox/MicroBooNE/bnb_nue_analysis/lib/calo_likelihood.py:146: RuntimeWarning: divide by zero encountered in log\n",
      "  np.log(table_1) - np.log(table_2),\n",
      "/home/nic/Dropbox/MicroBooNE/bnb_nue_analysis/lib/calo_likelihood.py:146: RuntimeWarning: invalid value encountered in subtract\n",
      "  np.log(table_1) - np.log(table_2),\n"
     ]
    }
   ],
   "source": [
    "for i in [0, 1, 2]:\n",
    "    caloLike_train.setVariablesBinning(i, parameters[i], parameters_bin_edges, dedx_vars[i], dedx_bins)\n",
    "    caloLike_train.buildLookUpTableMC(i, 13)    \n",
    "    caloLike_train.buildLookUpTableMC(i, 2212)    \n",
    "    caloLike_train.buildLookUpLogLikelihoodRatio(i, [13, 2212])\n",
    "    caloLike_test.setVariablesBinning(i, parameters[i], parameters_bin_edges, dedx_vars[i], dedx_bins)"
   ]
  },
  {
   "cell_type": "code",
   "execution_count": 13,
   "metadata": {},
   "outputs": [
    {
     "name": "stderr",
     "output_type": "stream",
     "text": [
      "/home/nic/Dropbox/MicroBooNE/bnb_nue_analysis/lib/calo_likelihood.py:251: RuntimeWarning: divide by zero encountered in log\n",
      "  return np.log(self.lookup_tables[pdg_code][plane_num][lookup_index])\n",
      "/home/nic/Dropbox/MicroBooNE/bnb_nue_analysis/lib/calo_likelihood.py:298: RuntimeWarning: invalid value encountered in subtract\n",
      "  array['log_like_ratio_{}'.format(plane)] = array['like_{}_sum_{}'.format(pdg_codes[0], plane)] - array['like_{}_sum_{}'.format(pdg_codes[1], plane)]\n",
      "/home/nic/Dropbox/MicroBooNE/bnb_nue_analysis/lib/calo_likelihood.py:300: RuntimeWarning: invalid value encountered in add\n",
      "  array['log_like_ratio'] = array['log_like_ratio_0'] + array['log_like_ratio_1'] + array['log_like_ratio_2']\n",
      "/home/nic/Dropbox/MicroBooNE/bnb_nue_analysis/lib/calo_likelihood.py:301: RuntimeWarning: invalid value encountered in add\n",
      "  array['log_like_ratio_01'] = array['log_like_ratio_0'] + array['log_like_ratio_1']\n"
     ]
    }
   ],
   "source": [
    "caloLike_train.addCalorimetryVariables(caloLike_test.array, pdg_codes=[13, 2212], cali=False)\n",
    "caloLike_train.addCalorimetryVariablesFromLLRTable(caloLike_test.array, selection_test_planes, cali=False)"
   ]
  },
  {
   "cell_type": "code",
   "execution_count": 28,
   "metadata": {},
   "outputs": [],
   "source": [
    "caloLike_train.printCplusplusLookUp(filename='/home/nic/Dropbox/MicroBooNE/bnb_nue_analysis/calorimetry_likelihood/larsoft_dev/LLRPID_proton_muon_lookup.h', planes=[0, 1, 2])"
   ]
  },
  {
   "cell_type": "code",
   "execution_count": null,
   "metadata": {},
   "outputs": [],
   "source": [
    "caloLike_train.logLikelihoodRatioOneHit(2, 2.5, [27, 4])"
   ]
  },
  {
   "cell_type": "markdown",
   "metadata": {},
   "source": [
    "## Plot of the pdfs/likelihoods in bins of residual range and pitch"
   ]
  },
  {
   "cell_type": "markdown",
   "metadata": {},
   "source": [
    "### Plot PDFs from lookup tables"
   ]
  },
  {
   "cell_type": "code",
   "execution_count": null,
   "metadata": {},
   "outputs": [],
   "source": [
    "for plane_num in [2]:\n",
    "    bin_centers = product(*caloLike_train.parameters_bin_centers[plane_num])\n",
    "    for bin_center in bin_centers:\n",
    "        caloLike_train.plotLookUpDedxMC(plane_num=plane_num, \n",
    "                                  pdg_code=13, \n",
    "                                  parameters_value=bin_center, \n",
    "                                  label='muon')\n",
    "        caloLike_train.plotLookUpDedxMCfancy(plane_num=plane_num, \n",
    "                                  pdg_code=2212, \n",
    "                                  parameters_value=bin_center, \n",
    "                                  label='proton')\n",
    "        plt.xlim(0, 20)\n",
    "        plt.tight_layout()\n",
    "        plt.savefig(save_folder_pdfs+'plane_{}_rr_{}_pitch_{}.png'.format(plane_num, bin_center[0], bin_center[1]))\n",
    "        plt.close()"
   ]
  },
  {
   "cell_type": "markdown",
   "metadata": {},
   "source": [
    "## 2d plots dedx vs rr"
   ]
  },
  {
   "cell_type": "markdown",
   "metadata": {},
   "source": [
    "### for different values of the pitch"
   ]
  },
  {
   "cell_type": "code",
   "execution_count": null,
   "metadata": {},
   "outputs": [],
   "source": [
    "# dedx vs rr\n",
    "pitch_binning = [0.3, 0.6, 1, 1.5, 3, 30]\n",
    "binning = [50, 50]\n",
    "range = [[0, 40], [0, 20]]\n",
    "array = array_train\n",
    "for i, (plane, plane_label) in enumerate(zip(['_u', '_v', '_y'], ['First induction', 'Second induction', 'Collection'])):\n",
    "    for pitch_low, pitch_high in zip(pitch_binning[:-1], pitch_binning[1:]):\n",
    "        pitch_mask = (array['pitch'+plane] >= pitch_low) & (array['pitch'+plane] < pitch_high)\n",
    "    \n",
    "        for pdg, pdg_label in zip([13, 2212], ['muon', 'proton']):\n",
    "            pdg_mask = np.abs(array['backtracked_pdg'])==pdg\n",
    "            total_mask = selection_train & selection_train_planes[i] & pitch_mask & pdg_mask\n",
    "            \n",
    "            dedx = array['dedx'+plane][total_mask].flatten()\n",
    "            rr = array['rr'+plane][total_mask].flatten()\n",
    "            \n",
    "            plt.hist2d(rr, dedx, bins=binning, range=range)\n",
    "            plt.title('MicroBooNE In Progress', loc='right')\n",
    "            plt.title('Simulated tracks backtracked to {}\\n'.format(pdg_label)+\n",
    "                      'fully contained, completeness, purity > 90%\\n'+\n",
    "                      'only hits with {:.2g} cm <= pitch < {:.2g} cm\\n'.format(pitch_low, pitch_high)+\n",
    "                      '{} plane'.format(plane_label), loc='left')\n",
    "            plt.xlabel('Residual range [cm]')\n",
    "            plt.ylabel('dE/dx [MeV/cm]')\n",
    "            plt.tight_layout()\n",
    "            plt.savefig(save_folder+'dedx_rr_plane_{}_pdg_{}_{}_pitch_{}.png'.format(i, pdg, pitch_low, pitch_high), dpi=250)\n",
    "            plt.close()"
   ]
  },
  {
   "cell_type": "code",
   "execution_count": null,
   "metadata": {},
   "outputs": [],
   "source": [
    "# dedx given rr\n",
    "pitch_binning = [0.3, 0.6, 1, 1.5, 3, 30]\n",
    "binning = 50\n",
    "range = [0, 20]\n",
    "rr_bin = [10, 15]\n",
    "array = array_train\n",
    "for i, (plane, plane_label) in enumerate(zip(['_u', '_v', '_y'], ['First induction', 'Second induction', 'Collection'])):\n",
    "    for pitch_low, pitch_high in zip(pitch_binning[:-1], pitch_binning[1:]):\n",
    "        pitch_mask = (array['pitch'+plane] >= pitch_low) & (array['pitch'+plane] <= pitch_high)\n",
    "    \n",
    "        for pdg, pdg_label in zip([13, 2212], ['muon', 'proton']):\n",
    "            pdg_mask = np.abs(array['backtracked_pdg'])==pdg\n",
    "            rr_mask = (array['rr'+plane] > rr_bin[0]) & (array['rr'+plane] < rr_bin[1])\n",
    "            total_mask = selection_train & selection_train_planes[i] & pitch_mask & pdg_mask & rr_mask\n",
    "            \n",
    "            dedx = array['dedx'+plane][total_mask].flatten()\n",
    "            \n",
    "            plt.hist(dedx, bins=binning, range=range, label=pdg_label, histtype='step')\n",
    "        plt.title('MicroBooNE In Progress', loc='right')\n",
    "        plt.title('Simulated tracks backtracked to {}\\n'.format(pdg_label)+\n",
    "                  'fully contained, completeness, purity > 90%\\n'+\n",
    "                  'only hits with {:.2g} cm <= pitch < {:.2g} cm\\n'.format(pitch_low, pitch_high)+\n",
    "                  'only hits with {:.2g} cm <= rr < {:.2g} cm\\n'.format(rr_bin[0], rr_bin[1])+\n",
    "                  '{} plane'.format(plane_label), loc='left')\n",
    "        plt.ylabel('Number of entries')\n",
    "        plt.xlabel('dE/dx [MeV/cm]')\n",
    "        plt.tight_layout()\n",
    "        plt.legend()\n",
    "        plt.savefig(save_folder+'dedx_plane_{}_{}_pitch_{}.png'.format(i, pitch_low, pitch_high), dpi=250)\n",
    "        plt.close()"
   ]
  },
  {
   "cell_type": "code",
   "execution_count": null,
   "metadata": {},
   "outputs": [],
   "source": [
    "# distribution of direction of particles\n",
    "\n",
    "binning = [21, 21]\n",
    "range = [[-1, 1], [-np.pi, np.pi]]\n",
    "array = array_train\n",
    "for pdg, pdg_label in zip([13, 2212], ['muon', 'proton']):\n",
    "    pdg_mask = np.abs(array['backtracked_pdg'])==pdg\n",
    "    total_mask = selection_train & pdg_mask\n",
    "    costheta = np.cos(array['trk_theta'])[total_mask]\n",
    "    phi = array['trk_phi'][total_mask]\n",
    "    \n",
    "    plt.hist2d(costheta, phi, bins=binning, range=range, density=True)\n",
    "    plt.title('MicroBooNE In Progress', loc='right')\n",
    "    plt.title('Simulated tracks backtracked to {}\\n'.format(pdg_label)+\n",
    "              'fully contained, completeness, purity > 90%\\n', loc='left')\n",
    "    plt.xlabel(r'track $\\cos \\theta$')\n",
    "    plt.ylabel(r'track $\\phi$')\n",
    "    plt.colorbar()\n",
    "    plt.tight_layout()\n",
    "    plt.savefig(save_folder+'cos_theta_phi_pdg_{}_train.png'.format(pdg), dpi=250)\n",
    "    plt.close()\n",
    "    \n",
    "    total_mask = selection_for_test(array) & pdg_mask\n",
    "    costheta = np.cos(array['trk_theta'])[total_mask]\n",
    "    phi = array['trk_phi'][total_mask]\n",
    "    \n",
    "    plt.hist2d(costheta, phi, bins=binning, range=range, density=True)\n",
    "    plt.title('MicroBooNE In Progress', loc='right')\n",
    "    plt.title('Simulated tracks backtracked to {}\\n'.format(pdg_label)+\n",
    "              'fully contained\\n', loc='left')\n",
    "    plt.xlabel(r'track $\\cos \\theta$')\n",
    "    plt.ylabel(r'track $\\phi$')\n",
    "    plt.colorbar()\n",
    "    plt.tight_layout()\n",
    "    plt.savefig(save_folder+'cos_theta_phi_pdg_{}_test.png'.format(pdg), dpi=250)\n",
    "    plt.close()"
   ]
  },
  {
   "cell_type": "code",
   "execution_count": null,
   "metadata": {},
   "outputs": [],
   "source": [
    "# angular distribution of hits\n",
    "\n",
    "binning = [21, 21]\n",
    "range = [[-1, 1], [-np.pi, np.pi]]\n",
    "array = array_train\n",
    "for i, (plane, plane_label) in enumerate(zip(['_u', '_v', '_y'], ['First induction', 'Second induction', 'Collection'])):\n",
    "    for pdg, pdg_label in zip([13, 2212], ['muon', 'proton']):\n",
    "        pdg_mask = np.abs(array['backtracked_pdg'])==pdg\n",
    "        \n",
    "        total_mask = selection_train & selection_train_planes[i] & pdg_mask\n",
    "        costheta = np.cos(array['theta_z'+plane])[total_mask].flatten()\n",
    "        phi = array['theta_yx'+plane][total_mask].flatten()\n",
    "\n",
    "        plt.hist2d(costheta, phi, bins=binning, range=range, density=True)\n",
    "        plt.title('MicroBooNE In Progress', loc='right')\n",
    "        plt.title('Simulated tracks backtracked to {}\\n'.format(pdg_label)+\n",
    "                  'fully contained, completeness, purity > 90%\\n{} plane\\n'.format(plane_label), loc='left')\n",
    "        plt.xlabel(r'hit $\\cos \\theta$')\n",
    "        plt.ylabel(r'hit $\\phi$')\n",
    "        plt.colorbar()\n",
    "        plt.tight_layout()\n",
    "        plt.savefig(save_folder+'hit_cos_theta_phi_plane_{}_pdg_{}_train.png'.format(plane, pdg), dpi=250)\n",
    "        plt.close()\n",
    "\n",
    "        total_mask = selection_for_test(array) & selection_train_planes[i] & pdg_mask\n",
    "        costheta = np.cos(array['theta_z'+plane])[total_mask].flatten()\n",
    "        phi = array['theta_yx'+plane][total_mask].flatten()\n",
    "\n",
    "        plt.hist2d(costheta, phi, bins=binning, range=range, density=True)\n",
    "        plt.title('MicroBooNE In Progress', loc='right')\n",
    "        plt.title('Simulated tracks backtracked to {}\\n'.format(pdg_label)+\n",
    "                  'fully contained\\n{} plane\\n'.format(plane_label), loc='left')\n",
    "        plt.xlabel(r'hit $\\cos \\theta$')\n",
    "        plt.ylabel(r'hit $\\phi$')\n",
    "        plt.colorbar()\n",
    "        plt.tight_layout()\n",
    "        plt.savefig(save_folder+'hit_cos_theta_phi_plane_{}_pdg_{}_test.png'.format(i, pdg), dpi=250)\n",
    "        plt.close()"
   ]
  },
  {
   "cell_type": "code",
   "execution_count": null,
   "metadata": {},
   "outputs": [],
   "source": [
    "# relationship between pitch and costheta\n",
    "\n",
    "binning = [51, 101]\n",
    "range = [[-1, 1], [0, 5]]\n",
    "array = array_train\n",
    "for i, (plane, plane_label) in enumerate(zip(['_u', '_v', '_y'], ['First induction', 'Second induction', 'Collection'])):\n",
    "    for pdg, pdg_label in zip([13, 2212], ['muon', 'proton']):\n",
    "        pdg_mask = np.abs(array['backtracked_pdg'])==pdg\n",
    "        \n",
    "        total_mask = selection_train & selection_train_planes[i] & pdg_mask\n",
    "        costheta = np.cos(array['theta_z'+plane])[total_mask].flatten()\n",
    "        pitch = array['pitch'+plane][total_mask].flatten()\n",
    "\n",
    "        plt.hist2d(costheta, pitch, bins=binning, range=range, density=True)\n",
    "        plt.title('MicroBooNE In Progress', loc='right')\n",
    "        plt.title('Simulated tracks backtracked to {}\\n'.format(pdg_label)+\n",
    "                  'fully contained, completeness, purity > 90%\\n{} plane\\n'.format(plane_label), loc='left')\n",
    "        plt.xlabel(r'hit $\\cos \\theta$')\n",
    "        plt.ylabel(r'hit pitch')\n",
    "        plt.colorbar()\n",
    "        plt.tight_layout()\n",
    "        plt.savefig(save_folder+'hit_cos_theta_pitch_plane_{}_pdg_{}_train.png'.format(plane, pdg), dpi=250)\n",
    "        plt.close()\n",
    "\n",
    "        total_mask = selection_for_test(array) & selection_train_planes[i] & pdg_mask\n",
    "        costheta = np.cos(array['theta_z'+plane])[total_mask].flatten()\n",
    "        pitch = array['pitch'+plane][total_mask].flatten()\n",
    "\n",
    "        plt.hist2d(costheta, pitch, bins=binning, range=range, density=True)\n",
    "        plt.title('MicroBooNE In Progress', loc='right')\n",
    "        plt.title('Simulated tracks backtracked to {}\\n'.format(pdg_label)+\n",
    "                  'fully contained\\n{} plane\\n'.format(plane_label), loc='left')\n",
    "        plt.xlabel(r'hit $\\cos \\theta$')\n",
    "        plt.ylabel(r'hit pitch')\n",
    "        plt.colorbar()\n",
    "        plt.tight_layout()\n",
    "        plt.savefig(save_folder+'hit_cos_theta_pitch_plane_{}_pdg_{}_test.png'.format(i, pdg), dpi=250)\n",
    "        plt.close()"
   ]
  },
  {
   "cell_type": "code",
   "execution_count": null,
   "metadata": {},
   "outputs": [],
   "source": [
    "# fraction of hits with bad dE/dx\n",
    "\n",
    "binning = [51, 21]\n",
    "range = [[-1, 1], [-np.pi, np.pi]]\n",
    "array = array_train\n",
    "for i, (plane, plane_label) in enumerate(zip(['_u', '_v', '_y'], ['First induction', 'Second induction', 'Collection'])):\n",
    "    for pdg, pdg_label in zip([13, 2212], ['muon', 'proton']):\n",
    "        pdg_mask = np.abs(array['backtracked_pdg'])==pdg\n",
    "        \n",
    "        total_mask = selection_train & selection_train_planes[i] & pdg_mask\n",
    "        \n",
    "        costheta = np.cos(array['theta_z'+plane])[total_mask].flatten()\n",
    "        phi = array['theta_yx'+plane][total_mask].flatten()\n",
    "        dedx = array['dedx'+plane][total_mask].flatten()\n",
    "        \n",
    "        def fraction_of_bad_hits(dedx):\n",
    "            return ((dedx > 0) & (dedx < 1)).sum() / (dedx > 0).sum()\n",
    "        ret = binned_statistic_2d(costheta, phi, dedx, statistic=fraction_of_bad_hits, bins=binning, range=range, expand_binnumbers=False)\n",
    "        plt.pcolormesh(ret.x_edge, ret.y_edge, ret.statistic.T)\n",
    "        \n",
    "        plt.title('MicroBooNE In Progress', loc='right')\n",
    "        plt.title('Fraction of hits with dE/dx < 1 MeV/cm\\nSimulated tracks backtracked to {}\\n'.format(pdg_label)+\n",
    "                  'fully contained, completeness, purity > 90%\\n{} plane\\n'.format(plane_label), loc='left')\n",
    "        plt.xlabel(r'hit $\\cos \\theta$ wrt to wires')\n",
    "        plt.ylabel(r'hit $\\phi$ wrt to wires')\n",
    "        plt.colorbar()\n",
    "        plt.tight_layout()\n",
    "        plt.savefig(save_folder+'bad_hit_fraction_cos_theta_phi_plane_{}_pdg_{}_train.png'.format(plane, pdg), dpi=250)\n",
    "        plt.close()\n",
    "\n",
    "        \n",
    "        \n",
    "        total_mask = selection_for_test(array) & selection_train_planes[i] & pdg_mask\n",
    "        \n",
    "        costheta = np.cos(array['theta_z'+plane])[total_mask].flatten()\n",
    "        phi = array['theta_yx'+plane][total_mask].flatten()\n",
    "        dedx = array['dedx'+plane][total_mask].flatten()\n",
    "        \n",
    "        def fraction_of_bad_hits(dedx):\n",
    "            return ((dedx > 0) & (dedx < 1)).sum() / (dedx > 0).sum()\n",
    "        ret = binned_statistic_2d(costheta, phi, dedx, statistic=fraction_of_bad_hits, bins=binning, range=range, expand_binnumbers=False)\n",
    "        plt.pcolormesh(ret.x_edge, ret.y_edge, ret.statistic.T)\n",
    "        \n",
    "        plt.title('MicroBooNE In Progress', loc='right')\n",
    "        plt.title('Fraction of hits with dE/dx < 1 MeV/cm\\nSimulated tracks backtracked to {}\\n'.format(pdg_label)+\n",
    "                  'fully contained\\n{} plane\\n'.format(plane_label), loc='left')\n",
    "        plt.xlabel(r'hit $\\cos \\theta$ wrt to wires')\n",
    "        plt.ylabel(r'hit $\\phi$ wrt to wires')\n",
    "        plt.colorbar()\n",
    "        plt.tight_layout()\n",
    "        plt.savefig(save_folder+'bad_hit_fraction_cos_theta_phi_plane_{}_pdg_{}_test.png'.format(plane, pdg), dpi=250)\n",
    "        plt.close()"
   ]
  },
  {
   "cell_type": "markdown",
   "metadata": {},
   "source": [
    "## Plots"
   ]
  },
  {
   "cell_type": "code",
   "execution_count": 14,
   "metadata": {},
   "outputs": [],
   "source": [
    "def add_norm_variable(array, var, scale=100):\n",
    "    array[var+'_n'] = 2/math.pi*np.arctan(array[var]/scale)"
   ]
  },
  {
   "cell_type": "code",
   "execution_count": 15,
   "metadata": {},
   "outputs": [],
   "source": [
    "interesting_variables = ['trk_pid_chipr_y',\n",
    "                         'trk_pid_chimu_y',\n",
    "                         'trk_bragg_p_y',\n",
    "                         'trk_bragg_mu_y',\n",
    "                         'trk_bragg_p_three_planes',\n",
    "#                          'llr_sum_0',\n",
    "#                          'llr_sum_1',\n",
    "                         'llr_sum_2',\n",
    "                         'llr_01',\n",
    "                         'llr_012',\n",
    "                        ]\n",
    "\n",
    "# variable_labels = {\n",
    "#     'trk_pid_chipr_y': '$\\chi^2_{proton}$ Y',\n",
    "#     'trk_pid_chimu_y': '$\\chi^2_{\\mu}$ Y',\n",
    "#     'trk_bragg_p_y': 'Bragg likelihood Y',\n",
    "#     'trk_bragg_mu_y': 'Bragg likelihood muon Y',\n",
    "#     'trk_bragg_p_three_planes': 'Bragg likelihood UVY',\n",
    "#     'llr_sum_0': 'LLR U',\n",
    "#     'llr_sum_1': 'LLR V',\n",
    "#     'llr_sum_2': 'LLR Y',\n",
    "#     'llr_01': 'LLR UV',   \n",
    "#     'llr_012': 'LLR UVY',   \n",
    "# }\n",
    "\n",
    "variable_labels = {\n",
    "    'trk_pid_chipr_y': '$\\chi^2_{proton}$ collection plane',\n",
    "    'trk_pid_chimu_y': '$\\chi^2_{\\mu}$ collection plane',\n",
    "    'trk_bragg_p_y': 'Bragg likelihood collection plane',\n",
    "    'trk_bragg_mu_y': 'Bragg likelihood muon collection plane',\n",
    "    'trk_bragg_p_three_planes': 'Bragg likelihood all planes',\n",
    "    'llr_sum_0': 'LogLikelihoodRatio (this work) first induction plane',\n",
    "    'llr_sum_1': 'LogLikelihoodRatio (this work) second induction plane',\n",
    "    'llr_sum_2': 'LogLikelihoodRatio (this work) collection plane',\n",
    "    'llr_01': 'LogLikelihoodRatio (this work) first and second induction plane',   \n",
    "    'llr_012': 'LogLikelihoodRatio (this work) all planes',   \n",
    "}\n",
    "\n",
    "for variable in interesting_variables:\n",
    "    if 'llr' in variable:\n",
    "        scale = 100\n",
    "    elif 'bragg' in variable:\n",
    "        scale = 1\n",
    "    else:\n",
    "        scale = 10\n",
    "    add_norm_variable(caloLike_test.array, variable, scale)"
   ]
  },
  {
   "cell_type": "code",
   "execution_count": 16,
   "metadata": {},
   "outputs": [],
   "source": [
    "bins = 41\n",
    "range = [-1, 1]\n",
    "kwargs = {'histtype':'step'}\n",
    "for var in interesting_variables:\n",
    "    variable = var + '_n'\n",
    "    caloLike_test.plotVariableMC(variable, bins, range, function_mask=proton_for_test, quality_mask=True, label='proton', **kwargs);\n",
    "    caloLike_test.plotVariableMC(variable, bins, range, function_mask=muon_for_test, quality_mask=True, label='muon', **kwargs);\n",
    "    caloLike_test.plotVariableMCFancy(variable, bins, range, function_mask=cosmic_for_test, quality_mask=True, label='cosmic', **kwargs);\n",
    "    plt.xlabel(variable_labels[var])\n",
    "    plt.tight_layout()\n",
    "    plt.savefig(save_folder + variable + '.png', dpi=250)\n",
    "    plt.close()"
   ]
  },
  {
   "cell_type": "markdown",
   "metadata": {},
   "source": [
    "## ROC curves"
   ]
  },
  {
   "cell_type": "code",
   "execution_count": 18,
   "metadata": {},
   "outputs": [
    {
     "data": {
      "text/plain": [
       "array([-3.4028235e+38, -3.4028235e+38, -3.4028235e+38, ...,\n",
       "       -3.4028235e+38, -3.4028235e+38, -3.4028235e+38], dtype=float32)"
      ]
     },
     "execution_count": 18,
     "metadata": {},
     "output_type": "execute_result"
    }
   ],
   "source": [
    "caloLike_test.array['trk_pid_chipr_y']"
   ]
  },
  {
   "cell_type": "code",
   "execution_count": 17,
   "metadata": {},
   "outputs": [
    {
     "data": {
      "image/png": "[encoded data removed]",
      "text/plain": [
       "<Figure size 432x288 with 1 Axes>"
      ]
     },
     "metadata": {
      "needs_background": "light"
     },
     "output_type": "display_data"
    }
   ],
   "source": [
    "for variable in interesting_variables:\n",
    "    caloLike_test.rocCurve(variable=variable+'_n', \n",
    "         pdg_codes=[13, 2212], \n",
    "         plot=True,\n",
    "         variable_label=variable_labels[variable])\n",
    "\n",
    "plt.title('Proton/muon separation\\nSimulated tracks', loc='left')\n",
    "plt.savefig(save_folder + 'roc_curves.pdf', dpi=100,figsize=(10,10))"
   ]
  },
  {
   "cell_type": "code",
   "execution_count": null,
   "metadata": {},
   "outputs": [],
   "source": [
    "def selection_function(array, parameter, bin_range):\n",
    "    return (array[parameter] >= bin_range[0]) &\\\n",
    "           (array[parameter] < bin_range[1])\n",
    "\n",
    "pdg_codes = [13, 2212]\n",
    "interesting_variables = ['trk_pid_chipr_y',\n",
    "                         'trk_bragg_p_three_planes',\n",
    "                         'trk_bragg_p_y',\n",
    "                         'llr_01',\n",
    "                         'llr_sum_2',\n",
    "                         'llr_012',\n",
    "                        ]\n",
    "parameter_name = 'trk_theta'\n",
    "parameter_bin_edges = np.linspace(0, np.pi, 20)\n",
    "\n",
    "for variable in interesting_variables:\n",
    "    caloLike_test.auc1D(variable+'_n', \n",
    "                        pdg_codes, \n",
    "                        selection_function, \n",
    "                        parameter_name, \n",
    "                        parameter_bin_edges,\n",
    "                        legend_label=variable_labels[variable])\n",
    "    \n",
    "plt.xlabel(r'Track $\\theta$')\n",
    "plt.legend()\n",
    "plt.title('Proton/muon separation\\nSimulated tracks', loc='left')\n",
    "plt.tight_layout()\n",
    "plt.savefig(save_folder+'auc1d'+parameter_name+'.pdf', dpi=250)\n",
    "plt.close()"
   ]
  },
  {
   "cell_type": "code",
   "execution_count": null,
   "metadata": {},
   "outputs": [],
   "source": [
    "def selection_function(array, parameter, bin_range):\n",
    "    return (array[parameter] >= bin_range[0]) &\\\n",
    "           (array[parameter] < bin_range[1])\n",
    "\n",
    "pdg_codes = [13, 2212]\n",
    "interesting_variables = ['trk_pid_chipr_y',\n",
    "#                          'trk_bragg_p_three_planes',\n",
    "                         'trk_bragg_p_y',\n",
    "#                          'llr_01',\n",
    "#                          'llr_sum_2',\n",
    "#                          'llr_012',\n",
    "                        ]\n",
    "parameter_name = 'trk_phi'\n",
    "parameter_bin_edges = np.linspace(-np.pi, np.pi, 20)\n",
    "\n",
    "for variable in interesting_variables:\n",
    "    caloLike_test.auc1D(variable+'_n', \n",
    "                        pdg_codes, \n",
    "                        selection_function, \n",
    "                        parameter_name, \n",
    "                        parameter_bin_edges,\n",
    "                        legend_label=variable_labels[variable])\n",
    "    \n",
    "plt.xlabel(r'Track $\\phi$')\n",
    "plt.legend(frameon=False)\n",
    "plt.title('Proton/muon separation\\nSimulated tracks', loc='left')\n",
    "plt.tight_layout()\n",
    "plt.ylim(0.35, 1)\n",
    "plt.savefig(save_folder+'auc1d_only_collection'+parameter_name+'.pdf')\n",
    "plt.close()"
   ]
  },
  {
   "cell_type": "code",
   "execution_count": null,
   "metadata": {},
   "outputs": [],
   "source": [
    "def selection_function(array, parameter, bin_range):\n",
    "    return (array[parameter] >= bin_range[0]) &\\\n",
    "           (array[parameter] < bin_range[1])\n",
    "\n",
    "pdg_codes = [13, 2212]\n",
    "interesting_variables = ['trk_pid_chipr_y',\n",
    "                         'trk_bragg_p_three_planes',\n",
    "                         'trk_bragg_p_y',\n",
    "#                          'llr_01',\n",
    "#                          'llr_sum_2',\n",
    "#                          'llr_012',\n",
    "                        ]\n",
    "parameter_name = 'trk_phi'\n",
    "parameter_bin_edges = np.linspace(-np.pi, np.pi, 20)\n",
    "\n",
    "for variable in interesting_variables:\n",
    "    caloLike_test.auc1D(variable+'_n', \n",
    "                        pdg_codes, \n",
    "                        selection_function, \n",
    "                        parameter_name, \n",
    "                        parameter_bin_edges,\n",
    "                        legend_label=variable_labels[variable])\n",
    "    \n",
    "plt.xlabel(r'Track $\\phi$')\n",
    "plt.legend(frameon=False)\n",
    "plt.title('Proton/muon separation\\nSimulated tracks', loc='left')\n",
    "plt.tight_layout()\n",
    "plt.ylim(0.35, 1)\n",
    "plt.savefig(save_folder+'auc1d'+parameter_name+'.pdf')\n",
    "plt.close()"
   ]
  },
  {
   "cell_type": "code",
   "execution_count": null,
   "metadata": {},
   "outputs": [],
   "source": [
    "def selection_function(array, parameter, bin_range):\n",
    "    return (array[parameter] >= bin_range[0]) &\\\n",
    "           (array[parameter] < bin_range[1])\n",
    "\n",
    "pdg_codes = [13, 2212]\n",
    "interesting_variables = ['trk_pid_chipr_y',\n",
    "                         'trk_bragg_p_three_planes',\n",
    "                         'trk_bragg_p_y',\n",
    "#                          'llr_01',\n",
    "                         'llr_sum_2',\n",
    "                         'llr_012',\n",
    "                        ]\n",
    "parameter_name = 'trk_phi'\n",
    "parameter_bin_edges = np.linspace(-np.pi, np.pi, 20)\n",
    "\n",
    "for variable in interesting_variables:\n",
    "    caloLike_test.auc1D(variable+'_n', \n",
    "                        pdg_codes, \n",
    "                        selection_function, \n",
    "                        parameter_name, \n",
    "                        parameter_bin_edges,\n",
    "                        legend_label=variable_labels[variable])\n",
    "    \n",
    "plt.xlabel(r'Track $\\phi$')\n",
    "plt.legend(frameon=False)\n",
    "plt.title('Proton/muon separation\\nSimulated tracks', loc='left')\n",
    "plt.tight_layout()\n",
    "plt.ylim(0.35, 1)\n",
    "plt.savefig(save_folder+'auc1d'+parameter_name+'.pdf')\n",
    "plt.close()"
   ]
  },
  {
   "cell_type": "code",
   "execution_count": null,
   "metadata": {},
   "outputs": [],
   "source": [
    "def selection_function(array, parameters_names, bin_ranges):\n",
    "    return (array[parameters_names[0]] >= bin_ranges[0][0]) &\\\n",
    "           (array[parameters_names[0]] < bin_ranges[0][1]) &\\\n",
    "           (array[parameters_names[1]] >= bin_ranges[1][0]) &\\\n",
    "           (array[parameters_names[1]] < bin_ranges[1][1])\n",
    "\n",
    "pdg_codes = [13, 2212]\n",
    "\n",
    "parameters_names = ['trk_theta', 'trk_phi']\n",
    "parameter_bin_edges = (np.linspace(0, np.pi, 6), np.linspace(-np.pi, np.pi, 10))\n",
    "\n",
    "for variable in interesting_variables:\n",
    "    caloLike_test.auc2D(variable+'_n', \n",
    "                            pdg_codes, \n",
    "                            selection_function, \n",
    "                            parameters_names, \n",
    "                            parameter_bin_edges)\n",
    "\n",
    "    plt.xlabel(r'Track $\\theta$')\n",
    "    plt.ylabel(r'Track $\\phi$')\n",
    "    plt.title('Proton/muon separation\\nSimulated tracks\\nArea Under the Roc Curve\\n'+variable_labels[variable]+'\\n', loc='left')\n",
    "    plt.tight_layout()\n",
    "    plt.savefig(save_folder+'auc2d'+variable+'.png', dpi=250)\n",
    "    plt.close()"
   ]
  },
  {
   "cell_type": "markdown",
   "metadata": {},
   "source": [
    "# Load data to do some plots with it"
   ]
  },
  {
   "cell_type": "code",
   "execution_count": null,
   "metadata": {},
   "outputs": [],
   "source": [
    "file_data_on = '~/Desktop/MicroBooNE/calorimetry_likelihood/v05/beam_on/out.root'\n",
    "\n",
    "folder = \"nuselection\"\n",
    "tree = \"CalorimetryAnalyzer\"\n",
    "\n",
    "stop_factor = 0.1\n",
    "root_file = uproot.open(file_bnb)[folder][tree]\n",
    "entry_stop = int(len(root_file) * stop_factor)\n",
    "array_data = root_file.arrays(branches, namedecode=\"utf-8\", entrystop=entry_stop)"
   ]
  },
  {
   "cell_type": "code",
   "execution_count": null,
   "metadata": {},
   "outputs": [],
   "source": [
    "initialisation_for_caloriemtry_data_mc(array_data)\n",
    "selection_data_planes = selection_planes(array_data)\n",
    "selection_data_test = selection_for_test(array_data)\n",
    "# caloLike_train.addCalorimetryVariables(array_data, pdg_codes=[13, 2212], cali=False)\n",
    "caloLike_train.addCalorimetryVariablesFromLLRTable(array_data, selection_data_planes, cali=False)\n",
    "add_norm_variable(array_data, 'llr_012', scale=100)"
   ]
  },
  {
   "cell_type": "code",
   "execution_count": null,
   "metadata": {},
   "outputs": [],
   "source": [
    "trk_score_selection = (array_data['trk_score'] > 0.8)\n",
    "llr_pid_data = array_data['llr_012_n'][selection_data_test & trk_score_selection]"
   ]
  },
  {
   "cell_type": "code",
   "execution_count": null,
   "metadata": {},
   "outputs": [],
   "source": [
    "plt.hist(llr_pid_data, bins=101, range=[-1, 1])\n",
    "plt.xlabel('LLR PID')\n",
    "plt.ylabel('Number of Entries')\n",
    "plt.title('Data Beam ON, fully contained tracks')"
   ]
  },
  {
   "cell_type": "code",
   "execution_count": null,
   "metadata": {},
   "outputs": [],
   "source": [
    "# dedx vs rr\n",
    "pitch_binning = [0.3, 1, 1.5, 30]\n",
    "binning = [50, 50]\n",
    "range = [[0, 40], [0, 20]]\n",
    "array = array_data\n",
    "trk_score_selection = (array['trk_score'] > 0.8)\n",
    "for i, (plane, plane_label) in enumerate(zip(['_u', '_v', '_y'], ['First induction', 'Second induction', 'Collection'])):\n",
    "    for pitch_low, pitch_high in zip(pitch_binning[:-1], pitch_binning[1:]):\n",
    "        pitch_mask = (array['pitch'+plane] >= pitch_low) & (array['pitch'+plane] < pitch_high)\n",
    "    \n",
    "        for llr_lim, pdg_label in zip([[-1, -0.5], [0.5, 1]], ['proton', 'muon']):\n",
    "            llr_mask = (array['llr_012_n'] >= llr_lim[0]) & (array['llr_012_n'] < llr_lim[1])\n",
    "            total_mask = selection_data_test & selection_data_planes[i] & trk_score_selection & pitch_mask & llr_mask\n",
    "            \n",
    "            dedx = array['dedx'+plane][total_mask].flatten()\n",
    "            rr = array['rr'+plane][total_mask].flatten()\n",
    "            \n",
    "            plt.hist2d(rr, dedx, bins=binning, range=range)\n",
    "            plt.title('MicroBooNE In Progress', loc='right')\n",
    "            plt.title('Reconstructed tracks in data Beam ON\\n'.format(pdg_label)+\n",
    "                      'fully contained, track score > 0.8\\n'+\n",
    "                      '{} candidate with {:.2g} < pid < {:.2g}\\n'.format(pdg_label, llr_lim[0], llr_lim[1])+\n",
    "                      'only hits with {:.2g} cm <= pitch < {:.2g} cm\\n'.format(pitch_low, pitch_high)+\n",
    "                      '{} plane'.format(plane_label), loc='left')\n",
    "            plt.xlabel('Residual range [cm]')\n",
    "            plt.ylabel('dE/dx [MeV/cm]')\n",
    "            plt.tight_layout()\n",
    "            plt.savefig(save_folder+'data_dedx_rr_plane_{}_{}_pitch_{}.png'.format(i, pdg_label, pitch_low, pitch_high), dpi=250)\n",
    "            plt.close()"
   ]
  },
  {
   "cell_type": "code",
   "execution_count": null,
   "metadata": {},
   "outputs": [],
   "source": [
    "# dedx vs rr\n",
    "global_pitch_binning = [0.3, 1, 1.5, 30]\n",
    "binning = [50, 50]\n",
    "range = [[0, 40], [0, 20]]\n",
    "array = array_data\n",
    "trk_score_selection = (array['trk_score'] > 0.8)\n",
    "array['global_pitch_y'] = 0.3/np.cos(array['trk_theta'])\n",
    "for pitch_low, pitch_high in zip(pitch_binning[:-1], pitch_binning[1:]):\n",
    "    pitch_mask = (array['global_pitch_y'] >= pitch_low) & (array['global_pitch_y'] < pitch_high)\n",
    "    \n",
    "    for i, (plane, plane_label) in enumerate(zip(['_u', '_v', '_y'], ['First induction', 'Second induction', 'Collection'])):\n",
    "        for llr_lim, pdg_label in zip([[-1, -0.5], [0.5, 1]], ['proton', 'muon']):\n",
    "            llr_mask = (array['llr_012_n'] >= llr_lim[0]) & (array['llr_012_n'] < llr_lim[1])\n",
    "            total_mask = selection_data_test & selection_data_planes[i] & trk_score_selection & pitch_mask & llr_mask\n",
    "            \n",
    "            dedx = array['dedx'+plane][total_mask].flatten()\n",
    "            rr = array['rr'+plane][total_mask].flatten()\n",
    "            \n",
    "            plt.hist2d(rr, dedx, bins=binning, range=range)\n",
    "            plt.title('MicroBooNE In Progress', loc='right')\n",
    "            plt.title('Reconstructed tracks in data Beam ON\\n'.format(pdg_label)+\n",
    "                      'fully contained, track score > 0.8\\n'+\n",
    "                      '{} candidate with {:.2g} < pid < {:.2g}\\n'.format(pdg_label, llr_lim[0], llr_lim[1])+\n",
    "                      'only tracks with {:.2g} cm <= track pitch Y < {:.2g} cm\\n'.format(pitch_low, pitch_high)+\n",
    "                      '{} plane'.format(plane_label), loc='left')\n",
    "            plt.xlabel('Residual range [cm]')\n",
    "            plt.ylabel('dE/dx [MeV/cm]')\n",
    "            plt.tight_layout()\n",
    "            plt.savefig(save_folder+'data_dedx_rr_plane_{}_{}_trk_pitchy_{}.png'.format(i, pdg_label, pitch_low, pitch_high), dpi=250)\n",
    "            plt.close()"
   ]
  },
  {
   "cell_type": "code",
   "execution_count": null,
   "metadata": {},
   "outputs": [],
   "source": []
  }
 ],
 "metadata": {
  "kernelspec": {
   "display_name": "Python 3",
   "language": "python",
   "name": "python3"
  },
  "language_info": {
   "codemirror_mode": {
    "name": "ipython",
    "version": 3
   },
   "file_extension": ".py",
   "mimetype": "text/x-python",
   "name": "python",
   "nbconvert_exporter": "python",
   "pygments_lexer": "ipython3",
   "version": "3.7.6"
  }
 },
 "nbformat": 4,
 "nbformat_minor": 2
}
