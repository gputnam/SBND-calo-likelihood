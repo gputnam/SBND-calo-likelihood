{
 "cells": [
  {
   "cell_type": "markdown",
   "metadata": {},
   "source": [
    "# Calorimetry likelihood stopping muons"
   ]
  },
  {
   "cell_type": "code",
   "execution_count": 28,
   "metadata": {},
   "outputs": [
    {
     "name": "stdout",
     "output_type": "stream",
     "text": [
      "The autoreload extension is already loaded. To reload it, use:\n",
      "  %reload_ext autoreload\n"
     ]
    }
   ],
   "source": [
    "%load_ext autoreload\n",
    "%autoreload 2\n",
    "\n",
    "import math\n",
    "from itertools import product\n",
    "import uproot\n",
    "import awkward\n",
    "import numpy as np\n",
    "import matplotlib.pyplot as plt\n",
    "from matplotlib.colors import LogNorm\n",
    "from scipy.stats import binned_statistic\n",
    "\n",
    "import matplotlib\n",
    "matplotlib.rcParams.update({'font.size': 12})\n",
    "from calo_likelihood import caloLikelihood\n",
    "from helpers import *\n",
    "from loaders import *\n",
    "from plotter_lazy_array import *\n",
    "from categorisation import *\n",
    "from initializers import *"
   ]
  },
  {
   "cell_type": "code",
   "execution_count": 20,
   "metadata": {},
   "outputs": [],
   "source": [
    "today = '19_11_18'\n",
    "!mkdir -p ~/Dropbox/MicroBooNE/_fig/$today/stopping_muons/\n",
    "save_folder = '/home/nic/Dropbox/MicroBooNE/_fig/' + today + '/stopping_muons/'"
   ]
  },
  {
   "cell_type": "code",
   "execution_count": 109,
   "metadata": {},
   "outputs": [],
   "source": [
    "branches = [\n",
    "    'run',\n",
    "    'sub',\n",
    "    'evt',\n",
    "    \n",
    "    'backtracked_pdg',\n",
    "    'backtracked_e',\n",
    "    'backtracked_purity',\n",
    "    'backtracked_completeness',\n",
    "    'backtracked_overlay_purity',\n",
    "    'backtracked_end_process',\n",
    "    \n",
    "    'backtracked_start_x',\n",
    "    'backtracked_start_y',\n",
    "    'backtracked_start_z',\n",
    "    \n",
    "    'backtracked_sce_start_x',\n",
    "    'backtracked_sce_start_y',\n",
    "    'backtracked_sce_start_z',\n",
    "    \n",
    "    'nplanehits_U',\n",
    "    'nplanehits_V',\n",
    "    'nplanehits_Y',\n",
    "    'trk_score',\n",
    "\n",
    "    'generation',\n",
    "\n",
    "    'trk_sce_start_x',\n",
    "    'trk_sce_start_y',\n",
    "    'trk_sce_start_z',\n",
    "\n",
    "    'trk_sce_end_x',\n",
    "    'trk_sce_end_y',\n",
    "    'trk_sce_end_z',\n",
    "    \n",
    "    'trk_theta',\n",
    "    'trk_phi',\n",
    "\n",
    "    'trk_dir_x',\n",
    "    'trk_dir_y',\n",
    "    'trk_dir_z',\n",
    "    \n",
    "#     'trk_pid_chipr_y',\n",
    "#     'trk_pid_chipr_u',\n",
    "#     'trk_pid_chipr_v',\n",
    "#     'trk_pid_chimu_y',\n",
    "#     'trk_bragg_p_y',\n",
    "#     'trk_bragg_mu_y',\n",
    "\n",
    "    'trk_len',\n",
    "    'longest',\n",
    "#     'dqdx_u',\n",
    "#     'dqdx_v',\n",
    "#     'dqdx_y',\n",
    "\n",
    "    'dedx_u',\n",
    "    'dedx_v',\n",
    "    'dedx_y',\n",
    "\n",
    "    'rr_u',\n",
    "    'rr_v',\n",
    "    'rr_y',\n",
    "\n",
    "    'pitch_u',\n",
    "    'pitch_v',\n",
    "    'pitch_y',\n",
    "    \n",
    "#     'x_u',\n",
    "#     'x_v',\n",
    "#     'x_y',\n",
    "    \n",
    "#     'y_u',\n",
    "#     'y_v',\n",
    "#     'y_y',\n",
    "    \n",
    "#     'z_u',\n",
    "#     'z_v',\n",
    "#     'z_y',\n",
    "    \n",
    "#     'dir_x_u',\n",
    "#     'dir_x_v',\n",
    "#     'dir_x_y',\n",
    "    \n",
    "#     'dir_y_u',\n",
    "#     'dir_y_v',\n",
    "#     'dir_y_y',\n",
    "    \n",
    "#     'dir_z_u',\n",
    "#     'dir_z_v',\n",
    "#     'dir_z_y',\n",
    "]"
   ]
  },
  {
   "cell_type": "code",
   "execution_count": 110,
   "metadata": {},
   "outputs": [],
   "source": [
    "directory = '/home/nic/Desktop/MicroBooNE/calorimetry_likelihood/'\n",
    "pot_beam_on = 2.981e+19\n",
    "n_triggers_on = 6610884.0\n",
    "n_triggers_off = 38065349.0\n",
    "\n",
    "file_lists = {}\n",
    "\n",
    "file_lists['beam_on'] = directory+'v03/beam_on/out.root'\n",
    "file_lists['beam_off'] = directory+'v03/beam_off/out.root'\n",
    "file_lists['bnb_nu'] = directory+'v03/bnb_nu/out.root'\n",
    "file_lists['bnb_dirt'] = directory+'v03/bnb_dirt/out.root'\n",
    "\n",
    "folder = \"nuselection\"\n",
    "events_tree_name = \"CalorimetryAnalyzer\"\n",
    "pot_tree_name = \"SubRun\""
   ]
  },
  {
   "cell_type": "code",
   "execution_count": 111,
   "metadata": {},
   "outputs": [
    {
     "name": "stdout",
     "output_type": "stream",
     "text": [
      "start loading beam_on\n",
      "start loading beam_off\n",
      "start loading bnb_nu\n",
      "start loading bnb_dirt\n",
      "Done!\n"
     ]
    }
   ],
   "source": [
    "arrays, pot = load_data_calo(file_lists, \n",
    "                        branches, \n",
    "                        folder, \n",
    "                        events_tree_name, \n",
    "                        pot_tree_name, \n",
    "                        labels=['beam_on', 'beam_off', 'bnb_nu', 'bnb_dirt'])"
   ]
  },
  {
   "cell_type": "code",
   "execution_count": 112,
   "metadata": {},
   "outputs": [],
   "source": [
    "scale_factors = compute_scale_factors(pot, pot_beam_on, n_triggers_on, n_triggers_off)"
   ]
  },
  {
   "cell_type": "code",
   "execution_count": 153,
   "metadata": {},
   "outputs": [],
   "source": [
    "for array in list(arrays.values()):\n",
    "    initialisation_for_caloriemtry_data_mc(array)"
   ]
  },
  {
   "cell_type": "code",
   "execution_count": 154,
   "metadata": {},
   "outputs": [
    {
     "data": {
      "text/plain": [
       "{'beam_on': 1,\n",
       " 'beam_off': 0.1736719660707695,\n",
       " 'bnb_nu': 0.05100279933321981,\n",
       " 'bnb_dirt': 0.11179464675847342}"
      ]
     },
     "execution_count": 154,
     "metadata": {},
     "output_type": "execute_result"
    }
   ],
   "source": [
    "scale_factors"
   ]
  },
  {
   "cell_type": "markdown",
   "metadata": {},
   "source": [
    "# Plot data/MC agreement with test set"
   ]
  },
  {
   "cell_type": "code",
   "execution_count": 158,
   "metadata": {},
   "outputs": [],
   "source": [
    "my_plotter = plotter(arrays, scale_factors, pot_beam_on)"
   ]
  },
  {
   "cell_type": "code",
   "execution_count": 166,
   "metadata": {},
   "outputs": [
    {
     "ename": "ValueError",
     "evalue": "A ChunkedArray can only be used as a slice of a ChunkedArray if they have the same chunk sizes",
     "output_type": "error",
     "traceback": [
      "\u001b[0;31m---------------------------------------------------------------------------\u001b[0m",
      "\u001b[0;31mValueError\u001b[0m                                Traceback (most recent call last)",
      "\u001b[0;32m<ipython-input-166-9884fb6892b2>\u001b[0m in \u001b[0;36m<module>\u001b[0;34m\u001b[0m\n\u001b[1;32m     18\u001b[0m                                    \u001b[0mlog\u001b[0m\u001b[0;34m=\u001b[0m\u001b[0;32mFalse\u001b[0m\u001b[0;34m,\u001b[0m\u001b[0;34m\u001b[0m\u001b[0;34m\u001b[0m\u001b[0m\n\u001b[1;32m     19\u001b[0m                                    \u001b[0msubtracted\u001b[0m\u001b[0;34m=\u001b[0m\u001b[0;32mFalse\u001b[0m\u001b[0;34m,\u001b[0m\u001b[0;34m\u001b[0m\u001b[0;34m\u001b[0m\u001b[0m\n\u001b[0;32m---> 20\u001b[0;31m                                    onebin=False)\n\u001b[0m\u001b[1;32m     21\u001b[0m \u001b[0;31m# plt.savefig(save_folder + 'n_pfps_allevents.png', dpi=300)\u001b[0m\u001b[0;34m\u001b[0m\u001b[0;34m\u001b[0m\u001b[0;34m\u001b[0m\u001b[0m\n",
      "\u001b[0;32m~/Dropbox/MicroBooNE/bnb_nue_analysis/lib/plotter_lazy_array.py\u001b[0m in \u001b[0;36mplot_pot_normalised_var\u001b[0;34m(self, variable, binning, categories, function, additional_selection, prediction_datasets, title, xlabel, log, subtracted, onebin)\u001b[0m\n\u001b[1;32m     64\u001b[0m                 \u001b[0mpartial_prediction\u001b[0m \u001b[0;34m=\u001b[0m \u001b[0mgetattr\u001b[0m\u001b[0;34m(\u001b[0m\u001b[0marray\u001b[0m\u001b[0;34m[\u001b[0m\u001b[0madditional_selection_mask\u001b[0m\u001b[0;34m]\u001b[0m\u001b[0;34m[\u001b[0m\u001b[0mvariable\u001b[0m\u001b[0;34m]\u001b[0m\u001b[0;34m,\u001b[0m \u001b[0mfunction\u001b[0m\u001b[0;34m)\u001b[0m\u001b[0;34m(\u001b[0m\u001b[0;34m)\u001b[0m\u001b[0;34m\u001b[0m\u001b[0;34m\u001b[0m\u001b[0m\n\u001b[1;32m     65\u001b[0m \u001b[0;34m\u001b[0m\u001b[0m\n\u001b[0;32m---> 66\u001b[0;31m             \u001b[0melement_mask\u001b[0m \u001b[0;34m=\u001b[0m \u001b[0;34m(\u001b[0m\u001b[0mpartial_prediction\u001b[0m\u001b[0;34m[\u001b[0m\u001b[0madditional_selection_mask\u001b[0m\u001b[0;34m]\u001b[0m \u001b[0;34m==\u001b[0m \u001b[0marray\u001b[0m\u001b[0;34m)\u001b[0m\u001b[0;34m\u001b[0m\u001b[0;34m\u001b[0m\u001b[0m\n\u001b[0m\u001b[1;32m     67\u001b[0m             \u001b[0mdatasets_prediction\u001b[0m \u001b[0;34m=\u001b[0m \u001b[0marray\u001b[0m\u001b[0;34m[\u001b[0m\u001b[0madditional_selection_mask\u001b[0m\u001b[0;34m]\u001b[0m\u001b[0;34m[\u001b[0m\u001b[0mvariable\u001b[0m\u001b[0;34m]\u001b[0m\u001b[0;34m[\u001b[0m\u001b[0melement_mask\u001b[0m\u001b[0;34m]\u001b[0m\u001b[0;34m.\u001b[0m\u001b[0mflatten\u001b[0m\u001b[0;34m(\u001b[0m\u001b[0;34m)\u001b[0m\u001b[0;34m\u001b[0m\u001b[0;34m\u001b[0m\u001b[0m\n\u001b[1;32m     68\u001b[0m \u001b[0;34m\u001b[0m\u001b[0m\n",
      "\u001b[0;32m~/.local/lib/python3.7/site-packages/awkward/array/chunked.py\u001b[0m in \u001b[0;36m__getitem__\u001b[0;34m(self, where)\u001b[0m\n\u001b[1;32m    326\u001b[0m         \u001b[0;32mif\u001b[0m \u001b[0misinstance\u001b[0m\u001b[0;34m(\u001b[0m\u001b[0mhead\u001b[0m\u001b[0;34m,\u001b[0m \u001b[0mChunkedArray\u001b[0m\u001b[0;34m)\u001b[0m\u001b[0;34m:\u001b[0m\u001b[0;34m\u001b[0m\u001b[0;34m\u001b[0m\u001b[0m\n\u001b[1;32m    327\u001b[0m             \u001b[0;32mif\u001b[0m \u001b[0;32mnot\u001b[0m \u001b[0mself\u001b[0m\u001b[0;34m.\u001b[0m\u001b[0m_aligned\u001b[0m\u001b[0;34m(\u001b[0m\u001b[0mhead\u001b[0m\u001b[0;34m)\u001b[0m\u001b[0;34m:\u001b[0m\u001b[0;34m\u001b[0m\u001b[0;34m\u001b[0m\u001b[0m\n\u001b[0;32m--> 328\u001b[0;31m                 \u001b[0;32mraise\u001b[0m \u001b[0mValueError\u001b[0m\u001b[0;34m(\u001b[0m\u001b[0;34m\"A ChunkedArray can only be used as a slice of a ChunkedArray if they have the same chunk sizes\"\u001b[0m\u001b[0;34m)\u001b[0m\u001b[0;34m\u001b[0m\u001b[0;34m\u001b[0m\u001b[0m\n\u001b[0m\u001b[1;32m    329\u001b[0m             \u001b[0mchunks\u001b[0m \u001b[0;34m=\u001b[0m \u001b[0;34m[\u001b[0m\u001b[0;34m]\u001b[0m\u001b[0;34m\u001b[0m\u001b[0;34m\u001b[0m\u001b[0m\n\u001b[1;32m    330\u001b[0m             \u001b[0mchunksizes\u001b[0m \u001b[0;34m=\u001b[0m \u001b[0;34m[\u001b[0m\u001b[0;34m]\u001b[0m\u001b[0;34m\u001b[0m\u001b[0;34m\u001b[0m\u001b[0m\n",
      "\u001b[0;31mValueError\u001b[0m: A ChunkedArray can only be used as a slice of a ChunkedArray if they have the same chunk sizes"
     ]
    },
    {
     "data": {
      "image/png": "[encoded data removed]",
      "text/plain": [
       "<Figure size 587.52x360 with 2 Axes>"
      ]
     },
     "metadata": {
      "needs_background": "light"
     },
     "output_type": "display_data"
    }
   ],
   "source": [
    "# save_folder = save_folder_data_mc\n",
    "def sel_function(array):\n",
    "    return (array['longest'] == 1) &\\\n",
    "            (array['trk_score'] > 0.9) &\\\n",
    "            (array['start_is_fiducial']) &\\\n",
    "            (array['end_is_fiducial'])\n",
    "     \n",
    "    \n",
    "selection = sel_function\n",
    "title = 'All events'\n",
    "out = my_plotter.plot_pot_normalised_var(variable='trk_len',\n",
    "                                   binning=[50, 0, 500], \n",
    "                                   categories=pdg_categories, \n",
    "                                   additional_selection=selection, \n",
    "                                   prediction_datasets=['bnb_dirt', 'bnb_nu'],\n",
    "                                   xlabel=r'Track length [cm]', \n",
    "                                   title=title,\n",
    "                                   log=False, \n",
    "                                   subtracted=False, \n",
    "                                   onebin=False)\n",
    "# plt.savefig(save_folder + 'n_pfps_allevents.png', dpi=300)"
   ]
  },
  {
   "cell_type": "code",
   "execution_count": null,
   "metadata": {},
   "outputs": [],
   "source": [
    "# save_folder = save_folder_data_mc\n",
    "def sel_function(array):\n",
    "    return (array['longest'] == 1) &\\\n",
    "            (array['trk_score'] > 0.8) &\\\n",
    "            (array['start_is_fiducial']) &\\\n",
    "            (array['end_is_fiducial'])\n",
    "     \n",
    "    \n",
    "selection = sel_function\n",
    "title = 'All events'\n",
    "out = my_plotter.plot_pot_normalised_var(variable='trk_sce_start_x',\n",
    "                                   binning=[50, -10, 280], \n",
    "                                   categories=pdg_categories, \n",
    "                                   additional_selection=selection, \n",
    "                                   prediction_datasets=['bnb_dirt', 'bnb_nu'],\n",
    "                                   xlabel=r'Track length [cm]', \n",
    "                                   title=title,\n",
    "                                   log=False, \n",
    "                                   subtracted=False, \n",
    "                                   onebin=False)\n",
    "# plt.savefig(save_folder + 'n_pfps_allevents.png', dpi=300)"
   ]
  },
  {
   "cell_type": "code",
   "execution_count": 59,
   "metadata": {},
   "outputs": [
    {
     "ename": "TypeError",
     "evalue": "cannot interpret dtype object as a fancy index or mask",
     "output_type": "error",
     "traceback": [
      "\u001b[0;31m---------------------------------------------------------------------------\u001b[0m",
      "\u001b[0;31mTypeError\u001b[0m                                 Traceback (most recent call last)",
      "\u001b[0;32m<ipython-input-59-afe805cd3cad>\u001b[0m in \u001b[0;36m<module>\u001b[0;34m\u001b[0m\n\u001b[1;32m     34\u001b[0m                                    \u001b[0mlog\u001b[0m\u001b[0;34m=\u001b[0m\u001b[0;32mFalse\u001b[0m\u001b[0;34m,\u001b[0m\u001b[0;34m\u001b[0m\u001b[0;34m\u001b[0m\u001b[0m\n\u001b[1;32m     35\u001b[0m                                    \u001b[0msubtracted\u001b[0m\u001b[0;34m=\u001b[0m\u001b[0;32mFalse\u001b[0m\u001b[0;34m,\u001b[0m\u001b[0;34m\u001b[0m\u001b[0;34m\u001b[0m\u001b[0m\n\u001b[0;32m---> 36\u001b[0;31m                                    onebin=False)\n\u001b[0m\u001b[1;32m     37\u001b[0m         plt.savefig(save_folder + 'muon_dedx_{}_{}_{}_{}_{}_{}.png'.format(par0_edges[0], \n\u001b[1;32m     38\u001b[0m                                                      \u001b[0mparameters_names\u001b[0m\u001b[0;34m[\u001b[0m\u001b[0;36m0\u001b[0m\u001b[0;34m]\u001b[0m\u001b[0;34m+\u001b[0m\u001b[0mplane\u001b[0m\u001b[0;34m,\u001b[0m\u001b[0;34m\u001b[0m\u001b[0;34m\u001b[0m\u001b[0m\n",
      "\u001b[0;32m~/Dropbox/MicroBooNE/bnb_nue_analysis/lib/plotter_lazy_array.py\u001b[0m in \u001b[0;36mplot_pot_normalised_var\u001b[0;34m(self, variable, binning, categories, function, additional_selection, prediction_datasets, title, xlabel, log, subtracted, onebin)\u001b[0m\n\u001b[1;32m     50\u001b[0m \u001b[0;34m\u001b[0m\u001b[0m\n\u001b[1;32m     51\u001b[0m             \u001b[0;32mif\u001b[0m \u001b[0mfunction\u001b[0m \u001b[0;34m==\u001b[0m \u001b[0;34m'flatten'\u001b[0m\u001b[0;34m:\u001b[0m\u001b[0;34m\u001b[0m\u001b[0;34m\u001b[0m\u001b[0m\n\u001b[0;32m---> 52\u001b[0;31m                 \u001b[0mpartial_prediction\u001b[0m \u001b[0;34m=\u001b[0m \u001b[0marray\u001b[0m\u001b[0;34m[\u001b[0m\u001b[0madditional_selection_mask\u001b[0m\u001b[0;34m]\u001b[0m\u001b[0;34m[\u001b[0m\u001b[0mvariable\u001b[0m\u001b[0;34m]\u001b[0m\u001b[0;34m\u001b[0m\u001b[0;34m\u001b[0m\u001b[0m\n\u001b[0m\u001b[1;32m     53\u001b[0m             \u001b[0;32melse\u001b[0m\u001b[0;34m:\u001b[0m\u001b[0;34m\u001b[0m\u001b[0;34m\u001b[0m\u001b[0m\n\u001b[1;32m     54\u001b[0m                 \u001b[0mpartial_prediction\u001b[0m \u001b[0;34m=\u001b[0m \u001b[0mgetattr\u001b[0m\u001b[0;34m(\u001b[0m\u001b[0marray\u001b[0m\u001b[0;34m[\u001b[0m\u001b[0madditional_selection_mask\u001b[0m\u001b[0;34m]\u001b[0m\u001b[0;34m[\u001b[0m\u001b[0mvariable\u001b[0m\u001b[0;34m]\u001b[0m\u001b[0;34m,\u001b[0m \u001b[0mfunction\u001b[0m\u001b[0;34m)\u001b[0m\u001b[0;34m(\u001b[0m\u001b[0;34m)\u001b[0m\u001b[0;34m\u001b[0m\u001b[0;34m\u001b[0m\u001b[0m\n",
      "\u001b[0;32m~/.local/lib/python3.7/site-packages/awkward/array/table.py\u001b[0m in \u001b[0;36m__getitem__\u001b[0;34m(self, where)\u001b[0m\n\u001b[1;32m    617\u001b[0m             \u001b[0;32mraise\u001b[0m \u001b[0mNotImplementedError\u001b[0m\u001b[0;34m(\u001b[0m\u001b[0;34m\"multidimensional index through a Table (TODO: needed for [0, n) -> [0, m) -> \\\"table\\\" -> ...)\"\u001b[0m\u001b[0;34m)\u001b[0m\u001b[0;34m\u001b[0m\u001b[0;34m\u001b[0m\u001b[0m\n\u001b[1;32m    618\u001b[0m \u001b[0;34m\u001b[0m\u001b[0m\n\u001b[0;32m--> 619\u001b[0;31m         \u001b[0mnewslice\u001b[0m \u001b[0;34m=\u001b[0m \u001b[0mself\u001b[0m\u001b[0;34m.\u001b[0m\u001b[0m_newslice\u001b[0m\u001b[0;34m(\u001b[0m\u001b[0mhead\u001b[0m\u001b[0;34m)\u001b[0m\u001b[0;34m\u001b[0m\u001b[0;34m\u001b[0m\u001b[0m\n\u001b[0m\u001b[1;32m    620\u001b[0m \u001b[0;34m\u001b[0m\u001b[0m\n\u001b[1;32m    621\u001b[0m         \u001b[0;32mif\u001b[0m \u001b[0mself\u001b[0m\u001b[0;34m.\u001b[0m\u001b[0m_util_isinteger\u001b[0m\u001b[0;34m(\u001b[0m\u001b[0mnewslice\u001b[0m\u001b[0;34m)\u001b[0m\u001b[0;34m:\u001b[0m\u001b[0;34m\u001b[0m\u001b[0;34m\u001b[0m\u001b[0m\n",
      "\u001b[0;32m~/.local/lib/python3.7/site-packages/awkward/array/table.py\u001b[0m in \u001b[0;36m_newslice\u001b[0;34m(self, head)\u001b[0m\n\u001b[1;32m    558\u001b[0m \u001b[0;34m\u001b[0m\u001b[0m\n\u001b[1;32m    559\u001b[0m             \u001b[0;32melse\u001b[0m\u001b[0;34m:\u001b[0m\u001b[0;34m\u001b[0m\u001b[0;34m\u001b[0m\u001b[0m\n\u001b[0;32m--> 560\u001b[0;31m                 \u001b[0;32mraise\u001b[0m \u001b[0mTypeError\u001b[0m\u001b[0;34m(\u001b[0m\u001b[0;34m\"cannot interpret dtype {0} as a fancy index or mask\"\u001b[0m\u001b[0;34m.\u001b[0m\u001b[0mformat\u001b[0m\u001b[0;34m(\u001b[0m\u001b[0mhead\u001b[0m\u001b[0;34m.\u001b[0m\u001b[0mdtype\u001b[0m\u001b[0;34m)\u001b[0m\u001b[0;34m)\u001b[0m\u001b[0;34m\u001b[0m\u001b[0;34m\u001b[0m\u001b[0m\n\u001b[0m\u001b[1;32m    561\u001b[0m \u001b[0;34m\u001b[0m\u001b[0m\n\u001b[1;32m    562\u001b[0m     \u001b[0;32mdef\u001b[0m \u001b[0m_valid\u001b[0m\u001b[0;34m(\u001b[0m\u001b[0mself\u001b[0m\u001b[0;34m)\u001b[0m\u001b[0;34m:\u001b[0m\u001b[0;34m\u001b[0m\u001b[0;34m\u001b[0m\u001b[0m\n",
      "\u001b[0;31mTypeError\u001b[0m: cannot interpret dtype object as a fancy index or mask"
     ]
    },
    {
     "data": {
      "image/png": "[encoded data removed]",
      "text/plain": [
       "<Figure size 587.52x360 with 2 Axes>"
      ]
     },
     "metadata": {
      "needs_background": "light"
     },
     "output_type": "display_data"
    }
   ],
   "source": [
    "parameters_names = ['rr', 'pitch']\n",
    "parameters_bin_edges = [[0., 2, 4, 7, 10, 15, 20, 30, 50, 100, 150, 200, 250, 300, 1000],\n",
    "                  [.0, 0.6, 1, 1.5, 3, 30]]\n",
    "\n",
    "dedx_var = 'dedx'\n",
    "dedx_bins = [0, 0.5, 1, 1.5, 2, 2.5, 3, 3.5, 4, 4.5, 5]\n",
    "\n",
    "plane = '_y'\n",
    "for par0_edges in zip(parameters_bin_edges[0][:-1], parameters_bin_edges[0][1:]):\n",
    "    for par1_edges in zip(parameters_bin_edges[1][:-1], parameters_bin_edges[1][1:]):\n",
    "        def sel_function(array):\n",
    "            return (array['longest'] == 1) &\\\n",
    "                    (array['trk_len'] > 150) &\\\n",
    "                    (array['trk_score'] > 0.9) &\\\n",
    "                    (array['start_is_fiducial']) &\\\n",
    "                    (array['end_is_fiducial']) &\\\n",
    "                    ((array[parameters_names[0]+plane]) > par0_edges[0]) &\\\n",
    "                    ((array[parameters_names[0]+plane]) <= par0_edges[1]) &\\\n",
    "                    ((array[parameters_names[1]+plane]) > par1_edges[0]) &\\\n",
    "                    ((array[parameters_names[1]+plane]) <= par1_edges[1])\n",
    "        title = '{} < {} < {} & {} < {} < {}'.format(par0_edges[0], \n",
    "                                                     parameters_names[0]+plane,\n",
    "                                                     par0_edges[1],\n",
    "                                                     par1_edges[0], \n",
    "                                                     parameters_names[1]+plane,\n",
    "                                                     par1_edges[1],)\n",
    "        out = my_plotter.plot_pot_normalised_var(variable='dedx'+plane,\n",
    "                                   binning=[30, 0, 10], \n",
    "                                   categories=pdg_categories, \n",
    "                                   additional_selection=sel_function, \n",
    "                                   prediction_datasets=['bnb_dirt', 'bnb_nu'],\n",
    "                                   xlabel=r'Track dE/dx - Y [MeV/cm]', \n",
    "                                   title=title,\n",
    "                                   log=False,\n",
    "                                   subtracted=False, \n",
    "                                   onebin=False)\n",
    "        plt.savefig(save_folder + 'muon_dedx_{}_{}_{}_{}_{}_{}.png'.format(par0_edges[0], \n",
    "                                                     parameters_names[0]+plane,\n",
    "                                                     par0_edges[1],\n",
    "                                                     par1_edges[0], \n",
    "                                                     parameters_names[1]+plane,\n",
    "                                                     par1_edges[1]), dpi=300)\n",
    "        plt.close()"
   ]
  },
  {
   "cell_type": "markdown",
   "metadata": {},
   "source": [
    "## Old code"
   ]
  },
  {
   "cell_type": "code",
   "execution_count": 5,
   "metadata": {},
   "outputs": [],
   "source": [
    "directory = '/home/nic/Desktop/MicroBooNE/calorimetry_likelihood/v0_muons_david/'\n",
    "pot_beam_on = 4.496e+19\n",
    "n_triggers_on = 9984781.0\n",
    "n_triggers_off = 28628549.0\n",
    "\n",
    "file_lists = {}\n",
    "\n",
    "file_lists['beam_on'] = directory+'data_bnb_optfilter_C1_5e19_goodruns_mcc9.1_reco2.root'\n",
    "file_lists['beam_off'] = directory+'data_extbnb_mcc9.1_v08_00_00_16_run1_reco2.root'\n",
    "file_lists['bnb_nu'] = directory+'prodgenie_bnb_nu_uboone_overlay_mcc9.1_run1_reco2.root'\n",
    "file_lists['bnb_dirt'] = directory+'prodgenie_bnb_dirt_overlay_run1_mcc9.1_v08_00_00_16_reco2.root'\n",
    "\n",
    "folder = \"nuselection\"\n",
    "events_tree_name = \"CalorimetryAnalyzer\"\n",
    "pot_tree_name = \"SubRun\""
   ]
  },
  {
   "cell_type": "code",
   "execution_count": 6,
   "metadata": {},
   "outputs": [],
   "source": [
    "file_name = '/home/nic/Desktop/MicroBooNE/calorimetry_likelihood/v03/bnb_nu/out.root'\n",
    "file = uproot.open(file_name)"
   ]
  },
  {
   "cell_type": "code",
   "execution_count": 16,
   "metadata": {},
   "outputs": [],
   "source": [
    "neutrino_sel_filter = file['nuselection']['NeutrinoSelectionFilter'].lazyarrays(branches=['run', 'sub', 'evt', 'weightSpline'], namedecode=\"utf-8\")\n",
    "calo_analyser = file['nuselection']['CalorimetryAnalyzer'].lazyarrays(branches=['run', 'sub', 'evt', 'trk_len'], namedecode=\"utf-8\")"
   ]
  },
  {
   "cell_type": "code",
   "execution_count": 17,
   "metadata": {},
   "outputs": [],
   "source": [
    "run_sub_evt_tuple = zip(neutrino_sel_filter['run'], neutrino_sel_filter['sub'], neutrino_sel_filter['evt'])\n",
    "weight_dict = dict(zip(run_sub_evt_tuple, neutrino_sel_filter['weightSpline']))"
   ]
  },
  {
   "cell_type": "code",
   "execution_count": 18,
   "metadata": {},
   "outputs": [],
   "source": [
    "calo_analyser['weightSpline'] = np.ones(len(calo_analyser['run']))\n",
    "run_sub_evt_calo = zip(calo_analyser['run'], calo_analyser['sub'], calo_analyser['evt'])\n",
    "for i, run_sub_evt_tuple in enumerate(run_sub_evt_calo):\n",
    "    calo_analyser['weightSpline'][i] = weight_dict[run_sub_evt_tuple]"
   ]
  }
 ],
 "metadata": {
  "kernelspec": {
   "display_name": "Python 3",
   "language": "python",
   "name": "python3"
  },
  "language_info": {
   "codemirror_mode": {
    "name": "ipython",
    "version": 3
   },
   "file_extension": ".py",
   "mimetype": "text/x-python",
   "name": "python",
   "nbconvert_exporter": "python",
   "pygments_lexer": "ipython3",
   "version": "3.7.5"
  }
 },
 "nbformat": 4,
 "nbformat_minor": 2
}
